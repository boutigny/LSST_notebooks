{
 "cells": [
  {
   "cell_type": "code",
   "execution_count": 29,
   "metadata": {},
   "outputs": [],
   "source": [
    "import os\n",
    "\n",
    "masterFile = 'SLIP_masterlist.txt'\n",
    "field = 'D3'\n",
    "\n",
    "if not os.path.exists(field):\n",
    "    os.makedirs(field)\n",
    "    \n",
    "searchField = field + '_i.MP970'\n",
    "for line in open(masterFile):\n",
    "    if searchField in line:\n",
    "        sline = line.strip('\\n').split()\n",
    "        id = sline[0]\n",
    "        nVisits = sline[1]\n",
    "        visits = sline[2:2+int(nVisits)]\n",
    "        outFile = os.path.join(field, id + \".list\")\n",
    "        with open(outFile, 'a') as out:\n",
    "            for i in range(int(nVisits)):\n",
    "                out.write('--id visit=' + visits[i].strip('p') + ' ccd=0..35\\n')"
   ]
  }
 ],
 "metadata": {
  "kernelspec": {
   "display_name": "Python 3",
   "language": "python",
   "name": "python3"
  },
  "language_info": {
   "codemirror_mode": {
    "name": "ipython",
    "version": 3
   },
   "file_extension": ".py",
   "mimetype": "text/x-python",
   "name": "python",
   "nbconvert_exporter": "python",
   "pygments_lexer": "ipython3",
   "version": "3.6.2"
  }
 },
 "nbformat": 4,
 "nbformat_minor": 2
}
