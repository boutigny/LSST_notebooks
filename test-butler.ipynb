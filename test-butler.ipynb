{
 "cells": [
  {
   "cell_type": "code",
   "execution_count": 1,
   "metadata": {},
   "outputs": [],
   "source": [
    "%matplotlib inline\n",
    "import lsst.daf.persistence as dafPersist\n",
    "import lsst.afw.table as afwTable\n",
    "import lsst.afw.geom as afwGeom\n",
    "import lsst.afw.coord as afwCoord\n",
    "import lsst.afw.image as afwImage\n",
    "from lsst.meas.algorithms import LoadIndexedReferenceObjectsTask\n",
    "from astropy.table import Table\n",
    "import numpy as np\n",
    "import matplotlib\n",
    "import matplotlib.pylab as plt\n",
    "\n",
    "visit = 211181\n",
    "\n",
    "butler_o = dafPersist.Butler(\"/sps/lsst/data/boutigny/test_butler/output\")\n",
    "\n",
    "for count,data_ref in enumerate(butler_o.subset('src', visit=visit)):\n",
    "#    if count > 0 :\n",
    "#        break\n",
    "    if data_ref.datasetExists():\n",
    "        dataId = data_ref.dataId\n",
    "    else:\n",
    "        continue\n",
    "    src = butler_o.get('src', dataId, immediate=True)"
   ]
  },
  {
   "cell_type": "code",
   "execution_count": 2,
   "metadata": {},
   "outputs": [
    {
     "data": {
      "text/plain": [
       "<class 'lsst.afw.table.source.source.SourceCatalog'>\n",
       "       id            coord_ra      ... calib_photometry_reserved\n",
       "                       rad         ...                          \n",
       "--------------- ------------------ ... -------------------------\n",
       "907017485025281 0.9529817939835878 ...                     False\n",
       "907017485025282 0.9522273295004221 ...                     False\n",
       "907017485025283 0.9521902770419065 ...                     False\n",
       "907017485025284 0.9518145593870666 ...                     False\n",
       "907017485025285 0.9517611996511253 ...                     False\n",
       "907017485025286 0.9524231875822962 ...                     False\n",
       "907017485025287 0.9529698577513034 ...                     False\n",
       "907017485025288 0.9529812330186376 ...                     False\n",
       "907017485025289 0.9530131710755415 ...                     False\n",
       "907017485025290 0.9529465109671621 ...                     False\n",
       "            ...                ... ...                       ...\n",
       "907017485027344 0.9558206257551326 ...                     False\n",
       "907017485027345  0.955823833781009 ...                     False\n",
       "907017485027346 0.9560544282721873 ...                     False\n",
       "907017485027347  0.956071595031181 ...                     False\n",
       "907017485027348 0.9567547592837596 ...                     False\n",
       "907017485027349 0.9567456354438975 ...                     False\n",
       "907017485027350 0.9561892588711784 ...                     False\n",
       "907017485027351 0.9561722033653518 ...                     False\n",
       "907017485027352  0.956939199138524 ...                     False\n",
       "907017485027353 0.9569494203813814 ...                     False\n",
       "Length = 2073 rows"
      ]
     },
     "execution_count": 2,
     "metadata": {},
     "output_type": "execute_result"
    }
   ],
   "source": [
    "src"
   ]
  },
  {
   "cell_type": "code",
   "execution_count": null,
   "metadata": {},
   "outputs": [],
   "source": []
  }
 ],
 "metadata": {
  "kernelspec": {
   "display_name": "Python 3",
   "language": "python",
   "name": "python3"
  },
  "language_info": {
   "codemirror_mode": {
    "name": "ipython",
    "version": 3
   },
   "file_extension": ".py",
   "mimetype": "text/x-python",
   "name": "python",
   "nbconvert_exporter": "python",
   "pygments_lexer": "ipython3",
   "version": "3.6.2"
  }
 },
 "nbformat": 4,
 "nbformat_minor": 2
}
