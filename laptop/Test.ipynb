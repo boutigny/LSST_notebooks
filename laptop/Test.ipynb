{
 "cells": [
  {
   "cell_type": "code",
   "execution_count": 7,
   "metadata": {
    "collapsed": false
   },
   "outputs": [
    {
     "name": "stdout",
     "output_type": "stream",
     "text": [
      "(array([243466, 243498, 243505, 243506, 243507, 243509, 243510, 243511,\n",
      "       243513, 243514, 243515, 243516, 243517, 243518, 243519, 243460,\n",
      "       243461, 243463, 243464, 243465, 243467, 243468, 243469, 243471,\n",
      "       243476, 243477, 243479, 243480, 243482, 243483, 243484, 243492,\n",
      "       243493, 243495, 243496, 243497, 243499, 243500, 243501, 243503,\n",
      "       243504, 243508, 243512]), <generator object <genexpr> at 0x7f7a212b7cd0>)\n",
      "[243466 243498 243505 243506 243507 243509 243510 243511 243513 243514\n",
      " 243515 243516 243517 243518 243519 243460 243461 243463 243464 243465\n",
      " 243467 243468 243469 243471 243476 243477 243479 243480 243482 243483\n",
      " 243484 243492 243493 243495 243496 243497 243499 243500 243501 243503\n",
      " 243504 243508 243512]\n",
      "cp /sps/lsst/data/refcats/htm/htm_baseline/pan-starrs/243466.fits /extra/refcats/htm/htm_baseline/pan-starrs/243466.fits\n",
      "cp /sps/lsst/data/refcats/htm/htm_baseline/sdss/243466.fits /extra/refcats/htm/htm_baseline/sdss/243466.fits\n",
      "cp /sps/lsst/data/refcats/htm/htm_baseline/pan-starrs/243498.fits /extra/refcats/htm/htm_baseline/pan-starrs/243498.fits\n",
      "cp /sps/lsst/data/refcats/htm/htm_baseline/sdss/243498.fits /extra/refcats/htm/htm_baseline/sdss/243498.fits\n",
      "cp /sps/lsst/data/refcats/htm/htm_baseline/pan-starrs/243505.fits /extra/refcats/htm/htm_baseline/pan-starrs/243505.fits\n",
      "cp /sps/lsst/data/refcats/htm/htm_baseline/sdss/243505.fits /extra/refcats/htm/htm_baseline/sdss/243505.fits\n",
      "cp /sps/lsst/data/refcats/htm/htm_baseline/pan-starrs/243506.fits /extra/refcats/htm/htm_baseline/pan-starrs/243506.fits\n",
      "cp /sps/lsst/data/refcats/htm/htm_baseline/sdss/243506.fits /extra/refcats/htm/htm_baseline/sdss/243506.fits\n",
      "cp /sps/lsst/data/refcats/htm/htm_baseline/pan-starrs/243507.fits /extra/refcats/htm/htm_baseline/pan-starrs/243507.fits\n",
      "cp /sps/lsst/data/refcats/htm/htm_baseline/sdss/243507.fits /extra/refcats/htm/htm_baseline/sdss/243507.fits\n",
      "cp /sps/lsst/data/refcats/htm/htm_baseline/pan-starrs/243509.fits /extra/refcats/htm/htm_baseline/pan-starrs/243509.fits\n",
      "cp /sps/lsst/data/refcats/htm/htm_baseline/sdss/243509.fits /extra/refcats/htm/htm_baseline/sdss/243509.fits\n",
      "cp /sps/lsst/data/refcats/htm/htm_baseline/pan-starrs/243510.fits /extra/refcats/htm/htm_baseline/pan-starrs/243510.fits\n",
      "cp /sps/lsst/data/refcats/htm/htm_baseline/sdss/243510.fits /extra/refcats/htm/htm_baseline/sdss/243510.fits\n",
      "cp /sps/lsst/data/refcats/htm/htm_baseline/pan-starrs/243511.fits /extra/refcats/htm/htm_baseline/pan-starrs/243511.fits\n",
      "cp /sps/lsst/data/refcats/htm/htm_baseline/sdss/243511.fits /extra/refcats/htm/htm_baseline/sdss/243511.fits\n",
      "cp /sps/lsst/data/refcats/htm/htm_baseline/pan-starrs/243513.fits /extra/refcats/htm/htm_baseline/pan-starrs/243513.fits\n",
      "cp /sps/lsst/data/refcats/htm/htm_baseline/sdss/243513.fits /extra/refcats/htm/htm_baseline/sdss/243513.fits\n",
      "cp /sps/lsst/data/refcats/htm/htm_baseline/pan-starrs/243514.fits /extra/refcats/htm/htm_baseline/pan-starrs/243514.fits\n",
      "cp /sps/lsst/data/refcats/htm/htm_baseline/sdss/243514.fits /extra/refcats/htm/htm_baseline/sdss/243514.fits\n",
      "cp /sps/lsst/data/refcats/htm/htm_baseline/pan-starrs/243515.fits /extra/refcats/htm/htm_baseline/pan-starrs/243515.fits\n",
      "cp /sps/lsst/data/refcats/htm/htm_baseline/sdss/243515.fits /extra/refcats/htm/htm_baseline/sdss/243515.fits\n",
      "cp /sps/lsst/data/refcats/htm/htm_baseline/pan-starrs/243516.fits /extra/refcats/htm/htm_baseline/pan-starrs/243516.fits\n",
      "cp /sps/lsst/data/refcats/htm/htm_baseline/sdss/243516.fits /extra/refcats/htm/htm_baseline/sdss/243516.fits\n",
      "cp /sps/lsst/data/refcats/htm/htm_baseline/pan-starrs/243517.fits /extra/refcats/htm/htm_baseline/pan-starrs/243517.fits\n",
      "cp /sps/lsst/data/refcats/htm/htm_baseline/sdss/243517.fits /extra/refcats/htm/htm_baseline/sdss/243517.fits\n",
      "cp /sps/lsst/data/refcats/htm/htm_baseline/pan-starrs/243518.fits /extra/refcats/htm/htm_baseline/pan-starrs/243518.fits\n",
      "cp /sps/lsst/data/refcats/htm/htm_baseline/sdss/243518.fits /extra/refcats/htm/htm_baseline/sdss/243518.fits\n",
      "cp /sps/lsst/data/refcats/htm/htm_baseline/pan-starrs/243519.fits /extra/refcats/htm/htm_baseline/pan-starrs/243519.fits\n",
      "cp /sps/lsst/data/refcats/htm/htm_baseline/sdss/243519.fits /extra/refcats/htm/htm_baseline/sdss/243519.fits\n",
      "cp /sps/lsst/data/refcats/htm/htm_baseline/pan-starrs/243460.fits /extra/refcats/htm/htm_baseline/pan-starrs/243460.fits\n",
      "cp /sps/lsst/data/refcats/htm/htm_baseline/sdss/243460.fits /extra/refcats/htm/htm_baseline/sdss/243460.fits\n",
      "cp /sps/lsst/data/refcats/htm/htm_baseline/pan-starrs/243461.fits /extra/refcats/htm/htm_baseline/pan-starrs/243461.fits\n",
      "cp /sps/lsst/data/refcats/htm/htm_baseline/sdss/243461.fits /extra/refcats/htm/htm_baseline/sdss/243461.fits\n",
      "cp /sps/lsst/data/refcats/htm/htm_baseline/pan-starrs/243463.fits /extra/refcats/htm/htm_baseline/pan-starrs/243463.fits\n",
      "cp /sps/lsst/data/refcats/htm/htm_baseline/sdss/243463.fits /extra/refcats/htm/htm_baseline/sdss/243463.fits\n",
      "cp /sps/lsst/data/refcats/htm/htm_baseline/pan-starrs/243464.fits /extra/refcats/htm/htm_baseline/pan-starrs/243464.fits\n",
      "cp /sps/lsst/data/refcats/htm/htm_baseline/sdss/243464.fits /extra/refcats/htm/htm_baseline/sdss/243464.fits\n",
      "cp /sps/lsst/data/refcats/htm/htm_baseline/pan-starrs/243465.fits /extra/refcats/htm/htm_baseline/pan-starrs/243465.fits\n",
      "cp /sps/lsst/data/refcats/htm/htm_baseline/sdss/243465.fits /extra/refcats/htm/htm_baseline/sdss/243465.fits\n",
      "cp /sps/lsst/data/refcats/htm/htm_baseline/pan-starrs/243467.fits /extra/refcats/htm/htm_baseline/pan-starrs/243467.fits\n",
      "cp /sps/lsst/data/refcats/htm/htm_baseline/sdss/243467.fits /extra/refcats/htm/htm_baseline/sdss/243467.fits\n",
      "cp /sps/lsst/data/refcats/htm/htm_baseline/pan-starrs/243468.fits /extra/refcats/htm/htm_baseline/pan-starrs/243468.fits\n",
      "cp /sps/lsst/data/refcats/htm/htm_baseline/sdss/243468.fits /extra/refcats/htm/htm_baseline/sdss/243468.fits\n",
      "cp /sps/lsst/data/refcats/htm/htm_baseline/pan-starrs/243469.fits /extra/refcats/htm/htm_baseline/pan-starrs/243469.fits\n",
      "cp /sps/lsst/data/refcats/htm/htm_baseline/sdss/243469.fits /extra/refcats/htm/htm_baseline/sdss/243469.fits\n",
      "cp /sps/lsst/data/refcats/htm/htm_baseline/pan-starrs/243471.fits /extra/refcats/htm/htm_baseline/pan-starrs/243471.fits\n",
      "cp /sps/lsst/data/refcats/htm/htm_baseline/sdss/243471.fits /extra/refcats/htm/htm_baseline/sdss/243471.fits\n",
      "cp /sps/lsst/data/refcats/htm/htm_baseline/pan-starrs/243476.fits /extra/refcats/htm/htm_baseline/pan-starrs/243476.fits\n",
      "cp /sps/lsst/data/refcats/htm/htm_baseline/sdss/243476.fits /extra/refcats/htm/htm_baseline/sdss/243476.fits\n",
      "cp /sps/lsst/data/refcats/htm/htm_baseline/pan-starrs/243477.fits /extra/refcats/htm/htm_baseline/pan-starrs/243477.fits\n",
      "cp /sps/lsst/data/refcats/htm/htm_baseline/sdss/243477.fits /extra/refcats/htm/htm_baseline/sdss/243477.fits\n",
      "cp /sps/lsst/data/refcats/htm/htm_baseline/pan-starrs/243479.fits /extra/refcats/htm/htm_baseline/pan-starrs/243479.fits\n",
      "cp /sps/lsst/data/refcats/htm/htm_baseline/sdss/243479.fits /extra/refcats/htm/htm_baseline/sdss/243479.fits\n",
      "cp /sps/lsst/data/refcats/htm/htm_baseline/pan-starrs/243480.fits /extra/refcats/htm/htm_baseline/pan-starrs/243480.fits\n",
      "cp /sps/lsst/data/refcats/htm/htm_baseline/sdss/243480.fits /extra/refcats/htm/htm_baseline/sdss/243480.fits\n",
      "cp /sps/lsst/data/refcats/htm/htm_baseline/pan-starrs/243482.fits /extra/refcats/htm/htm_baseline/pan-starrs/243482.fits\n",
      "cp /sps/lsst/data/refcats/htm/htm_baseline/sdss/243482.fits /extra/refcats/htm/htm_baseline/sdss/243482.fits\n",
      "cp /sps/lsst/data/refcats/htm/htm_baseline/pan-starrs/243483.fits /extra/refcats/htm/htm_baseline/pan-starrs/243483.fits\n",
      "cp /sps/lsst/data/refcats/htm/htm_baseline/sdss/243483.fits /extra/refcats/htm/htm_baseline/sdss/243483.fits\n",
      "cp /sps/lsst/data/refcats/htm/htm_baseline/pan-starrs/243484.fits /extra/refcats/htm/htm_baseline/pan-starrs/243484.fits\n",
      "cp /sps/lsst/data/refcats/htm/htm_baseline/sdss/243484.fits /extra/refcats/htm/htm_baseline/sdss/243484.fits\n",
      "cp /sps/lsst/data/refcats/htm/htm_baseline/pan-starrs/243492.fits /extra/refcats/htm/htm_baseline/pan-starrs/243492.fits\n",
      "cp /sps/lsst/data/refcats/htm/htm_baseline/sdss/243492.fits /extra/refcats/htm/htm_baseline/sdss/243492.fits\n",
      "cp /sps/lsst/data/refcats/htm/htm_baseline/pan-starrs/243493.fits /extra/refcats/htm/htm_baseline/pan-starrs/243493.fits\n",
      "cp /sps/lsst/data/refcats/htm/htm_baseline/sdss/243493.fits /extra/refcats/htm/htm_baseline/sdss/243493.fits\n",
      "cp /sps/lsst/data/refcats/htm/htm_baseline/pan-starrs/243495.fits /extra/refcats/htm/htm_baseline/pan-starrs/243495.fits\n",
      "cp /sps/lsst/data/refcats/htm/htm_baseline/sdss/243495.fits /extra/refcats/htm/htm_baseline/sdss/243495.fits\n",
      "cp /sps/lsst/data/refcats/htm/htm_baseline/pan-starrs/243496.fits /extra/refcats/htm/htm_baseline/pan-starrs/243496.fits\n",
      "cp /sps/lsst/data/refcats/htm/htm_baseline/sdss/243496.fits /extra/refcats/htm/htm_baseline/sdss/243496.fits\n",
      "cp /sps/lsst/data/refcats/htm/htm_baseline/pan-starrs/243497.fits /extra/refcats/htm/htm_baseline/pan-starrs/243497.fits\n",
      "cp /sps/lsst/data/refcats/htm/htm_baseline/sdss/243497.fits /extra/refcats/htm/htm_baseline/sdss/243497.fits\n",
      "cp /sps/lsst/data/refcats/htm/htm_baseline/pan-starrs/243499.fits /extra/refcats/htm/htm_baseline/pan-starrs/243499.fits\n",
      "cp /sps/lsst/data/refcats/htm/htm_baseline/sdss/243499.fits /extra/refcats/htm/htm_baseline/sdss/243499.fits\n",
      "cp /sps/lsst/data/refcats/htm/htm_baseline/pan-starrs/243500.fits /extra/refcats/htm/htm_baseline/pan-starrs/243500.fits\n",
      "cp /sps/lsst/data/refcats/htm/htm_baseline/sdss/243500.fits /extra/refcats/htm/htm_baseline/sdss/243500.fits\n",
      "cp /sps/lsst/data/refcats/htm/htm_baseline/pan-starrs/243501.fits /extra/refcats/htm/htm_baseline/pan-starrs/243501.fits\n",
      "cp /sps/lsst/data/refcats/htm/htm_baseline/sdss/243501.fits /extra/refcats/htm/htm_baseline/sdss/243501.fits\n",
      "cp /sps/lsst/data/refcats/htm/htm_baseline/pan-starrs/243503.fits /extra/refcats/htm/htm_baseline/pan-starrs/243503.fits\n",
      "cp /sps/lsst/data/refcats/htm/htm_baseline/sdss/243503.fits /extra/refcats/htm/htm_baseline/sdss/243503.fits\n",
      "cp /sps/lsst/data/refcats/htm/htm_baseline/pan-starrs/243504.fits /extra/refcats/htm/htm_baseline/pan-starrs/243504.fits\n",
      "cp /sps/lsst/data/refcats/htm/htm_baseline/sdss/243504.fits /extra/refcats/htm/htm_baseline/sdss/243504.fits\n",
      "cp /sps/lsst/data/refcats/htm/htm_baseline/pan-starrs/243508.fits /extra/refcats/htm/htm_baseline/pan-starrs/243508.fits\n",
      "cp /sps/lsst/data/refcats/htm/htm_baseline/sdss/243508.fits /extra/refcats/htm/htm_baseline/sdss/243508.fits\n",
      "cp /sps/lsst/data/refcats/htm/htm_baseline/pan-starrs/243512.fits /extra/refcats/htm/htm_baseline/pan-starrs/243512.fits\n",
      "cp /sps/lsst/data/refcats/htm/htm_baseline/sdss/243512.fits /extra/refcats/htm/htm_baseline/sdss/243512.fits\n"
     ]
    }
   ],
   "source": [
    "import os, sys\n",
    "\n",
    "import lsst.afw.geom as afwGeom\n",
    "import lsst.afw.coord as afwCoord\n",
    "import lsst.meas.algorithms as algo\n",
    "import numpy as np\n",
    "\n",
    "# ZW2089\n",
    "center = afwCoord.Coord('09:00:37.91', '+20:54:57.6')\n",
    "radius = afwGeom.Angle(2.0, afwGeom.degrees)\n",
    "shards = algo.htmIndexer.HtmIndexer(depth=7).get_pixel_ids(center, radius)\n",
    "\n",
    "print shards\n",
    "print shards[0]\n",
    "\n",
    "refcats_cc = '/sps/lsst/data/refcats/htm/htm_baseline'\n",
    "refcats_local = '/extra/refcats/htm/htm_baseline'\n",
    "for s in shards[0] :\n",
    "    ps_cc = os.path.join(refcats_cc, 'pan-starrs', str(s) + '.fits')\n",
    "    sdss_cc = os.path.join(refcats_cc, 'sdss', str(s) + '.fits')\n",
    "    ps_local = os.path.join(refcats_local, 'pan-starrs', str(s) + '.fits')\n",
    "    sdss_local = os.path.join(refcats_local, 'sdss', str(s) + '.fits')\n",
    "    \n",
    "    ps_cmd = 'cp ' + ps_cc + ' ' + ps_local\n",
    "    sdss_cmd = 'cp ' + sdss_cc + ' ' + sdss_local\n",
    "    \n",
    "    print ps_cmd\n",
    "    print sdss_cmd\n",
    "    \n",
    "    os.system(ps_cmd)\n",
    "    os.system(sdss_cmd)"
   ]
  },
  {
   "cell_type": "code",
   "execution_count": null,
   "metadata": {
    "collapsed": false
   },
   "outputs": [],
   "source": [
    "import os\n",
    "\n",
    "maxFile = 4\n",
    "filename = \"../utils/stage/obs_D3_r.list\"\n",
    "rawDir = \"/afs/in2p3.fr/home/l/lsstprod/prod/DC_2014/test_cfht/rawDownload/D3\"\n",
    "file = open(filename, \"r\")\n",
    "for cnt, obs in enumerate(file):\n",
    "    if cnt > maxFile :\n",
    "        break\n",
    "    cmd = \"rfcp cchpssnls:/hpss/in2p3.fr/group/snovae/snls/CADC/D3/\"+obs.strip()+\"p.0.fz \"+rawDir+\"/\"+obs.strip()+\"p.fits.fz\"\n",
    "    print cmd\n",
    "    os.system(\"cmd\")"
   ]
  },
  {
   "cell_type": "code",
   "execution_count": null,
   "metadata": {
    "collapsed": false
   },
   "outputs": [],
   "source": [
    "import os\n",
    "\n",
    "def submit(visitList, ccd, config) :\n",
    "    \n",
    "    id = \"--id visit=\" + visitList + \" ccd=\" + ccd\n",
    "    \n",
    "    cmd = \"processCcd.py input --output output \" + id +\" --clobber-config --configfile \" + configFile\n",
    "    print cmd\n",
    "    \n",
    "    log = \"$HOME/CFHT/test_cfht/logs/processCcd/\" + visitList + \"_\" + ccd + \".log\"\n",
    "    log.replace(':','_')\n",
    "    print log\n",
    "    qsub = \"qsub -p P_lsst_prod -l sps=1,ct=60000,h_vmem=4G -j y -o \"+ log + \" <<EOF\"\n",
    "    scriptName = \"scripts/\" + visitList + \"_\" + ccd + \".sh\"\n",
    "    script = open(scriptName,\"w\")\n",
    "    script.write(qsub + \"\\n\")\n",
    "    script.write(cmd + \"\\n\")\n",
    "    script.write(\"EOF\" + \"\\n\")\n",
    "    script.close()\n",
    "    os.system(\"chmod +x \" + scriptName)\n",
    " \n",
    "filename = \"obs_D3_r.list\"\n",
    "dir = \"/home/boutigny/CFHT/test_cfht/utils/processCcd\"\n",
    "os.chdir(dir)\n",
    " \n",
    "modularity = 3\n",
    "maxVisit = 3\n",
    "\n",
    " \n",
    "ccd = \"0:35\"\n",
    "\n",
    "configFile = \"processConfig.py\"\n",
    " \n",
    "file = open(filename,\"r\")\n",
    "imod = 0\n",
    "visitList = \"\"\n",
    "flag = 0\n",
    "for cnt, visit in enumerate(file) :\n",
    "    visit = visit[:-1]\n",
    "    if cnt > maxVisit-1 :\n",
    "        break\n",
    "    if imod < modularity :\n",
    "        visitList = visitList + visit + \"^\"\n",
    "        imod += 1\n",
    "    else :\n",
    "        visitList = visitList[:-1]\n",
    "        submit(visitList, ccd, configFile)\n",
    "        visitList = visit + \"^\"\n",
    "        imod = 1\n",
    "\n",
    "visitList = visitList[:-1]\n",
    "submit(visitList, ccd, configFile)\n",
    "\n"
   ]
  },
  {
   "cell_type": "code",
   "execution_count": null,
   "metadata": {
    "collapsed": false
   },
   "outputs": [],
   "source": [
    "for i in range(10) :\n",
    "    print i\n",
    "    if i > 3 :\n",
    "        break\n",
    "print \"yy\""
   ]
  },
  {
   "cell_type": "code",
   "execution_count": null,
   "metadata": {
    "collapsed": false
   },
   "outputs": [],
   "source": [
    "test = \"abcd:0\"\n",
    "test = test.replace(':','_')\n",
    "print test"
   ]
  },
  {
   "cell_type": "markdown",
   "metadata": {},
   "source": [
    "### Check if file exists"
   ]
  },
  {
   "cell_type": "code",
   "execution_count": null,
   "metadata": {
    "collapsed": false
   },
   "outputs": [],
   "source": [
    "import lsst.daf.persistence as dafPersist\n",
    "import lsst.afw.table as afwTable\n",
    "import lsst.afw.geom as afwGeom\n",
    "import lsst.afw.image as afwImage\n",
    "import lsst.meas.algorithms as measAlg\n",
    "import lsst.obs.cfht as obs_cfht\n",
    "from lsst.afw.cameraGeom import Camera\n",
    "from lsst.afw.cameraGeom import PUPIL, FOCAL_PLANE\n",
    "import lsst.afw.display.ds9 as ds9\n",
    "import math\n",
    "\n",
    "# Image identification keys\n",
    "visit = 995367\n",
    "filter = 'r'\n",
    "ccd = 12\n",
    "\n",
    "\n",
    "#setup butler - Replace path name by something suitable for you\n",
    "butler = dafPersist.Butler(\"/home/boutigny/CFHT/test_cfht/output\")\n",
    "dataid = {'visit':visit, 'filter':filter, 'ccd':ccd}\n",
    "print butler.datasetExists('calexp', dataid)\n",
    "calexp_name = butler.get('calexp_filename', dataid)\n",
    "print calexp_name\n",
    "\n",
    "exposure = butler.get('calexp', dataid)\n",
    "ccd = exposure.getDetector()\n",
    "\n",
    "for a in ccd :\n",
    "    print a.getGain()\n",
    "\n",
    "sources = butler.get('src', dataid)\n",
    "print sources.getSchema().getOrderedNames()"
   ]
  },
  {
   "cell_type": "code",
   "execution_count": null,
   "metadata": {
    "collapsed": false
   },
   "outputs": [],
   "source": [
    "import re\n",
    "#line = \"--id filter=r tract=1 patch=7,2 --id filter=r tract=1 patch=7,4\"\n",
    "line = \"--id filter=r tract=1 patch=7,0\"\n",
    "\n",
    "s = re.split('--', line)\n",
    "print len(s),  s\n",
    "\n",
    "name = \"\"\n",
    "for i in range(1,len(s)) :\n",
    "        field = []\n",
    "        t = re.split(\" \", s[i])\n",
    "        for j in range(1,4) :\n",
    "            field.append(re.split(\"=\",t[j])[1])\n",
    "\n",
    "        print field\n",
    "        if i > 1 :\n",
    "            name = name + \";\"\n",
    "        name = name + field[0] + \"_\" + field[1] + \"_\" + field[2]\n",
    "\n",
    "print name"
   ]
  },
  {
   "cell_type": "code",
   "execution_count": null,
   "metadata": {
    "collapsed": false
   },
   "outputs": [],
   "source": [
    "import re\n",
    "\n",
    "def makeLogName(patchList) :\n",
    "    s = re.split('--', patchList)\n",
    "    \n",
    "    name = \"\"\n",
    "    for i in range(1,3) :\n",
    "        field = []   \n",
    "        t = re.split(\" \", s[i])\n",
    "        for j in range(1,4) :  \n",
    "            field.append(re.split(\"=\",t[j])[1])\n",
    "        if i > 1 :\n",
    "            name = name + \"_\"\n",
    "        name = name + field[0] + \"_\" + field[1] + \"_\" + field[2]\n",
    "    return name\n",
    "\n",
    "line = \"--id filter=r tract=1 patch=7,2 --id filter=r tract=1 patch=7,4\"\n",
    "name = makeLogName(line).replace(\",\",\"-\")\n",
    "print name\n"
   ]
  },
  {
   "cell_type": "code",
   "execution_count": null,
   "metadata": {
    "collapsed": false
   },
   "outputs": [],
   "source": [
    "import lsst.daf.persistence as dafPersist\n",
    "\n",
    "filter = 'r'\n",
    "patch = '7,0'\n",
    "tract = 1\n",
    "\n",
    "\n",
    "#setup butler - Replace path name by something suitable for you\n",
    "butler = dafPersist.Butler(\"/home/boutigny/CFHT/test_cfht/output\")\n",
    "dataid = {'tract':tract, 'patch': patch, 'filter':filter, 'visit':996234}\n",
    "\n",
    "fn = butler.get('deepCoadd_tempExp_filename', dataid)\n",
    "\n",
    "print fn"
   ]
  },
  {
   "cell_type": "code",
   "execution_count": null,
   "metadata": {
    "collapsed": false
   },
   "outputs": [],
   "source": [
    "import os\n",
    "import re\n",
    "\n",
    "patchList = \"--id filter=r tract=1 patch=7,0\"\n",
    "outDir = \"/home/boutigny/CFHT/test_cfht/output/coadd_r_dir/deepCoadd\"\n",
    "s = re.split('filter=', patchList)\n",
    "filter = s[1][0]\n",
    "s = re.split('tract=', patchList)\n",
    "tract = s[1][0]\n",
    "s = re.split('patch=', patchList)\n",
    "patch = s[1]\n",
    "tempExp = os.path.join(outDir,filter,tract,patch+\"tempExp\")\n",
    "files = os.listdir(tempExp)\n",
    "for f in files :\n",
    "    visit = re.split('-',f)[0]\n",
    "    select = \"--selectId filter=\" + filter + \" visit=\" + visit\n",
    "    print select"
   ]
  },
  {
   "cell_type": "code",
   "execution_count": null,
   "metadata": {
    "collapsed": false
   },
   "outputs": [],
   "source": [
    "from matplotlib import pyplot\n",
    "\n",
    "fig = pyplot.figure()\n",
    "fig.clf()\n",
    "axes = fig.add_axes((0.1, 0.1, 0.85, 0.80));\n",
    "pyplot.show()"
   ]
  },
  {
   "cell_type": "code",
   "execution_count": null,
   "metadata": {
    "collapsed": false
   },
   "outputs": [],
   "source": [
    "import lsst.daf.persistence as dafPersist\n",
    "import lsst.afw.cameraGeom as cg\n",
    "import lsst.afw.geom as afwGeom\n",
    "import lsst.afw.image as afwImage\n",
    "import lsst.afw.table as afwTable\n",
    "import math\n",
    "\n",
    "visit_1  = 906675\n",
    "visit_2 = 832860\n",
    "ccd = 12\n",
    "filter_1 = \"r\"\n",
    "filter_2 = \"i\"\n",
    "\n",
    "# setup butler and retrieve source catalogs\n",
    "butler = dafPersist.Butler(\"/home/boutigny/CFHT/test_cfht/output\")\n",
    "dataid_1 = {'visit':visit_1, 'filter':filter_1, 'ccd':ccd}\n",
    "src_1 = butler.get('src', dataid_1, immediate=True)\n",
    "dataid_2 = {'visit':visit_2, 'filter':filter_2, 'ccd':ccd}\n",
    "src_2 = butler.get('src', dataid_2, immediate=True)\n",
    "\n",
    "# Print the source table schema\n",
    "schema = src_1[0].getSchema()\n",
    "print \"Source table schema :\"\n",
    "print schema.getOrderedNames()\n",
    "\n",
    "# match catalogs\n",
    "match_src = afwTable.matchRaDec(src_1, src_2, afwGeom.Angle(1./3600., afwGeom.degrees))\n",
    "print \"Number of matches :\", len(match_src)\n",
    "\n",
    "for cnts, match in enumerate(match_src) :\n",
    "    # As an example printout some informations related to the first match\n",
    "    if cnts == 0 :\n",
    "        print \"Angular distance between the 2 matched sources\", afwGeom.radToMas(match.distance), \"mas\"\n",
    "        print \"Coordinate / Psf flux of the first source :\", match.first.get(\"coord\"), match.first.get(\"base_PsfFlux_flux\")\n",
    "        print \"Coordinate / Psf flux of the second source :\", match.second.get(\"coord\"), match.second.get(\"base_PsfFlux_flux\")\n",
    "\n"
   ]
  },
  {
   "cell_type": "code",
   "execution_count": null,
   "metadata": {
    "collapsed": false
   },
   "outputs": [],
   "source": [
    "filters = \"ugriz\"\n",
    "filter = \"z\"\n",
    "\n",
    "if filter not in filters :\n",
    "    print \"Hop\""
   ]
  },
  {
   "cell_type": "code",
   "execution_count": null,
   "metadata": {
    "collapsed": false
   },
   "outputs": [],
   "source": [
    "import numpy as np\n",
    "\n",
    "x = np.array([1.0, 2.0, 3.0])\n",
    "w = np.array([2.0, 1.0, 1.0])\n",
    "\n",
    "p = x*w\n",
    "print p, np.sum(p)/np.sum(w)\n",
    "\n",
    "zp = np.average(x, weights=w)\n",
    "std = np.std(x, ddof=1)\n",
    "print zp, std\n"
   ]
  },
  {
   "cell_type": "code",
   "execution_count": null,
   "metadata": {
    "collapsed": false
   },
   "outputs": [],
   "source": [
    "import numpy as np\n",
    "import math\n",
    "\n",
    "x = np.array([32.05466798,  32.23426986,  32.23444689,  32.23884165,  32.24328242,\n",
    "              32.25459428,  32.25741439,  32.25914487,  32.26231627,  32.26508964,\n",
    "              32.26984551,  32.27979575,  32.28352811,  32.65475297])\n",
    "e = np.array([0.0017654,   0.00078629,  0.00169306,  0.00083489,  0.00086243,  0.00131327,\n",
    "              0.00126256,  0.00067158,  0.00140728,  0.00143456,  0.00137039,  0.00124527,\n",
    "              0.0013124,   0.00094774])\n",
    "\n",
    "zp = np.average(x,weights=e)\n",
    "std = np.std(x, ddof=1)\n",
    "print zp, std\n",
    "\n",
    "zp2, sum2 = np.average(x,weights=1/e**2, returned=True)\n",
    "std2 = np.std(x, ddof=1)\n",
    "\n",
    "std4 = np.sqrt(np.sum((e*e)/(x*x)))*zp2\n",
    "std5 = np.sqrt(1.0 / np.sum(1.0/(e*e)) )\n",
    "print np.sum(1.0/(e*e))\n",
    "\n",
    "print zp2, std2, math.sqrt(1.0/sum2),  std4, std5\n",
    "\n",
    "tau = 1e-3\n",
    "zp3, sum3 = np.average(x,weights=1/e**2+tau, returned=True)\n",
    "std3 = np.std(x, ddof=1)\n",
    "print zp3, std3, math.sqrt(1.0/sum3)"
   ]
  },
  {
   "cell_type": "code",
   "execution_count": 2,
   "metadata": {
    "collapsed": false,
    "scrolled": false
   },
   "outputs": [
    {
     "name": "stdout",
     "output_type": "stream",
     "text": [
      "['__class__', '__delattr__', '__doc__', '__eq__', '__format__', '__getattribute__', '__hash__', '__init__', '__module__', '__ne__', '__new__', '__reduce__', '__reduce_ex__', '__repr__', '__setattr__', '__sizeof__', '__str__', '__subclasshook__', 'getBoresightAirmass', 'getBoresightAzAlt', 'getBoresightHourAngle', 'getBoresightRaDec', 'getBoresightRotAngle', 'getDarkTime', 'getDate', 'getEra', 'getExposureId', 'getExposureTime', 'getLocalEra', 'getObservatory', 'getRotType', 'getUt1', 'getWeather', 'isPersistable', 'readFits', 'writeFits']\n",
      "\n",
      "2:17:47.60 -5:05:41.0 19.825252 1:14:24.68 2.99726304575\n",
      "171.730667667\n",
      "2.99727 rad\n",
      "-0.317415 rad -1:12:44.77\n",
      "<lsst.afw.image.visitInfo.VisitInfo object at 0x7fdfd090b998>\n",
      "\n",
      "171.730667667 -155.468876 34.448333\n",
      "-18.1865413333 -0.317415030506\n"
     ]
    }
   ],
   "source": [
    "import lsst.daf.persistence as dafPersist\n",
    "import numpy\n",
    "\n",
    "#butler = dafPersist.Butler(\"/home/boutigny/LSST/CFHT/clusters/3C295/output\")\n",
    "butler = dafPersist.Butler(\"/home/boutigny/LSST/CFHT/SXDS/output\")\n",
    "dataid = {'visit':1032693, 'ccd':0}\n",
    "\n",
    "source = butler.get('src', dataid)\n",
    "schema = source.getSchema()\n",
    "\n",
    "md = butler.get(\"calexp_md\", dataid, immediate=True)\n",
    "calexp = butler.get(\"calexp\", dataid, immediate=True)\n",
    "\n",
    "\n",
    "vI = calexp.getInfo().getVisitInfo()\n",
    "\n",
    "#print md.getOrderedNames()\n",
    "print dir(vI)\n",
    "print\n",
    "print md.get(\"RA\"), md.get(\"DEC\"), md.get(\"OBS-LAT\"), md.get(\"LSTEND\"), md.get(\"AVG-ERA\")*3.14159/180.\n",
    "print md.get(\"AVG-ERA\")\n",
    "print vI.getEra()\n",
    "print vI.getBoresightHourAngle(), md.get(\"HA\")\n",
    "print vI\n",
    "print\n",
    "print md.get(\"AVG-ERA\"), md.get(\"OBS-LONG\"), md.get(\"BORE-RA\")\n",
    "a = md.get(\"AVG-ERA\")+md.get(\"OBS-LONG\")-md.get(\"BORE-RA\")\n",
    "print a, a*3.1415927/180."
   ]
  },
  {
   "cell_type": "code",
   "execution_count": 3,
   "metadata": {
    "collapsed": false
   },
   "outputs": [
    {
     "name": "stdout",
     "output_type": "stream",
     "text": [
      "('id', 'coord_ra', 'coord_dec', 'parent', 'calib_detected', 'calib_psfCandidate', 'calib_psfUsed', 'calib_psfReserved', 'flags_negative', 'deblend_nChild', 'deblend_deblendedAsPsf', 'deblend_psfCenter_x', 'deblend_psfCenter_y', 'deblend_psfFlux', 'deblend_tooManyPeaks', 'deblend_parentTooBig', 'deblend_masked', 'deblend_skipped', 'deblend_rampedTemplate', 'deblend_patchedTemplate', 'deblend_hasStrayFlux', 'base_GaussianCentroid_x', 'base_GaussianCentroid_y', 'base_GaussianCentroid_flag', 'base_GaussianCentroid_flag_noPeak', 'base_GaussianCentroid_flag_resetToPeak', 'base_NaiveCentroid_x', 'base_NaiveCentroid_y', 'base_NaiveCentroid_flag', 'base_NaiveCentroid_flag_noCounts', 'base_NaiveCentroid_flag_edge', 'base_NaiveCentroid_flag_resetToPeak', 'base_SdssCentroid_x', 'base_SdssCentroid_y', 'base_SdssCentroid_xSigma', 'base_SdssCentroid_ySigma', 'base_SdssCentroid_flag', 'base_SdssCentroid_flag_edge', 'base_SdssCentroid_flag_noSecondDerivative', 'base_SdssCentroid_flag_almostNoSecondDerivative', 'base_SdssCentroid_flag_notAtMaximum', 'base_SdssCentroid_flag_resetToPeak', 'base_SdssShape_xx', 'base_SdssShape_yy', 'base_SdssShape_xy', 'base_SdssShape_xxSigma', 'base_SdssShape_yySigma', 'base_SdssShape_xySigma', 'base_SdssShape_x', 'base_SdssShape_y', 'base_SdssShape_flux', 'base_SdssShape_fluxSigma', 'base_SdssShape_psf_xx', 'base_SdssShape_psf_yy', 'base_SdssShape_psf_xy', 'base_SdssShape_flux_xx_Cov', 'base_SdssShape_flux_yy_Cov', 'base_SdssShape_flux_xy_Cov', 'base_SdssShape_flag', 'base_SdssShape_flag_unweightedBad', 'base_SdssShape_flag_unweighted', 'base_SdssShape_flag_shift', 'base_SdssShape_flag_maxIter', 'base_SdssShape_flag_psf', 'base_CircularApertureFlux_3_0_flux', 'base_CircularApertureFlux_3_0_fluxSigma', 'base_CircularApertureFlux_3_0_flag', 'base_CircularApertureFlux_3_0_flag_apertureTruncated', 'base_CircularApertureFlux_3_0_flag_sincCoeffsTruncated', 'base_CircularApertureFlux_4_5_flux', 'base_CircularApertureFlux_4_5_fluxSigma', 'base_CircularApertureFlux_4_5_flag', 'base_CircularApertureFlux_4_5_flag_apertureTruncated', 'base_CircularApertureFlux_4_5_flag_sincCoeffsTruncated', 'base_CircularApertureFlux_6_0_flux', 'base_CircularApertureFlux_6_0_fluxSigma', 'base_CircularApertureFlux_6_0_flag', 'base_CircularApertureFlux_6_0_flag_apertureTruncated', 'base_CircularApertureFlux_6_0_flag_sincCoeffsTruncated', 'base_CircularApertureFlux_9_0_flux', 'base_CircularApertureFlux_9_0_fluxSigma', 'base_CircularApertureFlux_9_0_flag', 'base_CircularApertureFlux_9_0_flag_apertureTruncated', 'base_CircularApertureFlux_9_0_flag_sincCoeffsTruncated', 'base_CircularApertureFlux_12_0_flux', 'base_CircularApertureFlux_12_0_fluxSigma', 'base_CircularApertureFlux_12_0_flag', 'base_CircularApertureFlux_12_0_flag_apertureTruncated', 'base_CircularApertureFlux_17_0_flux', 'base_CircularApertureFlux_17_0_fluxSigma', 'base_CircularApertureFlux_17_0_flag', 'base_CircularApertureFlux_17_0_flag_apertureTruncated', 'base_CircularApertureFlux_25_0_flux', 'base_CircularApertureFlux_25_0_fluxSigma', 'base_CircularApertureFlux_25_0_flag', 'base_CircularApertureFlux_25_0_flag_apertureTruncated', 'base_CircularApertureFlux_35_0_flux', 'base_CircularApertureFlux_35_0_fluxSigma', 'base_CircularApertureFlux_35_0_flag', 'base_CircularApertureFlux_35_0_flag_apertureTruncated', 'base_CircularApertureFlux_50_0_flux', 'base_CircularApertureFlux_50_0_fluxSigma', 'base_CircularApertureFlux_50_0_flag', 'base_CircularApertureFlux_50_0_flag_apertureTruncated', 'base_CircularApertureFlux_70_0_flux', 'base_CircularApertureFlux_70_0_fluxSigma', 'base_CircularApertureFlux_70_0_flag', 'base_CircularApertureFlux_70_0_flag_apertureTruncated', 'base_GaussianFlux_flux', 'base_GaussianFlux_fluxSigma', 'base_GaussianFlux_flag', 'base_PixelFlags_flag', 'base_PixelFlags_flag_offimage', 'base_PixelFlags_flag_edge', 'base_PixelFlags_flag_interpolated', 'base_PixelFlags_flag_saturated', 'base_PixelFlags_flag_cr', 'base_PixelFlags_flag_bad', 'base_PixelFlags_flag_suspect', 'base_PixelFlags_flag_interpolatedCenter', 'base_PixelFlags_flag_saturatedCenter', 'base_PixelFlags_flag_crCenter', 'base_PixelFlags_flag_suspectCenter', 'base_PsfFlux_flux', 'base_PsfFlux_fluxSigma', 'base_PsfFlux_flag', 'base_PsfFlux_flag_noGoodPixels', 'base_PsfFlux_flag_edge', 'base_Variance_value', 'base_Variance_flag', 'base_Variance_flag_emptyFootprint', 'base_PsfFlux_apCorr', 'base_PsfFlux_apCorrSigma', 'base_PsfFlux_flag_apCorr', 'base_GaussianFlux_apCorr', 'base_GaussianFlux_apCorrSigma', 'base_GaussianFlux_flag_apCorr', 'base_ClassificationExtendedness_value', 'base_ClassificationExtendedness_flag', 'photocal_photometricStandard')\n"
     ]
    }
   ],
   "source": [
    "print schema.getOrderedNames()"
   ]
  },
  {
   "cell_type": "code",
   "execution_count": 5,
   "metadata": {
    "collapsed": false
   },
   "outputs": [
    {
     "name": "stdout",
     "output_type": "stream",
     "text": [
      "None\n"
     ]
    }
   ],
   "source": [
    "info = calexp.getInfo()\n",
    "print info.getValidPolygon()"
   ]
  },
  {
   "cell_type": "code",
   "execution_count": 17,
   "metadata": {
    "collapsed": false
   },
   "outputs": [
    {
     "ename": "FitsError",
     "evalue": "\n  File \"src/fits.cc\", line 194, in void lsst::afw::fits::Fits::setHdu(int, bool)\n    cfitsio error (/extra/CFHT/clusters/MACSJ2243.3-0935/rawDownload/1022062p.fits.fz): tried to move past end of file (107) : Moving to HDU 37 {0}\nlsst::afw::fits::FitsError: 'cfitsio error (/extra/CFHT/clusters/MACSJ2243.3-0935/rawDownload/1022062p.fits.fz): tried to move past end of file (107) : Moving to HDU 37'\n",
     "output_type": "error",
     "traceback": [
      "\u001b[1;31m---------------------------------------------------------------------------\u001b[0m",
      "\u001b[1;31mFitsError\u001b[0m                                 Traceback (most recent call last)",
      "\u001b[1;32m<ipython-input-17-e7d864bc3bb2>\u001b[0m in \u001b[0;36m<module>\u001b[1;34m()\u001b[0m\n\u001b[0;32m      5\u001b[0m \u001b[1;33m\u001b[0m\u001b[0m\n\u001b[0;32m      6\u001b[0m \u001b[0mfilename\u001b[0m \u001b[1;33m=\u001b[0m \u001b[1;34m\"/extra/CFHT/clusters/MACSJ2243.3-0935/rawDownload/1022062p.fits.fz\"\u001b[0m\u001b[1;33m\u001b[0m\u001b[0m\n\u001b[1;32m----> 7\u001b[1;33m \u001b[0mmd\u001b[0m \u001b[1;33m=\u001b[0m \u001b[0mafwImage\u001b[0m\u001b[1;33m.\u001b[0m\u001b[0mreadMetadata\u001b[0m\u001b[1;33m(\u001b[0m\u001b[0mfilename\u001b[0m\u001b[1;33m,\u001b[0m \u001b[1;36m37\u001b[0m\u001b[1;33m)\u001b[0m\u001b[1;33m\u001b[0m\u001b[0m\n\u001b[0m\u001b[0;32m      8\u001b[0m \u001b[1;32mprint\u001b[0m \u001b[0mmd\u001b[0m\u001b[1;33m\u001b[0m\u001b[0m\n",
      "\u001b[1;31mFitsError\u001b[0m: \n  File \"src/fits.cc\", line 194, in void lsst::afw::fits::Fits::setHdu(int, bool)\n    cfitsio error (/extra/CFHT/clusters/MACSJ2243.3-0935/rawDownload/1022062p.fits.fz): tried to move past end of file (107) : Moving to HDU 37 {0}\nlsst::afw::fits::FitsError: 'cfitsio error (/extra/CFHT/clusters/MACSJ2243.3-0935/rawDownload/1022062p.fits.fz): tried to move past end of file (107) : Moving to HDU 37'\n"
     ]
    }
   ],
   "source": [
    "import lsst.daf.persistence as dafPersist\n",
    "import lsst.afw.image as afwImage\n",
    "from lsst.pipe.tasks import ingest\n",
    "import numpy\n",
    "\n",
    "filename = \"/extra/CFHT/clusters/MACSJ2243.3-0935/rawDownload/1022062p.fits.fz\"\n",
    "md = afwImage.readMetadata(filename, 37)\n",
    "print md"
   ]
  },
  {
   "cell_type": "code",
   "execution_count": 11,
   "metadata": {
    "collapsed": false
   },
   "outputs": [
    {
     "name": "stdout",
     "output_type": "stream",
     "text": [
      "['Factory', '__class__', '__delattr__', '__doc__', '__format__', '__getattribute__', '__getitem__', '__hash__', '__init__', '__module__', '__new__', '__reduce__', '__reduce_ex__', '__repr__', '__setattr__', '__setitem__', '__sizeof__', '__str__', '__subclasshook__', 'clone', 'convertD', 'convertF', 'dtype', 'getBBox', 'getCalib', 'getDetector', 'getDimensions', 'getFilter', 'getHeight', 'getInfo', 'getMaskedImage', 'getMetadata', 'getPsf', 'getWcs', 'getWidth', 'getX0', 'getXY0', 'getY0', 'hasPsf', 'hasWcs', 'readFits', 'setCalib', 'setDetector', 'setFilter', 'setInfo', 'setMaskedImage', 'setMetadata', 'setPsf', 'setWcs', 'setXY0', 'writeFits']\n"
     ]
    }
   ],
   "source": [
    "print dir(wcsCont)"
   ]
  },
  {
   "cell_type": "code",
   "execution_count": 30,
   "metadata": {
    "collapsed": false
   },
   "outputs": [
    {
     "name": "stdout",
     "output_type": "stream",
     "text": [
      "2.824175\n"
     ]
    }
   ],
   "source": [
    "print 3.14159-0.317415"
   ]
  },
  {
   "cell_type": "code",
   "execution_count": 6,
   "metadata": {
    "collapsed": false
   },
   "outputs": [
    {
     "name": "stdout",
     "output_type": "stream",
     "text": [
      "34.448333 2:17:47.60\n"
     ]
    }
   ],
   "source": [
    "print md.get(\"BORE-RA\"), md.get(\"RA\")"
   ]
  },
  {
   "cell_type": "code",
   "execution_count": 1,
   "metadata": {
    "collapsed": false
   },
   "outputs": [
    {
     "name": "stdout",
     "output_type": "stream",
     "text": [
      "Coord(212.8375000, 52.2058333, 2000.00)\n",
      "0.0349066 rad\n"
     ]
    },
    {
     "data": {
      "text/plain": [
       "(array([225809, 225814, 225822, 225890, 226016, 226017, 226018, 226019,\n",
       "        226022, 226025, 226026, 226027, 226028, 226029, 226030, 226031,\n",
       "        218400, 218512, 218576, 225808, 225810, 225811, 225812, 225813,\n",
       "        225815, 225820, 225821, 225823, 225888, 225889, 225891, 225896,\n",
       "        225897, 225899, 225901, 225902, 225903, 226020, 226021, 226023,\n",
       "        226024, 226032, 226033, 226035, 226038, 226046]),\n",
       " <generator object <genexpr> at 0x7f7ab31581e0>)"
      ]
     },
     "execution_count": 1,
     "metadata": {},
     "output_type": "execute_result"
    }
   ],
   "source": [
    "import lsst.afw.geom as afwGeom\n",
    "import lsst.afw.coord as afwCoord\n",
    "import lsst.meas.algorithms as algo\n",
    "\n",
    "center = afwCoord.Coord(\"14:11:21\", \"+52:12:21\")\n",
    "print center\n",
    "radius = afwGeom.Angle(2.0, afwGeom.degrees)\n",
    "print radius\n",
    "algo.htmIndexer.HtmIndexer(depth=7).get_pixel_ids(center, radius)\n"
   ]
  },
  {
   "cell_type": "code",
   "execution_count": null,
   "metadata": {
    "collapsed": true
   },
   "outputs": [],
   "source": []
  }
 ],
 "metadata": {
  "kernelspec": {
   "display_name": "Python 2",
   "language": "python",
   "name": "python2"
  },
  "language_info": {
   "codemirror_mode": {
    "name": "ipython",
    "version": 2
   },
   "file_extension": ".py",
   "mimetype": "text/x-python",
   "name": "python",
   "nbconvert_exporter": "python",
   "pygments_lexer": "ipython2",
   "version": "2.7.12"
  }
 },
 "nbformat": 4,
 "nbformat_minor": 0
}
