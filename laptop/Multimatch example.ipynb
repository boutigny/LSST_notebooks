{
 "cells": [
  {
   "cell_type": "markdown",
   "metadata": {},
   "source": [
    "# Multimatch example"
   ]
  },
  {
   "cell_type": "markdown",
   "metadata": {},
   "source": [
    "Obligatory imports"
   ]
  },
  {
   "cell_type": "code",
   "execution_count": 56,
   "metadata": {
    "collapsed": false
   },
   "outputs": [],
   "source": [
    "\n",
    "import numpy as np\n",
    "import lsst.daf.base as dafBase\n",
    "import lsst.daf.persistence as dafPersist\n",
    "\n",
    "\n",
    "\n",
    "import lsst.afw.display.ds9 as ds9\n",
    "\n",
    "import matplotlib.pyplot as plt\n",
    "\n",
    "import lsst.afw.image as afwImage\n",
    "import lsst.afw.table as afwTable\n",
    "import lsst.afw.geom as afwGeom\n",
    "\n",
    "import lsst.afw.display.ds9 as ds9\n",
    "\n",
    "%matplotlib inline"
   ]
  },
  {
   "cell_type": "markdown",
   "metadata": {},
   "source": [
    "Instancing the butler in place. DATADIR is the path to the data."
   ]
  },
  {
   "cell_type": "code",
   "execution_count": null,
   "metadata": {
    "collapsed": true
   },
   "outputs": [],
   "source": [
    "DATADIR=\"/renoir_data_02/jpreyes/lsst_data/CFHTLS_master/\"\n",
    "butler = dafPersist.Butler(DATADIR+\"/output\")"
   ]
  },
  {
   "cell_type": "markdown",
   "metadata": {},
   "source": [
    "This block gets the source catalog and the calexp exposures to be matched"
   ]
  },
  {
   "cell_type": "code",
   "execution_count": 57,
   "metadata": {
    "collapsed": false
   },
   "outputs": [],
   "source": [
    "src1 = butler.get(\"src\", {'visit': 802231 , 'filter':'r' , 'ccd':14})\n",
    "calexp1 = butler.get(\"calexp\", {'visit': 802231 , 'filter':'r' , 'ccd':14})\n",
    "\n",
    "src2 = butler.get(\"src\", {'visit': 802230 , 'filter':'r' , 'ccd':14})\n",
    "calexp2 = butler.get(\"calexp\", {'visit': 802230 , 'filter':'r' , 'ccd':14})\n",
    "\n",
    "srcs = [(802231,src1), (802230,src2)]\n",
    "calexps = [calexp1, calexp2]"
   ]
  },
  {
   "cell_type": "markdown",
   "metadata": {},
   "source": [
    "Multimatch object is created"
   ]
  },
  {
   "cell_type": "code",
   "execution_count": 58,
   "metadata": {
    "collapsed": false
   },
   "outputs": [],
   "source": [
    "multi_matches = afwTable.MultiMatch(src1.schema, {'visit':int}, radius=afwGeom.Angle(1./3600., afwGeom.degrees))"
   ]
  },
  {
   "cell_type": "markdown",
   "metadata": {},
   "source": [
    "Adding catalogs to the multimatch"
   ]
  },
  {
   "cell_type": "code",
   "execution_count": 59,
   "metadata": {
    "collapsed": true
   },
   "outputs": [],
   "source": [
    "for visit, catalog in srcs:\n",
    "    multi_matches.add(catalog, {'visit':visit})\n",
    "results = multi_matches.finish(removeAmbiguous=False)"
   ]
  },
  {
   "cell_type": "markdown",
   "metadata": {},
   "source": [
    "Visualization of each images, adding a number on each match"
   ]
  },
  {
   "cell_type": "code",
   "execution_count": 60,
   "metadata": {
    "collapsed": false
   },
   "outputs": [],
   "source": [
    "for i, calexp in enumerate(calexps):\n",
    "    ds9.mtv(calexp, frame=i)\n",
    "    for result in results:\n",
    "        if result.get(\"visit\") == srcs[i][0]:\n",
    "            \n",
    "            wcs = calexp.getWcs()\n",
    "            point = wcs.skyToPixel(result.get(\"coord_ra\"), result.get(\"coord_dec\"))\n",
    "            ds9.dot(str(result.get(\"object\")), point.getX(), point.getY(), size=1, frame=i, ctype=ds9.RED)\n",
    "\n"
   ]
  }
 ],
 "metadata": {
  "kernelspec": {
   "display_name": "Python 2",
   "language": "python",
   "name": "python2"
  },
  "language_info": {
   "codemirror_mode": {
    "name": "ipython",
    "version": 2
   },
   "file_extension": ".py",
   "mimetype": "text/x-python",
   "name": "python",
   "nbconvert_exporter": "python",
   "pygments_lexer": "ipython2",
   "version": "2.7.12"
  }
 },
 "nbformat": 4,
 "nbformat_minor": 0
}
