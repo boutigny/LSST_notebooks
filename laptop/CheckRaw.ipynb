{
 "cells": [
  {
   "cell_type": "code",
   "execution_count": 15,
   "metadata": {
    "collapsed": false
   },
   "outputs": [
    {
     "name": "stdout",
     "output_type": "stream",
     "text": [
      "/home/boutigny/LSST/CFHT/clusters/3C295/z.list\n",
      "Checking visit 850759\n",
      "Found saturated CCD 11 in Visit 850759 - 271958\n",
      "Checking visit 850758\n",
      "Found saturated CCD 11 in Visit 850758 - 274845\n",
      "Checking visit 850763\n",
      "Found saturated CCD 11 in Visit 850763 - 275331\n",
      "Checking visit 850760\n",
      "Found saturated CCD 11 in Visit 850760 - 274284\n",
      "Checking visit 850761\n",
      "Found saturated CCD 11 in Visit 850761 - 274563\n",
      "Checking visit 850762\n",
      "Found saturated CCD 11 in Visit 850762 - 274349\n",
      "Checking visit 850858\n",
      "Checking visit 850856\n",
      "Checking visit 850860\n",
      "Checking visit 850859\n",
      "Checking visit 850857\n",
      "Checking visit 850861\n",
      "Checking visit 836862\n",
      "Found saturated CCD 33 in Visit 836862 - 126756\n"
     ]
    }
   ],
   "source": [
    "%matplotlib inline\n",
    "import os\n",
    "import matplotlib\n",
    "import matplotlib.pylab as plt\n",
    "import numpy as np\n",
    "from astropy.io import fits\n",
    "\n",
    "cluster = \"3C295\"\n",
    "filter = \"z\"\n",
    "\n",
    "output = os.path.join(\"/home/boutigny/LSST/CFHT/clusters\", cluster, filter + \"_new.list\")\n",
    "\n",
    "rawDir = \"/extra/CFHT/clusters/3C295/rawDownload\"\n",
    "\n",
    "fname = os.path.join(\"/home/boutigny/LSST/CFHT/clusters\", cluster, filter + \".list\")\n",
    "print fname\n",
    "with open(fname) as f:\n",
    "    content = f.readlines()\n",
    "    \n",
    "fout = open(output,'w')\n",
    "    \n",
    "for line in content :\n",
    "    visit = line.rstrip().split(\"=\")[1]\n",
    "    print \"Checking visit %s\"%(visit)\n",
    "\n",
    "    fn = rawDir + \"/\"+ visit + \"p.fits.fz\"\n",
    "    hdulist = fits.open(fn)\n",
    "\n",
    "#    fig, ax = plt.subplots(ncols=6, nrows=6, figsize=(20, 20))\n",
    "\n",
    "    bad = []\n",
    "    for i in range(0, 36) :\n",
    "        k = i//6\n",
    "        l = i%6\n",
    "        scidata = hdulist[i+1].data.ravel()\n",
    "        pmax = np.amax(scidata)\n",
    "        filt = scidata > 0.9*pmax\n",
    "        a = scidata[filt]\n",
    "        num = filt.sum()\n",
    "        if num > 100000 :\n",
    "            print \"Found saturated CCD %d in Visit %s - %d\"%(i, visit, num)\n",
    "            bad.append(i)\n",
    "#        ax[k,l].hist(a, bins=100)\n",
    "#        ax[k,l].set_yscale('log')\n",
    "#        ax[k,l].set_title(\"%s - %d - %d\"%(visit,i,num))\n",
    "        \n",
    "#    plt.show()\n",
    "    if len(bad) == 0 :\n",
    "        lnOut = \"--id visit=\" + visit + \" ccd=0..35\"\n",
    "    else :\n",
    "        lnOut = \"--id visit=\" + visit\n",
    "        first = True\n",
    "        for b in range (0, 36) :\n",
    "            if b in bad :\n",
    "                next\n",
    "            else :\n",
    "                if first :\n",
    "                    lnOut += \" ccd=\" + str(b)\n",
    "                    first = False\n",
    "                else :\n",
    "                    lnOut += \"^\" + str(b)\n",
    "    fout.write(lnOut + \"\\n\")\n",
    "fout.close()\n",
    "        \n"
   ]
  },
  {
   "cell_type": "code",
   "execution_count": null,
   "metadata": {
    "collapsed": true
   },
   "outputs": [],
   "source": []
  }
 ],
 "metadata": {
  "kernelspec": {
   "display_name": "Python 2",
   "language": "python",
   "name": "python2"
  },
  "language_info": {
   "codemirror_mode": {
    "name": "ipython",
    "version": 2
   },
   "file_extension": ".py",
   "mimetype": "text/x-python",
   "name": "python",
   "nbconvert_exporter": "python",
   "pygments_lexer": "ipython2",
   "version": "2.7.12"
  }
 },
 "nbformat": 4,
 "nbformat_minor": 0
}
