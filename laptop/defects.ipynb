{
 "cells": [
  {
   "cell_type": "code",
   "execution_count": 19,
   "metadata": {
    "collapsed": false
   },
   "outputs": [
    {
     "name": "stdout",
     "output_type": "stream",
     "text": [
      "[(   0,    0, 2048,    1) (1108, 1482,    6,    9) (1924, 1569,    6,    6)\n",
      " (1888, 1643,    4,    5) (2002, 2686,    5,    6) (2019, 3042,    1,  101)\n",
      " ( 459, 3734,   11,    8) (2039,  211,    1, 4401) (2038,  226,    1,   41)\n",
      " (2040,  226,    1,   41) ( 324, 2179,    2, 2433) (1434, 3535,    2, 1077)\n",
      " (   0, 4611,  324,    1) ( 326, 4611, 1108,    1) (1436, 4611,  603,    1)\n",
      " (2040, 4611,    8,    1)]\n"
     ]
    }
   ],
   "source": [
    "from astropy.io import fits\n",
    "from astropy.io.fits import getdata\n",
    "from astropy.table import Table\n",
    "import pylab as P\n",
    "import numpy as np\n",
    "import seaborn\n",
    "import itertools\n",
    "import operator\n",
    "\n",
    "hdulist = fits.open('../2004B.mask.0.36.01.nn/ccd19.fits')\n",
    "hdulistE = fits.open('../2004B.mask.0.36.01_enlarged.nn/ccd19.fits')\n",
    "\n",
    "d = hdulist[1].data\n",
    "dE = hdulistE[1].data\n",
    "\n",
    "print d"
   ]
  },
  {
   "cell_type": "code",
   "execution_count": 151,
   "metadata": {
    "collapsed": false
   },
   "outputs": [
    {
     "name": "stdout",
     "output_type": "stream",
     "text": [
      "[[1 1 1 1 1]\n",
      " [1 0 0 0 1]\n",
      " [1 0 0 0 1]\n",
      " [1 0 0 0 1]\n",
      " [1 1 1 1 1]]\n"
     ]
    }
   ],
   "source": [
    "print du[94:99,1492:1497]\n",
    "for l in du.shape[0]:\n",
    "    for c in du.shape[1]:\n",
    "        if du[l, c] == 0 :\n",
    "    "
   ]
  },
  {
   "cell_type": "code",
   "execution_count": 9,
   "metadata": {
    "collapsed": false
   },
   "outputs": [
    {
     "name": "stdout",
     "output_type": "stream",
     "text": [
      "(32, 0)\n",
      " 1 :     0     0  2048     1 :     0     0  2048     1 :     0     0  2048     2 :     0     0  2048     2 \n",
      " 2 :  1655   626     1   101 :  1655   626     1   101 :  1654   626     2   102 :  1654   626     2   102 \n",
      " 3 :   839   835     1   101 :   839   835     1   101 :   838   834     2   102 :   838   834     2   102 \n",
      " 4 :   994  2922     1   101 :   994  2922     1   101 :   994  2922     2   102 :   994  2922     2   102 \n",
      " 5 :   892   555     2  4057 :   892   555     2  4057 :   892   554     2  4058 :   892   554     2  4058 \n",
      " 6 :   848  1649     1  2963 :   848  1649     1  2963 :   848  1648     2  2964 :   848  1648     2  2964 \n",
      " 7 :   788  3526     1  1086 :   788  3526     1  1086 :   788  3526     2  1086 :   788  3526     2  1086 \n",
      " 8 :    56  3979     1   633 :    56  3979     1   633 :    56  3978     2   634 :    56  3978     2   634 \n",
      " 9 :     0  4611    56     1 :     0  4611    56     1 :     0  4610    56     2 :     0  4610    56     2 \n",
      "10 :    57  4611   731     1 :    57  4611   731     1 :    56  4610   732     2 :    58  4610   730     2 <===\n",
      "11 :   789  4611    59     1 :   789  4611    59     1 :   788  4610    60     2 :   790  4610    58     2 <===\n",
      "12 :   849  4611    43     1 :   849  4611    43     1 :   848  4610    44     2 :   850  4610    42     2 <===\n",
      "13 :   894  4611  1154     1 :   894  4611  1154     1 :   894  4610  1154     2 :   894  4610  1154     2 \n"
     ]
    }
   ],
   "source": [
    "import lsst.afw.image as afwImage\n",
    "import lsst.afw.detection as afwDetect\n",
    "import lsst.afw.geom as afwGeom\n",
    "import lsst.afw.display.ds9 as ds9\n",
    "from astropy.io import fits\n",
    "\n",
    "ccd = 1\n",
    "hdulist = fits.open('../2004B.mask.0.36.01.nn/ccd' + str(\"%02i\"%ccd) + '.fits')\n",
    "d = hdulist[1].data\n",
    "hdulistE = fits.open('../2004B.mask.0.36.01_enlarged.nn/ccd' + str(\"%02i\"%ccd) + '.fits')\n",
    "dE = hdulistE[1].data\n",
    "\n",
    "bb = afwGeom.Box2I(afwGeom.Point2I(32, 0), afwGeom.Point2I(2079, 4611))\n",
    "im = afwImage.ImageF('../2004B.mask.0.36.01.fits[' + str(ccd+1) + ']', bbox=bb, \n",
    "                           origin=afwImage.ImageOrigin.PARENT)\n",
    "print im.getXY0()\n",
    "im *= -1.\n",
    "im += 1.\n",
    "im *= 10.\n",
    "#ds9.mtv(im, frame=1)\n",
    "\n",
    "level = 2\n",
    "s = afwDetect.FootprintSet(im, afwDetect.Threshold(level, polarity=True))\n",
    "\n",
    "x0R = []\n",
    "y0R = []\n",
    "width = []\n",
    "height= []\n",
    "\n",
    "x0E = []\n",
    "y0E = []\n",
    "widthE = []\n",
    "heightE= []\n",
    "\n",
    "count = 1\n",
    "for f in s.getFootprints():\n",
    "    fpl = afwDetect.footprintToBBoxList(f)\n",
    "    for i in fpl:\n",
    "        i.shift(afwGeom.Extent2I(-32,0))\n",
    "        x0 = i.getBeginX()\n",
    "        y0 = i.getBeginY()\n",
    "        w0 = i.getWidth()\n",
    "        h0 = i.getHeight()\n",
    "        \n",
    "        x0R.append(x0)\n",
    "        y0R.append(y0)\n",
    "        width.append(w0)\n",
    "        height.append(h0)\n",
    "        \n",
    "        if (x0 % 2 == 0) :\n",
    "            x1 = x0\n",
    "            if (w0 % 2 == 0) :\n",
    "                w1 = w0\n",
    "            else :\n",
    "                w1 = w0 + 1\n",
    "        else :\n",
    "            x1 = max(x0 - 1, 0)\n",
    "            if (w0 % 2 == 0) :\n",
    "                w1 = min(w0 + 2, 2048)\n",
    "            else :\n",
    "                w1 = min(w0 + 1, 2048)\n",
    "        if (y0 % 2 == 0):\n",
    "            y1 = y0\n",
    "            if (h0 % 2 == 0) :\n",
    "                h1 = h0\n",
    "            else :\n",
    "                h1 = min(h0 + 1, 4612)\n",
    "        else :\n",
    "            y1 = max(y0 - 1, 0)\n",
    "            if (h0 % 2 == 0) :\n",
    "                h1 = min(h0 + 2, 4612)\n",
    "            else :\n",
    "                h1 = min(h0 + 1, 4612)\n",
    "        \n",
    "        o = dE[count-1]\n",
    "        if x1 != o[0] or y1 != o[1] or w1 != o[2] or h1 != o[3] :\n",
    "            st = \"<===\"\n",
    "        else :\n",
    "            st = \"\"\n",
    "            \n",
    "        print \"%2i : %5i %5i %5i %5i : %5i %5i %5i %5i : %5i %5i %5i %5i : %5i %5i %5i %5i %s\"%(count, x0, y0, w0, h0,\n",
    "            d[count-1][0], d[count-1][1], d[count-1][2], d[count-1][3],\n",
    "            x1, y1, w1, h1, dE[count-1][0], dE[count-1][1], dE[count-1][2], dE[count-1][3], st)\n",
    "        count += 1"
   ]
  },
  {
   "cell_type": "code",
   "execution_count": 57,
   "metadata": {
    "collapsed": false
   },
   "outputs": [
    {
     "name": "stdout",
     "output_type": "stream",
     "text": [
      "  894\n"
     ]
    }
   ],
   "source": [
    "print '%5i' %dE[count-2][0]"
   ]
  },
  {
   "cell_type": "code",
   "execution_count": 86,
   "metadata": {
    "collapsed": false
   },
   "outputs": [],
   "source": [
    "from astropy.io import fits\n",
    "import numpy as np\n",
    "\n",
    "col1 = fits.Column(name=\"x0\", format=\"I\", array=np.asarray(x0R))\n",
    "col2 = fits.Column(name=\"y0\", format=\"I\", array=np.asarray(y0R))\n",
    "col3 = fits.Column(name=\"width\", format=\"I\", array=np.asarray(width))\n",
    "col4 = fits.Column(name=\"height\", format=\"I\", array=np.asarray(height))\n",
    "\n",
    "tbhdr = fits.Header()\n",
    "tbhdr['SERIAL'] = hdulist[1].header['SERIAL']\n",
    "tbhdr['CDATE'] = hdulist[1].header['CDATE']\n",
    "\n",
    "cols = fits.ColDefs([col1, col2, col3, col4])\n",
    "tbhdu = fits.BinTableHDU.from_columns(cols, header=tbhdr)\n",
    "\n",
    "#tbhdu = fits.TableHDU(header=prihdr)\n",
    "\n",
    "#thdulist = fits.HDUList([prihdu, tbhdu])\n",
    "tbhdu.writeto('test.fits', overwrite=True)"
   ]
  },
  {
   "cell_type": "code",
   "execution_count": 75,
   "metadata": {
    "collapsed": false
   },
   "outputs": [
    {
     "name": "stdout",
     "output_type": "stream",
     "text": [
      " 835234 Fri May 16 00:29:53 2014\n"
     ]
    }
   ],
   "source": [
    "print hdulist[1].header['SERIAL'], hdulist[1].header['CDATE']"
   ]
  },
  {
   "cell_type": "code",
   "execution_count": 72,
   "metadata": {
    "collapsed": false
   },
   "outputs": [
    {
     "name": "stdout",
     "output_type": "stream",
     "text": [
      "XTENSION= 'BINTABLE'           / binary table extension                         BITPIX  =                    8 / array data type                                NAXIS   =                    2 / number of array dimensions                     NAXIS1  =                    8 / length of dimension 1                          NAXIS2  =                   13 / length of dimension 2                          PCOUNT  =                    0 / number of group parameters                     GCOUNT  =                    1 / number of groups                               TFIELDS =                    4 / number of table fields                         TTYPE1  = 'x0      '                                                            TFORM1  = 'I       '                                                            TTYPE2  = 'y0      '                                                            TFORM2  = 'I       '                                                            TTYPE3  = 'width   '                                                            TFORM3  = 'I       '                                                            TTYPE4  = 'height  '                                                            TFORM4  = 'I       '                                                            SERIAL  = '835234  '           / CDATE                                          NAME    = 'CFHT 1  '                                                            CDATE   = 'Fri May 16 00:29:53 2014'                                            END                                                                                                                                                                                                                                                                                                                                                                                                                                                                                                                                                                                                                                                                                                                                                                                                                                                                                                                                                                                                                                                                                                                                                                                                                                                                                                                                                                                                             \n"
     ]
    }
   ],
   "source": [
    "fits."
   ]
  },
  {
   "cell_type": "code",
   "execution_count": 11,
   "metadata": {
    "collapsed": false
   },
   "outputs": [
    {
     "name": "stdout",
     "output_type": "stream",
     "text": [
      "/home/boutigny/LSST/my_packages/obs_cfht/megacam/defects/test/.fits\n"
     ]
    }
   ],
   "source": [
    "import os\n",
    "\n",
    "a = os.path.join('/home/boutigny/LSST/my_packages/obs_cfht/megacam', 'defects', 'test', '.fits')\n",
    "print a"
   ]
  },
  {
   "cell_type": "code",
   "execution_count": null,
   "metadata": {
    "collapsed": true
   },
   "outputs": [],
   "source": []
  }
 ],
 "metadata": {
  "kernelspec": {
   "display_name": "Python 2",
   "language": "python",
   "name": "python2"
  },
  "language_info": {
   "codemirror_mode": {
    "name": "ipython",
    "version": 2
   },
   "file_extension": ".py",
   "mimetype": "text/x-python",
   "name": "python",
   "nbconvert_exporter": "python",
   "pygments_lexer": "ipython2",
   "version": "2.7.12"
  }
 },
 "nbformat": 4,
 "nbformat_minor": 0
}
