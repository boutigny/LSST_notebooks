{
 "cells": [
  {
   "cell_type": "markdown",
   "metadata": {},
   "source": [
    "### Print path names associated to a dataId"
   ]
  },
  {
   "cell_type": "code",
   "execution_count": 3,
   "metadata": {
    "collapsed": false
   },
   "outputs": [
    {
     "name": "stdout",
     "output_type": "stream",
     "text": [
      "/home/boutigny/LSST/CFHT/clusters/MACSJ2243.3-0935/output/calexp/08BO01/SCL-2241_P1/2008-09-02/r/calexp-1022062-00.f\n",
      "/home/boutigny/LSST/CFHT/clusters/MACSJ2243.3-0935/output/calexp/08BO01/SCL-2241_P1/2008-09-02/r/calexp-1022062-01.f\n",
      "/home/boutigny/LSST/CFHT/clusters/MACSJ2243.3-0935/output/calexp/08BO01/SCL-2241_P1/2008-09-02/r/calexp-1022062-02.f\n",
      "/home/boutigny/LSST/CFHT/clusters/MACSJ2243.3-0935/output/calexp/08BO01/SCL-2241_P1/2008-09-02/r/calexp-1022062-03.f\n",
      "/home/boutigny/LSST/CFHT/clusters/MACSJ2243.3-0935/output/calexp/08BO01/SCL-2241_P1/2008-09-02/r/calexp-1022062-04.f\n",
      "/home/boutigny/LSST/CFHT/clusters/MACSJ2243.3-0935/output/calexp/08BO01/SCL-2241_P1/2008-09-02/r/calexp-1022062-05.f\n",
      "/home/boutigny/LSST/CFHT/clusters/MACSJ2243.3-0935/output/calexp/08BO01/SCL-2241_P1/2008-09-02/r/calexp-1022062-06.f\n",
      "/home/boutigny/LSST/CFHT/clusters/MACSJ2243.3-0935/output/calexp/08BO01/SCL-2241_P1/2008-09-02/r/calexp-1022062-07.f\n",
      "/home/boutigny/LSST/CFHT/clusters/MACSJ2243.3-0935/output/calexp/08BO01/SCL-2241_P1/2008-09-02/r/calexp-1022062-08.f\n",
      "/home/boutigny/LSST/CFHT/clusters/MACSJ2243.3-0935/output/calexp/08BO01/SCL-2241_P1/2008-09-02/r/calexp-1022062-09.\n",
      "/home/boutigny/LSST/CFHT/clusters/MACSJ2243.3-0935/output/calexp/08BO01/SCL-2241_P1/2008-09-02/r/calexp-1022062-10.\n",
      "/home/boutigny/LSST/CFHT/clusters/MACSJ2243.3-0935/output/calexp/08BO01/SCL-2241_P1/2008-09-02/r/calexp-1022062-11.\n",
      "/home/boutigny/LSST/CFHT/clusters/MACSJ2243.3-0935/output/calexp/08BO01/SCL-2241_P1/2008-09-02/r/calexp-1022062-12.\n",
      "/home/boutigny/LSST/CFHT/clusters/MACSJ2243.3-0935/output/calexp/08BO01/SCL-2241_P1/2008-09-02/r/calexp-1022062-13.\n",
      "/home/boutigny/LSST/CFHT/clusters/MACSJ2243.3-0935/output/calexp/08BO01/SCL-2241_P1/2008-09-02/r/calexp-1022062-14.\n",
      "/home/boutigny/LSST/CFHT/clusters/MACSJ2243.3-0935/output/calexp/08BO01/SCL-2241_P1/2008-09-02/r/calexp-1022062-15.\n",
      "/home/boutigny/LSST/CFHT/clusters/MACSJ2243.3-0935/output/calexp/08BO01/SCL-2241_P1/2008-09-02/r/calexp-1022062-16.\n",
      "/home/boutigny/LSST/CFHT/clusters/MACSJ2243.3-0935/output/calexp/08BO01/SCL-2241_P1/2008-09-02/r/calexp-1022062-17.\n",
      "/home/boutigny/LSST/CFHT/clusters/MACSJ2243.3-0935/output/calexp/08BO01/SCL-2241_P1/2008-09-02/r/calexp-1022062-18.\n",
      "/home/boutigny/LSST/CFHT/clusters/MACSJ2243.3-0935/output/calexp/08BO01/SCL-2241_P1/2008-09-02/r/calexp-1022062-19.\n",
      "/home/boutigny/LSST/CFHT/clusters/MACSJ2243.3-0935/output/calexp/08BO01/SCL-2241_P1/2008-09-02/r/calexp-1022062-20.\n",
      "/home/boutigny/LSST/CFHT/clusters/MACSJ2243.3-0935/output/calexp/08BO01/SCL-2241_P1/2008-09-02/r/calexp-1022062-21.\n",
      "/home/boutigny/LSST/CFHT/clusters/MACSJ2243.3-0935/output/calexp/08BO01/SCL-2241_P1/2008-09-02/r/calexp-1022062-22.\n",
      "/home/boutigny/LSST/CFHT/clusters/MACSJ2243.3-0935/output/calexp/08BO01/SCL-2241_P1/2008-09-02/r/calexp-1022062-23.\n",
      "/home/boutigny/LSST/CFHT/clusters/MACSJ2243.3-0935/output/calexp/08BO01/SCL-2241_P1/2008-09-02/r/calexp-1022062-24.\n",
      "/home/boutigny/LSST/CFHT/clusters/MACSJ2243.3-0935/output/calexp/08BO01/SCL-2241_P1/2008-09-02/r/calexp-1022062-25.\n",
      "/home/boutigny/LSST/CFHT/clusters/MACSJ2243.3-0935/output/calexp/08BO01/SCL-2241_P1/2008-09-02/r/calexp-1022062-26.\n",
      "/home/boutigny/LSST/CFHT/clusters/MACSJ2243.3-0935/output/calexp/08BO01/SCL-2241_P1/2008-09-02/r/calexp-1022062-27.\n",
      "/home/boutigny/LSST/CFHT/clusters/MACSJ2243.3-0935/output/calexp/08BO01/SCL-2241_P1/2008-09-02/r/calexp-1022062-28.\n",
      "/home/boutigny/LSST/CFHT/clusters/MACSJ2243.3-0935/output/calexp/08BO01/SCL-2241_P1/2008-09-02/r/calexp-1022062-29.\n",
      "/home/boutigny/LSST/CFHT/clusters/MACSJ2243.3-0935/output/calexp/08BO01/SCL-2241_P1/2008-09-02/r/calexp-1022062-30.\n",
      "/home/boutigny/LSST/CFHT/clusters/MACSJ2243.3-0935/output/calexp/08BO01/SCL-2241_P1/2008-09-02/r/calexp-1022062-31.\n",
      "/home/boutigny/LSST/CFHT/clusters/MACSJ2243.3-0935/output/calexp/08BO01/SCL-2241_P1/2008-09-02/r/calexp-1022062-32.\n",
      "/home/boutigny/LSST/CFHT/clusters/MACSJ2243.3-0935/output/calexp/08BO01/SCL-2241_P1/2008-09-02/r/calexp-1022062-33.\n",
      "/home/boutigny/LSST/CFHT/clusters/MACSJ2243.3-0935/output/calexp/08BO01/SCL-2241_P1/2008-09-02/r/calexp-1022062-34.\n",
      "/home/boutigny/LSST/CFHT/clusters/MACSJ2243.3-0935/output/calexp/08BO01/SCL-2241_P1/2008-09-02/r/calexp-1022062-35.\n"
     ]
    }
   ],
   "source": [
    "import lsst.daf.persistence as dafPersist\n",
    "\n",
    "# Image identification keys\n",
    "visit = 1022062\n",
    "filter = 'r'\n",
    "\n",
    "datasetList = ['calexp']\n",
    "\n",
    "#setup butler - Replace path name by something suitable for you\n",
    "butler = dafPersist.Butler(\"/home/boutigny/LSST/CFHT/clusters/MACSJ2243.3-0935/output\")\n",
    "\n",
    "for name in datasetList :\n",
    "    for ccd in range(36) :\n",
    "        dataid = {'visit':visit, 'filter':filter, 'ccd':ccd}\n",
    "        path = butler.get(name + '_filename', dataid)\n",
    "        \n",
    "        n = len(str(ccd+1))+2\n",
    "        path = path[0][:-n]\n",
    "        print path"
   ]
  },
  {
   "cell_type": "code",
   "execution_count": null,
   "metadata": {
    "collapsed": false
   },
   "outputs": [],
   "source": []
  }
 ],
 "metadata": {
  "kernelspec": {
   "display_name": "Python 2",
   "language": "python",
   "name": "python2"
  },
  "language_info": {
   "codemirror_mode": {
    "name": "ipython",
    "version": 2
   },
   "file_extension": ".py",
   "mimetype": "text/x-python",
   "name": "python",
   "nbconvert_exporter": "python",
   "pygments_lexer": "ipython2",
   "version": "2.7.12"
  }
 },
 "nbformat": 4,
 "nbformat_minor": 0
}
