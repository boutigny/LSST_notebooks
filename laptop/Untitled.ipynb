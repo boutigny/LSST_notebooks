{
 "cells": [
  {
   "cell_type": "code",
   "execution_count": 4,
   "metadata": {
    "collapsed": false
   },
   "outputs": [
    {
     "name": "stdout",
     "output_type": "stream",
     "text": [
      "Using i band for reference flux\n",
      "[('i', 'i'), ('r', 'r'), ('u', 'u'), ('z', 'z'), ('g', 'g')]\n"
     ]
    }
   ],
   "source": [
    "import os\n",
    "import lsst.utils\n",
    "from lsst.meas.astrom.loadAstrometryNetObjects import LoadAstrometryNetObjectsTask\n",
    "from lsst.meas.astrom import AstrometryNetDataConfig\n",
    "\n",
    "\n",
    "# Get astrometry_net_data path\n",
    "anDir = lsst.utils.getPackageDir('astrometry_net_data')\n",
    "if anDir is None:\n",
    "    raise RuntimeError(\"astrometry_net_data is not setup\")\n",
    "\n",
    "andConfig = AstrometryNetDataConfig()\n",
    "andConfigPath = os.path.join(anDir, \"andConfig.py\")\n",
    "if not os.path.exists(andConfigPath):\n",
    "    raise RuntimeError(\"astrometry_net_data config file \\\"%s\\\" required but not found\" %andConfigPath)\n",
    "andConfig.load(andConfigPath)\n",
    "\n",
    "task = LoadAstrometryNetObjectsTask.ConfigClass()\n",
    "loader = LoadAstrometryNetObjectsTask(task)\n",
    "\n",
    "# Determine default filter associated to the catalog\n",
    "filt, mfilt = andConfig.magColumnMap.items()[0]\n",
    "print \"Using\", filt, \"band for reference flux\"\n",
    "\n",
    "print andConfig.magColumnMap.items()"
   ]
  },
  {
   "cell_type": "code",
   "execution_count": null,
   "metadata": {
    "collapsed": true
   },
   "outputs": [],
   "source": []
  }
 ],
 "metadata": {
  "kernelspec": {
   "display_name": "Python 2",
   "language": "python",
   "name": "python2"
  },
  "language_info": {
   "codemirror_mode": {
    "name": "ipython",
    "version": 2
   },
   "file_extension": ".py",
   "mimetype": "text/x-python",
   "name": "python",
   "nbconvert_exporter": "python",
   "pygments_lexer": "ipython2",
   "version": "2.7.10"
  }
 },
 "nbformat": 4,
 "nbformat_minor": 0
}
