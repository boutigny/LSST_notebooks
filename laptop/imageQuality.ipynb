{
 "metadata": {
  "name": ""
 },
 "nbformat": 3,
 "nbformat_minor": 0,
 "worksheets": [
  {
   "cells": [
    {
     "cell_type": "heading",
     "level": 3,
     "metadata": {},
     "source": [
      "Image quality estimator"
     ]
    },
    {
     "cell_type": "code",
     "collapsed": false,
     "input": [
      "import matplotlib\n",
      "import matplotlib.pylab as plt\n",
      "import lsst.daf.persistence as dafPersist\n",
      "import numpy as np\n",
      "import matplotlib\n",
      "import matplotlib.pylab as plt\n",
      "import lsst.afw.display.ds9 as ds9\n",
      "\n",
      "butler = dafPersist.Butler(\"/home/boutigny/CFHT/test_cfht/input\")\n",
      "dataid = {'visit':781219, 'filter':'r', 'ccd':25}\n",
      "\n",
      "exp = butler.get('raw', dataid)\n",
      "\n",
      "image = exp.getMaskedImage().getImage()\n",
      "\n",
      "ds9.mtv(image,frame=1)\n",
      "\n",
      "nim = image.getArray()\n",
      "print nim.shape[0], nim.shape[1]\n",
      "\n",
      "# Estimate background level\n",
      "hist, bin_edges = np.histogram(nim.ravel(),bins=300,range=(0.,5000.))\n",
      "imax = np.argmax(hist)\n",
      "print \"imax = \", imax, bin_edges[imax]\n",
      "min = bin_edges[imax]-100\n",
      "if min < 0 :\n",
      "\tmin = 0.\n",
      "max = bin_edges[imax]+100\n",
      "print min, max\n",
      "indx = np.where((nim.ravel()>min) & (nim.ravel()<max))\n",
      "bkg = nim.ravel()[indx]\n",
      "\t\t\n",
      "mean = np.mean(bkg, dtype=np.float64)\n",
      "sigma = np.std(bkg, dtype=np.float64)\n",
      "\t\t\n",
      "print \"background - Mean - Sigma \", mean, sigma\n",
      "nim = nim-mean\n",
      "\t\t\n",
      "#plt.clf()\n",
      "#plt.hist(bkg, bins=30)\n",
      "#plt.show()\n",
      "\n",
      "indx = np.where((nim > 10.0*sigma) & (nim < 40000))\n",
      "\n",
      "sumdiff = 0.\n",
      "norm = 0\n",
      "\n",
      "for k in range(0,indx[0].shape[0]) :\n",
      "    i = indx[0][k]\n",
      "    j = indx[1][k]\n",
      "    val = nim[i,j]\n",
      "    if i>50 and j>50 and i<nim.shape[0]-50 and j<nim.shape[1]-50 :\n",
      "        norm += 1\n",
      "        val1 = nim[i-1,j]\n",
      "        val2 = nim[i+1,j]\n",
      "        val3 = nim[i,j-1]\n",
      "        val4 = nim[i,j+1]\n",
      "        sumdiff = sumdiff+((val-val1)*2+(val-val2)**2+(val-val3)**2+(val-val4)**2)/val\n",
      "\t\t\t\t\t\n",
      "print sumdiff/norm, norm"
     ],
     "language": "python",
     "metadata": {},
     "outputs": []
    },
    {
     "cell_type": "heading",
     "level": 3,
     "metadata": {},
     "source": [
      "Check saturation level"
     ]
    },
    {
     "cell_type": "code",
     "collapsed": false,
     "input": [
      "import matplotlib\n",
      "import matplotlib.pylab as plt\n",
      "import lsst.daf.persistence as dafPersist\n",
      "import numpy as np\n",
      "import matplotlib\n",
      "import matplotlib.pylab as plt\n",
      "import lsst.afw.display.ds9 as ds9\n",
      "\n",
      "butler = dafPersist.Butler(\"/home/boutigny/CFHT/test_cfht/input\")\n",
      "dataid = {'visit':906805, 'filter':'u', 'ccd':20}\n",
      "\n",
      "exp = butler.get('raw', dataid, immediate=True)\n",
      "\n",
      "image = exp.getMaskedImage().getImage()\n",
      "ds9.mtv(image,frame=1)\n",
      "\n",
      "nim = image.getArray()\n",
      "print nim.shape[0], nim.shape[1]\n",
      "\n",
      "max = np.max(nim)\n",
      "print max, 0.95*max\n",
      "index = np.where(nim.ravel()>0.8*max)\n",
      "\n",
      "print exp.getMetadata().get(\"SATURATE\")\n",
      "\n",
      "hist, bin_edges = np.histogram(nim.ravel(),bins=300,range=(0.8*max,max+1.0))\n",
      "imax = np.argmax(hist)\n",
      "print \"imax = \", imax, bin_edges[imax+1]\n",
      "\n"
     ],
     "language": "python",
     "metadata": {},
     "outputs": [
      {
       "output_type": "stream",
       "stream": "stdout",
       "text": [
        "4644 2112\n",
        "79196.9 75237.0757812\n",
        "79274"
       ]
      },
      {
       "output_type": "stream",
       "stream": "stdout",
       "text": [
        "\n",
        "imax = "
       ]
      },
      {
       "output_type": "stream",
       "stream": "stdout",
       "text": [
        " 299 79197.921875\n"
       ]
      }
     ],
     "prompt_number": 49
    },
    {
     "cell_type": "code",
     "collapsed": false,
     "input": [
      "%matplotlib inline\n",
      "import cPickle as pickle\n",
      "import matplotlib\n",
      "import matplotlib.pylab as plt\n",
      "import numpy as np\n",
      "\n",
      "font = {'family' : 'serif',\n",
      "        'color'  : 'darkred',\n",
      "        'weight' : 'bold',\n",
      "        'size'   : 25,\n",
      "        }\n",
      "\n",
      "plt.clf()\n",
      "plt.rcParams['axes.linewidth'] = 2 \n",
      "plt.rcParams['mathtext.default'] = 'regular'\n",
      "fig, (ax) = plt.subplots(ncols=1, figsize=(15,10))\n",
      "\n",
      "ax.hist(nim.ravel()[index],bins=100)"
     ],
     "language": "python",
     "metadata": {},
     "outputs": [
      {
       "metadata": {},
       "output_type": "pyout",
       "prompt_number": 50,
       "text": [
        "(array([   1.,    0.,    0.,    0.,    1.,    0.,    0.,    0.,    0.,\n",
        "          1.,    1.,    0.,    0.,    0.,    0.,    0.,    0.,    0.,\n",
        "          1.,    1.,    0.,    1.,    0.,    0.,    0.,    0.,    0.,\n",
        "          0.,    0.,    0.,    0.,    0.,    0.,    0.,    0.,    0.,\n",
        "          0.,    0.,    0.,    2.,    0.,    2.,    1.,    0.,    0.,\n",
        "          0.,    0.,    0.,    0.,    0.,    0.,    0.,    0.,    0.,\n",
        "          0.,    0.,    0.,    0.,    0.,    0.,    0.,    0.,    1.,\n",
        "          0.,    0.,    0.,    0.,    0.,    0.,    0.,    0.,    1.,\n",
        "          0.,    0.,    0.,    1.,    0.,    0.,    1.,    0.,    0.,\n",
        "          1.,    0.,    0.,    0.,    0.,    0.,    0.,    2.,    1.,\n",
        "          1.,    0.,    1.,    2.,    3.,    3.,    4.,    3.,   10.,  197.]),\n",
        " array([ 65198.4296875 ,  65338.41460938,  65478.39953125,  65618.38445313,\n",
        "        65758.369375  ,  65898.35429687,  66038.33921875,  66178.32414063,\n",
        "        66318.3090625 ,  66458.29398438,  66598.27890625,  66738.26382812,\n",
        "        66878.24875   ,  67018.23367188,  67158.21859375,  67298.20351563,\n",
        "        67438.1884375 ,  67578.17335937,  67718.15828125,  67858.14320313,\n",
        "        67998.128125  ,  68138.11304688,  68278.09796875,  68418.08289062,\n",
        "        68558.0678125 ,  68698.05273438,  68838.03765625,  68978.02257813,\n",
        "        69118.0075    ,  69257.99242187,  69397.97734375,  69537.96226562,\n",
        "        69677.9471875 ,  69817.93210938,  69957.91703125,  70097.90195312,\n",
        "        70237.886875  ,  70377.87179687,  70517.85671875,  70657.84164063,\n",
        "        70797.8265625 ,  70937.81148437,  71077.79640625,  71217.78132812,\n",
        "        71357.76625   ,  71497.75117188,  71637.73609375,  71777.72101562,\n",
        "        71917.7059375 ,  72057.69085937,  72197.67578125,  72337.66070313,\n",
        "        72477.645625  ,  72617.63054688,  72757.61546875,  72897.60039062,\n",
        "        73037.5853125 ,  73177.57023438,  73317.55515625,  73457.54007812,\n",
        "        73597.525     ,  73737.50992187,  73877.49484375,  74017.47976563,\n",
        "        74157.4646875 ,  74297.44960938,  74437.43453125,  74577.41945312,\n",
        "        74717.404375  ,  74857.38929688,  74997.37421875,  75137.35914063,\n",
        "        75277.3440625 ,  75417.32898437,  75557.31390625,  75697.29882812,\n",
        "        75837.28375   ,  75977.26867188,  76117.25359375,  76257.23851562,\n",
        "        76397.2234375 ,  76537.20835937,  76677.19328125,  76817.17820313,\n",
        "        76957.163125  ,  77097.14804687,  77237.13296875,  77377.11789062,\n",
        "        77517.1028125 ,  77657.08773438,  77797.07265625,  77937.05757812,\n",
        "        78077.0425    ,  78217.02742187,  78357.01234375,  78496.99726563,\n",
        "        78636.9821875 ,  78776.96710937,  78916.95203125,  79056.93695312,\n",
        "        79196.921875  ]),\n",
        " <a list of 100 Patch objects>)"
       ]
      },
      {
       "metadata": {},
       "output_type": "display_data",
       "text": [
        "<matplotlib.figure.Figure at 0xa465790>"
       ]
      },
      {
       "metadata": {},
       "output_type": "display_data",
       "png": "[encoded data removed]",
       "text": [
        "<matplotlib.figure.Figure at 0xa465650>"
       ]
      }
     ],
     "prompt_number": 50
    },
    {
     "cell_type": "code",
     "collapsed": false,
     "input": [
      "print dir(image)\n",
      "print image.getBBox()\n",
      "print exp.getMetadata().get(\"SATURATE\")"
     ],
     "language": "python",
     "metadata": {},
     "outputs": [
      {
       "output_type": "stream",
       "stream": "stdout",
       "text": [
        "['Factory', '__add__', '__class__', '__del__', '__delattr__', '__dict__', '__div__', '__doc__', '__float__', '__format__', '__getattr__', '__getattribute__', '__getitem__', '__hash__', '__iadd__', '__idiv__', '__ilshift__', '__imul__', '__init__', '__int__', '__isub__', '__itruediv__', '__module__', '__mul__', '__new__', '__reduce__', '__reduce_ex__', '__repr__', '__setattr__', '__setitem__', '__sizeof__', '__str__', '__sub__', '__subclasshook__', '__swig_destroy__', '__swig_getmethods__', '__swig_setmethods__', '__truediv__', '__weakref__', '_s', 'census', 'clone', 'convertD', 'convertU', 'convertU16', 'get', 'get0', 'getArray', 'getBBox', 'getDimensions', 'getHeight', 'getId', 'getNextMemId', 'getWidth', 'getX0', 'getXY0', 'getY0', 'hasBeenCorrupted', 'indexToPosition', 'init', 'magicSentinel', 'markPersistent', 'positionToIndex', 'readFits', 'repr', 'scaledDivides', 'scaledMinus', 'scaledMultiplies', 'scaledPlus', 'set', 'set0', 'setCorruptionCallback', 'setDeleteCallback', 'setDeleteCallbackId', 'setNewCallback', 'setNewCallbackId', 'setXY0', 'sqrt', 'swigConvert', 'this', 'writeFits']\n",
        "Box2I((0, 0), (2111, 4643))\n",
        "70056\n"
       ]
      }
     ],
     "prompt_number": 27
    },
    {
     "cell_type": "code",
     "collapsed": false,
     "input": [],
     "language": "python",
     "metadata": {},
     "outputs": []
    }
   ],
   "metadata": {}
  }
 ]
}