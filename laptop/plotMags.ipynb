{
 "metadata": {
  "name": ""
 },
 "nbformat": 3,
 "nbformat_minor": 0,
 "worksheets": [
  {
   "cells": [
    {
     "cell_type": "code",
     "collapsed": false,
     "input": [
      "import matplotlib\n",
      "matplotlib.use('Agg')\n",
      "import matplotlib.pylab as plt\n",
      "\n",
      "from lsst.meas.astrom import Astrometry\n",
      "import lsst.daf.persistence as dafPersist\n",
      "import lsst.afw.geom as afwGeom\n",
      "import lsst.afw.cameraGeom as cg\n",
      "import lsst.afw.table as afwTable\n",
      "import lsst.afw.image as afwImage\n",
      "import numpy\n",
      "import math\n",
      "\n",
      "visit = 996717\n",
      "#visit = 805367\n",
      "filter = 'r'\n",
      "\n",
      "#visit = 1045888\n",
      "#filter = 'u'\n",
      "\n",
      "solve = Astrometry.ConfigClass()\n",
      "astrom = Astrometry(solve)\n",
      "butler = dafPersist.Butler('../output')\n",
      "\n",
      "cam = butler.get('camera')\n",
      "ccd14 = cam['ccd14']\n",
      "vId = {'visit':visit, 'ccd':14}\n",
      "calexp = butler.get(\"calexp\", vId, immediate=True)\n",
      "detCenter = ccd14.getCenter(cg.PIXELS).getPoint()\n",
      "detCenterCoord = calexp.getWcs().pixelToSky(detCenter)\n",
      "refCat = astrom.getReferenceSources(detCenterCoord.getLongitude(), detCenterCoord.getLatitude(), afwGeom.Angle(1., afwGeom.degrees), filter)\n",
      "\n",
      "def mkmag(flux):\n",
      "    return -2.5*math.log(flux)/math.log(10.)\n",
      "\n",
      "diffpsf = []\n",
      "diffnaive = []\n",
      "diffsinc = []\n",
      "mags = []\n",
      "mag_center = []\n",
      "mag_border = []\n",
      "diffpsf_center = []\n",
      "diffpsf_border = []\n",
      "\n",
      "center = [11, 12, 13, 14, 15, 20, 21, 22, 23, 24]\n",
      "border = [0, 1, 2, 3, 4, 5, 6, 7, 8, 17, 26, 35, 34, 33, 32, 31, 30, 29, 28, 27, 18, 9]\n",
      "\n",
      "#for ccd in [12, 13, 14, 21, 22, 23]:\n",
      "#for ccd in [0, 8, 27, 35] :\n",
      "#for ccd in [2, 3, 4, 5, 29, 30, 31, 32] :\n",
      "for ccd in range(0,36) :\n",
      "#    if ccd == 2 :\n",
      "#        continue\n",
      "    vId = {'visit':visit,'ccd':ccd}\n",
      "    src = butler.get('src', vId, immediate=True)\n",
      "    # calexp_md : metadata\n",
      "    md = butler.get(\"calexp_md\", vId, immediate=True)\n",
      "    calib = afwImage.Calib(md)\n",
      "    match = afwTable.matchRaDec(refCat, src, afwGeom.Angle(1./3600., afwGeom.degrees))\n",
      "    count = 0\n",
      "    for m in match:\n",
      "        if m.first.get('stargal') and m.second.get('classification.extendedness') < 1.0:\n",
      "            if filter == 'u' :\n",
      "                mag = mkmag(m.first.get('u')) - 0.241*(mkmag(m.first.get('u')) - mkmag(m.first.get('g')))\n",
      "            elif filter == 'i' :\n",
      "               mag = mkmag(m.first.get('i')) - 0.085*(mkmag(m.first.get('r')) - mkmag(m.first.get('i')))\n",
      "            elif filter == 'r' :\n",
      "                mag = mkmag(m.first.get('r')) - 0.024*(mkmag(m.first.get('g')) - mkmag(m.first.get('r')))\n",
      "#                mag = mkmag(m.first.get('r')) - 0.030*(mkmag(m.first.get('r')) - mkmag(m.first.get('i')))\n",
      "            diffpsf.append(mag - calib.getMagnitude(m.second.get('flux.psf')))\n",
      "            diffnaive.append(mag - calib.getMagnitude(m.second.get('flux.naive')))\n",
      "            diffsinc.append(mag - calib.getMagnitude(m.second.get('flux.sinc')))\n",
      "            mags.append(mag)\n",
      "            \n",
      "            if ccd in center :\n",
      "                mag_center.append(mag)\n",
      "                diffpsf_center.append(mag - calib.getMagnitude(m.second.get('flux.psf')))\n",
      "            if ccd in border :\n",
      "                mag_border.append(mag)\n",
      "                diffpsf_border.append(mag - calib.getMagnitude(m.second.get('flux.psf')))\n",
      "                \n",
      "            count += 1\n",
      "    print \"ccd : \",ccd,\" number of matches :\",count\n",
      "print \"Total number of matches :\", len(mags)\n",
      "\n",
      "def plotMag(mags, diff, xrange, yrange, filename):\n",
      "    plt.scatter(mags, diff)\n",
      "    plt.xlabel(\"r\")\n",
      "    plt.ylabel(\"$\\Delta$ r\")\n",
      "    plt.xlim(xrange)\n",
      "    plt.ylim(yrange)\n",
      "    plt.suptitle(\" \")\n",
      "    plt.savefig(filename)\n",
      "    plt.clf()\n",
      "    \n",
      "xrange=[17., 21.]\n",
      "yrange=[-1.,1.]\n",
      "plt.clf()\n",
      "plotMag(mags, diffpsf, xrange, yrange, 'mags_psf.png')\n",
      "plotMag(mags, diffnaive, xrange, yrange, 'mags_naive.png')\n",
      "plotMag(mags, diffsinc, xrange, yrange, 'mags_sinc.png')\n",
      "xrange=[17.,21.]\n",
      "yrange=[-0.3,0.3]\n",
      "plotMag(mags, diffpsf, xrange, yrange, 'mags_psf_zoom.png')\n",
      "plotMag(mags, diffnaive, xrange, yrange, 'mags_naive_zoom.png')\n",
      "plotMag(mags, diffsinc, xrange, yrange, 'mags_sinc_zoom.png')\n",
      "\n",
      "magmax = 21.\n",
      "idxs = numpy.where(numpy.asarray(mags) < magmax)\n",
      "diffpsf = numpy.asarray(diffpsf)\n",
      "diffnaive = numpy.asarray(diffnaive)\n",
      "diffsinc = numpy.asarray(diffsinc)\n",
      "plt.hist(diffpsf[idxs], bins=300)\n",
      "plt.xlabel(\"$\\Delta$ r\")\n",
      "plt.ylabel(\"Number\")\n",
      "plt.xlim([-0.3, 0.3])\n",
      "plt.suptitle(\"r < %f -- $\\sigma$ = %.3f\"%(magmax, numpy.std(diffpsf[idxs])))\n",
      "plt.savefig(\"mags_hist.png\")\n",
      "\n",
      "q1 = numpy.percentile(diffpsf[idxs], 25.)\n",
      "q2 = numpy.percentile(diffpsf[idxs], 75.)\n",
      "print 0.741*(q2-q1)\n",
      "q1 = numpy.percentile(diffnaive[idxs], 25.)\n",
      "q2 = numpy.percentile(diffnaive[idxs], 75.)\n",
      "print 0.741*(q2-q1)\n",
      "q1 = numpy.percentile(diffsinc[idxs], 25.)\n",
      "q2 = numpy.percentile(diffsinc[idxs], 75.)\n",
      "print 0.741*(q2-q1)\n",
      "print numpy.mean(diffpsf[idxs])\n",
      "\n",
      "plt.clf()\n",
      "plt.scatter(mag_center, diffpsf_center, color='red')\n",
      "plt.scatter(mag_border, diffpsf_border, color='blue')\n",
      "plt.xlabel(\"r\")\n",
      "plt.ylabel(\"$\\Delta$ r\")\n",
      "plt.xlim([17,21])\n",
      "plt.ylim([-0.5,0.5])\n",
      "plt.suptitle(\" \")\n",
      "plt.savefig('mags_border_center.png')\n",
      "plt.clf()\n"
     ],
     "language": "python",
     "metadata": {},
     "outputs": [
      {
       "output_type": "stream",
       "stream": "stdout",
       "text": [
        "ccd :  0  number of matches : 53\n",
        "ccd : "
       ]
      },
      {
       "output_type": "stream",
       "stream": "stdout",
       "text": [
        " 1  number of matches : 63\n",
        "ccd : "
       ]
      },
      {
       "output_type": "stream",
       "stream": "stdout",
       "text": [
        " 2  number of matches : 55\n",
        "ccd : "
       ]
      },
      {
       "output_type": "stream",
       "stream": "stdout",
       "text": [
        " 3  number of matches : 43\n",
        "ccd : "
       ]
      },
      {
       "output_type": "stream",
       "stream": "stdout",
       "text": [
        " 4  number of matches : 45\n",
        "ccd : "
       ]
      },
      {
       "output_type": "stream",
       "stream": "stdout",
       "text": [
        " 5  number of matches : 49\n",
        "ccd : "
       ]
      },
      {
       "output_type": "stream",
       "stream": "stdout",
       "text": [
        " 6  number of matches : 66\n",
        "ccd : "
       ]
      },
      {
       "output_type": "stream",
       "stream": "stdout",
       "text": [
        " 7  number of matches : 57\n",
        "ccd : "
       ]
      },
      {
       "output_type": "stream",
       "stream": "stdout",
       "text": [
        " 8  number of matches : 63\n",
        "ccd : "
       ]
      },
      {
       "output_type": "stream",
       "stream": "stdout",
       "text": [
        " 9  number of matches : 63\n",
        "ccd : "
       ]
      },
      {
       "output_type": "stream",
       "stream": "stdout",
       "text": [
        " 10  number of matches : 64\n",
        "ccd : "
       ]
      },
      {
       "output_type": "stream",
       "stream": "stdout",
       "text": [
        " 11  number of matches : 70\n",
        "ccd : "
       ]
      },
      {
       "output_type": "stream",
       "stream": "stdout",
       "text": [
        " 12  number of matches : 24\n",
        "ccd : "
       ]
      },
      {
       "output_type": "stream",
       "stream": "stdout",
       "text": [
        " 13  number of matches : 73\n",
        "ccd : "
       ]
      },
      {
       "output_type": "stream",
       "stream": "stdout",
       "text": [
        " 14  number of matches : 42\n",
        "ccd : "
       ]
      },
      {
       "output_type": "stream",
       "stream": "stdout",
       "text": [
        " 15  number of matches : 51\n",
        "ccd : "
       ]
      },
      {
       "output_type": "stream",
       "stream": "stdout",
       "text": [
        " 16  number of matches : 46\n",
        "ccd : "
       ]
      },
      {
       "output_type": "stream",
       "stream": "stdout",
       "text": [
        " 17  number of matches : 50\n",
        "ccd : "
       ]
      }
     ],
     "prompt_number": "*"
    },
    {
     "cell_type": "code",
     "collapsed": false,
     "input": [],
     "language": "python",
     "metadata": {},
     "outputs": [],
     "prompt_number": 1
    },
    {
     "cell_type": "code",
     "collapsed": false,
     "input": [],
     "language": "python",
     "metadata": {},
     "outputs": []
    }
   ],
   "metadata": {}
  }
 ]
}