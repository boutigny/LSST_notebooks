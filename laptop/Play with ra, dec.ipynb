{
 "cells": [
  {
   "cell_type": "code",
   "execution_count": 3,
   "metadata": {
    "collapsed": false
   },
   "outputs": [],
   "source": [
    "%matplotlib inline\n",
    "\n",
    "import lsst.daf.persistence as dafPersist\n",
    "import lsst.afw.image as afwImage\n",
    "import lsst.afw.display.ds9 as ds9\n",
    "import numpy as np\n",
    "import math\n",
    "\n",
    "import matplotlib\n",
    "import matplotlib.pylab as plt\n",
    "\n",
    "butler = dafPersist.Butler(\"/home/boutigny/CFHT/test_cfht/output\")\n",
    "\n",
    "raT = []\n",
    "decT = []\n",
    "for ccd in range(0,36) :\n",
    "    dataid = {'visit':849375, 'filter':'r', 'ccd':ccd}\n",
    "\n",
    "    exp = butler.get('calexp', dataid)\n",
    "    wcs = exp.getWcs()\n",
    "    x0, y0 = exp.getXY0()\n",
    "\n",
    "    ra, dec = wcs.pixelToSky(x0,y0)\n",
    "\n",
    "#    print math.degrees(ra), math.degrees(dec)\n",
    "    raT.append(math.degrees(ra))\n",
    "    decT.append(math.degrees(dec))"
   ]
  },
  {
   "cell_type": "code",
   "execution_count": 26,
   "metadata": {
    "collapsed": false
   },
   "outputs": [
    {
     "ename": "FitsError",
     "evalue": "\n  File \"src/fits.cc\", line 1071, in lsst::afw::fits::Fits::Fits(const std::string&, const std::string&, int)\n    cfitsio error: could not open the named file (104) : Opening file '/home/boutigny/CFHT/test_cfht/output/calexp/04BL01/D3/2004-08-11/r/calexp-757222-00.fits' with mode 'r' {0}\nlsst::afw::fits::FitsError: 'cfitsio error: could not open the named file (104) : Opening file '/home/boutigny/CFHT/test_cfht/output/calexp/04BL01/D3/2004-08-11/r/calexp-757222-00.fits' with mode 'r''\n",
     "output_type": "error",
     "traceback": [
      "\u001b[1;31m---------------------------------------------------------------------------\u001b[0m\n\u001b[1;31mFitsError\u001b[0m                                 Traceback (most recent call last)",
      "\u001b[1;32m<ipython-input-26-c8470e3ce430>\u001b[0m in \u001b[0;36m<module>\u001b[1;34m()\u001b[0m\n\u001b[0;32m     10\u001b[0m     \u001b[0mdataid\u001b[0m \u001b[1;33m=\u001b[0m \u001b[1;33m{\u001b[0m\u001b[1;34m'visit'\u001b[0m\u001b[1;33m:\u001b[0m\u001b[0mvisit\u001b[0m\u001b[1;33m,\u001b[0m \u001b[1;34m'filter'\u001b[0m\u001b[1;33m:\u001b[0m\u001b[1;34m'r'\u001b[0m\u001b[1;33m,\u001b[0m \u001b[1;34m'ccd'\u001b[0m\u001b[1;33m:\u001b[0m\u001b[1;36m0\u001b[0m\u001b[1;33m}\u001b[0m\u001b[1;33m\u001b[0m\u001b[0m\n\u001b[0;32m     11\u001b[0m     \u001b[0mexp\u001b[0m \u001b[1;33m=\u001b[0m \u001b[0mbutler\u001b[0m\u001b[1;33m.\u001b[0m\u001b[0mget\u001b[0m\u001b[1;33m(\u001b[0m\u001b[1;34m'calexp'\u001b[0m\u001b[1;33m,\u001b[0m \u001b[0mdataid\u001b[0m\u001b[1;33m)\u001b[0m\u001b[1;33m\u001b[0m\u001b[0m\n\u001b[1;32m---> 12\u001b[1;33m     \u001b[0mwcs\u001b[0m \u001b[1;33m=\u001b[0m \u001b[0mexp\u001b[0m\u001b[1;33m.\u001b[0m\u001b[0mgetWcs\u001b[0m\u001b[1;33m(\u001b[0m\u001b[1;33m)\u001b[0m\u001b[1;33m\u001b[0m\u001b[0m\n\u001b[0m\u001b[0;32m     13\u001b[0m     \u001b[0mx0\u001b[0m\u001b[1;33m,\u001b[0m \u001b[0my0\u001b[0m \u001b[1;33m=\u001b[0m \u001b[0mexp\u001b[0m\u001b[1;33m.\u001b[0m\u001b[0mgetXY0\u001b[0m\u001b[1;33m(\u001b[0m\u001b[1;33m)\u001b[0m\u001b[1;33m\u001b[0m\u001b[0m\n\u001b[0;32m     14\u001b[0m     \u001b[0mra\u001b[0m\u001b[1;33m,\u001b[0m \u001b[0mdec\u001b[0m \u001b[1;33m=\u001b[0m \u001b[0mwcs\u001b[0m\u001b[1;33m.\u001b[0m\u001b[0mpixelToSky\u001b[0m\u001b[1;33m(\u001b[0m\u001b[0mx0\u001b[0m\u001b[1;33m,\u001b[0m\u001b[0my0\u001b[0m\u001b[1;33m)\u001b[0m\u001b[1;33m\u001b[0m\u001b[0m\n",
      "\u001b[1;32m/home/boutigny/CFHT/stack_master/Linux64/daf_persistence/master-g0d9f6bd099+09d150dab6/python/lsst/daf/persistence/readProxy.pyc\u001b[0m in \u001b[0;36m__getattribute__\u001b[1;34m(self, attr, oga)\u001b[0m\n\u001b[0;32m     39\u001b[0m \u001b[1;33m\u001b[0m\u001b[0m\n\u001b[0;32m     40\u001b[0m     \u001b[1;32mdef\u001b[0m \u001b[0m__getattribute__\u001b[0m\u001b[1;33m(\u001b[0m\u001b[0mself\u001b[0m\u001b[1;33m,\u001b[0m \u001b[0mattr\u001b[0m\u001b[1;33m,\u001b[0m \u001b[0moga\u001b[0m\u001b[1;33m=\u001b[0m\u001b[0mobject\u001b[0m\u001b[1;33m.\u001b[0m\u001b[0m__getattribute__\u001b[0m\u001b[1;33m)\u001b[0m\u001b[1;33m:\u001b[0m\u001b[1;33m\u001b[0m\u001b[0m\n\u001b[1;32m---> 41\u001b[1;33m         \u001b[0msubject\u001b[0m \u001b[1;33m=\u001b[0m \u001b[0moga\u001b[0m\u001b[1;33m(\u001b[0m\u001b[0mself\u001b[0m\u001b[1;33m,\u001b[0m \u001b[1;34m'__subject__'\u001b[0m\u001b[1;33m)\u001b[0m\u001b[1;33m\u001b[0m\u001b[0m\n\u001b[0m\u001b[0;32m     42\u001b[0m         \u001b[1;32mif\u001b[0m \u001b[0mattr\u001b[0m \u001b[1;33m==\u001b[0m \u001b[1;34m'__subject__'\u001b[0m\u001b[1;33m:\u001b[0m\u001b[1;33m\u001b[0m\u001b[0m\n\u001b[0;32m     43\u001b[0m             \u001b[1;32mreturn\u001b[0m \u001b[0msubject\u001b[0m\u001b[1;33m\u001b[0m\u001b[0m\n",
      "\u001b[1;32m/home/boutigny/CFHT/stack_master/Linux64/daf_persistence/master-g0d9f6bd099+09d150dab6/python/lsst/daf/persistence/readProxy.pyc\u001b[0m in \u001b[0;36m__subject__\u001b[1;34m(self, get_cache, set_cache)\u001b[0m\n\u001b[0;32m    134\u001b[0m         \u001b[1;32mreturn\u001b[0m \u001b[0mget_cache\u001b[0m\u001b[1;33m(\u001b[0m\u001b[0mself\u001b[0m\u001b[1;33m)\u001b[0m\u001b[1;33m\u001b[0m\u001b[0m\n\u001b[0;32m    135\u001b[0m     \u001b[1;32mexcept\u001b[0m \u001b[0mAttributeError\u001b[0m\u001b[1;33m:\u001b[0m\u001b[1;33m\u001b[0m\u001b[0m\n\u001b[1;32m--> 136\u001b[1;33m         \u001b[0mset_cache\u001b[0m\u001b[1;33m(\u001b[0m\u001b[0mself\u001b[0m\u001b[1;33m,\u001b[0m \u001b[0mget_callback\u001b[0m\u001b[1;33m(\u001b[0m\u001b[0mself\u001b[0m\u001b[1;33m)\u001b[0m\u001b[1;33m(\u001b[0m\u001b[1;33m)\u001b[0m\u001b[1;33m)\u001b[0m\u001b[1;33m\u001b[0m\u001b[0m\n\u001b[0m\u001b[0;32m    137\u001b[0m         \u001b[1;32mreturn\u001b[0m \u001b[0mget_cache\u001b[0m\u001b[1;33m(\u001b[0m\u001b[0mself\u001b[0m\u001b[1;33m)\u001b[0m\u001b[1;33m\u001b[0m\u001b[0m\n\u001b[0;32m    138\u001b[0m \u001b[1;33m\u001b[0m\u001b[0m\n",
      "\u001b[1;32m/home/boutigny/CFHT/stack_master/Linux64/daf_persistence/master-g0d9f6bd099+09d150dab6/python/lsst/daf/persistence/butler.pyc\u001b[0m in \u001b[0;36m<lambda>\u001b[1;34m()\u001b[0m\n\u001b[0;32m    240\u001b[0m             \u001b[0minnerCallback\u001b[0m \u001b[1;33m=\u001b[0m \u001b[0mcallback\u001b[0m\u001b[1;33m\u001b[0m\u001b[0m\n\u001b[0;32m    241\u001b[0m             callback = lambda: self.mapper.standardize(datasetType,\n\u001b[1;32m--> 242\u001b[1;33m                     innerCallback(), dataId)\n\u001b[0m\u001b[0;32m    243\u001b[0m         \u001b[1;32mif\u001b[0m \u001b[0mimmediate\u001b[0m\u001b[1;33m:\u001b[0m\u001b[1;33m\u001b[0m\u001b[0m\n\u001b[0;32m    244\u001b[0m             \u001b[1;32mreturn\u001b[0m \u001b[0mcallback\u001b[0m\u001b[1;33m(\u001b[0m\u001b[1;33m)\u001b[0m\u001b[1;33m\u001b[0m\u001b[0m\n",
      "\u001b[1;32m/home/boutigny/CFHT/stack_master/Linux64/daf_persistence/master-g0d9f6bd099+09d150dab6/python/lsst/daf/persistence/butler.pyc\u001b[0m in \u001b[0;36m<lambda>\u001b[1;34m()\u001b[0m\n\u001b[0;32m    236\u001b[0m                     location, dataId)\n\u001b[0;32m    237\u001b[0m         \u001b[1;32melse\u001b[0m\u001b[1;33m:\u001b[0m\u001b[1;33m\u001b[0m\u001b[0m\n\u001b[1;32m--> 238\u001b[1;33m             \u001b[0mcallback\u001b[0m \u001b[1;33m=\u001b[0m \u001b[1;32mlambda\u001b[0m\u001b[1;33m:\u001b[0m \u001b[0mself\u001b[0m\u001b[1;33m.\u001b[0m\u001b[0m_read\u001b[0m\u001b[1;33m(\u001b[0m\u001b[0mpythonType\u001b[0m\u001b[1;33m,\u001b[0m \u001b[0mlocation\u001b[0m\u001b[1;33m)\u001b[0m\u001b[1;33m\u001b[0m\u001b[0m\n\u001b[0m\u001b[0;32m    239\u001b[0m         \u001b[1;32mif\u001b[0m \u001b[0mself\u001b[0m\u001b[1;33m.\u001b[0m\u001b[0mmapper\u001b[0m\u001b[1;33m.\u001b[0m\u001b[0mcanStandardize\u001b[0m\u001b[1;33m(\u001b[0m\u001b[0mdatasetType\u001b[0m\u001b[1;33m)\u001b[0m\u001b[1;33m:\u001b[0m\u001b[1;33m\u001b[0m\u001b[0m\n\u001b[0;32m    240\u001b[0m             \u001b[0minnerCallback\u001b[0m \u001b[1;33m=\u001b[0m \u001b[0mcallback\u001b[0m\u001b[1;33m\u001b[0m\u001b[0m\n",
      "\u001b[1;32m/home/boutigny/CFHT/stack_master/Linux64/daf_persistence/master-g0d9f6bd099+09d150dab6/python/lsst/daf/persistence/butler.pyc\u001b[0m in \u001b[0;36m_read\u001b[1;34m(self, pythonType, location)\u001b[0m\n\u001b[0;32m    424\u001b[0m                 \u001b[0mstorageList\u001b[0m\u001b[1;33m.\u001b[0m\u001b[0mappend\u001b[0m\u001b[1;33m(\u001b[0m\u001b[0mstorage\u001b[0m\u001b[1;33m)\u001b[0m\u001b[1;33m\u001b[0m\u001b[0m\n\u001b[0;32m    425\u001b[0m                 itemData = self.persistence.unsafeRetrieve(\n\u001b[1;32m--> 426\u001b[1;33m                         location.getCppType(), storageList, additionalData)\n\u001b[0m\u001b[0;32m    427\u001b[0m                 \u001b[0mfinalItem\u001b[0m \u001b[1;33m=\u001b[0m \u001b[0mpythonType\u001b[0m\u001b[1;33m.\u001b[0m\u001b[0mswigConvert\u001b[0m\u001b[1;33m(\u001b[0m\u001b[0mitemData\u001b[0m\u001b[1;33m)\u001b[0m\u001b[1;33m\u001b[0m\u001b[0m\n\u001b[0;32m    428\u001b[0m             \u001b[0mtrace\u001b[0m\u001b[1;33m.\u001b[0m\u001b[0mdone\u001b[0m\u001b[1;33m(\u001b[0m\u001b[1;33m)\u001b[0m\u001b[1;33m\u001b[0m\u001b[0m\n",
      "\u001b[1;32m/home/boutigny/CFHT/stack_master/Linux64/daf_persistence/master-g0d9f6bd099+09d150dab6/python/lsst/daf/persistence/persistenceLib.pyc\u001b[0m in \u001b[0;36munsafeRetrieve\u001b[1;34m(self, *args)\u001b[0m\n\u001b[0;32m   1428\u001b[0m     \u001b[1;32mdef\u001b[0m \u001b[0munsafeRetrieve\u001b[0m\u001b[1;33m(\u001b[0m\u001b[0mself\u001b[0m\u001b[1;33m,\u001b[0m \u001b[1;33m*\u001b[0m\u001b[0margs\u001b[0m\u001b[1;33m)\u001b[0m\u001b[1;33m:\u001b[0m\u001b[1;33m\u001b[0m\u001b[0m\n\u001b[0;32m   1429\u001b[0m         \u001b[1;34m\"\"\"unsafeRetrieve(Persistence self, std::string const & persistableType, StorageList storageList, lsst::daf::base::PropertySet::Ptr additionalData) -> Persistable\"\"\"\u001b[0m\u001b[1;33m\u001b[0m\u001b[0m\n\u001b[1;32m-> 1430\u001b[1;33m         \u001b[1;32mreturn\u001b[0m \u001b[0m_persistenceLib\u001b[0m\u001b[1;33m.\u001b[0m\u001b[0mPersistence_unsafeRetrieve\u001b[0m\u001b[1;33m(\u001b[0m\u001b[0mself\u001b[0m\u001b[1;33m,\u001b[0m \u001b[1;33m*\u001b[0m\u001b[0margs\u001b[0m\u001b[1;33m)\u001b[0m\u001b[1;33m\u001b[0m\u001b[0m\n\u001b[0m\u001b[0;32m   1431\u001b[0m \u001b[1;33m\u001b[0m\u001b[0m\n\u001b[0;32m   1432\u001b[0m     \u001b[1;32mdef\u001b[0m \u001b[0mgetPersistence\u001b[0m\u001b[1;33m(\u001b[0m\u001b[1;33m*\u001b[0m\u001b[0margs\u001b[0m\u001b[1;33m)\u001b[0m\u001b[1;33m:\u001b[0m\u001b[1;33m\u001b[0m\u001b[0m\n",
      "\u001b[1;31mFitsError\u001b[0m: \n  File \"src/fits.cc\", line 1071, in lsst::afw::fits::Fits::Fits(const std::string&, const std::string&, int)\n    cfitsio error: could not open the named file (104) : Opening file '/home/boutigny/CFHT/test_cfht/output/calexp/04BL01/D3/2004-08-11/r/calexp-757222-00.fits' with mode 'r' {0}\nlsst::afw::fits::FitsError: 'cfitsio error: could not open the named file (104) : Opening file '/home/boutigny/CFHT/test_cfht/output/calexp/04BL01/D3/2004-08-11/r/calexp-757222-00.fits' with mode 'r''\n"
     ]
    }
   ],
   "source": [
    "import os\n",
    "\n",
    "D3 = \"/home/boutigny/CFHT/test_cfht/rawDownload/D3\"\n",
    "butler = dafPersist.Butler(\"/home/boutigny/CFHT/test_cfht/output\")\n",
    "\n",
    "raT = []\n",
    "decT = []\n",
    "for file in os.listdir(D3) :\n",
    "    visit = int(file.split(\"p.fits\")[0])\n",
    "    dataid = {'visit':visit, 'filter':'r', 'ccd':0}\n",
    "    exp = butler.get('calexp', dataid)\n",
    "    wcs = exp.getWcs()\n",
    "    x0, y0 = exp.getXY0()\n",
    "    ra, dec = wcs.pixelToSky(x0,y0)\n",
    "\n",
    "#    print math.degrees(ra), math.degrees(dec)\n",
    "    raT.append(math.degrees(ra))\n",
    "    decT.append(math.degrees(dec))"
   ]
  },
  {
   "cell_type": "code",
   "execution_count": 4,
   "metadata": {
    "collapsed": false
   },
   "outputs": [
    {
     "data": {
      "image/png": "[encoded data removed]",
      "text/plain": [
       "<matplotlib.figure.Figure at 0x5dfae50>"
      ]
     },
     "metadata": {},
     "output_type": "display_data"
    }
   ],
   "source": [
    "plt.clf()\n",
    "plt.scatter(raT, decT)\n",
    "plt.show()"
   ]
  },
  {
   "cell_type": "code",
   "execution_count": 12,
   "metadata": {
    "collapsed": false
   },
   "outputs": [
    {
     "name": "stdout",
     "output_type": "stream",
     "text": [
      "Bad astrometry 850587 27 368.23613524\n",
      "Bad astrometry 996717 35 589.861942158\n",
      "[3.76102 rad 3.76406 rad 3.76099 rad 3.76402 rad 3.73567 rad 3.73871 rad\n",
      " 3.73566 rad 3.7387 rad 3.73885 rad 3.73588 rad 3.73878 rad 3.73578 rad\n",
      " 3.7613 rad 3.76434 rad 3.76128 rad 3.76432 rad 3.73595 rad 3.73899 rad\n",
      " 3.73596 rad 3.73899 rad 3.76404 rad 3.76108 rad 3.76413 rad 3.76113 rad\n",
      " 3.73921 rad 3.73624 rad 3.73912 rad 3.73612 rad 3.76146 rad 3.7645 rad\n",
      " 3.76144 rad 3.76448 rad 3.7361 rad 3.73914 rad 3.7361 rad 3.73913 rad\n",
      " 3.76413 rad 3.76115 rad 3.76427 rad 3.76127 rad 3.73933 rad 3.73636 rad\n",
      " 3.73924 rad 3.73624 rad 3.76115 rad 3.76419 rad 3.76111 rad 3.76415 rad\n",
      " 3.73577 rad 3.73882 rad 3.73576 rad 3.7388 rad 3.76376 rad 3.76079 rad\n",
      " 3.76392 rad 3.76092 rad 3.73891 rad 3.73589 rad 3.73908 rad 3.73599 rad\n",
      " 3.76111 rad 3.76415 rad 3.76109 rad 3.76413 rad 3.73573 rad 3.73877 rad\n",
      " 3.73574 rad 3.73878 rad 3.76381 rad 3.76083 rad 3.76394 rad 3.76094 rad\n",
      " 3.73895 rad 3.73593 rad 3.7391 rad 3.73601 rad 3.76115 rad 3.7642 rad\n",
      " 3.76115 rad 3.76419 rad 3.73578 rad 3.73882 rad 3.7358 rad 3.73884 rad\n",
      " 3.7639 rad 3.76093 rad 3.76403 rad 3.76102 rad 3.73904 rad 3.73602 rad\n",
      " 3.73917 rad 3.7361 rad 3.76126 rad 3.7643 rad 3.76123 rad 3.76427 rad\n",
      " 3.7359 rad 3.73893 rad 3.73589 rad 3.73893 rad 3.76392 rad 3.76095 rad\n",
      " 3.76406 rad 3.76107 rad]\n",
      "214.03765012 52.1554412755 215.690194823 53.2031404625\n"
     ]
    }
   ],
   "source": [
    "import lsst.daf.persistence as dafPersist\n",
    "import lsst.afw.image as afwImage\n",
    "import lsst.meas.algorithms as measAlg\n",
    "import lsst.afw.geom as afwGeom\n",
    "import numpy as np\n",
    "import math\n",
    "\n",
    "import matplotlib\n",
    "import matplotlib.pylab as plt\n",
    "\n",
    "butler = dafPersist.Butler(\"/home/boutigny/CFHT/test_cfht/output\")\n",
    "\n",
    "filename = \"../utils/stage/obs_D3_r_short.list\"\n",
    "file = open(filename, \"r\")\n",
    "\n",
    "ra = []\n",
    "dec = []\n",
    "\n",
    "sigmaToFwhm = 2.0*math.sqrt(2.0*math.log(2.0)) \n",
    "\n",
    "for cnts, visit in enumerate(file) :\n",
    "    if cnts > 50 :\n",
    "        break\n",
    "    visit = int(visit)\n",
    "    for ccd in [0, 8, 27, 35] :\n",
    "        dataid = {'visit':visit, 'filter':'r', 'ccd':ccd}\n",
    "\n",
    "        # Check if astrometry is reasonable for this CCD    \n",
    "        icMatch = butler.get('icMatch', dataid)\n",
    "        dist = []\n",
    "        for match in icMatch :\n",
    "            dist.append(match.get(\"distance\"))\n",
    "        check = afwGeom.radToMas(np.median(dist))\n",
    "        if check > 200 :\n",
    "            print \"Bad astrometry\", visit, ccd, check\n",
    "            continue\n",
    "        \n",
    "        exp = butler.get('calexp', dataid)\n",
    "        \n",
    "        wcs = exp.getWcs()\n",
    "        x0, y0 = exp.getXY0()\n",
    "        h = exp.getHeight()\n",
    "        w = exp.getWidth()\n",
    "        \n",
    "        if ccd == 0 :\n",
    "            psf = exp.getPsf()\n",
    "\n",
    "            shape = psf.computeShape()\n",
    "    \n",
    "            attr = measAlg.PsfAttributes(psf, x0 + w // 2, y0 + h // 2)\n",
    "            fwhm = attr.computeGaussianWidth() * wcs.pixelScale().asArcseconds() * sigmaToFwhm\n",
    "            \n",
    "            if fwhm > 1 :\n",
    "                break\n",
    "        \n",
    "        if math.degrees(wcs.pixelToSky(x0,y0).getLongitude()) < 200 :\n",
    "            print \"1\", visit, ccd, math.degrees(wcs.pixelToSky(x0,y0).getLongitude())\n",
    "        if math.degrees(wcs.pixelToSky(x0+w,y0).getLongitude()) < 200 :\n",
    "            print \"2\", visit, ccd, math.degrees(wcs.pixelToSky(x0+w,y0).getLongitude())\n",
    "        if math.degrees(wcs.pixelToSky(x0,y0+h).getLongitude()) < 200 :\n",
    "            print \"3\", visit, ccd, math.degrees(wcs.pixelToSky(x0,y0+h).getLongitude())\n",
    "        if math.degrees(wcs.pixelToSky(x0+w,y0+h).getLongitude()) < 200 :\n",
    "            print \"4\", visit, ccd, math.degrees(wcs.pixelToSky(x0+w,y0+h).getLongitude())\n",
    "        \n",
    "        ra.append(wcs.pixelToSky(x0,y0).getLongitude())\n",
    "        dec.append(wcs.pixelToSky(x0,y0).getLatitude())\n",
    "        ra.append(wcs.pixelToSky(x0+w,y0).getLongitude())\n",
    "        dec.append(wcs.pixelToSky(x0+w,y0).getLatitude())\n",
    "        ra.append(wcs.pixelToSky(x0,y0+h).getLongitude())\n",
    "        dec.append(wcs.pixelToSky(x0,y0+h).getLatitude())\n",
    "        ra.append(wcs.pixelToSky(x0+w,y0+h).getLongitude())\n",
    "        dec.append(wcs.pixelToSky(x0+w,y0+h).getLatitude())\n",
    "        \n",
    "#        print visit, ccd \n",
    "#        print math.degrees(wcs.pixelToSky(x0,y0).getLongitude()), math.degrees(wcs.pixelToSky(x0+w,y0).getLongitude()), math.degrees(wcs.pixelToSky(x0,y0+h).getLongitude()), math.degrees(wcs.pixelToSky(x0+w,y0+h).getLongitude())\n",
    "#        print math.degrees(wcs.pixelToSky(x0,y0).getLatitude()), math.degrees(wcs.pixelToSky(x0+w,y0).getLatitude()), math.degrees(wcs.pixelToSky(x0,y0+h).getLatitude()), math.degrees(wcs.pixelToSky(x0+w,y0+h).getLatitude())\n",
    "\n",
    "ra = np.array(ra)\n",
    "dec = np.array(dec)\n",
    "\n",
    "print ra\n",
    "\n",
    "print math.degrees(ra.min()), math.degrees(dec.min()), math.degrees(ra.max()), math.degrees(dec.max())\n"
   ]
  },
  {
   "cell_type": "raw",
   "metadata": {},
   "source": [
    "214.03765012 52.1554412755 215.690194823 53.2031404625"
   ]
  },
  {
   "cell_type": "code",
   "execution_count": 25,
   "metadata": {
    "collapsed": false
   },
   "outputs": [
    {
     "name": "stdout",
     "output_type": "stream",
     "text": [
      "['__class__', '__del__', '__delattr__', '__dict__', '__doc__', '__eq__', '__format__', '__getattr__', '__getattribute__', '__hash__', '__init__', '__module__', '__ne__', '__new__', '__reduce__', '__reduce_ex__', '__repr__', '__setattr__', '__sizeof__', '__str__', '__subclasshook__', '__swig_destroy__', '__swig_getmethods__', '__swig_setmethods__', '__weakref__', '_eq_impl', '_s', 'census', 'clone', 'flipImage', 'getCDMatrix', 'getFitsMetadata', 'getId', 'getLinearTransform', 'getNextMemId', 'getPixelOrigin', 'getSkyOrigin', 'hasBeenCorrupted', 'hasDistortion', 'init', 'isFlipped', 'isPersistable', 'linearizePixelToSky', 'linearizeSkyToPixel', 'magicSentinel', 'markPersistent', 'pixArea', 'pixelScale', 'pixelToSky', 'readFits', 'repr', 'rotateImageBy90', 'setCorruptionCallback', 'setDeleteCallback', 'setDeleteCallbackId', 'setNewCallback', 'setNewCallbackId', 'shiftReferencePixel', 'skyToIntermediateWorldCoord', 'skyToPixel', 'swigConvert', 'this', 'writeFits']\n"
     ]
    }
   ],
   "source": [
    "wcs.pixelToSky("
   ]
  },
  {
   "cell_type": "code",
   "execution_count": null,
   "metadata": {
    "collapsed": false
   },
   "outputs": [],
   "source": []
  }
 ],
 "metadata": {
  "kernelspec": {
   "display_name": "Python 2",
   "language": "python",
   "name": "python2"
  },
  "language_info": {
   "codemirror_mode": {
    "name": "ipython",
    "version": 2
   },
   "file_extension": ".py",
   "mimetype": "text/x-python",
   "name": "python",
   "nbconvert_exporter": "python",
   "pygments_lexer": "ipython2",
   "version": "2.7.10"
  }
 },
 "nbformat": 4,
 "nbformat_minor": 0
}
