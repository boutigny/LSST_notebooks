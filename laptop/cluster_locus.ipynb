{
 "cells": [
  {
   "cell_type": "code",
   "execution_count": 3,
   "metadata": {
    "collapsed": true
   },
   "outputs": [],
   "source": [
    "import lsst.daf.persistence as dafPersist\n",
    "import lsst.afw.image as afwImage\n",
    "import lsst.afw.geom as afwGeom\n",
    "\n",
    "import math\n",
    "\n",
    "# We are going to analyse the following patches. We assume that these patches are\n",
    "# all in the same tract (0)\n",
    "patchList = ['1,3', '2,3']\n",
    "#patchList = ['1,1', '1,3', '1,2', '1,4', '1,5', '2,1', '2,2', '2,3', '2,4', '2,5', '3,2', '3,3', '3,4']\n",
    "#patchList = ['3,3', '4,3', '3,4', '4,4']\n",
    "\n",
    "# Initialize butler\n",
    "butler = dafPersist.Butler(\"/home/boutigny/LSST/CFHT/clusters/MACSJ2243.3-0935/output/coadd_dir_cc\")\n",
    "#butler = dafPersist.Butler(\"/home/boutigny/LSST/CFHT/clusters/CL0016+16/output/coadd_dir_cc\")"
   ]
  },
  {
   "cell_type": "code",
   "execution_count": 6,
   "metadata": {
    "collapsed": false
   },
   "outputs": [
    {
     "name": "stdout",
     "output_type": "stream",
     "text": [
      "Nbr. of selected sources after reading patch 1,3 : 2969\n",
      "Nbr. of selected sources after reading patch 2,3 : 7934\n"
     ]
    }
   ],
   "source": [
    "for i, patch in enumerate(patchList) :\n",
    "    \n",
    "    dataId_r = {'tract':0, 'filter':'r', 'patch':patch}\n",
    "    dataId_g = {'tract':0, 'filter':'g', 'patch':patch}\n",
    "    dataId_i = {'tract':0, 'filter':'i', 'patch':patch}\n",
    "\n",
    "    meas_r = butler.get('deepCoadd_meas', dataId=dataId_r)\n",
    "    meas_g = butler.get('deepCoadd_meas', dataId=dataId_g)\n",
    "    meas_i = butler.get('deepCoadd_meas', dataId=dataId_i)\n",
    "    \n",
    "    phot_r = butler.get('deepCoadd_forced_src', dataId=dataId_r)\n",
    "    phot_g = butler.get('deepCoadd_forced_src', dataId=dataId_g)\n",
    "    phot_i = butler.get('deepCoadd_forced_src', dataId=dataId_i)\n",
    "\n",
    "    md_r = butler.get('deepCoadd_calexp', dataId=dataId_r)\n",
    "    md_g = butler.get('deepCoadd_calexp', dataId=dataId_g)\n",
    "    md_i = butler.get('deepCoadd_calexp', dataId=dataId_i)\n",
    "    calib_r = md_r.getCalib()\n",
    "    calib_g = md_g.getCalib()\n",
    "    calib_i = md_i.getCalib()\n",
    "\n",
    "    if i == 0 :\n",
    "        schema = meas_r.getSchema()\n",
    "        schema_phot = phot_r.getSchema()\n",
    "\n",
    "        # Get keys from the measurement catalog\n",
    "        # The following is not strictly necessary as one could use the get(\"key_name\") method to access values in the\n",
    "        # catalogs, but it is much more efficient to use get(key)\n",
    "        fluxKey = schema_phot[\"modelfit_CModel_flux\"].asKey()\n",
    "        fluxSigmaKey = schema_phot[\"modelfit_CModel_fluxSigma\"].asKey()\n",
    "        fluxFlagKey = schema_phot[\"modelfit_CModel_flag\"].asKey()\n",
    "        extKey = schema[\"base_ClassificationExtendedness_value\"].asKey()\n",
    "        extFlagKey = schema[\"base_ClassificationExtendedness_flag\"].asKey()\n",
    "        nChildKey = schema[\"deblend_nChild\"].asKey()\n",
    "        primaryKey = schema[\"detect_isPrimary\"].asKey()\n",
    "\n",
    "        raKey = schema[\"coord_ra\"].asKey()\n",
    "        decKey = schema[\"coord_dec\"].asKey()\n",
    "        \n",
    "        # Initialize some lists\n",
    "        magR_star = []\n",
    "        magG_star = []\n",
    "        magI_star = []\n",
    "        magR_gal = []\n",
    "        magG_gal = []\n",
    "        magI_gal = []\n",
    "        raSrc = []\n",
    "        decSrc = []\n",
    "        res_i = []\n",
    "        res_r = []\n",
    "    \n",
    "    # Loop over deblended sources in the r, g, and i deepCoadd_meas catalogs\n",
    "    for i in range(len(meas_r)) :\n",
    "        # Reject parents of deblended objects\n",
    "        if not meas_r[i].get(primaryKey) :\n",
    "            continue\n",
    "        # Select stars\n",
    "        if meas_r[i].get(extFlagKey):\n",
    "            continue\n",
    "        # Select sources which have a proper flux value in r, g and i bands\n",
    "        # Notice that it would not be strictly necessary with forced photometry\n",
    "        if phot_r[i].get(fluxFlagKey) or phot_g[i].get(fluxFlagKey) or phot_i[i].get(fluxFlagKey) :\n",
    "            continue\n",
    "        flux_r = phot_r[i].get(fluxKey)\n",
    "        flux_g = phot_g[i].get(fluxKey)\n",
    "        flux_i = phot_i[i].get(fluxKey)\n",
    "        if flux_r <= 0. or flux_g <= 0. or flux_i <= 0. :\n",
    "            continue\n",
    "        fluxS_r = phot_r[i].get(fluxSigmaKey)\n",
    "        fluxS_g = phot_g[i].get(fluxSigmaKey)\n",
    "        fluxS_i = phot_i[i].get(fluxSigmaKey)\n",
    "        if flux_r/fluxS_r < 10. or flux_g/fluxS_g < 10. or flux_i/fluxS_i < 10. :\n",
    "            continue\n",
    "\n",
    "        # Need to use a calibobject in order to convert flux to magnitude\n",
    "        mag_r = calib_r.getMagnitude(flux_r)\n",
    "        mag_g = calib_g.getMagnitude(flux_g)\n",
    "        mag_i = calib_i.getMagnitude(flux_i)\n",
    "\n",
    "        if meas_r[i].get(extKey) < 0.5 : \n",
    "            magR_star.append(mag_r)\n",
    "            magG_star.append(mag_g)\n",
    "            magI_star.append(mag_i)\n",
    "        else :\n",
    "            magR_gal.append(mag_r)\n",
    "            magG_gal.append(mag_g)\n",
    "            magI_gal.append(mag_i)\n",
    "\n",
    "        ra = meas_r[i].get(raKey)\n",
    "        dec = meas_r[i].get(decKey)\n",
    "        raSrc.append(float(ra))\n",
    "        decSrc.append(float(dec))\n",
    "\n",
    "    print \"Nbr. of selected sources after reading patch %s : %d\"%(patch, len(magR_star)+len(magR_gal))"
   ]
  },
  {
   "cell_type": "code",
   "execution_count": 2,
   "metadata": {
    "collapsed": false,
    "scrolled": false
   },
   "outputs": [
    {
     "ename": "NameError",
     "evalue": "name 'magR_star' is not defined",
     "output_type": "error",
     "traceback": [
      "\u001b[1;31m---------------------------------------------------------------------------\u001b[0m",
      "\u001b[1;31mNameError\u001b[0m                                 Traceback (most recent call last)",
      "\u001b[1;32m<ipython-input-2-c19ba46ff24d>\u001b[0m in \u001b[0;36m<module>\u001b[1;34m()\u001b[0m\n\u001b[0;32m     12\u001b[0m \u001b[0mplt\u001b[0m\u001b[1;33m.\u001b[0m\u001b[0mrcParams\u001b[0m\u001b[1;33m[\u001b[0m\u001b[1;34m'axes.linewidth'\u001b[0m\u001b[1;33m]\u001b[0m \u001b[1;33m=\u001b[0m \u001b[1;36m1.5\u001b[0m \u001b[1;31m#set the value globally\u001b[0m\u001b[1;33m\u001b[0m\u001b[0m\n\u001b[0;32m     13\u001b[0m \u001b[1;33m\u001b[0m\u001b[0m\n\u001b[1;32m---> 14\u001b[1;33m \u001b[0mrS\u001b[0m \u001b[1;33m=\u001b[0m \u001b[0mnp\u001b[0m\u001b[1;33m.\u001b[0m\u001b[0masarray\u001b[0m\u001b[1;33m(\u001b[0m\u001b[0mmagR_star\u001b[0m\u001b[1;33m)\u001b[0m\u001b[1;33m\u001b[0m\u001b[0m\n\u001b[0m\u001b[0;32m     15\u001b[0m \u001b[0miS\u001b[0m \u001b[1;33m=\u001b[0m \u001b[0mnp\u001b[0m\u001b[1;33m.\u001b[0m\u001b[0masarray\u001b[0m\u001b[1;33m(\u001b[0m\u001b[0mmagI_star\u001b[0m\u001b[1;33m)\u001b[0m\u001b[1;33m\u001b[0m\u001b[0m\n\u001b[0;32m     16\u001b[0m \u001b[0mgS\u001b[0m \u001b[1;33m=\u001b[0m \u001b[0mnp\u001b[0m\u001b[1;33m.\u001b[0m\u001b[0masarray\u001b[0m\u001b[1;33m(\u001b[0m\u001b[0mmagG_star\u001b[0m\u001b[1;33m)\u001b[0m\u001b[1;33m\u001b[0m\u001b[0m\n",
      "\u001b[1;31mNameError\u001b[0m: name 'magR_star' is not defined"
     ]
    }
   ],
   "source": [
    "%matplotlib inline\n",
    "import matplotlib\n",
    "import matplotlib.pylab as plt\n",
    "import numpy as np\n",
    "\n",
    "font = {'family' : 'serif',\n",
    "        'color'  : 'darkred',\n",
    "        'weight' : 'bold',\n",
    "        'size'   : 25,\n",
    "        }\n",
    "\n",
    "plt.rcParams['axes.linewidth'] = 1.5 #set the value globally\n",
    "\n",
    "rS = np.asarray(magR_star)\n",
    "iS = np.asarray(magI_star)\n",
    "gS = np.asarray(magG_star)\n",
    "\n",
    "idxs = np.where(rS<23)\n",
    "\n",
    "rG = np.asarray(magR_gal)\n",
    "iG = np.asarray(magI_gal)\n",
    "gG = np.asarray(magG_gal)\n",
    "\n",
    "idxg = np.where(rG<22)\n",
    "\n",
    "# color plots\n",
    "fig, (ax1) = plt.subplots(ncols=1, figsize=(10, 10))\n",
    "ax1.scatter(gS[idxs]-rS[idxs], rS[idxs]-iS[idxs], s=1, color='b', label=\"stars %d\"%len(gS[idxs]))\n",
    "ax1.scatter(gG[idxg]-rG[idxg], rG[idxg]-iG[idxg], s=1, color='r', label=\"galaxies %d\"%len(gG[idxg]))\n",
    "ax1.set_xlim([-0.5,2])\n",
    "ax1.set_ylim([-0.5,2.5])\n",
    "ax1.set_xlabel(\"g-r\", fontsize=25)\n",
    "ax1.set_ylabel(\"r-i\", fontsize=25)\n",
    "ax1.tick_params(labelsize=15)\n",
    "ax1.legend(loc=\"upper left\")"
   ]
  },
  {
   "cell_type": "code",
   "execution_count": 1,
   "metadata": {
    "collapsed": false
   },
   "outputs": [
    {
     "ename": "NameError",
     "evalue": "name 'schema' is not defined",
     "output_type": "error",
     "traceback": [
      "\u001b[1;31m---------------------------------------------------------------------------\u001b[0m",
      "\u001b[1;31mNameError\u001b[0m                                 Traceback (most recent call last)",
      "\u001b[1;32m<ipython-input-1-f2ef6fb0c208>\u001b[0m in \u001b[0;36m<module>\u001b[1;34m()\u001b[0m\n\u001b[1;32m----> 1\u001b[1;33m \u001b[1;32mprint\u001b[0m \u001b[0mschema\u001b[0m\u001b[1;33m.\u001b[0m\u001b[0mgetOrderedList\u001b[0m\u001b[1;33m(\u001b[0m\u001b[1;33m)\u001b[0m\u001b[1;33m\u001b[0m\u001b[0m\n\u001b[0m",
      "\u001b[1;31mNameError\u001b[0m: name 'schema' is not defined"
     ]
    }
   ],
   "source": [
    "print measschema.getOrderedList()"
   ]
  },
  {
   "cell_type": "code",
   "execution_count": null,
   "metadata": {
    "collapsed": true
   },
   "outputs": [],
   "source": []
  }
 ],
 "metadata": {
  "kernelspec": {
   "display_name": "Python 2",
   "language": "python",
   "name": "python2"
  },
  "language_info": {
   "codemirror_mode": {
    "name": "ipython",
    "version": 2
   },
   "file_extension": ".py",
   "mimetype": "text/x-python",
   "name": "python",
   "nbconvert_exporter": "python",
   "pygments_lexer": "ipython2",
   "version": "2.7.12"
  }
 },
 "nbformat": 4,
 "nbformat_minor": 0
}
