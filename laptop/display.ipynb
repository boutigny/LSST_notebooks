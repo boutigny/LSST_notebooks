{
 "cells": [
  {
   "cell_type": "code",
   "execution_count": 8,
   "metadata": {
    "collapsed": false,
    "jupyter": {
     "outputs_hidden": false
    }
   },
   "outputs": [
    {
     "ename": "NameError",
     "evalue": "ds9 doesn't appear to be on your path",
     "output_type": "error",
     "traceback": [
      "\u001b[0;31m---------------------------------------------------------------------------\u001b[0m",
      "\u001b[0;31mIoError\u001b[0m                                   Traceback (most recent call last)",
      "\u001b[0;32m/cvmfs/sw.lsst.eu/linux-x86_64/lsst_distrib/v19.0.0/stack/miniconda3-4.7.10-4d7b902/Linux64/display_ds9/19.0.0/python/lsst/display/ds9/ds9.py\u001b[0m in \u001b[0;36mds9Cmd\u001b[0;34m(cmd, trap, flush, silent, frame, get)\u001b[0m\n\u001b[1;32m    271\u001b[0m     \u001b[0;32mtry\u001b[0m\u001b[0;34m:\u001b[0m\u001b[0;34m\u001b[0m\u001b[0;34m\u001b[0m\u001b[0m\n\u001b[0;32m--> 272\u001b[0;31m         \u001b[0mret\u001b[0m \u001b[0;34m=\u001b[0m \u001b[0mxpa\u001b[0m\u001b[0;34m.\u001b[0m\u001b[0mset\u001b[0m\u001b[0;34m(\u001b[0m\u001b[0;32mNone\u001b[0m\u001b[0;34m,\u001b[0m \u001b[0mgetXpaAccessPoint\u001b[0m\u001b[0;34m(\u001b[0m\u001b[0;34m)\u001b[0m\u001b[0;34m,\u001b[0m \u001b[0mcmd\u001b[0m\u001b[0;34m,\u001b[0m \u001b[0;34m\"\"\u001b[0m\u001b[0;34m,\u001b[0m \u001b[0;34m\"\"\u001b[0m\u001b[0;34m,\u001b[0m \u001b[0;36m0\u001b[0m\u001b[0;34m)\u001b[0m\u001b[0;34m\u001b[0m\u001b[0;34m\u001b[0m\u001b[0m\n\u001b[0m\u001b[1;32m    273\u001b[0m         \u001b[0;32mif\u001b[0m \u001b[0mret\u001b[0m\u001b[0;34m:\u001b[0m\u001b[0;34m\u001b[0m\u001b[0;34m\u001b[0m\u001b[0m\n",
      "\u001b[0;31mIoError\u001b[0m: \n  File \"python/lsst/display/ds9/xpa.cc\", line 115, in const char* lsst::display::ds9::{anonymous}::XPASet1(XPA, char*, char*, char*, char*, int)\n    XPASet returned 0 {0}\nlsst::pex::exceptions::IoError: 'XPASet returned 0'\n",
      "\nDuring handling of the above exception, another exception occurred:\n",
      "\u001b[0;31mDs9Error\u001b[0m                                  Traceback (most recent call last)",
      "\u001b[0;32m/cvmfs/sw.lsst.eu/linux-x86_64/lsst_distrib/v19.0.0/stack/miniconda3-4.7.10-4d7b902/Linux64/display_ds9/19.0.0/python/lsst/display/ds9/ds9.py\u001b[0m in \u001b[0;36minitDS9\u001b[0;34m(execDs9)\u001b[0m\n\u001b[1;32m    291\u001b[0m         \u001b[0mxpa\u001b[0m\u001b[0;34m.\u001b[0m\u001b[0mreset\u001b[0m\u001b[0;34m(\u001b[0m\u001b[0;34m)\u001b[0m\u001b[0;34m\u001b[0m\u001b[0;34m\u001b[0m\u001b[0m\n\u001b[0;32m--> 292\u001b[0;31m         \u001b[0mds9Cmd\u001b[0m\u001b[0;34m(\u001b[0m\u001b[0;34m\"iconify no; raise\"\u001b[0m\u001b[0;34m,\u001b[0m \u001b[0;32mFalse\u001b[0m\u001b[0;34m)\u001b[0m\u001b[0;34m\u001b[0m\u001b[0;34m\u001b[0m\u001b[0m\n\u001b[0m\u001b[1;32m    293\u001b[0m         \u001b[0mds9Cmd\u001b[0m\u001b[0;34m(\u001b[0m\u001b[0;34m\"wcs wcsa\"\u001b[0m\u001b[0;34m,\u001b[0m \u001b[0;32mFalse\u001b[0m\u001b[0;34m)\u001b[0m         \u001b[0;31m# include the pixel coordinates WCS (WCSA)\u001b[0m\u001b[0;34m\u001b[0m\u001b[0;34m\u001b[0m\u001b[0m\n",
      "\u001b[0;32m/cvmfs/sw.lsst.eu/linux-x86_64/lsst_distrib/v19.0.0/stack/miniconda3-4.7.10-4d7b902/Linux64/display_ds9/19.0.0/python/lsst/display/ds9/ds9.py\u001b[0m in \u001b[0;36mds9Cmd\u001b[0;34m(cmd, trap, flush, silent, frame, get)\u001b[0m\n\u001b[1;32m    276\u001b[0m         \u001b[0;32mif\u001b[0m \u001b[0;32mnot\u001b[0m \u001b[0mtrap\u001b[0m\u001b[0;34m:\u001b[0m\u001b[0;34m\u001b[0m\u001b[0;34m\u001b[0m\u001b[0m\n\u001b[0;32m--> 277\u001b[0;31m             \u001b[0;32mraise\u001b[0m \u001b[0mDs9Error\u001b[0m\u001b[0;34m(\u001b[0m\u001b[0;34m\"XPA: %s, (%s)\"\u001b[0m \u001b[0;34m%\u001b[0m \u001b[0;34m(\u001b[0m\u001b[0me\u001b[0m\u001b[0;34m,\u001b[0m \u001b[0mcmd\u001b[0m\u001b[0;34m)\u001b[0m\u001b[0;34m)\u001b[0m\u001b[0;34m\u001b[0m\u001b[0;34m\u001b[0m\u001b[0m\n\u001b[0m\u001b[1;32m    278\u001b[0m         \u001b[0;32melif\u001b[0m \u001b[0;32mnot\u001b[0m \u001b[0msilent\u001b[0m\u001b[0;34m:\u001b[0m\u001b[0;34m\u001b[0m\u001b[0;34m\u001b[0m\u001b[0m\n",
      "\u001b[0;31mDs9Error\u001b[0m: XPA: \n  File \"python/lsst/display/ds9/xpa.cc\", line 115, in const char* lsst::display::ds9::{anonymous}::XPASet1(XPA, char*, char*, char*, char*, int)\n    XPASet returned 0 {0}\nlsst::pex::exceptions::IoError: 'XPASet returned 0'\n, (;iconify no; raise)",
      "\nDuring handling of the above exception, another exception occurred:\n",
      "\u001b[0;31mNameError\u001b[0m                                 Traceback (most recent call last)",
      "\u001b[0;32m<ipython-input-8-efddacdf5e87>\u001b[0m in \u001b[0;36m<module>\u001b[0;34m\u001b[0m\n\u001b[1;32m     16\u001b[0m \u001b[0;34m\u001b[0m\u001b[0m\n\u001b[1;32m     17\u001b[0m \u001b[0;31m#ds9.mtv(exp.getMaskedImage().getImage(),frame=1,wcs=wcs)\u001b[0m\u001b[0;34m\u001b[0m\u001b[0;34m\u001b[0m\u001b[0;34m\u001b[0m\u001b[0m\n\u001b[0;32m---> 18\u001b[0;31m \u001b[0mds9\u001b[0m\u001b[0;34m.\u001b[0m\u001b[0mmtv\u001b[0m\u001b[0;34m(\u001b[0m\u001b[0mraw\u001b[0m\u001b[0;34m.\u001b[0m\u001b[0mgetMaskedImage\u001b[0m\u001b[0;34m(\u001b[0m\u001b[0;34m)\u001b[0m\u001b[0;34m.\u001b[0m\u001b[0mgetImage\u001b[0m\u001b[0;34m(\u001b[0m\u001b[0;34m)\u001b[0m\u001b[0;34m,\u001b[0m\u001b[0mframe\u001b[0m\u001b[0;34m=\u001b[0m\u001b[0;36m2\u001b[0m\u001b[0;34m,\u001b[0m\u001b[0mwcs\u001b[0m\u001b[0;34m=\u001b[0m\u001b[0mwcsRaw\u001b[0m\u001b[0;34m)\u001b[0m\u001b[0;34m\u001b[0m\u001b[0;34m\u001b[0m\u001b[0m\n\u001b[0m\u001b[1;32m     19\u001b[0m \u001b[0;31m#ds9.mtv(exp.getMaskedImage().getMask(),frame=2)\u001b[0m\u001b[0;34m\u001b[0m\u001b[0;34m\u001b[0m\u001b[0;34m\u001b[0m\u001b[0m\n\u001b[1;32m     20\u001b[0m \u001b[0;31m#ds9.mtv(exp.getMaskedImage().getVariance(),frame=3)\u001b[0m\u001b[0;34m\u001b[0m\u001b[0;34m\u001b[0m\u001b[0;34m\u001b[0m\u001b[0m\n",
      "\u001b[0;32m/cvmfs/sw.lsst.eu/linux-x86_64/lsst_distrib/v19.0.0/stack/miniconda3-4.7.10-4d7b902/Linux64/afw/19.0.0/python/lsst/afw/display/ds9.py\u001b[0m in \u001b[0;36mmtv\u001b[0;34m(data, frame, title, wcs, *args, **kwargs)\u001b[0m\n\u001b[1;32m     92\u001b[0m \u001b[0;34m\u001b[0m\u001b[0m\n\u001b[1;32m     93\u001b[0m \u001b[0;32mdef\u001b[0m \u001b[0mmtv\u001b[0m\u001b[0;34m(\u001b[0m\u001b[0mdata\u001b[0m\u001b[0;34m,\u001b[0m \u001b[0mframe\u001b[0m\u001b[0;34m=\u001b[0m\u001b[0;32mNone\u001b[0m\u001b[0;34m,\u001b[0m \u001b[0mtitle\u001b[0m\u001b[0;34m=\u001b[0m\u001b[0;34m\"\"\u001b[0m\u001b[0;34m,\u001b[0m \u001b[0mwcs\u001b[0m\u001b[0;34m=\u001b[0m\u001b[0;32mNone\u001b[0m\u001b[0;34m,\u001b[0m \u001b[0;34m*\u001b[0m\u001b[0margs\u001b[0m\u001b[0;34m,\u001b[0m \u001b[0;34m**\u001b[0m\u001b[0mkwargs\u001b[0m\u001b[0;34m)\u001b[0m\u001b[0;34m:\u001b[0m\u001b[0;34m\u001b[0m\u001b[0;34m\u001b[0m\u001b[0m\n\u001b[0;32m---> 94\u001b[0;31m     \u001b[0;32mreturn\u001b[0m \u001b[0mgetDisplay\u001b[0m\u001b[0;34m(\u001b[0m\u001b[0mframe\u001b[0m\u001b[0;34m,\u001b[0m \u001b[0mcreate\u001b[0m\u001b[0;34m=\u001b[0m\u001b[0;32mTrue\u001b[0m\u001b[0;34m)\u001b[0m\u001b[0;34m.\u001b[0m\u001b[0mmtv\u001b[0m\u001b[0;34m(\u001b[0m\u001b[0mdata\u001b[0m\u001b[0;34m,\u001b[0m \u001b[0mtitle\u001b[0m\u001b[0;34m,\u001b[0m \u001b[0mwcs\u001b[0m\u001b[0;34m,\u001b[0m \u001b[0;34m*\u001b[0m\u001b[0margs\u001b[0m\u001b[0;34m,\u001b[0m \u001b[0;34m**\u001b[0m\u001b[0mkwargs\u001b[0m\u001b[0;34m)\u001b[0m\u001b[0;34m\u001b[0m\u001b[0;34m\u001b[0m\u001b[0m\n\u001b[0m\u001b[1;32m     95\u001b[0m \u001b[0;34m\u001b[0m\u001b[0m\n\u001b[1;32m     96\u001b[0m \u001b[0;34m\u001b[0m\u001b[0m\n",
      "\u001b[0;32m/cvmfs/sw.lsst.eu/linux-x86_64/lsst_distrib/v19.0.0/stack/miniconda3-4.7.10-4d7b902/Linux64/afw/19.0.0/python/lsst/afw/display/interface.py\u001b[0m in \u001b[0;36mmtv\u001b[0;34m(self, data, title, wcs)\u001b[0m\n\u001b[1;32m    539\u001b[0m \u001b[0;34m\u001b[0m\u001b[0m\n\u001b[1;32m    540\u001b[0m         \u001b[0;32mif\u001b[0m \u001b[0misinstance\u001b[0m\u001b[0;34m(\u001b[0m\u001b[0mdata\u001b[0m\u001b[0;34m,\u001b[0m \u001b[0mafwImage\u001b[0m\u001b[0;34m.\u001b[0m\u001b[0mImage\u001b[0m\u001b[0;34m)\u001b[0m\u001b[0;34m:\u001b[0m  \u001b[0;31m# it's an Image; display it\u001b[0m\u001b[0;34m\u001b[0m\u001b[0;34m\u001b[0m\u001b[0m\n\u001b[0;32m--> 541\u001b[0;31m             \u001b[0mself\u001b[0m\u001b[0;34m.\u001b[0m\u001b[0m_impl\u001b[0m\u001b[0;34m.\u001b[0m\u001b[0m_mtv\u001b[0m\u001b[0;34m(\u001b[0m\u001b[0mdata\u001b[0m\u001b[0;34m,\u001b[0m \u001b[0;32mNone\u001b[0m\u001b[0;34m,\u001b[0m \u001b[0mwcs\u001b[0m\u001b[0;34m,\u001b[0m \u001b[0mtitle\u001b[0m\u001b[0;34m)\u001b[0m\u001b[0;34m\u001b[0m\u001b[0;34m\u001b[0m\u001b[0m\n\u001b[0m\u001b[1;32m    542\u001b[0m         \u001b[0;31m# it's a Mask; display it, bitplane by bitplane\u001b[0m\u001b[0;34m\u001b[0m\u001b[0;34m\u001b[0m\u001b[0;34m\u001b[0m\u001b[0m\n\u001b[1;32m    543\u001b[0m         \u001b[0;32melif\u001b[0m \u001b[0misinstance\u001b[0m\u001b[0;34m(\u001b[0m\u001b[0mdata\u001b[0m\u001b[0;34m,\u001b[0m \u001b[0mafwImage\u001b[0m\u001b[0;34m.\u001b[0m\u001b[0mMask\u001b[0m\u001b[0;34m)\u001b[0m\u001b[0;34m:\u001b[0m\u001b[0;34m\u001b[0m\u001b[0;34m\u001b[0m\u001b[0m\n",
      "\u001b[0;32m/cvmfs/sw.lsst.eu/linux-x86_64/lsst_distrib/v19.0.0/stack/miniconda3-4.7.10-4d7b902/Linux64/display_ds9/19.0.0/python/lsst/display/ds9/ds9.py\u001b[0m in \u001b[0;36m_mtv\u001b[0;34m(self, image, mask, wcs, title)\u001b[0m\n\u001b[1;32m    408\u001b[0m         \u001b[0;32mfor\u001b[0m \u001b[0mi\u001b[0m \u001b[0;32min\u001b[0m \u001b[0mrange\u001b[0m\u001b[0;34m(\u001b[0m\u001b[0;36m3\u001b[0m\u001b[0;34m)\u001b[0m\u001b[0;34m:\u001b[0m\u001b[0;34m\u001b[0m\u001b[0;34m\u001b[0m\u001b[0m\n\u001b[1;32m    409\u001b[0m             \u001b[0;32mtry\u001b[0m\u001b[0;34m:\u001b[0m\u001b[0;34m\u001b[0m\u001b[0;34m\u001b[0m\u001b[0m\n\u001b[0;32m--> 410\u001b[0;31m                 \u001b[0minitDS9\u001b[0m\u001b[0;34m(\u001b[0m\u001b[0mi\u001b[0m \u001b[0;34m==\u001b[0m \u001b[0;36m0\u001b[0m\u001b[0;34m)\u001b[0m\u001b[0;34m\u001b[0m\u001b[0;34m\u001b[0m\u001b[0m\n\u001b[0m\u001b[1;32m    411\u001b[0m             \u001b[0;32mexcept\u001b[0m \u001b[0mDs9Error\u001b[0m\u001b[0;34m:\u001b[0m\u001b[0;34m\u001b[0m\u001b[0;34m\u001b[0m\u001b[0m\n\u001b[1;32m    412\u001b[0m                 \u001b[0mprint\u001b[0m\u001b[0;34m(\u001b[0m\u001b[0;34m\"waiting for ds9...\\r\"\u001b[0m\u001b[0;34m,\u001b[0m \u001b[0mend\u001b[0m\u001b[0;34m=\u001b[0m\u001b[0;34m\"\"\u001b[0m\u001b[0;34m)\u001b[0m\u001b[0;34m\u001b[0m\u001b[0;34m\u001b[0m\u001b[0m\n",
      "\u001b[0;32m/cvmfs/sw.lsst.eu/linux-x86_64/lsst_distrib/v19.0.0/stack/miniconda3-4.7.10-4d7b902/Linux64/display_ds9/19.0.0/python/lsst/display/ds9/ds9.py\u001b[0m in \u001b[0;36minitDS9\u001b[0;34m(execDs9)\u001b[0m\n\u001b[1;32m    310\u001b[0m         \u001b[0;32mimport\u001b[0m \u001b[0mdistutils\u001b[0m\u001b[0;34m.\u001b[0m\u001b[0mspawn\u001b[0m\u001b[0;34m\u001b[0m\u001b[0;34m\u001b[0m\u001b[0m\n\u001b[1;32m    311\u001b[0m         \u001b[0;32mif\u001b[0m \u001b[0;32mnot\u001b[0m \u001b[0mdistutils\u001b[0m\u001b[0;34m.\u001b[0m\u001b[0mspawn\u001b[0m\u001b[0;34m.\u001b[0m\u001b[0mfind_executable\u001b[0m\u001b[0;34m(\u001b[0m\u001b[0;34m\"ds9\"\u001b[0m\u001b[0;34m)\u001b[0m\u001b[0;34m:\u001b[0m\u001b[0;34m\u001b[0m\u001b[0;34m\u001b[0m\u001b[0m\n\u001b[0;32m--> 312\u001b[0;31m             \u001b[0;32mraise\u001b[0m \u001b[0mNameError\u001b[0m\u001b[0;34m(\u001b[0m\u001b[0;34m\"ds9 doesn't appear to be on your path\"\u001b[0m\u001b[0;34m)\u001b[0m\u001b[0;34m\u001b[0m\u001b[0;34m\u001b[0m\u001b[0m\n\u001b[0m\u001b[1;32m    313\u001b[0m         \u001b[0;32mif\u001b[0m \u001b[0;34m\"DISPLAY\"\u001b[0m \u001b[0;32mnot\u001b[0m \u001b[0;32min\u001b[0m \u001b[0mos\u001b[0m\u001b[0;34m.\u001b[0m\u001b[0menviron\u001b[0m\u001b[0;34m:\u001b[0m\u001b[0;34m\u001b[0m\u001b[0;34m\u001b[0m\u001b[0m\n\u001b[1;32m    314\u001b[0m             \u001b[0;32mraise\u001b[0m \u001b[0mRuntimeError\u001b[0m\u001b[0;34m(\u001b[0m\u001b[0;34m\"$DISPLAY isn't set, so I won't be able to start ds9 for you\"\u001b[0m\u001b[0;34m)\u001b[0m\u001b[0;34m\u001b[0m\u001b[0;34m\u001b[0m\u001b[0m\n",
      "\u001b[0;31mNameError\u001b[0m: ds9 doesn't appear to be on your path"
     ]
    }
   ],
   "source": [
    "import lsst.daf.persistence as dafPersist\n",
    "import lsst.afw.display.ds9 as ds9\n",
    "import numpy\n",
    "\n",
    "#butler = dafPersist.Butler(\"/home/boutigny/LSST/CFHT/clusters/3C295/output\")\n",
    "#butler = dafPersist.Butler(\"/home/boutigny/LSST/CFHT/yuichi/output\")\n",
    "#butler = dafPersist.Butler(\"/home/boutigny/LSST/CFHT/SXDS/output\")\n",
    "butler = dafPersist.Butler(\"/sps/lsst/users/lsstprod/hsc/SSP_UDEEP_COSMOS/output\")\n",
    "#dataid = {'visit':9832, 'ccd':85}\n",
    "dataid = {'visit':1220, 'ccd':77}\n",
    "\n",
    "#exp = butler.get('calexp', dataid)\n",
    "#wcs = exp.getWcs()\n",
    "raw = butler.get('raw', dataid)\n",
    "wcsRaw = raw.getWcs()\n",
    "\n",
    "#ds9.mtv(exp.getMaskedImage().getImage(),frame=1,wcs=wcs)\n",
    "ds9.mtv(raw.getMaskedImage().getImage(),frame=2,wcs=wcsRaw)\n",
    "#ds9.mtv(exp.getMaskedImage().getMask(),frame=2)\n",
    "#ds9.mtv(exp.getMaskedImage().getVariance(),frame=3)"
   ]
  },
  {
   "cell_type": "code",
   "execution_count": 10,
   "metadata": {},
   "outputs": [
    {
     "name": "stderr",
     "output_type": "stream",
     "text": [
      "application-specific initialization failed: no display name and no $DISPLAY environment variable\n",
      "Unable to initialize window system.\n"
     ]
    }
   ],
   "source": [
    "%%script bash\n",
    "export PATH=$PATH:/pbs/throng/lsst/software/desc/bin\n",
    "ds9"
   ]
  },
  {
   "cell_type": "code",
   "execution_count": 3,
   "metadata": {
    "collapsed": false,
    "jupyter": {
     "outputs_hidden": false
    }
   },
   "outputs": [],
   "source": [
    "sources = butler.get('src', dataid)\n",
    "for src in sources:\n",
    "    centroid = src.getCentroid()\n",
    "    with ds9.Buffering():\n",
    "        ds9.dot('+', centroid.getX(), centroid.getY(), frame=1)"
   ]
  },
  {
   "cell_type": "code",
   "execution_count": null,
   "metadata": {
    "collapsed": false,
    "jupyter": {
     "outputs_hidden": false
    }
   },
   "outputs": [],
   "source": [
    "import lsst.daf.persistence as dafPersist\n",
    "import lsst.afw.display.ds9 as ds9\n",
    "import numpy\n",
    "\n",
    "butler = dafPersist.Butler(\"/sps/lsst/dev/lsstprod/hsc/SXDS/output\")\n",
    "dataid = {'visit':912206, 'filter':'r', 'tract':1, 'patch':'7,0', 'ccd':34}\n",
    "\n",
    "exp = butler.get('deepCoadd_tempExp', dataid)\n",
    "\n",
    "ds9.mtv(exp.getMaskedImage().getImage(),frame=1)\n",
    "ds9.mtv(exp.getMaskedImage().getMask(),frame=2)\n",
    "ds9.mtv(exp.getMaskedImage().getVariance(),frame=3)"
   ]
  },
  {
   "cell_type": "code",
   "execution_count": 2,
   "metadata": {
    "collapsed": false,
    "jupyter": {
     "outputs_hidden": false
    }
   },
   "outputs": [
    {
     "ename": "TypeError",
     "evalue": "writeFitsImage(): incompatible function arguments. The following argument types are supported:\n    1. (fd: int, data: lsst.afw.image.image.image.ImageU, wcs: lsst.afw.image.wcs.wcs.Wcs=0L, title: unicode=0L) -> None\n    2. (filename: unicode, data: lsst.afw.image.image.image.ImageU, wcs: lsst.afw.image.wcs.wcs.Wcs=0L, title: unicode=0L) -> None\n    3. (fd: int, data: lsst.afw.image.image.image.ImageL, wcs: lsst.afw.image.wcs.wcs.Wcs=0L, title: unicode=0L) -> None\n    4. (filename: unicode, data: lsst.afw.image.image.image.ImageL, wcs: lsst.afw.image.wcs.wcs.Wcs=0L, title: unicode=0L) -> None\n    5. (fd: int, data: lsst.afw.image.image.image.ImageI, wcs: lsst.afw.image.wcs.wcs.Wcs=0L, title: unicode=0L) -> None\n    6. (filename: unicode, data: lsst.afw.image.image.image.ImageI, wcs: lsst.afw.image.wcs.wcs.Wcs=0L, title: unicode=0L) -> None\n    7. (fd: int, data: lsst.afw.image.image.image.ImageF, wcs: lsst.afw.image.wcs.wcs.Wcs=0L, title: unicode=0L) -> None\n    8. (filename: unicode, data: lsst.afw.image.image.image.ImageF, wcs: lsst.afw.image.wcs.wcs.Wcs=0L, title: unicode=0L) -> None\n    9. (fd: int, data: lsst.afw.image.image.image.ImageD, wcs: lsst.afw.image.wcs.wcs.Wcs=0L, title: unicode=0L) -> None\n    10. (filename: unicode, data: lsst.afw.image.image.image.ImageD, wcs: lsst.afw.image.wcs.wcs.Wcs=0L, title: unicode=0L) -> None\n    11. (fd: int, data: lsst::afw::image::Mask<unsigned short>, wcs: lsst.afw.image.wcs.wcs.Wcs=0L, title: unicode=0L) -> None\n    12. (filename: unicode, data: lsst::afw::image::Mask<unsigned short>, wcs: lsst.afw.image.wcs.wcs.Wcs=0L, title: unicode=0L) -> None\n\nInvoked with: 57, <lsst.afw.image.mask.mask.MaskX object at 0x7fe093ae7d88>, None, ''",
     "output_type": "error",
     "traceback": [
      "\u001b[1;31m---------------------------------------------------------------------------\u001b[0m",
      "\u001b[1;31mTypeError\u001b[0m                                 Traceback (most recent call last)",
      "\u001b[1;32m<ipython-input-2-9eaef8cbdc31>\u001b[0m in \u001b[0;36m<module>\u001b[1;34m()\u001b[0m\n\u001b[0;32m      9\u001b[0m \u001b[1;33m\u001b[0m\u001b[0m\n\u001b[0;32m     10\u001b[0m \u001b[0mds9\u001b[0m\u001b[1;33m.\u001b[0m\u001b[0mmtv\u001b[0m\u001b[1;33m(\u001b[0m\u001b[0mexp\u001b[0m\u001b[1;33m.\u001b[0m\u001b[0mgetMaskedImage\u001b[0m\u001b[1;33m(\u001b[0m\u001b[1;33m)\u001b[0m\u001b[1;33m.\u001b[0m\u001b[0mgetImage\u001b[0m\u001b[1;33m(\u001b[0m\u001b[1;33m)\u001b[0m\u001b[1;33m,\u001b[0m\u001b[0mframe\u001b[0m\u001b[1;33m=\u001b[0m\u001b[1;36m1\u001b[0m\u001b[1;33m)\u001b[0m\u001b[1;33m\u001b[0m\u001b[0m\n\u001b[1;32m---> 11\u001b[1;33m \u001b[0mds9\u001b[0m\u001b[1;33m.\u001b[0m\u001b[0mmtv\u001b[0m\u001b[1;33m(\u001b[0m\u001b[0mexp\u001b[0m\u001b[1;33m.\u001b[0m\u001b[0mgetMaskedImage\u001b[0m\u001b[1;33m(\u001b[0m\u001b[1;33m)\u001b[0m\u001b[1;33m.\u001b[0m\u001b[0mgetMask\u001b[0m\u001b[1;33m(\u001b[0m\u001b[1;33m)\u001b[0m\u001b[1;33m,\u001b[0m\u001b[0mframe\u001b[0m\u001b[1;33m=\u001b[0m\u001b[1;36m2\u001b[0m\u001b[1;33m)\u001b[0m\u001b[1;33m\u001b[0m\u001b[0m\n\u001b[0m\u001b[0;32m     12\u001b[0m \u001b[0mds9\u001b[0m\u001b[1;33m.\u001b[0m\u001b[0mmtv\u001b[0m\u001b[1;33m(\u001b[0m\u001b[0mexp\u001b[0m\u001b[1;33m.\u001b[0m\u001b[0mgetMaskedImage\u001b[0m\u001b[1;33m(\u001b[0m\u001b[1;33m)\u001b[0m\u001b[1;33m.\u001b[0m\u001b[0mgetVariance\u001b[0m\u001b[1;33m(\u001b[0m\u001b[1;33m)\u001b[0m\u001b[1;33m,\u001b[0m\u001b[0mframe\u001b[0m\u001b[1;33m=\u001b[0m\u001b[1;36m3\u001b[0m\u001b[1;33m)\u001b[0m\u001b[1;33m\u001b[0m\u001b[0m\n",
      "\u001b[1;32m/home/boutigny/LSST/new/lsstsw/stack/Linux64/afw/13.0-79-g5ec2c48/python/lsst/afw/display/ds9.pyc\u001b[0m in \u001b[0;36mmtv\u001b[1;34m(data, frame, title, wcs, *args, **kwargs)\u001b[0m\n\u001b[0;32m    100\u001b[0m \u001b[1;33m\u001b[0m\u001b[0m\n\u001b[0;32m    101\u001b[0m \u001b[1;32mdef\u001b[0m \u001b[0mmtv\u001b[0m\u001b[1;33m(\u001b[0m\u001b[0mdata\u001b[0m\u001b[1;33m,\u001b[0m \u001b[0mframe\u001b[0m\u001b[1;33m=\u001b[0m\u001b[0mNone\u001b[0m\u001b[1;33m,\u001b[0m \u001b[0mtitle\u001b[0m\u001b[1;33m=\u001b[0m\u001b[1;34m\"\"\u001b[0m\u001b[1;33m,\u001b[0m \u001b[0mwcs\u001b[0m\u001b[1;33m=\u001b[0m\u001b[0mNone\u001b[0m\u001b[1;33m,\u001b[0m \u001b[1;33m*\u001b[0m\u001b[0margs\u001b[0m\u001b[1;33m,\u001b[0m \u001b[1;33m**\u001b[0m\u001b[0mkwargs\u001b[0m\u001b[1;33m)\u001b[0m\u001b[1;33m:\u001b[0m\u001b[1;33m\u001b[0m\u001b[0m\n\u001b[1;32m--> 102\u001b[1;33m     \u001b[1;32mreturn\u001b[0m \u001b[0mgetDisplay\u001b[0m\u001b[1;33m(\u001b[0m\u001b[0mframe\u001b[0m\u001b[1;33m,\u001b[0m \u001b[0mcreate\u001b[0m\u001b[1;33m=\u001b[0m\u001b[0mTrue\u001b[0m\u001b[1;33m)\u001b[0m\u001b[1;33m.\u001b[0m\u001b[0mmtv\u001b[0m\u001b[1;33m(\u001b[0m\u001b[0mdata\u001b[0m\u001b[1;33m,\u001b[0m \u001b[0mtitle\u001b[0m\u001b[1;33m,\u001b[0m \u001b[0mwcs\u001b[0m\u001b[1;33m,\u001b[0m \u001b[1;33m*\u001b[0m\u001b[0margs\u001b[0m\u001b[1;33m,\u001b[0m \u001b[1;33m**\u001b[0m\u001b[0mkwargs\u001b[0m\u001b[1;33m)\u001b[0m\u001b[1;33m\u001b[0m\u001b[0m\n\u001b[0m\u001b[0;32m    103\u001b[0m \u001b[1;33m\u001b[0m\u001b[0m\n\u001b[0;32m    104\u001b[0m \u001b[1;33m\u001b[0m\u001b[0m\n",
      "\u001b[1;32m/home/boutigny/LSST/new/lsstsw/stack/Linux64/afw/13.0-79-g5ec2c48/python/lsst/afw/display/interface.pyc\u001b[0m in \u001b[0;36mmtv\u001b[1;34m(self, data, title, wcs)\u001b[0m\n\u001b[0;32m    442\u001b[0m             \u001b[1;31m# with pixel values set to the mask\u001b[0m\u001b[1;33m\u001b[0m\u001b[1;33m\u001b[0m\u001b[0m\n\u001b[0;32m    443\u001b[0m             \u001b[1;31m#\u001b[0m\u001b[1;33m\u001b[0m\u001b[1;33m\u001b[0m\u001b[0m\n\u001b[1;32m--> 444\u001b[1;33m             \u001b[0mself\u001b[0m\u001b[1;33m.\u001b[0m\u001b[0m_impl\u001b[0m\u001b[1;33m.\u001b[0m\u001b[0m_mtv\u001b[0m\u001b[1;33m(\u001b[0m\u001b[0mafwImage\u001b[0m\u001b[1;33m.\u001b[0m\u001b[0mImageI\u001b[0m\u001b[1;33m(\u001b[0m\u001b[0mdata\u001b[0m\u001b[1;33m.\u001b[0m\u001b[0mgetArray\u001b[0m\u001b[1;33m(\u001b[0m\u001b[1;33m)\u001b[0m\u001b[1;33m)\u001b[0m\u001b[1;33m,\u001b[0m \u001b[0mdata\u001b[0m\u001b[1;33m,\u001b[0m \u001b[0mwcs\u001b[0m\u001b[1;33m,\u001b[0m \u001b[0mtitle\u001b[0m\u001b[1;33m)\u001b[0m\u001b[1;33m\u001b[0m\u001b[0m\n\u001b[0m\u001b[0;32m    445\u001b[0m         \u001b[1;31m# it's a MaskedImage; display Image and overlay Mask\u001b[0m\u001b[1;33m\u001b[0m\u001b[1;33m\u001b[0m\u001b[0m\n\u001b[0;32m    446\u001b[0m         \u001b[1;32melif\u001b[0m \u001b[0misinstance\u001b[0m\u001b[1;33m(\u001b[0m\u001b[0mdata\u001b[0m\u001b[1;33m,\u001b[0m \u001b[0mafwImage\u001b[0m\u001b[1;33m.\u001b[0m\u001b[0mMaskedImage\u001b[0m\u001b[1;33m)\u001b[0m\u001b[1;33m:\u001b[0m\u001b[1;33m\u001b[0m\u001b[0m\n",
      "\u001b[1;32m/home/boutigny/LSST/new/lsstsw/stack/Linux64/display_ds9/13.0-2-g6174d4c+2/python/lsst/display/ds9/ds9.pyc\u001b[0m in \u001b[0;36m_mtv\u001b[1;34m(self, image, mask, wcs, title)\u001b[0m\n\u001b[0;32m    346\u001b[0m \u001b[1;33m\u001b[0m\u001b[0m\n\u001b[0;32m    347\u001b[0m                 \u001b[0mds9Cmd\u001b[0m\u001b[1;33m(\u001b[0m\u001b[1;34m\"mask color %s\"\u001b[0m \u001b[1;33m%\u001b[0m \u001b[0mcolor\u001b[0m\u001b[1;33m)\u001b[0m\u001b[1;33m\u001b[0m\u001b[0m\n\u001b[1;32m--> 348\u001b[1;33m                 \u001b[0m_i_mtv\u001b[0m\u001b[1;33m(\u001b[0m\u001b[0mmask1\u001b[0m\u001b[1;33m,\u001b[0m \u001b[0mwcs\u001b[0m\u001b[1;33m,\u001b[0m \u001b[0mtitle\u001b[0m\u001b[1;33m,\u001b[0m \u001b[0mTrue\u001b[0m\u001b[1;33m)\u001b[0m\u001b[1;33m\u001b[0m\u001b[0m\n\u001b[0m\u001b[0;32m    349\u001b[0m     \u001b[1;31m#\u001b[0m\u001b[1;33m\u001b[0m\u001b[1;33m\u001b[0m\u001b[0m\n\u001b[0;32m    350\u001b[0m     \u001b[1;31m# Graphics commands\u001b[0m\u001b[1;33m\u001b[0m\u001b[1;33m\u001b[0m\u001b[0m\n",
      "\u001b[1;32m/home/boutigny/LSST/new/lsstsw/stack/Linux64/display_ds9/13.0-2-g6174d4c+2/python/lsst/display/ds9/ds9.pyc\u001b[0m in \u001b[0;36m_i_mtv\u001b[1;34m(data, wcs, title, isMask)\u001b[0m\n\u001b[0;32m    490\u001b[0m             \u001b[1;32mpass\u001b[0m\u001b[1;33m\u001b[0m\u001b[0m\n\u001b[0;32m    491\u001b[0m \u001b[1;33m\u001b[0m\u001b[0m\n\u001b[1;32m--> 492\u001b[1;33m         \u001b[1;32mraise\u001b[0m \u001b[0me\u001b[0m\u001b[1;33m\u001b[0m\u001b[0m\n\u001b[0m\u001b[0;32m    493\u001b[0m \u001b[1;33m\u001b[0m\u001b[0m\n\u001b[0;32m    494\u001b[0m     \u001b[1;32mtry\u001b[0m\u001b[1;33m:\u001b[0m\u001b[1;33m\u001b[0m\u001b[0m\n",
      "\u001b[1;31mTypeError\u001b[0m: writeFitsImage(): incompatible function arguments. The following argument types are supported:\n    1. (fd: int, data: lsst.afw.image.image.image.ImageU, wcs: lsst.afw.image.wcs.wcs.Wcs=0L, title: unicode=0L) -> None\n    2. (filename: unicode, data: lsst.afw.image.image.image.ImageU, wcs: lsst.afw.image.wcs.wcs.Wcs=0L, title: unicode=0L) -> None\n    3. (fd: int, data: lsst.afw.image.image.image.ImageL, wcs: lsst.afw.image.wcs.wcs.Wcs=0L, title: unicode=0L) -> None\n    4. (filename: unicode, data: lsst.afw.image.image.image.ImageL, wcs: lsst.afw.image.wcs.wcs.Wcs=0L, title: unicode=0L) -> None\n    5. (fd: int, data: lsst.afw.image.image.image.ImageI, wcs: lsst.afw.image.wcs.wcs.Wcs=0L, title: unicode=0L) -> None\n    6. (filename: unicode, data: lsst.afw.image.image.image.ImageI, wcs: lsst.afw.image.wcs.wcs.Wcs=0L, title: unicode=0L) -> None\n    7. (fd: int, data: lsst.afw.image.image.image.ImageF, wcs: lsst.afw.image.wcs.wcs.Wcs=0L, title: unicode=0L) -> None\n    8. (filename: unicode, data: lsst.afw.image.image.image.ImageF, wcs: lsst.afw.image.wcs.wcs.Wcs=0L, title: unicode=0L) -> None\n    9. (fd: int, data: lsst.afw.image.image.image.ImageD, wcs: lsst.afw.image.wcs.wcs.Wcs=0L, title: unicode=0L) -> None\n    10. (filename: unicode, data: lsst.afw.image.image.image.ImageD, wcs: lsst.afw.image.wcs.wcs.Wcs=0L, title: unicode=0L) -> None\n    11. (fd: int, data: lsst::afw::image::Mask<unsigned short>, wcs: lsst.afw.image.wcs.wcs.Wcs=0L, title: unicode=0L) -> None\n    12. (filename: unicode, data: lsst::afw::image::Mask<unsigned short>, wcs: lsst.afw.image.wcs.wcs.Wcs=0L, title: unicode=0L) -> None\n\nInvoked with: 57, <lsst.afw.image.mask.mask.MaskX object at 0x7fe093ae7d88>, None, ''"
     ]
    }
   ],
   "source": [
    "import lsst.daf.persistence as dafPersist\n",
    "import lsst.afw.display.ds9 as ds9\n",
    "import numpy\n",
    "\n",
    "butler = dafPersist.Butler(\"/sps/lsst/dev/lsstprod/hsc/SXDS/output\")\n",
    "dataid = {'filter':'g', 'tract':0, 'patch':'8,9'}\n",
    "\n",
    "exp = butler.get('deepCoadd', dataid)\n",
    "\n",
    "ds9.mtv(exp.getMaskedImage().getImage(),frame=1)\n",
    "ds9.mtv(exp.getMaskedImage().getMask(),frame=2)\n",
    "ds9.mtv(exp.getMaskedImage().getVariance(),frame=3)"
   ]
  },
  {
   "cell_type": "code",
   "execution_count": null,
   "metadata": {
    "collapsed": false,
    "jupyter": {
     "outputs_hidden": false
    }
   },
   "outputs": [],
   "source": [
    "import lsst.daf.persistence as dafPersist\n",
    "import lsst.afw.display.ds9 as ds9\n",
    "import numpy\n",
    "\n",
    "butler = dafPersist.Butler(\"/home/boutigny/LSST/CFHT/D3/output\")\n",
    "dataid = {'visit':994925, 'filter':'u', 'ccd':27}\n",
    "\n",
    "exp = butler.get('raw', dataid)\n",
    "ds9.mtv(exp.getMaskedImage().getImage(),frame=1)"
   ]
  },
  {
   "cell_type": "code",
   "execution_count": null,
   "metadata": {
    "collapsed": false,
    "jupyter": {
     "outputs_hidden": false
    }
   },
   "outputs": [],
   "source": [
    "cal_md = butler.get('calexp_md', dataid)\n",
    "RA = cal_md.get(\"RA\")\n",
    "DEC = cal_md.get(\"DEC\")\n",
    "filt = cal_md.get(\"FILTER\")\n",
    "\n",
    "print RA, DEC, filt, cal_md.get(\"FILTERID\"), cal_md.get(\"QOBSERVE\")"
   ]
  },
  {
   "cell_type": "code",
   "execution_count": 3,
   "metadata": {
    "collapsed": false,
    "jupyter": {
     "outputs_hidden": false
    }
   },
   "outputs": [],
   "source": [
    "import lsst.daf.persistence as dafPersist\n",
    "import lsst.afw.display.ds9 as ds9\n",
    "import numpy\n",
    "\n",
    "butler = dafPersist.Butler(\"/home/boutigny/LSST/CFHT/clusters/3C295/output\")\n",
    "dataid = {'visit':860011, 'filter':'r', 'ccd':24}\n",
    "exp = butler.get('calexp', dataid)\n",
    "wcs = exp.getWcs()\n",
    "ds9.mtv(exp.getMaskedImage().getImage(),frame=1, wcs=wcs)\n",
    "\n",
    "dataid = {'visit':781215, 'filter':'r', 'ccd':34}\n",
    "exp3 = butler.get('calexp', dataid)\n",
    "wcs = exp3.getWcs()\n",
    "ds9.mtv(exp3.getMaskedImage().getImage(),frame=2, wcs=wcs)"
   ]
  },
  {
   "cell_type": "code",
   "execution_count": null,
   "metadata": {
    "collapsed": false,
    "jupyter": {
     "outputs_hidden": false
    }
   },
   "outputs": [],
   "source": [
    "import lsst.daf.persistence as dafPersist\n",
    "import lsst.afw.display.ds9 as ds9\n",
    "import numpy\n",
    "\n",
    "butler = dafPersist.Butler(\"/home/boutigny/LSST/CFHT/clusters/3C295/output\")\n",
    "dataid = {'visit':967616, 'filter':'r', 'ccd':7}\n",
    "exp = butler.get('calexp', dataid)\n",
    "wcs = exp.getWcs()\n",
    "ds9.mtv(exp.getMaskedImage().getImage(),frame=1, wcs=wcs)"
   ]
  },
  {
   "cell_type": "code",
   "execution_count": 8,
   "metadata": {
    "collapsed": false,
    "jupyter": {
     "outputs_hidden": false
    }
   },
   "outputs": [],
   "source": [
    "import lsst.daf.persistence as dafPersist\n",
    "import lsst.afw.image as afwImage\n",
    "import lsst.afw.display.ds9 as ds9\n",
    "import numpy\n",
    "\n",
    "butler = dafPersist.Butler(\"/home/boutigny/LSST/CFHT/D3/output/coadd_dir\")\n",
    "\n",
    "visit = [793169, 838864, 849375, 895369, 918238, 996230]\n",
    "ccd = [31, 31, 31, 31, 31, 31]\n",
    "\n",
    "for i in range(5) :\n",
    "    v = visit[i]\n",
    "    c = ccd[i]\n",
    "    dataid = {'visit':v, 'ccd':c}\n",
    "    dataidwcs = {'visit':v, 'ccd':c, 'tract':0}\n",
    "    exp = butler.get('calexp', dataid)\n",
    "    newWcs = butler.get('wcs', dataidwcs)\n",
    "#    wcs = afwImage.TanWcs.cast(newWcs.getWcs())\n",
    "    wcs = exp.getWcs()\n",
    "    ds9.mtv(exp.getMaskedImage().getImage(),frame=i,wcs=wcs)"
   ]
  },
  {
   "cell_type": "code",
   "execution_count": null,
   "metadata": {
    "collapsed": true,
    "jupyter": {
     "outputs_hidden": true
    }
   },
   "outputs": [],
   "source": []
  }
 ],
 "metadata": {
  "kernelspec": {
   "display_name": "lsst_distrib",
   "language": "python",
   "name": "lsst_distrib"
  },
  "language_info": {
   "codemirror_mode": {
    "name": "ipython",
    "version": 3
   },
   "file_extension": ".py",
   "mimetype": "text/x-python",
   "name": "python",
   "nbconvert_exporter": "python",
   "pygments_lexer": "ipython3",
   "version": "3.7.6"
  }
 },
 "nbformat": 4,
 "nbformat_minor": 4
}
