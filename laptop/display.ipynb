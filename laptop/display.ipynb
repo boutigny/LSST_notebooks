{
 "cells": [
  {
   "cell_type": "code",
   "execution_count": 1,
   "metadata": {
    "collapsed": false
   },
   "outputs": [
    {
     "name": "stdout",
     "output_type": "stream",
     "text": [
      "ds9 doesn't appear to be running (XPA: \n",
      "  File \"python/lsst/display/ds9/xpa.cc\", line 115, in const char* lsst::display::ds9::{anonymous}::XPASet1(XPA, char*, char*, char*, char*, int)\n",
      "    XPASet returned 0 {0}\n",
      "lsst::pex::exceptions::IoError: 'XPASet returned 0'\n",
      ", (;iconify no; raise)), I'll try to exec it for you\n"
     ]
    }
   ],
   "source": [
    "import lsst.daf.persistence as dafPersist\n",
    "import lsst.afw.display.ds9 as ds9\n",
    "import numpy\n",
    "\n",
    "#butler = dafPersist.Butler(\"/home/boutigny/LSST/CFHT/clusters/3C295/output\")\n",
    "butler = dafPersist.Butler(\"/home/boutigny/LSST/CFHT/yuichi/output\")\n",
    "#butler = dafPersist.Butler(\"/home/boutigny/LSST/CFHT/SXDS/output\")\n",
    "butler = dafPersist.Butler(\"/sps/lsst/dev/lsstprod/hsc/SSP_UDEEP_COSMOS/output\")\n",
    "#dataid = {'visit':9832, 'ccd':85}\n",
    "dataid = {'visit':1220, 'ccd':77}\n",
    "\n",
    "#exp = butler.get('calexp', dataid)\n",
    "#wcs = exp.getWcs()\n",
    "raw = butler.get('raw', dataid)\n",
    "wcsRaw = raw.getWcs()\n",
    "\n",
    "#ds9.mtv(exp.getMaskedImage().getImage(),frame=1,wcs=wcs)\n",
    "ds9.mtv(raw.getMaskedImage().getImage(),frame=2,wcs=wcsRaw)\n",
    "#ds9.mtv(exp.getMaskedImage().getMask(),frame=2)\n",
    "#ds9.mtv(exp.getMaskedImage().getVariance(),frame=3)"
   ]
  },
  {
   "cell_type": "code",
   "execution_count": 3,
   "metadata": {
    "collapsed": false
   },
   "outputs": [],
   "source": [
    "sources = butler.get('src', dataid)\n",
    "for src in sources:\n",
    "    centroid = src.getCentroid()\n",
    "    with ds9.Buffering():\n",
    "        ds9.dot('+', centroid.getX(), centroid.getY(), frame=1)"
   ]
  },
  {
   "cell_type": "code",
   "execution_count": null,
   "metadata": {
    "collapsed": false
   },
   "outputs": [],
   "source": [
    "import lsst.daf.persistence as dafPersist\n",
    "import lsst.afw.display.ds9 as ds9\n",
    "import numpy\n",
    "\n",
    "butler = dafPersist.Butler(\"/sps/lsst/dev/lsstprod/hsc/SXDS/output\")\n",
    "dataid = {'visit':912206, 'filter':'r', 'tract':1, 'patch':'7,0', 'ccd':34}\n",
    "\n",
    "exp = butler.get('deepCoadd_tempExp', dataid)\n",
    "\n",
    "ds9.mtv(exp.getMaskedImage().getImage(),frame=1)\n",
    "ds9.mtv(exp.getMaskedImage().getMask(),frame=2)\n",
    "ds9.mtv(exp.getMaskedImage().getVariance(),frame=3)"
   ]
  },
  {
   "cell_type": "code",
   "execution_count": 2,
   "metadata": {
    "collapsed": false
   },
   "outputs": [
    {
     "ename": "TypeError",
     "evalue": "writeFitsImage(): incompatible function arguments. The following argument types are supported:\n    1. (fd: int, data: lsst.afw.image.image.image.ImageU, wcs: lsst.afw.image.wcs.wcs.Wcs=0L, title: unicode=0L) -> None\n    2. (filename: unicode, data: lsst.afw.image.image.image.ImageU, wcs: lsst.afw.image.wcs.wcs.Wcs=0L, title: unicode=0L) -> None\n    3. (fd: int, data: lsst.afw.image.image.image.ImageL, wcs: lsst.afw.image.wcs.wcs.Wcs=0L, title: unicode=0L) -> None\n    4. (filename: unicode, data: lsst.afw.image.image.image.ImageL, wcs: lsst.afw.image.wcs.wcs.Wcs=0L, title: unicode=0L) -> None\n    5. (fd: int, data: lsst.afw.image.image.image.ImageI, wcs: lsst.afw.image.wcs.wcs.Wcs=0L, title: unicode=0L) -> None\n    6. (filename: unicode, data: lsst.afw.image.image.image.ImageI, wcs: lsst.afw.image.wcs.wcs.Wcs=0L, title: unicode=0L) -> None\n    7. (fd: int, data: lsst.afw.image.image.image.ImageF, wcs: lsst.afw.image.wcs.wcs.Wcs=0L, title: unicode=0L) -> None\n    8. (filename: unicode, data: lsst.afw.image.image.image.ImageF, wcs: lsst.afw.image.wcs.wcs.Wcs=0L, title: unicode=0L) -> None\n    9. (fd: int, data: lsst.afw.image.image.image.ImageD, wcs: lsst.afw.image.wcs.wcs.Wcs=0L, title: unicode=0L) -> None\n    10. (filename: unicode, data: lsst.afw.image.image.image.ImageD, wcs: lsst.afw.image.wcs.wcs.Wcs=0L, title: unicode=0L) -> None\n    11. (fd: int, data: lsst::afw::image::Mask<unsigned short>, wcs: lsst.afw.image.wcs.wcs.Wcs=0L, title: unicode=0L) -> None\n    12. (filename: unicode, data: lsst::afw::image::Mask<unsigned short>, wcs: lsst.afw.image.wcs.wcs.Wcs=0L, title: unicode=0L) -> None\n\nInvoked with: 57, <lsst.afw.image.mask.mask.MaskX object at 0x7fe093ae7d88>, None, ''",
     "output_type": "error",
     "traceback": [
      "\u001b[1;31m---------------------------------------------------------------------------\u001b[0m",
      "\u001b[1;31mTypeError\u001b[0m                                 Traceback (most recent call last)",
      "\u001b[1;32m<ipython-input-2-9eaef8cbdc31>\u001b[0m in \u001b[0;36m<module>\u001b[1;34m()\u001b[0m\n\u001b[0;32m      9\u001b[0m \u001b[1;33m\u001b[0m\u001b[0m\n\u001b[0;32m     10\u001b[0m \u001b[0mds9\u001b[0m\u001b[1;33m.\u001b[0m\u001b[0mmtv\u001b[0m\u001b[1;33m(\u001b[0m\u001b[0mexp\u001b[0m\u001b[1;33m.\u001b[0m\u001b[0mgetMaskedImage\u001b[0m\u001b[1;33m(\u001b[0m\u001b[1;33m)\u001b[0m\u001b[1;33m.\u001b[0m\u001b[0mgetImage\u001b[0m\u001b[1;33m(\u001b[0m\u001b[1;33m)\u001b[0m\u001b[1;33m,\u001b[0m\u001b[0mframe\u001b[0m\u001b[1;33m=\u001b[0m\u001b[1;36m1\u001b[0m\u001b[1;33m)\u001b[0m\u001b[1;33m\u001b[0m\u001b[0m\n\u001b[1;32m---> 11\u001b[1;33m \u001b[0mds9\u001b[0m\u001b[1;33m.\u001b[0m\u001b[0mmtv\u001b[0m\u001b[1;33m(\u001b[0m\u001b[0mexp\u001b[0m\u001b[1;33m.\u001b[0m\u001b[0mgetMaskedImage\u001b[0m\u001b[1;33m(\u001b[0m\u001b[1;33m)\u001b[0m\u001b[1;33m.\u001b[0m\u001b[0mgetMask\u001b[0m\u001b[1;33m(\u001b[0m\u001b[1;33m)\u001b[0m\u001b[1;33m,\u001b[0m\u001b[0mframe\u001b[0m\u001b[1;33m=\u001b[0m\u001b[1;36m2\u001b[0m\u001b[1;33m)\u001b[0m\u001b[1;33m\u001b[0m\u001b[0m\n\u001b[0m\u001b[0;32m     12\u001b[0m \u001b[0mds9\u001b[0m\u001b[1;33m.\u001b[0m\u001b[0mmtv\u001b[0m\u001b[1;33m(\u001b[0m\u001b[0mexp\u001b[0m\u001b[1;33m.\u001b[0m\u001b[0mgetMaskedImage\u001b[0m\u001b[1;33m(\u001b[0m\u001b[1;33m)\u001b[0m\u001b[1;33m.\u001b[0m\u001b[0mgetVariance\u001b[0m\u001b[1;33m(\u001b[0m\u001b[1;33m)\u001b[0m\u001b[1;33m,\u001b[0m\u001b[0mframe\u001b[0m\u001b[1;33m=\u001b[0m\u001b[1;36m3\u001b[0m\u001b[1;33m)\u001b[0m\u001b[1;33m\u001b[0m\u001b[0m\n",
      "\u001b[1;32m/home/boutigny/LSST/new/lsstsw/stack/Linux64/afw/13.0-79-g5ec2c48/python/lsst/afw/display/ds9.pyc\u001b[0m in \u001b[0;36mmtv\u001b[1;34m(data, frame, title, wcs, *args, **kwargs)\u001b[0m\n\u001b[0;32m    100\u001b[0m \u001b[1;33m\u001b[0m\u001b[0m\n\u001b[0;32m    101\u001b[0m \u001b[1;32mdef\u001b[0m \u001b[0mmtv\u001b[0m\u001b[1;33m(\u001b[0m\u001b[0mdata\u001b[0m\u001b[1;33m,\u001b[0m \u001b[0mframe\u001b[0m\u001b[1;33m=\u001b[0m\u001b[0mNone\u001b[0m\u001b[1;33m,\u001b[0m \u001b[0mtitle\u001b[0m\u001b[1;33m=\u001b[0m\u001b[1;34m\"\"\u001b[0m\u001b[1;33m,\u001b[0m \u001b[0mwcs\u001b[0m\u001b[1;33m=\u001b[0m\u001b[0mNone\u001b[0m\u001b[1;33m,\u001b[0m \u001b[1;33m*\u001b[0m\u001b[0margs\u001b[0m\u001b[1;33m,\u001b[0m \u001b[1;33m**\u001b[0m\u001b[0mkwargs\u001b[0m\u001b[1;33m)\u001b[0m\u001b[1;33m:\u001b[0m\u001b[1;33m\u001b[0m\u001b[0m\n\u001b[1;32m--> 102\u001b[1;33m     \u001b[1;32mreturn\u001b[0m \u001b[0mgetDisplay\u001b[0m\u001b[1;33m(\u001b[0m\u001b[0mframe\u001b[0m\u001b[1;33m,\u001b[0m \u001b[0mcreate\u001b[0m\u001b[1;33m=\u001b[0m\u001b[0mTrue\u001b[0m\u001b[1;33m)\u001b[0m\u001b[1;33m.\u001b[0m\u001b[0mmtv\u001b[0m\u001b[1;33m(\u001b[0m\u001b[0mdata\u001b[0m\u001b[1;33m,\u001b[0m \u001b[0mtitle\u001b[0m\u001b[1;33m,\u001b[0m \u001b[0mwcs\u001b[0m\u001b[1;33m,\u001b[0m \u001b[1;33m*\u001b[0m\u001b[0margs\u001b[0m\u001b[1;33m,\u001b[0m \u001b[1;33m**\u001b[0m\u001b[0mkwargs\u001b[0m\u001b[1;33m)\u001b[0m\u001b[1;33m\u001b[0m\u001b[0m\n\u001b[0m\u001b[0;32m    103\u001b[0m \u001b[1;33m\u001b[0m\u001b[0m\n\u001b[0;32m    104\u001b[0m \u001b[1;33m\u001b[0m\u001b[0m\n",
      "\u001b[1;32m/home/boutigny/LSST/new/lsstsw/stack/Linux64/afw/13.0-79-g5ec2c48/python/lsst/afw/display/interface.pyc\u001b[0m in \u001b[0;36mmtv\u001b[1;34m(self, data, title, wcs)\u001b[0m\n\u001b[0;32m    442\u001b[0m             \u001b[1;31m# with pixel values set to the mask\u001b[0m\u001b[1;33m\u001b[0m\u001b[1;33m\u001b[0m\u001b[0m\n\u001b[0;32m    443\u001b[0m             \u001b[1;31m#\u001b[0m\u001b[1;33m\u001b[0m\u001b[1;33m\u001b[0m\u001b[0m\n\u001b[1;32m--> 444\u001b[1;33m             \u001b[0mself\u001b[0m\u001b[1;33m.\u001b[0m\u001b[0m_impl\u001b[0m\u001b[1;33m.\u001b[0m\u001b[0m_mtv\u001b[0m\u001b[1;33m(\u001b[0m\u001b[0mafwImage\u001b[0m\u001b[1;33m.\u001b[0m\u001b[0mImageI\u001b[0m\u001b[1;33m(\u001b[0m\u001b[0mdata\u001b[0m\u001b[1;33m.\u001b[0m\u001b[0mgetArray\u001b[0m\u001b[1;33m(\u001b[0m\u001b[1;33m)\u001b[0m\u001b[1;33m)\u001b[0m\u001b[1;33m,\u001b[0m \u001b[0mdata\u001b[0m\u001b[1;33m,\u001b[0m \u001b[0mwcs\u001b[0m\u001b[1;33m,\u001b[0m \u001b[0mtitle\u001b[0m\u001b[1;33m)\u001b[0m\u001b[1;33m\u001b[0m\u001b[0m\n\u001b[0m\u001b[0;32m    445\u001b[0m         \u001b[1;31m# it's a MaskedImage; display Image and overlay Mask\u001b[0m\u001b[1;33m\u001b[0m\u001b[1;33m\u001b[0m\u001b[0m\n\u001b[0;32m    446\u001b[0m         \u001b[1;32melif\u001b[0m \u001b[0misinstance\u001b[0m\u001b[1;33m(\u001b[0m\u001b[0mdata\u001b[0m\u001b[1;33m,\u001b[0m \u001b[0mafwImage\u001b[0m\u001b[1;33m.\u001b[0m\u001b[0mMaskedImage\u001b[0m\u001b[1;33m)\u001b[0m\u001b[1;33m:\u001b[0m\u001b[1;33m\u001b[0m\u001b[0m\n",
      "\u001b[1;32m/home/boutigny/LSST/new/lsstsw/stack/Linux64/display_ds9/13.0-2-g6174d4c+2/python/lsst/display/ds9/ds9.pyc\u001b[0m in \u001b[0;36m_mtv\u001b[1;34m(self, image, mask, wcs, title)\u001b[0m\n\u001b[0;32m    346\u001b[0m \u001b[1;33m\u001b[0m\u001b[0m\n\u001b[0;32m    347\u001b[0m                 \u001b[0mds9Cmd\u001b[0m\u001b[1;33m(\u001b[0m\u001b[1;34m\"mask color %s\"\u001b[0m \u001b[1;33m%\u001b[0m \u001b[0mcolor\u001b[0m\u001b[1;33m)\u001b[0m\u001b[1;33m\u001b[0m\u001b[0m\n\u001b[1;32m--> 348\u001b[1;33m                 \u001b[0m_i_mtv\u001b[0m\u001b[1;33m(\u001b[0m\u001b[0mmask1\u001b[0m\u001b[1;33m,\u001b[0m \u001b[0mwcs\u001b[0m\u001b[1;33m,\u001b[0m \u001b[0mtitle\u001b[0m\u001b[1;33m,\u001b[0m \u001b[0mTrue\u001b[0m\u001b[1;33m)\u001b[0m\u001b[1;33m\u001b[0m\u001b[0m\n\u001b[0m\u001b[0;32m    349\u001b[0m     \u001b[1;31m#\u001b[0m\u001b[1;33m\u001b[0m\u001b[1;33m\u001b[0m\u001b[0m\n\u001b[0;32m    350\u001b[0m     \u001b[1;31m# Graphics commands\u001b[0m\u001b[1;33m\u001b[0m\u001b[1;33m\u001b[0m\u001b[0m\n",
      "\u001b[1;32m/home/boutigny/LSST/new/lsstsw/stack/Linux64/display_ds9/13.0-2-g6174d4c+2/python/lsst/display/ds9/ds9.pyc\u001b[0m in \u001b[0;36m_i_mtv\u001b[1;34m(data, wcs, title, isMask)\u001b[0m\n\u001b[0;32m    490\u001b[0m             \u001b[1;32mpass\u001b[0m\u001b[1;33m\u001b[0m\u001b[0m\n\u001b[0;32m    491\u001b[0m \u001b[1;33m\u001b[0m\u001b[0m\n\u001b[1;32m--> 492\u001b[1;33m         \u001b[1;32mraise\u001b[0m \u001b[0me\u001b[0m\u001b[1;33m\u001b[0m\u001b[0m\n\u001b[0m\u001b[0;32m    493\u001b[0m \u001b[1;33m\u001b[0m\u001b[0m\n\u001b[0;32m    494\u001b[0m     \u001b[1;32mtry\u001b[0m\u001b[1;33m:\u001b[0m\u001b[1;33m\u001b[0m\u001b[0m\n",
      "\u001b[1;31mTypeError\u001b[0m: writeFitsImage(): incompatible function arguments. The following argument types are supported:\n    1. (fd: int, data: lsst.afw.image.image.image.ImageU, wcs: lsst.afw.image.wcs.wcs.Wcs=0L, title: unicode=0L) -> None\n    2. (filename: unicode, data: lsst.afw.image.image.image.ImageU, wcs: lsst.afw.image.wcs.wcs.Wcs=0L, title: unicode=0L) -> None\n    3. (fd: int, data: lsst.afw.image.image.image.ImageL, wcs: lsst.afw.image.wcs.wcs.Wcs=0L, title: unicode=0L) -> None\n    4. (filename: unicode, data: lsst.afw.image.image.image.ImageL, wcs: lsst.afw.image.wcs.wcs.Wcs=0L, title: unicode=0L) -> None\n    5. (fd: int, data: lsst.afw.image.image.image.ImageI, wcs: lsst.afw.image.wcs.wcs.Wcs=0L, title: unicode=0L) -> None\n    6. (filename: unicode, data: lsst.afw.image.image.image.ImageI, wcs: lsst.afw.image.wcs.wcs.Wcs=0L, title: unicode=0L) -> None\n    7. (fd: int, data: lsst.afw.image.image.image.ImageF, wcs: lsst.afw.image.wcs.wcs.Wcs=0L, title: unicode=0L) -> None\n    8. (filename: unicode, data: lsst.afw.image.image.image.ImageF, wcs: lsst.afw.image.wcs.wcs.Wcs=0L, title: unicode=0L) -> None\n    9. (fd: int, data: lsst.afw.image.image.image.ImageD, wcs: lsst.afw.image.wcs.wcs.Wcs=0L, title: unicode=0L) -> None\n    10. (filename: unicode, data: lsst.afw.image.image.image.ImageD, wcs: lsst.afw.image.wcs.wcs.Wcs=0L, title: unicode=0L) -> None\n    11. (fd: int, data: lsst::afw::image::Mask<unsigned short>, wcs: lsst.afw.image.wcs.wcs.Wcs=0L, title: unicode=0L) -> None\n    12. (filename: unicode, data: lsst::afw::image::Mask<unsigned short>, wcs: lsst.afw.image.wcs.wcs.Wcs=0L, title: unicode=0L) -> None\n\nInvoked with: 57, <lsst.afw.image.mask.mask.MaskX object at 0x7fe093ae7d88>, None, ''"
     ]
    }
   ],
   "source": [
    "import lsst.daf.persistence as dafPersist\n",
    "import lsst.afw.display.ds9 as ds9\n",
    "import numpy\n",
    "\n",
    "butler = dafPersist.Butler(\"/sps/lsst/dev/lsstprod/hsc/SXDS/output\")\n",
    "dataid = {'filter':'g', 'tract':0, 'patch':'8,9'}\n",
    "\n",
    "exp = butler.get('deepCoadd', dataid)\n",
    "\n",
    "ds9.mtv(exp.getMaskedImage().getImage(),frame=1)\n",
    "ds9.mtv(exp.getMaskedImage().getMask(),frame=2)\n",
    "ds9.mtv(exp.getMaskedImage().getVariance(),frame=3)"
   ]
  },
  {
   "cell_type": "code",
   "execution_count": null,
   "metadata": {
    "collapsed": false
   },
   "outputs": [],
   "source": [
    "import lsst.daf.persistence as dafPersist\n",
    "import lsst.afw.display.ds9 as ds9\n",
    "import numpy\n",
    "\n",
    "butler = dafPersist.Butler(\"/home/boutigny/LSST/CFHT/D3/output\")\n",
    "dataid = {'visit':994925, 'filter':'u', 'ccd':27}\n",
    "\n",
    "exp = butler.get('raw', dataid)\n",
    "ds9.mtv(exp.getMaskedImage().getImage(),frame=1)"
   ]
  },
  {
   "cell_type": "code",
   "execution_count": null,
   "metadata": {
    "collapsed": false
   },
   "outputs": [],
   "source": [
    "cal_md = butler.get('calexp_md', dataid)\n",
    "RA = cal_md.get(\"RA\")\n",
    "DEC = cal_md.get(\"DEC\")\n",
    "filt = cal_md.get(\"FILTER\")\n",
    "\n",
    "print RA, DEC, filt, cal_md.get(\"FILTERID\"), cal_md.get(\"QOBSERVE\")"
   ]
  },
  {
   "cell_type": "code",
   "execution_count": 3,
   "metadata": {
    "collapsed": false
   },
   "outputs": [],
   "source": [
    "import lsst.daf.persistence as dafPersist\n",
    "import lsst.afw.display.ds9 as ds9\n",
    "import numpy\n",
    "\n",
    "butler = dafPersist.Butler(\"/home/boutigny/LSST/CFHT/clusters/3C295/output\")\n",
    "dataid = {'visit':860011, 'filter':'r', 'ccd':24}\n",
    "exp = butler.get('calexp', dataid)\n",
    "wcs = exp.getWcs()\n",
    "ds9.mtv(exp.getMaskedImage().getImage(),frame=1, wcs=wcs)\n",
    "\n",
    "dataid = {'visit':781215, 'filter':'r', 'ccd':34}\n",
    "exp3 = butler.get('calexp', dataid)\n",
    "wcs = exp3.getWcs()\n",
    "ds9.mtv(exp3.getMaskedImage().getImage(),frame=2, wcs=wcs)"
   ]
  },
  {
   "cell_type": "code",
   "execution_count": null,
   "metadata": {
    "collapsed": false
   },
   "outputs": [],
   "source": [
    "import lsst.daf.persistence as dafPersist\n",
    "import lsst.afw.display.ds9 as ds9\n",
    "import numpy\n",
    "\n",
    "butler = dafPersist.Butler(\"/home/boutigny/LSST/CFHT/clusters/3C295/output\")\n",
    "dataid = {'visit':967616, 'filter':'r', 'ccd':7}\n",
    "exp = butler.get('calexp', dataid)\n",
    "wcs = exp.getWcs()\n",
    "ds9.mtv(exp.getMaskedImage().getImage(),frame=1, wcs=wcs)"
   ]
  },
  {
   "cell_type": "code",
   "execution_count": 8,
   "metadata": {
    "collapsed": false
   },
   "outputs": [],
   "source": [
    "import lsst.daf.persistence as dafPersist\n",
    "import lsst.afw.image as afwImage\n",
    "import lsst.afw.display.ds9 as ds9\n",
    "import numpy\n",
    "\n",
    "butler = dafPersist.Butler(\"/home/boutigny/LSST/CFHT/D3/output/coadd_dir\")\n",
    "\n",
    "visit = [793169, 838864, 849375, 895369, 918238, 996230]\n",
    "ccd = [31, 31, 31, 31, 31, 31]\n",
    "\n",
    "for i in range(5) :\n",
    "    v = visit[i]\n",
    "    c = ccd[i]\n",
    "    dataid = {'visit':v, 'ccd':c}\n",
    "    dataidwcs = {'visit':v, 'ccd':c, 'tract':0}\n",
    "    exp = butler.get('calexp', dataid)\n",
    "    newWcs = butler.get('wcs', dataidwcs)\n",
    "#    wcs = afwImage.TanWcs.cast(newWcs.getWcs())\n",
    "    wcs = exp.getWcs()\n",
    "    ds9.mtv(exp.getMaskedImage().getImage(),frame=i,wcs=wcs)"
   ]
  },
  {
   "cell_type": "code",
   "execution_count": null,
   "metadata": {
    "collapsed": true
   },
   "outputs": [],
   "source": []
  }
 ],
 "metadata": {
  "kernelspec": {
   "display_name": "Python 2",
   "language": "python",
   "name": "python2"
  },
  "language_info": {
   "codemirror_mode": {
    "name": "ipython",
    "version": 2
   },
   "file_extension": ".py",
   "mimetype": "text/x-python",
   "name": "python",
   "nbconvert_exporter": "python",
   "pygments_lexer": "ipython2",
   "version": "2.7.12"
  }
 },
 "nbformat": 4,
 "nbformat_minor": 0
}
