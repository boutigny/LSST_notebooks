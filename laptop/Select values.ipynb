{
 "metadata": {
  "name": ""
 },
 "nbformat": 3,
 "nbformat_minor": 0,
 "worksheets": [
  {
   "cells": [
    {
     "cell_type": "code",
     "collapsed": false,
     "input": [
      "import numpy as np\n",
      "\n",
      "a = []\n",
      "for i in range (0,10) :\n",
      "    a.append(i*1.63)\n",
      "\n",
      "a.append(5.4)\n",
      "a.append(6.2)\n",
      "a.append(5.1)\n",
      "    \n",
      "print a    \n",
      "indx = np.where((np.asarray(a)>1) & (np.asarray(a)<14))\n",
      "print indx\n",
      "b = np.asarray(a)[indx]\n",
      "print b\n",
      "\n",
      "hist, bin_edges = np.histogram(b,bins=5,range=(0.,15.))\n",
      "print hist, np.argmax(hist), np.amax(hist)\n",
      "print bin_edges\n",
      "\n"
     ],
     "language": "python",
     "metadata": {},
     "outputs": [
      {
       "output_type": "stream",
       "stream": "stdout",
       "text": [
        "[0.0, 1.63, 3.26, 4.89, 6.52, 8.149999999999999, 9.78, 11.41, 13.04, 14.669999999999998, 5.4, 6.2, 5.1]\n",
        "(array([ 1,  2,  3,  4,  5,  6,  7,  8, 10, 11, 12]),)\n",
        "[  1.63   3.26   4.89   6.52   8.15   9.78  11.41  13.04   5.4    6.2    5.1 ]\n",
        "[1 4 3 2 1] 1 4\n",
        "[  0.   3.   6.   9.  12.  15.]\n"
       ]
      }
     ],
     "prompt_number": 24
    },
    {
     "cell_type": "code",
     "collapsed": false,
     "input": [],
     "language": "python",
     "metadata": {},
     "outputs": []
    }
   ],
   "metadata": {}
  }
 ]
}