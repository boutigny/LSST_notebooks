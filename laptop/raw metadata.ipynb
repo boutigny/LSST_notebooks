{
 "metadata": {
  "name": ""
 },
 "nbformat": 3,
 "nbformat_minor": 0,
 "worksheets": [
  {
   "cells": [
    {
     "cell_type": "code",
     "collapsed": false,
     "input": [
      "import lsst.daf.persistence as dafPersist\n",
      "import lsst.afw.display.ds9 as ds9\n",
      "import numpy\n",
      "\n",
      "butler = dafPersist.Butler(\"/home/boutigny/CFHT/test_cfht/input\")\n",
      "\n",
      "visit = [849375, 850181, 850587, 906675, 907254, 912206, 995367, 995974, 996234, 996717]\n",
      "\n",
      "for vis in visit :\n",
      "    for ccd in range(0,1) :\n",
      "        dataid = {'visit':vis, 'filter':'r', 'ccd':ccd}\n",
      "        raw = butler.get('raw', dataid)\n",
      "        print raw.getMetadata().get(\"RA_DEG\"), raw.getMetadata().get(\"DEC_DEG\")\n",
      "\n"
     ],
     "language": "python",
     "metadata": {},
     "outputs": [
      {
       "output_type": "stream",
       "stream": "stdout",
       "text": [
        "214.870375 52.653611\n",
        "214.862125"
       ]
      },
      {
       "output_type": "stream",
       "stream": "stdout",
       "text": [
        " 52.703611\n",
        "214.855708"
       ]
      },
      {
       "output_type": "stream",
       "stream": "stdout",
       "text": [
        " 52.669167\n",
        "214.862583"
       ]
      },
      {
       "output_type": "stream",
       "stream": "stdout",
       "text": [
        " 52.703333\n",
        "214.869458"
       ]
      },
      {
       "output_type": "stream",
       "stream": "stdout",
       "text": [
        " 52.6525\n",
        "214.863042"
       ]
      },
      {
       "output_type": "stream",
       "stream": "stdout",
       "text": [
        " 52.703056\n",
        "214.87725"
       ]
      },
      {
       "output_type": "stream",
       "stream": "stdout",
       "text": [
        " 52.686667\n",
        "214.8575"
       ]
      },
      {
       "output_type": "stream",
       "stream": "stdout",
       "text": [
        " 52.669444\n",
        "214.863042"
       ]
      },
      {
       "output_type": "stream",
       "stream": "stdout",
       "text": [
        " 52.703639\n",
        "214.86625"
       ]
      },
      {
       "output_type": "stream",
       "stream": "stdout",
       "text": [
        " 52.678333\n"
       ]
      }
     ],
     "prompt_number": 9
    },
    {
     "cell_type": "code",
     "collapsed": false,
     "input": [],
     "language": "python",
     "metadata": {},
     "outputs": [
      {
       "metadata": {},
       "output_type": "pyout",
       "prompt_number": 16,
       "text": [
        "('NAXIS',\n",
        " 'EQUINOX',\n",
        " 'RADESYS',\n",
        " 'CRPIX1',\n",
        " 'CRPIX2',\n",
        " 'CD1_1',\n",
        " 'CD1_2',\n",
        " 'CD2_1',\n",
        " 'CD2_2',\n",
        " 'CRVAL1',\n",
        " 'CRVAL2',\n",
        " 'CUNIT1',\n",
        " 'CUNIT2',\n",
        " 'CTYPE1',\n",
        " 'CTYPE2')"
       ]
      }
     ],
     "prompt_number": 16
    },
    {
     "cell_type": "code",
     "collapsed": false,
     "input": [],
     "language": "python",
     "metadata": {},
     "outputs": []
    }
   ],
   "metadata": {}
  }
 ]
}