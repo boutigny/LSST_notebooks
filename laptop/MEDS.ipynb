{
 "cells": [
  {
   "cell_type": "code",
   "execution_count": 4,
   "metadata": {
    "collapsed": false
   },
   "outputs": [],
   "source": [
    "import lsst.daf.persistence as dafPersist\n",
    "import lsst.afw.image as afwImage\n",
    "import lsst.afw.table as afwTable\n",
    "import lsst.afw.geom as afwGeom\n",
    "\n",
    "butler = dafPersist.Butler(\"/home/boutigny/LSST/CFHT/clusters/MACSJ2243.3-0935/output/coadd_dir_cc\")\n",
    "dataid = {'tract':0, 'patch':\"1,4\", 'filter':'r'}\n",
    "\n",
    "sources = butler.get('deepCoadd_meas', dataid)\n",
    " \n",
    "deep = butler.get('deepCoadd_calexp', dataid)\n",
    "#print \"Found %d sources in this patch\"%len(sources)"
   ]
  },
  {
   "cell_type": "code",
   "execution_count": 11,
   "metadata": {
    "collapsed": false
   },
   "outputs": [],
   "source": [
    "deepInfo = deep.getInfo().getCoaddInputs().ccds"
   ]
  },
  {
   "cell_type": "code",
   "execution_count": 13,
   "metadata": {
    "collapsed": false
   },
   "outputs": [],
   "source": [
    "ccdCalexp = {}\n",
    "for ccd in deepInfo :\n",
    "    ccdCalexp[ccd.getId()]=butler.get('calexp', ccd=ccd['ccd'], visit=ccd['visit'])"
   ]
  },
  {
   "cell_type": "code",
   "execution_count": 18,
   "metadata": {
    "collapsed": true
   },
   "outputs": [],
   "source": [
    "def getStamp(source) :\n",
    "    allStamps = []\n",
    "    for ccd in deepInfo :\n",
    "        currentCalexp = ccdCalexp[ccd.getId()]\n",
    "        if ccd.contains(source.getCoord()) :\n",
    "            # get object footprint on the calexp\n",
    "            fp = source.getFootprint().transform(deep.getWcs(), ccd.getWcs(), ccd.getBBox())\n",
    "            if fp.getArea() != 0 :\n",
    "                stamp = currentCalexp.Factory(currentCalexp, fp.getBBox(), afwImage.PARENT, True)\n",
    "                allStamps.append(stamp)\n",
    "    return allStamps"
   ]
  },
  {
   "cell_type": "code",
   "execution_count": 30,
   "metadata": {
    "collapsed": true
   },
   "outputs": [],
   "source": [
    "def getBBox(source) :\n",
    "    count = 0\n",
    "    maxWidth = 0\n",
    "    maxHeight = 0\n",
    "    for ccd in deepInfo :\n",
    "        currentCalexp = ccdCalexp[ccd.getId()]\n",
    "        if ccd.contains(source.getCoord()) :\n",
    "            # get object footprint on the calexp\n",
    "            fp = source.getFootprint().transform(deep.getWcs(), ccd.getWcs(), ccd.getBBox())\n",
    "            if fp.getArea() != 0 :\n",
    "                count += 1\n",
    "                bbox = fp.getBBox()\n",
    "                maxWidth = max(maxWidth, fp.getBBox().getWidth())\n",
    "                maxHeight = max(maxHeight, fp.getBBox().getHeight())\n",
    "    return count, maxWidth, maxHeight"
   ]
  },
  {
   "cell_type": "code",
   "execution_count": 33,
   "metadata": {
    "collapsed": false
   },
   "outputs": [
    {
     "name": "stdout",
     "output_type": "stream",
     "text": [
      "6 6 35 32\n"
     ]
    }
   ],
   "source": [
    "allStamps = getStamp(sources[250])\n",
    "count, maxWidth, maxHeight = getBBox(sources[250])\n",
    "print len(allStamps), count, maxWidth, maxHeight"
   ]
  },
  {
   "cell_type": "code",
   "execution_count": 23,
   "metadata": {
    "collapsed": false
   },
   "outputs": [
    {
     "name": "stdout",
     "output_type": "stream",
     "text": [
      "['Factory', '__class__', '__del__', '__delattr__', '__dict__', '__doc__', '__float__', '__format__', '__getattr__', '__getattribute__', '__getitem__', '__hash__', '__init__', '__int__', '__module__', '__new__', '__reduce__', '__reduce_ex__', '__repr__', '__setattr__', '__setitem__', '__sizeof__', '__str__', '__subclasshook__', '__swig_destroy__', '__swig_getmethods__', '__swig_setmethods__', '__weakref__', '_s', 'census', 'clone', 'getBBox', 'getCalib', 'getDetector', 'getDimensions', 'getFilter', 'getHeight', 'getId', 'getInfo', 'getMaskedImage', 'getMetadata', 'getNextMemId', 'getPsf', 'getWcs', 'getWidth', 'getX0', 'getXY0', 'getY0', 'hasBeenCorrupted', 'hasPsf', 'hasWcs', 'init', 'magicSentinel', 'markPersistent', 'readFits', 'repr', 'setCalib', 'setCorruptionCallback', 'setDeleteCallback', 'setDeleteCallbackId', 'setDetector', 'setFilter', 'setInfo', 'setMaskedImage', 'setMetadata', 'setNewCallback', 'setNewCallbackId', 'setPsf', 'setWcs', 'setXY0', 'swigConvert', 'this', 'writeFits']\n"
     ]
    }
   ],
   "source": [
    "print dir(allStamps[1])"
   ]
  },
  {
   "cell_type": "code",
   "execution_count": 38,
   "metadata": {
    "collapsed": false
   },
   "outputs": [],
   "source": [
    "import lsst.afw.display.ds9 as ds9\n",
    "\n",
    "wcs = allStamps[4].getWcs()\n",
    "ds9.mtv(allStamps[4].getMaskedImage().getImage(),frame=2,wcs=wcs)"
   ]
  },
  {
   "cell_type": "code",
   "execution_count": null,
   "metadata": {
    "collapsed": true
   },
   "outputs": [],
   "source": []
  }
 ],
 "metadata": {
  "kernelspec": {
   "display_name": "Python 2",
   "language": "python",
   "name": "python2"
  },
  "language_info": {
   "codemirror_mode": {
    "name": "ipython",
    "version": 2
   },
   "file_extension": ".py",
   "mimetype": "text/x-python",
   "name": "python",
   "nbconvert_exporter": "python",
   "pygments_lexer": "ipython2",
   "version": "2.7.12"
  }
 },
 "nbformat": 4,
 "nbformat_minor": 0
}
