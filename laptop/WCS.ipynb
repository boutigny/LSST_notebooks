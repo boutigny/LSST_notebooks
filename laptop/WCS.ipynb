{
 "cells": [
  {
   "cell_type": "code",
   "execution_count": 1,
   "metadata": {
    "collapsed": false
   },
   "outputs": [
    {
     "name": "stdout",
     "output_type": "stream",
     "text": [
      "0 1,5 215.444462797 52.1737932965\n",
      "0 1,6 215.449947425 52.3793125558\n",
      "0 1,7 215.455490967 52.584829531\n",
      "0 1,8 215.461094359 52.7903428942\n",
      "0 1,9 215.46675856 52.9958513175\n",
      "0 2,5 215.109314172 52.1766645211\n",
      "0 2,6 215.11324343 52.3822011186\n",
      "0 2,7 215.117214902 52.5877355938\n",
      "0 2,8 215.121229259 52.7932666215\n",
      "0 2,9 215.125287187 52.9987928762\n",
      "0 3,5 214.774123994 52.1785866682\n",
      "0 3,6 214.776497225 52.3841348741\n",
      "0 3,7 214.778895955 52.5896810662\n",
      "0 3,8 214.78132059 52.7952239209\n",
      "0 3,9 214.783771545 53.0007621145\n",
      "0 4,5 214.438908717 52.1795595403\n",
      "0 4,6 214.439725522 52.3851136222\n",
      "0 4,7 214.440551104 52.5906657451\n",
      "0 4,8 214.441385603 52.7962145863\n",
      "0 4,9 214.44222916 53.0017588231\n",
      "0 5,5 214.1036848 52.1795830378\n",
      "0 5,6 214.102945043 52.3851372615\n",
      "0 5,7 214.102197337 52.5906895278\n",
      "0 5,8 214.101441557 52.7962385136\n",
      "0 5,9 214.100677571 53.0017828963\n",
      "1 5,0 215.303056405 52.3569628416\n",
      "1 5,1 215.302322747 52.5573684319\n",
      "1 5,2 215.301562239 52.7629172141\n",
      "1 5,3 215.300793462 52.9684693296\n",
      "1 5,4 215.300016281 53.1740234558\n",
      "1 6,0 214.966518263 52.3560247195\n",
      "1 6,1 214.964241001 52.5564247462\n",
      "1 6,2 214.961880398 52.7619677689\n",
      "1 6,3 214.959494128 52.9675140702\n",
      "1 6,4 214.957081777 53.1730623263\n",
      "1 7,0 214.630004994 52.3541247647\n",
      "1 7,1 214.626184515 52.5545135244\n",
      "1 7,2 214.622224224 52.7600448833\n",
      "1 7,3 214.618220875 52.9655794099\n",
      "1 7,4 214.614173775 53.1711157787\n",
      "1 8,0 214.293533449 52.3512631744\n",
      "1 8,1 214.288170403 52.5516349666\n",
      "1 8,2 214.282611103 52.7571487605\n",
      "1 8,3 214.276991371 52.9626655551\n",
      "1 8,4 214.271310233 53.1681840223\n"
     ]
    }
   ],
   "source": [
    "import lsst.daf.persistence as dafPersist\n",
    "import lsst.afw.display.ds9 as ds9\n",
    "import numpy\n",
    "import math\n",
    "\n",
    "tracts = (0, 1)\n",
    "patches = [['1,5', '1,6', '1,7', '1,8', '1,9', '2,5', '2,6', '2,7', '2,8', '2,9', '3,5', '3,6', '3,7', '3,8',\n",
    "               '3,9', '4,5', '4,6', '4,7', '4,8', '4,9', '5,5', '5,6', '5,7', '5,8', '5,9'],\n",
    "              ['5,0', '5,1', '5,2', '5,3', '5,4', '6,0', '6,1', '6,2', '6,3', '6,4', '7,0',\n",
    "               '7,1', '7,2', '7,3', '7,4', '8,0', '8,1', '8,2', '8,3', '8,4']]\n",
    "\n",
    "butler = dafPersist.Butler(\"/home/boutigny/CFHT/test_cfht/output/coadd_r_dir2\")\n",
    "for t in tracts :\n",
    "    for p in patches[t] :\n",
    "        dataid = {'filter':'r', 'tract':t, 'patch':p}\n",
    "\n",
    "        exp = butler.get('deepCoadd', dataid)\n",
    "        wcs = exp.getWcs()\n",
    "        metaWCS = wcs.getFitsMetadata()\n",
    "        x0, y0 = exp.getXY0()\n",
    "        x1 = 2000+x0\n",
    "        y1 = 2000+y0\n",
    "        ra, dec = wcs.pixelToSky(x1,y1)\n",
    "        print t, p, math.degrees(ra), math.degrees(dec)"
   ]
  },
  {
   "cell_type": "code",
   "execution_count": 29,
   "metadata": {
    "collapsed": false
   },
   "outputs": [
    {
     "name": "stdout",
     "output_type": "stream",
     "text": [
      "crval1, crval2 215.463 53.282\n",
      "23900 11900\n",
      "('6,3',) 215.112569704 52.8680241347\n",
      "0.00712044920593 0.184924682464 0.184999999971\n"
     ]
    }
   ],
   "source": [
    "import lsst.daf.persistence as dafPersist\n",
    "import lsst.afw.display.ds9 as ds9\n",
    "import numpy\n",
    "import math\n",
    "\n",
    "patches = ('6,3',)\n",
    "\n",
    "butler = dafPersist.Butler(\"/home/boutigny/CFHT/test_cfht/output/coadd_r_dir2\")\n",
    "dataid = {'filter':'r', 'tract':1, 'patch':'6,3'}\n",
    "exp = butler.get('deepCoadd', dataid)\n",
    "wcs = exp.getWcs()\n",
    "metaWCS = wcs.getFitsMetadata()\n",
    "crval1 = metaWCS.get(\"CRVAL1\")\n",
    "crval2 = metaWCS.get(\"CRVAL2\")\n",
    "print \"crval1, crval2\", crval1, crval2\n",
    "x0, y0 = exp.getXY0()\n",
    "print x0, y0\n",
    "x1 = crval1+x0\n",
    "y1 = crval2+y0\n",
    "\n",
    "ra, dec = wcs.pixelToSky(x1,y1)\n",
    "\n",
    "print patches, math.degrees(ra), math.degrees(dec)\n",
    "\n",
    "tx0, ty0 = wcs.pixelToSky(0,3999)\n",
    "tx1, ty1 = wcs.pixelToSky(0,4000)\n",
    "\n",
    "print math.degrees(tx1-tx0)*3600, math.degrees(ty1-ty0)*3600, math.degrees(wcs.pixelScale())*3600\n",
    "\n"
   ]
  },
  {
   "cell_type": "code",
   "execution_count": 22,
   "metadata": {
    "collapsed": false
   },
   "outputs": [
    {
     "name": "stdout",
     "output_type": "stream",
     "text": [
      "14:19:27.12 52:40:49.0\n",
      "crval1, crval2 214.847109418 52.6789077934 RA---TAN DEC--TAN\n",
      "0 0 5308.29980469 4613.10009766\n",
      "5.19223e-05 8.03128e-08 1.6083e-07 -5.19646e-05\n",
      "-0.275469599806 -0.239855669758 214.571639818 52.4390521236\n"
     ]
    }
   ],
   "source": [
    "import lsst.daf.persistence as dafPersist\n",
    "\n",
    "butler = dafPersist.Butler(\"/home/boutigny/LSST/CFHT/D3/output\")\n",
    "dataid = {'visit':742765, 'ccd':15}\n",
    "exp = butler.get('raw', dataid)\n",
    "wcs = exp.getWcs()\n",
    "metaWcs = wcs.getFitsMetadata()\n",
    "\n",
    "crval1 = metaWcs.get(\"CRVAL1\")\n",
    "crval2 = metaWcs.get(\"CRVAL2\")\n",
    "ctype1 = metaWcs.get(\"CTYPE1\")\n",
    "ctype2 = metaWcs.get(\"CTYPE2\")\n",
    "crpix1 = metaWcs.get(\"CRPIX1\")\n",
    "crpix2 = metaWcs.get(\"CRPIX2\")\n",
    "\n",
    "cd11 = metaWcs.get(\"CD1_1\")\n",
    "cd12 = metaWcs.get(\"CD1_2\")\n",
    "cd21 = metaWcs.get(\"CD2_1\")\n",
    "cd22 = metaWcs.get(\"CD2_2\")\n",
    "\n",
    "raw_md = butler.get('raw_md', dataid)\n",
    "RA = raw_md.get(\"RA\")\n",
    "DEC = raw_md.get(\"DEC\")\n",
    "\n",
    "print RA, DEC\n",
    "\n",
    "print \"crval1, crval2\", crval1, crval2, ctype1, ctype2\n",
    "x0, y0 = exp.getXY0()\n",
    "print x0, y0, crpix1, crpix2\n",
    "print cd11, cd12, cd21, cd22\n",
    "\n",
    "x1 = 10\n",
    "y1 = 10\n",
    "\n",
    "x1_tan = cd11*(x1 - crpix1) + cd12*(y1 - crpix2)\n",
    "y1_tan = cd21*(x1 - crpix1) + cd11*(y1 - crpix2)\n",
    "\n",
    "print x1_tan, y1_tan, x1_tan+crval1, y1_tan+crval2"
   ]
  },
  {
   "cell_type": "code",
   "execution_count": 23,
   "metadata": {
    "collapsed": false
   },
   "outputs": [
    {
     "name": "stdout",
     "output_type": "stream",
     "text": [
      "14:19:27.12 52:40:49.0\n",
      "crval1, crval2 214.497036723 52.8110640808 RA---TAN-SIP DEC--TAN-SIP\n",
      "0 0 1203.71305037 2050.26718095\n",
      "5.18604201315e-05 3.12057583386e-07 4.63449484818e-07 -5.19472374298e-05\n",
      "-0.0625431411548 -0.106362338883 214.434493582 52.7047017419\n"
     ]
    }
   ],
   "source": [
    "import lsst.daf.persistence as dafPersist\n",
    "\n",
    "butler = dafPersist.Butler(\"/home/boutigny/LSST/CFHT/D3/output\")\n",
    "dataid = {'visit':742765, 'ccd':15}\n",
    "exp = butler.get('calexp', dataid)\n",
    "wcs = exp.getWcs()\n",
    "metaWcs = wcs.getFitsMetadata()\n",
    "\n",
    "crval1 = metaWcs.get(\"CRVAL1\")\n",
    "crval2 = metaWcs.get(\"CRVAL2\")\n",
    "ctype1 = metaWcs.get(\"CTYPE1\")\n",
    "ctype2 = metaWcs.get(\"CTYPE2\")\n",
    "crpix1 = metaWcs.get(\"CRPIX1\")\n",
    "crpix2 = metaWcs.get(\"CRPIX2\")\n",
    "\n",
    "cd11 = metaWcs.get(\"CD1_1\")\n",
    "cd12 = metaWcs.get(\"CD1_2\")\n",
    "cd21 = metaWcs.get(\"CD2_1\")\n",
    "cd22 = metaWcs.get(\"CD2_2\")\n",
    "\n",
    "\n",
    "cal_md = butler.get('calexp_md', dataid)\n",
    "RA = cal_md.get(\"RA\")\n",
    "DEC = cal_md.get(\"DEC\")\n",
    "\n",
    "print RA, DEC\n",
    "\n",
    "print \"crval1, crval2\", crval1, crval2, ctype1, ctype2\n",
    "x0, y0 = exp.getXY0()\n",
    "print x0, y0, crpix1, crpix2\n",
    "print cd11, cd12, cd21, cd22\n",
    "\n",
    "x1 = 10\n",
    "y1 = 10\n",
    "\n",
    "x1_tan = cd11*(x1 - crpix1) + cd12*(y1 - crpix2)\n",
    "y1_tan = cd21*(x1 - crpix1) + cd11*(y1 - crpix2)\n",
    "\n",
    "print x1_tan, y1_tan, x1_tan+crval1, y1_tan+crval2"
   ]
  },
  {
   "cell_type": "code",
   "execution_count": 8,
   "metadata": {
    "collapsed": false
   },
   "outputs": [
    {
     "name": "stdout",
     "output_type": "stream",
     "text": [
      "('CTYPE2', 'BP_4_0', 'BP_3_1', 'BP_3_0', 'BP_2_1', 'BP_2_0', 'BP_1_3', 'BP_1_2', 'BP_1_1', 'BP_1_0', 'BP_0_4', 'BP_2_2', 'BP_0_3', 'BP_0_2', 'BP_0_1', 'A_3_0', 'B_ORDER', 'RADESYS', 'B_2_0', 'CD2_2', 'A_2_0', 'A_1_2', 'AP_0_2', 'CUNIT2', 'CRPIX1', 'BP_ORDER', 'AP_0_1', 'A_0_2', 'B_2_1', 'A_ORDER', 'NAXIS', 'CD2_1', 'CUNIT1', 'AP_2_2', 'CRPIX2', 'A_1_1', 'CD1_1', 'A_0_3', 'CD1_2', 'CTYPE1', 'B_0_2', 'A_2_1', 'CRVAL1', 'B_0_3', 'AP_1_3', 'B_1_1', 'B_1_2', 'B_3_0', 'AP_ORDER', 'EQUINOX', 'AP_0_0', 'AP_4_0', 'AP_0_3', 'CRVAL2', 'AP_0_4', 'AP_1_0', 'BP_0_0', 'AP_1_1', 'AP_1_2', 'AP_2_0', 'AP_2_1', 'AP_3_0', 'AP_3_1')\n"
     ]
    }
   ],
   "source": [
    "print metaWcs.names()"
   ]
  },
  {
   "cell_type": "code",
   "execution_count": null,
   "metadata": {
    "collapsed": true
   },
   "outputs": [],
   "source": []
  }
 ],
 "metadata": {
  "kernelspec": {
   "display_name": "Python 2",
   "language": "python",
   "name": "python2"
  },
  "language_info": {
   "codemirror_mode": {
    "name": "ipython",
    "version": 2
   },
   "file_extension": ".py",
   "mimetype": "text/x-python",
   "name": "python",
   "nbconvert_exporter": "python",
   "pygments_lexer": "ipython2",
   "version": "2.7.10"
  }
 },
 "nbformat": 4,
 "nbformat_minor": 0
}
