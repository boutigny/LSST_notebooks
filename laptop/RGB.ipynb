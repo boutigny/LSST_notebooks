{
 "cells": [
  {
   "cell_type": "code",
   "execution_count": null,
   "metadata": {
    "collapsed": false
   },
   "outputs": [],
   "source": [
    "from matplotlib import pylab as plt\n",
    "from matplotlib.colors import LogNorm\n",
    "\n",
    "import lsst.daf.persistence as dp\n",
    "import lsst.afw.display as display\n",
    "import lsst.afw.display.rgb as rgb\n",
    "\n",
    "# get a butler\n",
    "\n",
    "butler = dp.Butler(\"/sps/lsst/dev/lsstprod/hsc/SXDS/output\")\n",
    "dataId = {'tract':0, 'patch':'9,3'}\n",
    "\n",
    "bandpass_color_map = {'green':'r', 'red':'i', 'blue':'g'}\n",
    "\n",
    "# get ref catalog\n",
    "refs = {}\n",
    "exposures = {}\n",
    "for bandpass in bandpass_color_map.itervalues():\n",
    "    dataId['filter'] = bandpass\n",
    "#    refs[bandpass] = butler.get('deepCoadd_ref', dataId=dataId)\n",
    "    exposures[bandpass] = butler.get('deepCoadd', dataId=dataId)\n",
    "\n",
    "rgb_im = rgb.makeRGB(*(exposures[bandpass_color_map[color]].getMaskedImage().getImage()\n",
    "                       for color in ('red', 'green', 'blue')), Q=8, dataRange=0.8, saturatedPixelValue=130)\n",
    "\n",
    "#item = exposures.popitem()\n",
    "#dims = item[1].getDimensions()\n",
    "#exposures.update((item,))\n",
    "\n",
    "#fig = plt.figure(figsize=(10,10))\n",
    "#plt.imshow(rgb_im, interpolation='nearest', norm=LogNorm(vmin=0.01, vmax=10))\n",
    "# Uncomment the following line to plot the detections\n",
    "#plt.scatter(refs['g'].getX(), dims[1]-refs['g'].getY(), edgecolors='none', alpha=0.3)\n",
    "#plt.xlim(0, dims[0])\n",
    "#plt.ylim(dims[1], 0)\n",
    "#plt.show()\n",
    "\n",
    "rgb.displayRGB(rgb_im)"
   ]
  },
  {
   "cell_type": "code",
   "execution_count": null,
   "metadata": {
    "collapsed": false
   },
   "outputs": [],
   "source": [
    "rgb_im = rgb.makeRGB(*(exposures[bandpass_color_map[color]].getMaskedImage().getImage()\n",
    "                       for color in ('red', 'green', 'blue')), Q=8, dataRange=0.8, saturatedPixelValue=130,\n",
    "                       xSize=None, ySize=None)\n",
    "rgb.displayRGB(rgb_im)"
   ]
  },
  {
   "cell_type": "code",
   "execution_count": 22,
   "metadata": {
    "collapsed": true
   },
   "outputs": [],
   "source": [
    "rgb.makeRGB?"
   ]
  },
  {
   "cell_type": "code",
   "execution_count": null,
   "metadata": {
    "collapsed": true
   },
   "outputs": [],
   "source": []
  }
 ],
 "metadata": {
  "kernelspec": {
   "display_name": "Python 2",
   "language": "python",
   "name": "python2"
  },
  "language_info": {
   "codemirror_mode": {
    "name": "ipython",
    "version": 2
   },
   "file_extension": ".py",
   "mimetype": "text/x-python",
   "name": "python",
   "nbconvert_exporter": "python",
   "pygments_lexer": "ipython2",
   "version": "2.7.12"
  }
 },
 "nbformat": 4,
 "nbformat_minor": 0
}
