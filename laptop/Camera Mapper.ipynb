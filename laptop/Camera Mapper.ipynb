{
 "metadata": {
  "name": ""
 },
 "nbformat": 3,
 "nbformat_minor": 0,
 "worksheets": [
  {
   "cells": [
    {
     "cell_type": "code",
     "collapsed": false,
     "input": [
      "import lsst.obs.cfht as obs_cfht\n",
      "import lsst.afw.cameraGeom.utils as cameraGeomUtils\n",
      "from lsst.afw.cameraGeom import Camera\n",
      "\n",
      "mapper = obs_cfht.MegacamMapper()\n",
      "camera = mapper.camera\n",
      "ccd = camera[\"ccd01\"]\n",
      "\n",
      "for amp in ccd :\n",
      "#    print amp.Table.ColumnView.get(\"ptype\")\n",
      "#    print amp.schema.find(\"ptype\")\n",
      "#    print amp.schema.getNames\n",
      "    print amp.getName()"
     ],
     "language": "python",
     "metadata": {},
     "outputs": [
      {
       "output_type": "stream",
       "stream": "stdout",
       "text": [
        "A\n",
        "B\n"
       ]
      }
     ],
     "prompt_number": 22
    },
    {
     "cell_type": "code",
     "collapsed": false,
     "input": [
      "import lsst.obs.cfht as obs_cfht\n",
      "import lsst.afw.cameraGeom.utils as cameraGeomUtils\n",
      "from lsst.afw.cameraGeom import Camera\n",
      "from lsst.afw.cameraGeom import PUPIL, FOCAL_PLANE\n",
      "\n",
      "mapper = obs_cfht.MegacamMapper()\n",
      "camera = mapper.camera\n",
      "ccd = camera[\"ccd13\"]\n",
      "\n",
      "print ccd.getCenter(FOCAL_PLANE).getPoint()"
     ],
     "language": "python",
     "metadata": {},
     "outputs": [
      {
       "output_type": "stream",
       "stream": "stdout",
       "text": [
        "(-0.081, 31.543)\n"
       ]
      }
     ],
     "prompt_number": 16
    },
    {
     "cell_type": "code",
     "collapsed": false,
     "input": [],
     "language": "python",
     "metadata": {},
     "outputs": []
    }
   ],
   "metadata": {}
  }
 ]
}