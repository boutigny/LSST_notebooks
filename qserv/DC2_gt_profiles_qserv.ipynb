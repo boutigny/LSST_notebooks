{
 "cells": [
  {
   "cell_type": "code",
   "execution_count": 1,
   "metadata": {},
   "outputs": [],
   "source": [
    "# General imports\n",
    "import numpy as np\n",
    "import matplotlib.pyplot as plt\n",
    "%matplotlib inline\n",
    "from astropy.table import Table\n",
    "\n",
    "# DC2 catalog-related imports\n",
    "import FoFCatalogMatching\n",
    "import GCRCatalogs\n",
    "from GCR import GCRQuery\n",
    "\n",
    "#import clmm\n",
    "#CLMM imports\n",
    "#try: import clmm\n",
    "#except:\n",
    "#    import notebook_install\n",
    "#    notebook_install.install_clmm_pipeline(upgrade=False)\n",
    "#    import clmm\n",
    "\n",
    "import mysql\n",
    "from mysql.connector import Error"
   ]
  },
  {
   "cell_type": "code",
   "execution_count": 2,
   "metadata": {},
   "outputs": [
    {
     "name": "stdout",
     "output_type": "stream",
     "text": [
      "CPU times: user 661 ms, sys: 161 ms, total: 822 ms\n",
      "Wall time: 2.22 s\n"
     ]
    }
   ],
   "source": [
    "%%time\n",
    "#extragalactic_cat = GCRCatalogs.load_catalog('cosmoDC2_v1.1.4_small',)\n",
    "extragalactic_cat = GCRCatalogs.load_catalog('cosmoDC2',)"
   ]
  },
  {
   "cell_type": "code",
   "execution_count": 6,
   "metadata": {},
   "outputs": [
    {
     "name": "stdout",
     "output_type": "stream",
     "text": [
      "CPU times: user 2.86 s, sys: 7.99 s, total: 10.8 s\n",
      "Wall time: 2min 18s\n"
     ]
    },
    {
     "data": {
      "text/plain": [
       "2256249331"
      ]
     },
     "execution_count": 6,
     "metadata": {},
     "output_type": "execute_result"
    }
   ],
   "source": [
    "%%time\n",
    "len(extragalactic_cat)"
   ]
  },
  {
   "cell_type": "code",
   "execution_count": 9,
   "metadata": {},
   "outputs": [
    {
     "name": "stdout",
     "output_type": "stream",
     "text": [
      "There are 147 clusters in that mass and redshift ranges\n",
      "CPU times: user 15.1 s, sys: 50 s, total: 1min 5s\n",
      "Wall time: 6min 25s\n"
     ]
    }
   ],
   "source": [
    "%%time\n",
    "# get list of massive halos in a given redshift and mass range\n",
    "mmin = 5.e14 #Msun\n",
    "zmax = 2.0\n",
    "\n",
    "massive_halos = extragalactic_cat.get_quantities(['halo_mass','hostHaloMass','redshift','ra', 'dec', 'halo_id'],\\\n",
    "                                                 filters=[f'halo_mass > {mmin}','is_central==True',\n",
    "                                                          f'redshift<{zmax}'])\n",
    "\n",
    "N_cl = len(massive_halos['halo_mass'])\n",
    "print(f'There are {N_cl} clusters in that mass and redshift ranges')"
   ]
  },
  {
   "cell_type": "code",
   "execution_count": 7,
   "metadata": {},
   "outputs": [
    {
     "name": "stdout",
     "output_type": "stream",
     "text": [
      "The most massive cluster is halo 135700142421, in ra = 63.29 deg, dec = -39.65 deg, z = 0.19, with mass = 1.24e+15 Msun\n",
      "CPU times: user 918 µs, sys: 0 ns, total: 918 µs\n",
      "Wall time: 755 µs\n"
     ]
    }
   ],
   "source": [
    "%%time\n",
    "# Selecting the most massive one\n",
    "select = massive_halos['halo_mass'] == np.max(massive_halos['halo_mass'])\n",
    "ra_cl = massive_halos['ra'][select][0]\n",
    "dec_cl = massive_halos['dec'][select][0]\n",
    "z_cl = massive_halos['redshift'][select][0]\n",
    "mass_cl =massive_halos['halo_mass'][select][0]\n",
    "id_cl = massive_halos['halo_id'][select][0]\n",
    "\n",
    "print (f'The most massive cluster is halo {id_cl}, in ra = {ra_cl:.2f} deg, dec = {dec_cl:.2f} deg, z = {z_cl:.2f}, with mass = {mass_cl:.2e} Msun')"
   ]
  },
  {
   "cell_type": "code",
   "execution_count": 27,
   "metadata": {},
   "outputs": [
    {
     "name": "stdout",
     "output_type": "stream",
     "text": [
      "CPU times: user 1.59 ms, sys: 69 µs, total: 1.66 ms\n",
      "Wall time: 1.34 ms\n"
     ]
    }
   ],
   "source": [
    "%%time\n",
    "# Coordinate filter to be applied applied to both extragalactic and object catalog\n",
    "ra_min, ra_max = ra_cl-0.35, ra_cl+0.35\n",
    "dec_min, dec_max = dec_cl-0.35, dec_cl+0.35\n",
    "\n",
    "coord_filters = [\n",
    "    f'ra >= {ra_min}',\n",
    "    f'ra < {ra_max}',\n",
    "    f'dec >= {dec_min}',\n",
    "    f'dec < {dec_max}',\n",
    "]\n",
    "\n",
    "# Redshift cut to be applied to the extragalactic catalog. The object catalog does not have redshift information.\n",
    "z_min = z_cl + 0.1\n",
    "redshift_filters = [\n",
    "    (np.isfinite, 'redshift'),\n",
    "    f'redshift > {z_min}',\n",
    "]\n",
    "\n",
    "# Magnitude cut to be applied to both catalogs\n",
    "mag_filters = [\n",
    "    (np.isfinite, 'mag_i'),\n",
    "    'mag_i < 24.5',\n",
    "]\n",
    "\n",
    "# Following DC2 tutorials, basics cuts to be applied to the object catalog\n",
    "object_basic_cuts = [\n",
    "    GCRQuery('extendedness > 0'),     # Extended objects\n",
    "    GCRQuery((np.isfinite, 'mag_i')), # Select objects that have i-band magnitudes\n",
    "    GCRQuery('clean'), # The source has no flagged pixels (interpolated, saturated, edge, clipped...) \n",
    "                       # and was not skipped by the deblender\n",
    "    GCRQuery('xy_flag == 0'),                                      # Flag for centroid measurement (0 if OK)\n",
    "    GCRQuery('ext_shapeHSM_HsmShapeRegauss_flag == 0'),            # Flag returned by shape measurement code (0 if OK)\n",
    "    GCRQuery((np.isfinite, 'ext_shapeHSM_HsmShapeRegauss_sigma')), # Shape measurement uncertainty should not be NaN\n",
    "]\n",
    "\n",
    "# Adding the total ellipticity quantity to the object catalog\n",
    "#object_cat.add_quantity_modifier('shape_hsm_regauss_etot', \n",
    "#                                 (np.hypot, 'ext_shapeHSM_HsmShapeRegauss_e1', 'ext_shapeHSM_HsmShapeRegauss_e2'), \n",
    "#                                 overwrite=True)\n",
    "\n",
    "# Following DC2 tutorials, additional WL quality cuts to be applied to the object catalog\n",
    "object_properties_cuts = [\n",
    "    GCRQuery('snr_i_cModel > 10'),                              # SNR > 10\n",
    "    GCRQuery('mag_i_cModel < 24.5'),                            # cModel imag brighter than 24.5\n",
    "    GCRQuery('ext_shapeHSM_HsmShapeRegauss_resolution >= 0.3'), # Sufficiently resolved galaxies compared to PSF\n",
    "    GCRQuery('shape_hsm_regauss_etot < 2'),                     # Total distortion in reasonable range\n",
    "    GCRQuery('ext_shapeHSM_HsmShapeRegauss_sigma <= 0.4'),      # Shape measurement errors reasonable\n",
    "    GCRQuery('blendedness < 10**(-0.375)')                      # Avoid spurious detections and those contaminated by blends\n",
    "]"
   ]
  },
  {
   "cell_type": "code",
   "execution_count": 9,
   "metadata": {},
   "outputs": [
    {
     "name": "stdout",
     "output_type": "stream",
     "text": [
      "CPU times: user 6min 52s, sys: 2min 39s, total: 9min 32s\n",
      "Wall time: 11min 23s\n"
     ]
    }
   ],
   "source": [
    "%%time\n",
    "extragal_data = extragalactic_cat.get_quantities(['ra', 'dec', 'shear_1', 'shear_2', \n",
    "                                                  'ellipticity_1_true', 'ellipticity_2_true',\n",
    "                                                  'redshift', 'convergence', 'galaxy_id'], \n",
    "                                                 filters=(coord_filters + mag_filters + redshift_filters))"
   ]
  },
  {
   "cell_type": "code",
   "execution_count": 23,
   "metadata": {},
   "outputs": [
    {
     "name": "stdout",
     "output_type": "stream",
     "text": [
      "63.28980748965139 -39.647126899140524 34730\n",
      "62.939807489651386 63.63980748965139 -39.997126899140525 -39.29712689914052\n"
     ]
    }
   ],
   "source": [
    "print(ra_cl, dec_cl, len(extragal_data['redshift']))\n",
    "print(ra_min, ra_max, dec_min, dec_max)"
   ]
  },
  {
   "cell_type": "code",
   "execution_count": 14,
   "metadata": {},
   "outputs": [
    {
     "data": {
      "text/plain": [
       "array([-39.94342781, -39.91524376, -39.96504485, ..., -39.65518951,\n",
       "       -39.44562887, -39.32961455])"
      ]
     },
     "execution_count": 14,
     "metadata": {},
     "output_type": "execute_result"
    }
   ],
   "source": [
    "extragal_data['dec']"
   ]
  },
  {
   "cell_type": "raw",
   "metadata": {},
   "source": [
    "conn = mysql.connector.connect(host='ccqserv201', user='qsmaster', port=30040) \n",
    "cursor = conn.cursor(dictionary=True, buffered=True) "
   ]
  },
  {
   "cell_type": "code",
   "execution_count": 28,
   "metadata": {},
   "outputs": [],
   "source": [
    "query_good  = 'AND dref.base_PixelFlags_flag_edge = 0 '\n",
    "query_good += 'AND dref.base_PixelFlags_flag_interpolatedCenter = 0 '\n",
    "query_good += 'AND dref.base_PixelFlags_flag_saturatedCenter = 0 '\n",
    "query_good += 'AND dref.base_PixelFlags_flag_crCenter = 0 '\n",
    "query_good += 'AND dref.base_PixelFlags_flag_bad = 0 '\n",
    "query_good += 'AND dref.base_PixelFlags_flag_suspectCenter = 0 '\n",
    "query_good += 'AND dref.base_PixelFlags_flag_clipped = 0 '\n",
    "\n",
    "query_clean = query_good + 'AND dref.deblend_skipped =0 '"
   ]
  },
  {
   "cell_type": "markdown",
   "metadata": {},
   "source": [
    "dc2_object_run2_2i_dr6_wfd"
   ]
  },
  {
   "cell_type": "code",
   "execution_count": 31,
   "metadata": {},
   "outputs": [
    {
     "data": {
      "text/plain": [
       "'SELECT dref.coord_ra as ra, dref.coord_dec as dec, dref.ext_shapeHSM_HsmShapeRegauss_e1, dref.ext_shapeHSM_HsmShapeRegauss_e2, dref.objectId as id, dfrc.i_modelfit_CModel_instFlux FROM dc2_object_run2_2i_dr6_wfd.dpdd_ref as dref, dc2_object_run2_2i_dr6_wfd.position as dpos, dc2_object_run2_2i_dr6_wfd.dpdd_forced as dfrc WHERE scisql_s2PtInBox(coord_ra, coord_dec, 62.939807489651386, -39.997126899140525, 63.63980748965139, -39.29712689914052) = 1 AND dref.objectId = dpos.objectId AND dfrc.objectId = dpos.objectId AND dpos.detect_isPrimary = 1 AND dref.base_PixelFlags_flag_edge = 0 AND dref.base_PixelFlags_flag_interpolatedCenter = 0 AND dref.base_PixelFlags_flag_saturatedCenter = 0 AND dref.base_PixelFlags_flag_crCenter = 0 AND dref.base_PixelFlags_flag_bad = 0 AND dref.base_PixelFlags_flag_suspectCenter = 0 AND dref.base_PixelFlags_flag_clipped = 0 AND dref.deblend_skipped =0 AND dref.base_SdssCentroid_flag = 0 AND dref.base_Blendedness_abs < POWER(10, -0.375) AND dref.base_Blendedness_abs_instFlux IS NULL AND dref.base_ClassificationExtendedness_flag = 0 AND dref. base_ClassificationExtendedness_value > 0 AND dfrc.i_modelfit_CModel_flag = 0 AND dfrc.i_modelfit_CModel_instFlux > 0 AND dfrc.i_modelfit_CModel_instFlux/dfrc.i_modelfit_CModel_instFluxErr > 10 AND dref.ext_shapeHSM_HsmShapeRegauss_resolution >= 0.3 AND dref.ext_shapeHSM_HsmShapeRegauss_sigma <= 0.4 AND SQRT(POWER(dref.ext_shapeHSM_HsmShapeRegauss_e1, 2)+POWER(dref.ext_shapeHSM_HsmShapeRegauss_e2, 2)) < 2 ;'"
      ]
     },
     "execution_count": 31,
     "metadata": {},
     "output_type": "execute_result"
    }
   ],
   "source": [
    "query =  \"SELECT dref.coord_ra as ra, dref.coord_dec as dec, dref.ext_shapeHSM_HsmShapeRegauss_e1, \"\n",
    "query += \"dref.ext_shapeHSM_HsmShapeRegauss_e2, dref.objectId as id, dfrc.i_modelfit_CModel_instFlux \"\n",
    "query += \"FROM dc2_object_run2_2i_dr6_wfd.dpdd_ref as dref, dc2_object_run2_2i_dr6_wfd.position as dpos, dc2_object_run2_2i_dr6_wfd.dpdd_forced as dfrc \"\n",
    "query += f\"WHERE scisql_s2PtInBox(coord_ra, coord_dec, {ra_min}, {dec_min}, {ra_max}, {dec_max}) = 1 \"\n",
    "query += \"AND dref.objectId = dpos.objectId AND dfrc.objectId = dpos.objectId \"\n",
    "query += \"AND dpos.detect_isPrimary = 1 \"\n",
    "query += query_clean\n",
    "query += \"AND dref.base_SdssCentroid_flag = 0 \"\n",
    "query += \"AND dref.base_Blendedness_abs < POWER(10, -0.375) \"\n",
    "query += \"AND dref.base_Blendedness_abs_instFlux IS NULL \"\n",
    "query += \"AND dref.base_ClassificationExtendedness_flag = 0 AND dref. base_ClassificationExtendedness_value > 0 \"\n",
    "query += \"AND dfrc.i_modelfit_CModel_flag = 0 AND dfrc.i_modelfit_CModel_instFlux > 0 \"\n",
    "query += \"AND dfrc.i_modelfit_CModel_instFlux/dfrc.i_modelfit_CModel_instFluxErr > 10 \"\n",
    "query += \"AND dref.ext_shapeHSM_HsmShapeRegauss_resolution >= 0.3 \"\n",
    "query += \"AND dref.ext_shapeHSM_HsmShapeRegauss_sigma <= 0.4 \"\n",
    "query += \"AND SQRT(POWER(dref.ext_shapeHSM_HsmShapeRegauss_e1, 2)+POWER(dref.ext_shapeHSM_HsmShapeRegauss_e2, 2)) < 2 \"\n",
    "#query += \"LIMIT 10 \"\n",
    "query += \";\"\n",
    "\n",
    "query"
   ]
  },
  {
   "cell_type": "code",
   "execution_count": null,
   "metadata": {},
   "outputs": [],
   "source": []
  },
  {
   "cell_type": "code",
   "execution_count": 32,
   "metadata": {},
   "outputs": [
    {
     "name": "stdout",
     "output_type": "stream",
     "text": [
      "CPU times: user 522 ms, sys: 78.5 ms, total: 601 ms\n",
      "Wall time: 1.48 s\n"
     ]
    }
   ],
   "source": [
    "%%time\n",
    "cursor.execute(query)\n",
    "res = cursor.fetchall()"
   ]
  },
  {
   "cell_type": "code",
   "execution_count": 20,
   "metadata": {},
   "outputs": [],
   "source": [
    "from GCRCatalogs import dc2_object\n",
    "import numpy as np\n",
    "\n",
    "v = {k: np.array([dic[k] for dic in res]) for k in res[0]}\n",
    "v['mag_i_cModel'] =  dc2_object.convert_dm_ref_zp_flux_to_mag(v['i_modelfit_CModel_instFlux'])\n",
    "cutMag = v['mag_i_cModel'] < 24.5\n",
    "object_data = {k: v[k][cutMag] for k in v.keys()}"
   ]
  },
  {
   "cell_type": "code",
   "execution_count": 21,
   "metadata": {},
   "outputs": [
    {
     "name": "stdout",
     "output_type": "stream",
     "text": [
      "36377 28054\n"
     ]
    }
   ],
   "source": [
    "print(len(v['ra']), len(object_data['ra']))"
   ]
  },
  {
   "cell_type": "code",
   "execution_count": 22,
   "metadata": {},
   "outputs": [
    {
     "name": "stdout",
     "output_type": "stream",
     "text": [
      "CPU times: user 5.91 s, sys: 56.3 ms, total: 5.97 s\n",
      "Wall time: 6.05 s\n"
     ]
    }
   ],
   "source": [
    "%%time\n",
    "results = FoFCatalogMatching.match(\n",
    "    catalog_dict={'extragal': extragal_data, 'object': object_data},\n",
    "    linking_lengths=1.,\n",
    "    catalog_len_getter=lambda x: len(x['ra']),\n",
    ")\n",
    "\n",
    "# identify which rows are from the extragalactic catalog and which are from the object\n",
    "extragal_mask = results['catalog_key'] == 'extragal'\n",
    "object_mask = ~extragal_mask\n",
    "\n",
    "# np.bincount will give up the number of id occurrences (like histogram but with integer input)\n",
    "n_groups = results['group_id'].max() + 1\n",
    "n_extragal = np.bincount(results['group_id'][extragal_mask], minlength=n_groups)\n",
    "n_object = np.bincount(results['group_id'][object_mask], minlength=n_groups)"
   ]
  },
  {
   "cell_type": "code",
   "execution_count": 15,
   "metadata": {},
   "outputs": [
    {
     "name": "stdout",
     "output_type": "stream",
     "text": [
      "Number of 1-to-1 matched objects: 15000, 15000\n",
      "CPU times: user 7.76 ms, sys: 0 ns, total: 7.76 ms\n",
      "Wall time: 6.96 ms\n"
     ]
    }
   ],
   "source": [
    "%%time\n",
    "one_to_one_group_mask = np.in1d(results['group_id'], np.flatnonzero((n_extragal == 1) & (n_object == 1)))\n",
    "\n",
    "# Row indices in the *original* extragal/object catalogs for those 1-to-1 groups\n",
    "extragal_idx = results['row_index'][one_to_one_group_mask & extragal_mask]\n",
    "object_idx = results['row_index'][one_to_one_group_mask & object_mask]\n",
    "print(f'Number of 1-to-1 matched objects: {len(extragal_idx)}, {len(object_idx)}')"
   ]
  },
  {
   "cell_type": "code",
   "execution_count": 16,
   "metadata": {},
   "outputs": [
    {
     "name": "stdout",
     "output_type": "stream",
     "text": [
      "CPU times: user 7.24 ms, sys: 0 ns, total: 7.24 ms\n",
      "Wall time: 15.2 ms\n"
     ]
    }
   ],
   "source": [
    "%%time\n",
    "e1, e2 = clmm.utils.convert_shapes_to_epsilon(extragal_data['shear_1'][extragal_idx],extragal_data['shear_2'][extragal_idx],\n",
    "                                              shape_definition='shear',kappa=extragal_data['convergence'][extragal_idx])\n",
    "\n",
    "# Create the background galaxy catalog as a CLMM GCData (= astropy table)\n",
    "dat = clmm.GCData([extragal_data['ra'][extragal_idx],extragal_data['dec'][extragal_idx],e1,\n",
    "      e2,extragal_data['redshift'][extragal_idx],extragal_data['galaxy_id'][extragal_idx]], \n",
    "      names=('ra','dec', 'e1', 'e2', 'z','id'))\n",
    "\n",
    "# Instantiate a CLMM cluster object and save it for later use.\n",
    "cl_from_cosmoDC2 = clmm.GalaxyCluster(str(id_cl), ra_cl, dec_cl, z_cl, dat)   \n",
    "cl_from_cosmoDC2.save('cosmoDC2_GC_qserv.pkl')"
   ]
  },
  {
   "cell_type": "code",
   "execution_count": 17,
   "metadata": {},
   "outputs": [
    {
     "name": "stdout",
     "output_type": "stream",
     "text": [
      "CPU times: user 2.43 ms, sys: 0 ns, total: 2.43 ms\n",
      "Wall time: 1.91 ms\n"
     ]
    },
    {
     "name": "stderr",
     "output_type": "stream",
     "text": [
      "/sps/lsst/data/boutigny/desc/mydesc_3/lib/python3.7/site-packages/clmm/utils.py:229: RuntimeWarning: invalid value encountered in sqrt\n",
      "  chi_to_eps_conversion = 1./(1.+(1-(shape_1**2 + shape_2**2))**0.5)\n"
     ]
    }
   ],
   "source": [
    "%%time\n",
    "e1, e2 = clmm.utils.convert_shapes_to_epsilon(object_data['ext_shapeHSM_HsmShapeRegauss_e1'][object_idx],\n",
    "                                              object_data['ext_shapeHSM_HsmShapeRegauss_e2'][object_idx],\n",
    "                                              shape_definition='chi')\n",
    "\n",
    "# The conversion may create NaN, so avoid these by creating a mask\n",
    "mask = np.isfinite(e1)"
   ]
  },
  {
   "cell_type": "code",
   "execution_count": 18,
   "metadata": {},
   "outputs": [
    {
     "name": "stdout",
     "output_type": "stream",
     "text": [
      "CPU times: user 3.74 ms, sys: 2.1 ms, total: 5.84 ms\n",
      "Wall time: 13.8 ms\n"
     ]
    }
   ],
   "source": [
    "%%time\n",
    "# Create the background galaxy catalog as a CLMM GCData (= astropy table)\n",
    "dat = clmm.GCData([object_data['ra'][object_idx][mask],object_data['dec'][object_idx][mask],\n",
    "             e1[mask],\n",
    "             e2[mask],\n",
    "             extragal_data['redshift'][extragal_idx][mask],\n",
    "             object_data['id'][object_idx][mask]], \n",
    "            names=('ra','dec', 'e1', 'e2', 'z','id'), masked=True)\n",
    "\n",
    "\n",
    "# Create the background galaxy catalog as astropy table and save it for later use\n",
    "cl_from_objectDC2 = clmm.GalaxyCluster(str(id_cl), ra_cl, dec_cl, z_cl, dat)  \n",
    "cl_from_objectDC2.save('objectDC2_GC_qserv.pkl')"
   ]
  },
  {
   "cell_type": "code",
   "execution_count": 19,
   "metadata": {},
   "outputs": [
    {
     "name": "stdout",
     "output_type": "stream",
     "text": [
      "CPU times: user 6.38 ms, sys: 1.76 ms, total: 8.15 ms\n",
      "Wall time: 14 ms\n"
     ]
    }
   ],
   "source": [
    "%%time\n",
    "cl_from_objectDC2 = clmm.GalaxyCluster.load('objectDC2_GC_qserv.pkl')\n",
    "cl_from_cosmoDC2 = clmm.GalaxyCluster.load('cosmoDC2_GC_qserv.pkl')"
   ]
  },
  {
   "cell_type": "code",
   "execution_count": 20,
   "metadata": {},
   "outputs": [
    {
     "name": "stdout",
     "output_type": "stream",
     "text": [
      "CPU times: user 778 ms, sys: 0 ns, total: 778 ms\n",
      "Wall time: 776 ms\n"
     ]
    }
   ],
   "source": [
    "%%time\n",
    "cosmo = extragalactic_cat.cosmology\n",
    "bin_edges = clmm.polaraveraging.make_bins(0.15, 4, 10, method='evenlog10width')\n",
    "\n",
    "cl_from_cosmoDC2.compute_tangential_and_cross_components(geometry=\"flat\")\n",
    "#cl_from_cosmoDC2.compute_shear(geometry=\"flat\")\n",
    "profile_from_cosmoDC2 = cl_from_cosmoDC2.make_binned_profile(\"radians\", \"Mpc\", bins=bin_edges,cosmo=cosmo)\n",
    "#profile_from_cosmoDC2 = cl_from_cosmoDC2.make_shear_profile(\"radians\", \"Mpc\", bins=bin_edges,cosmo=cosmo)\n",
    "\n",
    "cl_from_objectDC2.compute_tangential_and_cross_components(geometry=\"flat\")\n",
    "#cl_from_objectDC2.compute_shear(geometry=\"flat\")\n",
    "profile_from_objectDC2 = cl_from_objectDC2.make_binned_profile(\"radians\", \"Mpc\", bins=bin_edges,cosmo=cosmo)\n",
    "#profile_from_objectDC2 = cl_from_objectDC2.make_shear_profile(\"radians\", \"Mpc\", bins=bin_edges,cosmo=cosmo)"
   ]
  },
  {
   "cell_type": "code",
   "execution_count": 21,
   "metadata": {},
   "outputs": [
    {
     "name": "stdout",
     "output_type": "stream",
     "text": [
      "CPU times: user 7.46 ms, sys: 3.75 ms, total: 11.2 ms\n",
      "Wall time: 55.3 ms\n"
     ]
    }
   ],
   "source": [
    "%%time\n",
    "es1 = extragal_data['ellipticity_1_true']\n",
    "es2 = extragal_data['ellipticity_2_true']\n",
    "gamma1 = extragal_data['shear_1']\n",
    "gamma2 = extragal_data['shear_2']\n",
    "kappa = extragal_data['convergence']\n",
    "\n",
    "extragal_data['ellipticity_1'] = clmm.utils.compute_lensed_ellipticity(es1, es2, gamma1, gamma2, kappa)[0]\n",
    "extragal_data['ellipticity_2'] = clmm.utils.compute_lensed_ellipticity(es1, es2, gamma1, gamma2, kappa)[1]"
   ]
  },
  {
   "cell_type": "code",
   "execution_count": 22,
   "metadata": {},
   "outputs": [],
   "source": [
    "dat = clmm.GCData([extragal_data['ra'][extragal_idx],extragal_data['dec'][extragal_idx],\n",
    "             extragal_data['ellipticity_1'][extragal_idx],\n",
    "             extragal_data['ellipticity_2'][extragal_idx],\n",
    "             extragal_data['redshift'][extragal_idx],\n",
    "             extragal_data['galaxy_id'][extragal_idx]],\n",
    "            names=('ra','dec', 'e1', 'e2', 'z','id'))\n",
    "\n",
    "cl_from_cosmoDC2_with_e1e2 = clmm.GalaxyCluster(str(id_cl), ra_cl, dec_cl, z_cl, dat) "
   ]
  },
  {
   "cell_type": "code",
   "execution_count": 23,
   "metadata": {},
   "outputs": [],
   "source": [
    "cl_from_cosmoDC2_with_e1e2.compute_tangential_and_cross_components(geometry=\"flat\")\n",
    "profile_from_cosmoDC2_with_e1e2 = cl_from_cosmoDC2_with_e1e2.make_binned_profile(\"radians\", \"Mpc\", bins=bin_edges,cosmo=cosmo)"
   ]
  },
  {
   "cell_type": "code",
   "execution_count": 24,
   "metadata": {},
   "outputs": [
    {
     "data": {
      "text/plain": [
       "(0.002, 0.3)"
      ]
     },
     "execution_count": 24,
     "metadata": {},
     "output_type": "execute_result"
    },
    {
     "data": {
      "image/png": "[encoded data removed]",
      "text/plain": [
       "<Figure size 432x288 with 1 Axes>"
      ]
     },
     "metadata": {
      "needs_background": "light"
     },
     "output_type": "display_data"
    }
   ],
   "source": [
    "plt.errorbar(profile_from_cosmoDC2['radius'],profile_from_cosmoDC2['gt'],profile_from_cosmoDC2['gt_err'], \n",
    "             marker='o',label='from cosmoDC2 g1g2')\n",
    "plt.errorbar(profile_from_cosmoDC2_with_e1e2['radius'],profile_from_cosmoDC2_with_e1e2['gt'],\n",
    "             profile_from_cosmoDC2['gt_err'],label='from cosmoDC2 e1e2')\n",
    "plt.errorbar(profile_from_objectDC2['radius'],profile_from_objectDC2['gt'],profile_from_objectDC2['gt_err'], \n",
    "             label='from DC2 objects e1e2')\n",
    "plt.legend()\n",
    "plt.xscale('log')\n",
    "plt.yscale('log')\n",
    "plt.xlabel('R (Mpc)')\n",
    "plt.ylabel(r'$\\langle g_t \\rangle$')\n",
    "plt.ylim([2.e-3,0.3])"
   ]
  },
  {
   "cell_type": "code",
   "execution_count": 25,
   "metadata": {},
   "outputs": [
    {
     "data": {
      "text/plain": [
       "Text(0.5, 1.0, 'Number of galaxies in each bin')"
      ]
     },
     "execution_count": 25,
     "metadata": {},
     "output_type": "execute_result"
    },
    {
     "data": {
      "image/png": "[encoded data removed]",
      "text/plain": [
       "<Figure size 432x288 with 1 Axes>"
      ]
     },
     "metadata": {
      "needs_background": "light"
     },
     "output_type": "display_data"
    }
   ],
   "source": [
    "plt.scatter(profile_from_cosmoDC2['radius'], profile_from_cosmoDC2['n_src'], marker='o')\n",
    "[plt.axvline(x=r, ymin=0, ymax=1e3, color='k', linestyle=':') for r in profile_from_cosmoDC2['radius_min']]\n",
    "plt.ylabel('Ngal in the bin')\n",
    "plt.xlabel('R (Mpc)')\n",
    "plt.xscale('log')\n",
    "plt.yscale('log')\n",
    "plt.title('Number of galaxies in each bin')"
   ]
  }
 ],
 "metadata": {
  "kernelspec": {
   "display_name": "desc",
   "language": "python",
   "name": "desc"
  },
  "language_info": {
   "codemirror_mode": {
    "name": "ipython",
    "version": 3
   },
   "file_extension": ".py",
   "mimetype": "text/x-python",
   "name": "python",
   "nbconvert_exporter": "python",
   "pygments_lexer": "ipython3",
   "version": "3.7.6"
  }
 },
 "nbformat": 4,
 "nbformat_minor": 4
}
