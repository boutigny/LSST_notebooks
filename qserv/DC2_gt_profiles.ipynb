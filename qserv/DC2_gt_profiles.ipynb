{
 "cells": [
  {
   "cell_type": "markdown",
   "metadata": {},
   "source": [
    "# Compare tangential shear profiles from the extragalactic and object catalogs for DC2 Run 2.1i\n",
    "\n",
    "This notebook can be run at NERSC or CC-IN2P3 where the DESC DC2 products are stored. You need to be a DESC member to be able to access those. The DC2 catalog-related imports below (`FoFCatalogMatching`, `GCR` and `GCRCatalogs`) are readily available from the `desc` conda environement at NERC or CC-IN2P3. If working outside such environment, these packagea first need to be installed. \n",
    "\n",
    "This was put together using:\n",
    "- the DC2 analysis tutorials (in particular [matching_fof.ipynb](https://github.com/LSSTDESC/DC2-analysis/blob/master/tutorials/matching_fof.ipynb) and [object_gcr_2_lensing_cuts.ipynb](https://github.com/LSSTDESC/DC2-analysis/blob/master/tutorials/object_gcr_2_lensing_cuts.ipynb))\n",
    "- the CLMM usage examples\n"
   ]
  },
  {
   "cell_type": "code",
   "execution_count": 1,
   "metadata": {},
   "outputs": [
    {
     "name": "stderr",
     "output_type": "stream",
     "text": [
      "/sps/lsst/data/boutigny/desc/mydesc_3/lib/python3.7/site-packages/GCRCatalogs/register.py:138: UserWarning: Site determined from env variable DESC_GCR_SITE = in2p3, which differs from node name cf41cde7a227\n",
      "  self._DESC_SITE_ENV, site_from_env, site_from_socket\n"
     ]
    }
   ],
   "source": [
    "# General imports\n",
    "import numpy as np\n",
    "import matplotlib.pyplot as plt\n",
    "%matplotlib inline\n",
    "from astropy.table import Table\n",
    "\n",
    "# DC2 catalog-related imports\n",
    "import FoFCatalogMatching\n",
    "import GCRCatalogs\n",
    "from GCR import GCRQuery\n",
    "\n",
    "#CLMM imports\n",
    "try: import clmm\n",
    "except:\n",
    "    import notebook_install\n",
    "    notebook_install.install_clmm_pipeline(upgrade=False)\n",
    "    import clmm"
   ]
  },
  {
   "cell_type": "markdown",
   "metadata": {},
   "source": [
    "### 1. Load the catalogs\n",
    "- DC2 object catalog\n",
    "- DC2 extragalactic catalog (cosmoDC2)"
   ]
  },
  {
   "cell_type": "code",
   "execution_count": 2,
   "metadata": {},
   "outputs": [
    {
     "name": "stdout",
     "output_type": "stream",
     "text": [
      "CPU times: user 464 ms, sys: 112 ms, total: 575 ms\n",
      "Wall time: 2.2 s\n"
     ]
    }
   ],
   "source": [
    "%%time\n",
    "object_cat = GCRCatalogs.load_catalog('dc2_object_run2.1i_dr1')"
   ]
  },
  {
   "cell_type": "code",
   "execution_count": 3,
   "metadata": {},
   "outputs": [
    {
     "name": "stdout",
     "output_type": "stream",
     "text": [
      "CPU times: user 571 ms, sys: 60.7 ms, total: 632 ms\n",
      "Wall time: 3.67 s\n"
     ]
    }
   ],
   "source": [
    "%%time\n",
    "extragalactic_cat = GCRCatalogs.load_catalog('cosmoDC2_v1.1.4_small',)"
   ]
  },
  {
   "cell_type": "markdown",
   "metadata": {},
   "source": [
    "### 2. Identify one halo in the extragalactic catalog\n",
    "Choosing the most massive one below z = 0.4. The `halo_mass` field of the cosmoDC2 catalog gives the mass in units of M$_{\\odot}$."
   ]
  },
  {
   "cell_type": "code",
   "execution_count": 4,
   "metadata": {},
   "outputs": [
    {
     "name": "stdout",
     "output_type": "stream",
     "text": [
      "There are 12 clusters in that mass and redshift ranges\n",
      "CPU times: user 2.01 s, sys: 15.1 s, total: 17.1 s\n",
      "Wall time: 59.8 s\n"
     ]
    }
   ],
   "source": [
    "%%time\n",
    "# get list of massive halos in a given redshift and mass range\n",
    "mmin = 5.e14 #Msun\n",
    "zmax = 0.4\n",
    "\n",
    "massive_halos = extragalactic_cat.get_quantities(['halo_mass','hostHaloMass','redshift','ra', 'dec', 'halo_id'],\\\n",
    "                                                 filters=[f'halo_mass > {mmin}','is_central==True',\n",
    "                                                          f'redshift<{zmax}'])\n",
    "\n",
    "N_cl = len(massive_halos['halo_mass'])\n",
    "print(f'There are {N_cl} clusters in that mass and redshift ranges')"
   ]
  },
  {
   "cell_type": "code",
   "execution_count": 5,
   "metadata": {},
   "outputs": [
    {
     "name": "stdout",
     "output_type": "stream",
     "text": [
      "The most massive cluster is halo 135700142421, in ra = 63.29 deg, dec = -39.65 deg, z = 0.19, with mass = 1.24e+15 Msun\n",
      "CPU times: user 839 µs, sys: 22 µs, total: 861 µs\n",
      "Wall time: 709 µs\n"
     ]
    }
   ],
   "source": [
    "%%time\n",
    "# Selecting the most massive one\n",
    "select = massive_halos['halo_mass'] == np.max(massive_halos['halo_mass'])\n",
    "ra_cl = massive_halos['ra'][select][0]\n",
    "dec_cl = massive_halos['dec'][select][0]\n",
    "z_cl = massive_halos['redshift'][select][0]\n",
    "mass_cl =massive_halos['halo_mass'][select][0]\n",
    "id_cl = massive_halos['halo_id'][select][0]\n",
    "\n",
    "print (f'The most massive cluster is halo {id_cl}, in ra = {ra_cl:.2f} deg, dec = {dec_cl:.2f} deg, z = {z_cl:.2f}, with mass = {mass_cl:.2e} Msun')"
   ]
  },
  {
   "cell_type": "markdown",
   "metadata": {},
   "source": [
    "### 3. Selection of background galaxies around the cluster\n",
    "- Define cuts on the cosmoDC2 and object catalogs. \n",
    "    - Box of 0.7 deg around the cluster center\n",
    "    - Galaxies with z > z_cluster + 0.1\n",
    "    - Galaxies with mag_i < 24.5\n",
    "- We also add some WL quality cuts for the object catalog.\n",
    "- The two catalogs will then be matched to end up with the same selection of galaxies."
   ]
  },
  {
   "cell_type": "markdown",
   "metadata": {},
   "source": [
    "#### 3.1 Cut definition\n",
    "\n",
    "NB: the object catalog quality cuts follow that given in the [object_gcr_2_lensing_cuts.ipynb](https://github.com/LSSTDESC/DC2-analysis/blob/master/tutorials/object_gcr_2_lensing_cuts.ipynb) notebook."
   ]
  },
  {
   "cell_type": "code",
   "execution_count": 6,
   "metadata": {
    "scrolled": true
   },
   "outputs": [
    {
     "name": "stdout",
     "output_type": "stream",
     "text": [
      "CPU times: user 133 µs, sys: 12 µs, total: 145 µs\n",
      "Wall time: 153 µs\n"
     ]
    }
   ],
   "source": [
    "%%time\n",
    "# Coordinate filter to be applied applied to both extragalactic and object catalog\n",
    "ra_min, ra_max = ra_cl-0.35, ra_cl+0.35\n",
    "dec_min, dec_max = dec_cl-0.35, dec_cl+0.35\n",
    "\n",
    "coord_filters = [\n",
    "    f'ra >= {ra_min}',\n",
    "    f'ra < {ra_max}',\n",
    "    f'dec >= {dec_min}',\n",
    "    f'dec < {dec_max}',\n",
    "]\n",
    "\n",
    "# Redshift cut to be applied to the extragalactic catalog. The object catalog does not have redshift information.\n",
    "z_min = z_cl + 0.1\n",
    "redshift_filters = [\n",
    "    (np.isfinite, 'redshift'),\n",
    "    f'redshift > {z_min}',\n",
    "]\n",
    "\n",
    "# Magnitude cut to be applied to both catalogs\n",
    "mag_filters = [\n",
    "    (np.isfinite, 'mag_i'),\n",
    "    'mag_i < 24.5',\n",
    "]\n",
    "\n",
    "# Following DC2 tutorials, basics cuts to be applied to the object catalog\n",
    "object_basic_cuts = [\n",
    "    GCRQuery('extendedness > 0'),     # Extended objects\n",
    "    GCRQuery((np.isfinite, 'mag_i')), # Select objects that have i-band magnitudes\n",
    "    GCRQuery('clean'), # The source has no flagged pixels (interpolated, saturated, edge, clipped...) \n",
    "                       # and was not skipped by the deblender\n",
    "    GCRQuery('xy_flag == 0'),                                      # Flag for centroid measurement (0 if OK)\n",
    "    GCRQuery('ext_shapeHSM_HsmShapeRegauss_flag == 0'),            # Flag returned by shape measurement code (0 if OK)\n",
    "    GCRQuery((np.isfinite, 'ext_shapeHSM_HsmShapeRegauss_sigma')), # Shape measurement uncertainty should not be NaN\n",
    "]\n",
    "\n",
    "# Adding the total ellipticity quantity to the object catalog\n",
    "object_cat.add_quantity_modifier('shape_hsm_regauss_etot', \n",
    "                                 (np.hypot, 'ext_shapeHSM_HsmShapeRegauss_e1', 'ext_shapeHSM_HsmShapeRegauss_e2'), \n",
    "                                 overwrite=True)\n",
    "\n",
    "# Following DC2 tutorials, additional WL quality cuts to be applied to the object catalog\n",
    "object_properties_cuts = [\n",
    "    GCRQuery('snr_i_cModel > 10'),                              # SNR > 10\n",
    "    GCRQuery('mag_i_cModel < 24.5'),                            # cModel imag brighter than 24.5\n",
    "    GCRQuery('ext_shapeHSM_HsmShapeRegauss_resolution >= 0.3'), # Sufficiently resolved galaxies compared to PSF\n",
    "    GCRQuery('shape_hsm_regauss_etot < 2'),                     # Total distortion in reasonable range\n",
    "    GCRQuery('ext_shapeHSM_HsmShapeRegauss_sigma <= 0.4'),      # Shape measurement errors reasonable\n",
    "    GCRQuery('blendedness < 10**(-0.375)')                      # Avoid spurious detections and those contaminated by blends\n",
    "]"
   ]
  },
  {
   "cell_type": "markdown",
   "metadata": {},
   "source": [
    "#### 3.2 Load quantities from both catalogs, given the cuts defined above"
   ]
  },
  {
   "cell_type": "code",
   "execution_count": 7,
   "metadata": {},
   "outputs": [
    {
     "name": "stdout",
     "output_type": "stream",
     "text": [
      "CPU times: user 1min 10s, sys: 46.1 s, total: 1min 56s\n",
      "Wall time: 3min 4s\n"
     ]
    }
   ],
   "source": [
    "%%time\n",
    "extragal_data = extragalactic_cat.get_quantities(['ra', 'dec', 'shear_1', 'shear_2', \n",
    "                                                  'ellipticity_1_true', 'ellipticity_2_true',\n",
    "                                                  'redshift', 'convergence', 'galaxy_id'], \n",
    "                                                 filters=(coord_filters + mag_filters + redshift_filters))"
   ]
  },
  {
   "cell_type": "markdown",
   "metadata": {},
   "source": [
    "For the object catalog below, the field under scrutiny falls in tract 3448. A DM-stack installation is required to identify a tract given a set of coordinates (this was done separately from this notebook). In any case, specifying that tract using `native_filters` speeds up the process but is not required.\n"
   ]
  },
  {
   "cell_type": "code",
   "execution_count": 8,
   "metadata": {},
   "outputs": [
    {
     "name": "stdout",
     "output_type": "stream",
     "text": [
      "CPU times: user 558 ms, sys: 445 ms, total: 1 s\n",
      "Wall time: 792 ms\n"
     ]
    },
    {
     "name": "stderr",
     "output_type": "stream",
     "text": [
      "/sps/lsst/data/boutigny/desc/mydesc_3/lib/python3.7/site-packages/GCRCatalogs/dc2_dm_catalog.py:44: RuntimeWarning: invalid value encountered in log10\n",
      "  return -2.5 * np.log10(flux) + AB_mag_zp_wrt_nanoJansky\n",
      "/sps/lsst/data/boutigny/desc/mydesc_3/lib/python3.7/site-packages/GCRCatalogs/dc2_dm_catalog.py:44: RuntimeWarning: divide by zero encountered in log10\n",
      "  return -2.5 * np.log10(flux) + AB_mag_zp_wrt_nanoJansky\n"
     ]
    }
   ],
   "source": [
    "%%time\n",
    "object_data = object_cat.get_quantities(['ra', 'dec',\n",
    "                                         'ext_shapeHSM_HsmShapeRegauss_e1','ext_shapeHSM_HsmShapeRegauss_e2', \n",
    "                                         'id'],\n",
    "                                        native_filters=['tract == 3448'],\n",
    "                                        filters=(coord_filters + object_basic_cuts + object_properties_cuts))"
   ]
  },
  {
   "cell_type": "markdown",
   "metadata": {},
   "source": [
    "### 4. Match the 2 catalogs\n",
    "\n",
    "Using the `FoFCatalogMatching` method; this was examplified in the [DC2 analysis tutorial](https://github.com/LSSTDESC/DC2-analysis/blob/master/tutorials/matching_fof.ipynb) and adapted to our purpose here. As mentioned in the tutorial, *`FoFCatalogMatching.match` takes a dictionary of catalogs to match and a friends-of-friends linking length. Because the \"catalog\" is not an astropy table or pandas dataframe, `len(truth_coord)` won't give the actual length of the table so we need to specify `catalog_len_getter` so that the code knows how to get the length of the catalog.*\n",
    "\n",
    "NB: `linking_lengths` is in arcsec. Here, we ask `FoFCatalogMatching` to use a linking length of 1 arcsec.\n"
   ]
  },
  {
   "cell_type": "markdown",
   "metadata": {},
   "source": [
    "#### 4.1 Perform the matching"
   ]
  },
  {
   "cell_type": "code",
   "execution_count": 9,
   "metadata": {},
   "outputs": [
    {
     "name": "stdout",
     "output_type": "stream",
     "text": [
      "CPU times: user 3.83 s, sys: 15.8 ms, total: 3.84 s\n",
      "Wall time: 3.85 s\n"
     ]
    }
   ],
   "source": [
    "%%time\n",
    "results = FoFCatalogMatching.match(\n",
    "    catalog_dict={'extragal': extragal_data, 'object': object_data},\n",
    "    linking_lengths=1.,\n",
    "    catalog_len_getter=lambda x: len(x['ra']),\n",
    ")\n",
    "\n",
    "# identify which rows are from the extragalactic catalog and which are from the object\n",
    "extragal_mask = results['catalog_key'] == 'extragal'\n",
    "object_mask = ~extragal_mask\n",
    "\n",
    "# np.bincount will give up the number of id occurrences (like histogram but with integer input)\n",
    "n_groups = results['group_id'].max() + 1\n",
    "n_extragal = np.bincount(results['group_id'][extragal_mask], minlength=n_groups)\n",
    "n_object = np.bincount(results['group_id'][object_mask], minlength=n_groups)"
   ]
  },
  {
   "cell_type": "markdown",
   "metadata": {},
   "source": [
    "#### 4.2 Identify one-to-one extragal/object matches"
   ]
  },
  {
   "cell_type": "code",
   "execution_count": 10,
   "metadata": {},
   "outputs": [
    {
     "name": "stdout",
     "output_type": "stream",
     "text": [
      "Number of 1-to-1 matched objects: 14999, 14999\n",
      "CPU times: user 12.4 ms, sys: 0 ns, total: 12.4 ms\n",
      "Wall time: 10.5 ms\n"
     ]
    }
   ],
   "source": [
    "%%time\n",
    "one_to_one_group_mask = np.in1d(results['group_id'], np.flatnonzero((n_extragal == 1) & (n_object == 1)))\n",
    "\n",
    "# Row indices in the *original* extragal/object catalogs for those 1-to-1 groups\n",
    "extragal_idx = results['row_index'][one_to_one_group_mask & extragal_mask]\n",
    "object_idx = results['row_index'][one_to_one_group_mask & object_mask]\n",
    "print(f'Number of 1-to-1 matched objects: {len(extragal_idx)}, {len(object_idx)}')"
   ]
  },
  {
   "cell_type": "markdown",
   "metadata": {},
   "source": [
    "### 5. Computes the reduced tangential shear profiles from both datasets, using CLMM"
   ]
  },
  {
   "cell_type": "markdown",
   "metadata": {},
   "source": [
    "#### 5.1 First, dealing with the cosmoDC2 data.\n",
    "To measure a reduced tangential shear profile, the shape measurements must be made according to the $\\epsilon$ or reduced shear definition $g$. So first , we convert cosmoDC2 `shear1` and `shear2` quantities to reduced shear using the `convergence`. These become the `e1` and `e2` fields of the CLMM cluster galaxy catalog."
   ]
  },
  {
   "cell_type": "code",
   "execution_count": 11,
   "metadata": {},
   "outputs": [
    {
     "name": "stdout",
     "output_type": "stream",
     "text": [
      "CPU times: user 9.39 ms, sys: 0 ns, total: 9.39 ms\n",
      "Wall time: 17.9 ms\n"
     ]
    }
   ],
   "source": [
    "%%time\n",
    "e1, e2 = clmm.utils.convert_shapes_to_epsilon(extragal_data['shear_1'][extragal_idx],extragal_data['shear_2'][extragal_idx],\n",
    "                                              shape_definition='shear',kappa=extragal_data['convergence'][extragal_idx])\n",
    "\n",
    "# Create the background galaxy catalog as a CLMM GCData (= astropy table)\n",
    "dat = clmm.GCData([extragal_data['ra'][extragal_idx],extragal_data['dec'][extragal_idx],e1,\n",
    "      e2,extragal_data['redshift'][extragal_idx],extragal_data['galaxy_id'][extragal_idx]], \n",
    "      names=('ra','dec', 'e1', 'e2', 'z','id'))\n",
    "\n",
    "# Instantiate a CLMM cluster object and save it for later use.\n",
    "cl_from_cosmoDC2 = clmm.GalaxyCluster(str(id_cl), ra_cl, dec_cl, z_cl, dat)   \n",
    "cl_from_cosmoDC2.save('cosmoDC2_GC.pkl')"
   ]
  },
  {
   "cell_type": "markdown",
   "metadata": {},
   "source": [
    "#### 5.2 Second, doing the same for the DC2 object catalog\n",
    "In the object catalog, shapes are measured by `shapeHSM` which return ellipticities according to the $\\chi$ definition. Need to convert to the $\\epsilon$ definition, once again using the conversion helper function from CLMM. "
   ]
  },
  {
   "cell_type": "code",
   "execution_count": 12,
   "metadata": {},
   "outputs": [
    {
     "name": "stdout",
     "output_type": "stream",
     "text": [
      "CPU times: user 4.09 ms, sys: 0 ns, total: 4.09 ms\n",
      "Wall time: 2.94 ms\n"
     ]
    },
    {
     "name": "stderr",
     "output_type": "stream",
     "text": [
      "/sps/lsst/data/boutigny/desc/mydesc_3/lib/python3.7/site-packages/clmm/utils.py:229: RuntimeWarning: invalid value encountered in sqrt\n",
      "  chi_to_eps_conversion = 1./(1.+(1-(shape_1**2 + shape_2**2))**0.5)\n"
     ]
    }
   ],
   "source": [
    "%%time\n",
    "e1, e2 = clmm.utils.convert_shapes_to_epsilon(object_data['ext_shapeHSM_HsmShapeRegauss_e1'][object_idx],\n",
    "                                              object_data['ext_shapeHSM_HsmShapeRegauss_e2'][object_idx],\n",
    "                                              shape_definition='chi')\n",
    "\n",
    "# The conversion may create NaN, so avoid these by creating a mask\n",
    "mask = np.isfinite(e1)"
   ]
  },
  {
   "cell_type": "markdown",
   "metadata": {},
   "source": [
    "The object catalog has no redshift information so we'll use the redshift of the matched galaxies in cosmoDC2 to create the GalaxyCluster object."
   ]
  },
  {
   "cell_type": "code",
   "execution_count": 13,
   "metadata": {},
   "outputs": [
    {
     "name": "stdout",
     "output_type": "stream",
     "text": [
      "CPU times: user 4.83 ms, sys: 6.7 ms, total: 11.5 ms\n",
      "Wall time: 19.2 ms\n"
     ]
    }
   ],
   "source": [
    "%%time\n",
    "# Create the background galaxy catalog as a CLMM GCData (= astropy table)\n",
    "dat = clmm.GCData([object_data['ra'][object_idx][mask],object_data['dec'][object_idx][mask],\n",
    "             e1[mask],\n",
    "             e2[mask],\n",
    "             extragal_data['redshift'][extragal_idx][mask],\n",
    "             object_data['id'][object_idx][mask]], \n",
    "            names=('ra','dec', 'e1', 'e2', 'z','id'), masked=True)\n",
    "\n",
    "\n",
    "# Create the background galaxy catalog as astropy table and save it for later use\n",
    "cl_from_objectDC2 = clmm.GalaxyCluster(str(id_cl), ra_cl, dec_cl, z_cl, dat)  \n",
    "cl_from_objectDC2.save('objectDC2_GC.pkl')"
   ]
  },
  {
   "cell_type": "markdown",
   "metadata": {},
   "source": [
    "#### 5.3 Build the reduced tangential shear profile from both datasets"
   ]
  },
  {
   "cell_type": "code",
   "execution_count": 14,
   "metadata": {},
   "outputs": [
    {
     "name": "stdout",
     "output_type": "stream",
     "text": [
      "CPU times: user 8.82 ms, sys: 3.6 ms, total: 12.4 ms\n",
      "Wall time: 12.5 ms\n"
     ]
    }
   ],
   "source": [
    "%%time\n",
    "cl_from_objectDC2 = clmm.GalaxyCluster.load('objectDC2_GC.pkl')\n",
    "cl_from_cosmoDC2 = clmm.GalaxyCluster.load('cosmoDC2_GC.pkl')"
   ]
  },
  {
   "cell_type": "code",
   "execution_count": 15,
   "metadata": {},
   "outputs": [
    {
     "name": "stdout",
     "output_type": "stream",
     "text": [
      "CPU times: user 661 ms, sys: 4.13 ms, total: 666 ms\n",
      "Wall time: 664 ms\n"
     ]
    }
   ],
   "source": [
    "%%time\n",
    "cosmo = extragalactic_cat.cosmology\n",
    "bin_edges = clmm.polaraveraging.make_bins(0.15, 4, 10, method='evenlog10width')\n",
    "\n",
    "cl_from_cosmoDC2.compute_tangential_and_cross_components(geometry=\"flat\")\n",
    "profile_from_cosmoDC2 = cl_from_cosmoDC2.make_binned_profile(\"radians\", \"Mpc\", bins=bin_edges,cosmo=cosmo)\n",
    "\n",
    "cl_from_objectDC2.compute_tangential_and_cross_components(geometry=\"flat\")\n",
    "profile_from_objectDC2 = cl_from_objectDC2.make_binned_profile(\"radians\", \"Mpc\", bins=bin_edges,cosmo=cosmo)"
   ]
  },
  {
   "cell_type": "markdown",
   "metadata": {},
   "source": [
    "#### 5.4 Taking into account intrinsic ellipticities from cosmoDC2\n",
    "\n",
    "So far, we've used the `shear1` and `shear2` fields of cosmoDC2, i.e., we neglected the intrinsic ellipticities of the galaxies. To account for shape noise from intrinsic ellipticities, we can use the shears and unlensed ellipticities available in the cosmoDC2 catalog to build lensed ellipticities (this is done using the `compute_lensed_ellipticity` function available in CLMM - see the documentation for details). The latter can then be used to bluid a CLMM cluster object. The resulting tangential shear profile will then include shape noise."
   ]
  },
  {
   "cell_type": "code",
   "execution_count": 16,
   "metadata": {},
   "outputs": [
    {
     "name": "stdout",
     "output_type": "stream",
     "text": [
      "CPU times: user 5.99 ms, sys: 0 ns, total: 5.99 ms\n",
      "Wall time: 5.03 ms\n"
     ]
    }
   ],
   "source": [
    "%%time\n",
    "es1 = extragal_data['ellipticity_1_true']\n",
    "es2 = extragal_data['ellipticity_2_true']\n",
    "gamma1 = extragal_data['shear_1']\n",
    "gamma2 = extragal_data['shear_2']\n",
    "kappa = extragal_data['convergence']\n",
    "\n",
    "extragal_data['ellipticity_1'] = clmm.utils.compute_lensed_ellipticity(es1, es2, gamma1, gamma2, kappa)[0]\n",
    "extragal_data['ellipticity_2'] = clmm.utils.compute_lensed_ellipticity(es1, es2, gamma1, gamma2, kappa)[1]"
   ]
  },
  {
   "cell_type": "markdown",
   "metadata": {},
   "source": [
    "Make a new CLMM cluster object"
   ]
  },
  {
   "cell_type": "code",
   "execution_count": 17,
   "metadata": {},
   "outputs": [],
   "source": [
    "dat = clmm.GCData([extragal_data['ra'][extragal_idx],extragal_data['dec'][extragal_idx],\n",
    "             extragal_data['ellipticity_1'][extragal_idx],\n",
    "             extragal_data['ellipticity_2'][extragal_idx],\n",
    "             extragal_data['redshift'][extragal_idx],\n",
    "             extragal_data['galaxy_id'][extragal_idx]],\n",
    "            names=('ra','dec', 'e1', 'e2', 'z','id'))\n",
    "\n",
    "cl_from_cosmoDC2_with_e1e2 = clmm.GalaxyCluster(str(id_cl), ra_cl, dec_cl, z_cl, dat) "
   ]
  },
  {
   "cell_type": "markdown",
   "metadata": {},
   "source": [
    "Compute the reduced shear profile"
   ]
  },
  {
   "cell_type": "code",
   "execution_count": 18,
   "metadata": {},
   "outputs": [],
   "source": [
    "cl_from_cosmoDC2_with_e1e2.compute_tangential_and_cross_components(geometry=\"flat\")\n",
    "profile_from_cosmoDC2_with_e1e2 = cl_from_cosmoDC2_with_e1e2.make_binned_profile(\"radians\", \"Mpc\", bins=bin_edges,cosmo=cosmo)"
   ]
  },
  {
   "cell_type": "markdown",
   "metadata": {},
   "source": [
    "### 6. Visualize the results for the three profiles, obtained from the same galaxies in the two catalogs\n",
    "- from cosmoDC2, neglecting shape noise (blue points)\n",
    "- from cosmoDC2, including shape noise (orange)\n",
    "- for the DC2 object catalog (green, where the galaxies redshifts taken from cosmoDC2)"
   ]
  },
  {
   "cell_type": "code",
   "execution_count": 19,
   "metadata": {},
   "outputs": [
    {
     "data": {
      "text/plain": [
       "(0.002, 0.3)"
      ]
     },
     "execution_count": 19,
     "metadata": {},
     "output_type": "execute_result"
    },
    {
     "data": {
      "image/png": "[encoded data removed]",
      "text/plain": [
       "<Figure size 432x288 with 1 Axes>"
      ]
     },
     "metadata": {
      "needs_background": "light"
     },
     "output_type": "display_data"
    }
   ],
   "source": [
    "plt.errorbar(profile_from_cosmoDC2['radius'],profile_from_cosmoDC2['gt'],profile_from_cosmoDC2['gt_err'], \n",
    "             marker='o',label='from cosmoDC2 g1g2')\n",
    "plt.errorbar(profile_from_cosmoDC2_with_e1e2['radius'],profile_from_cosmoDC2_with_e1e2['gt'],\n",
    "             profile_from_cosmoDC2['gt_err'],label='from cosmoDC2 e1e2')\n",
    "plt.errorbar(profile_from_objectDC2['radius'],profile_from_objectDC2['gt'],profile_from_objectDC2['gt_err'], \n",
    "             label='from DC2 objects e1e2')\n",
    "plt.legend()\n",
    "plt.xscale('log')\n",
    "plt.yscale('log')\n",
    "plt.xlabel('R (Mpc)')\n",
    "plt.ylabel(r'$\\langle g_t \\rangle$')\n",
    "plt.ylim([2.e-3,0.3])"
   ]
  },
  {
   "cell_type": "markdown",
   "metadata": {},
   "source": [
    "From cosmoDC2 (orange and blue profiles above), we see the impact of shape noise at low radii (orange/blue =w/wo intrinsic ellipticities), where the number of galaxies per bin is small (see below). The error bars on the data computed by `make_shear_profile` simply corresponds to the standard error of the mean in the bin ($\\sigma_{\\rm bin}/\\sqrt{N_{\\rm gal\\_in\\_bin}}$). The errors on individual shape measurements on the DC2 object catalog have been negelected."
   ]
  },
  {
   "cell_type": "code",
   "execution_count": 20,
   "metadata": {},
   "outputs": [
    {
     "data": {
      "text/plain": [
       "Text(0.5, 1.0, 'Number of galaxies in each bin')"
      ]
     },
     "execution_count": 20,
     "metadata": {},
     "output_type": "execute_result"
    },
    {
     "data": {
      "image/png": "[encoded data removed]",
      "text/plain": [
       "<Figure size 432x288 with 1 Axes>"
      ]
     },
     "metadata": {
      "needs_background": "light"
     },
     "output_type": "display_data"
    }
   ],
   "source": [
    "plt.scatter(profile_from_cosmoDC2['radius'], profile_from_cosmoDC2['n_src'], marker='o')\n",
    "[plt.axvline(x=r, ymin=0, ymax=1e3, color='k', linestyle=':') for r in profile_from_cosmoDC2['radius_min']]\n",
    "plt.ylabel('Ngal in the bin')\n",
    "plt.xlabel('R (Mpc)')\n",
    "plt.xscale('log')\n",
    "plt.yscale('log')\n",
    "plt.title('Number of galaxies in each bin')"
   ]
  }
 ],
 "metadata": {
  "kernelspec": {
   "display_name": "desc",
   "language": "python",
   "name": "desc"
  },
  "language_info": {
   "codemirror_mode": {
    "name": "ipython",
    "version": 3
   },
   "file_extension": ".py",
   "mimetype": "text/x-python",
   "name": "python",
   "nbconvert_exporter": "python",
   "pygments_lexer": "ipython3",
   "version": "3.7.6"
  }
 },
 "nbformat": 4,
 "nbformat_minor": 4
}
