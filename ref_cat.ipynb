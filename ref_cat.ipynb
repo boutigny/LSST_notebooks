{
 "cells": [
  {
   "cell_type": "code",
   "execution_count": 4,
   "metadata": {},
   "outputs": [
    {
     "name": "stdout",
     "output_type": "stream",
     "text": [
      "ref_cat loaded 19773\n"
     ]
    }
   ],
   "source": [
    "%matplotlib inline\n",
    "import lsst.daf.persistence as dafPersist\n",
    "import lsst.afw.table as afwTable\n",
    "import lsst.afw.geom as afwGeom\n",
    "import lsst.afw.coord as afwCoord\n",
    "import lsst.afw.image as afwImage\n",
    "from lsst.meas.algorithms import LoadIndexedReferenceObjectsTask\n",
    "from astropy.table import Table\n",
    "import numpy as np\n",
    "import matplotlib\n",
    "import matplotlib.pylab as plt\n",
    "\n",
    "butler = dafPersist.Butler(\"/sps/lsst/users/lsstprod/hsc/SSP_UDEEP_COSMOS/output\")\n",
    "\n",
    "refConfig = LoadIndexedReferenceObjectsTask.ConfigClass()\n",
    "refConfig.ref_dataset_name = 'sdss'\n",
    "refTask = LoadIndexedReferenceObjectsTask(butler, config=refConfig)\n",
    "\n",
    "filt = 'R'\n",
    "\n",
    "center = afwCoord.Coord(5*afwGeom.degrees, 16.5*afwGeom.degrees)\n",
    "radius = 1.0\n",
    "ref = refTask.loadSkyCircle(center, afwGeom.Angle(radius, afwGeom.degrees), filt).refCat.copy(deep=True)\n",
    "print(\"ref_cat loaded\", len(ref))"
   ]
  },
  {
   "cell_type": "code",
   "execution_count": 10,
   "metadata": {},
   "outputs": [
    {
     "data": {
      "text/plain": [
       "Schema(\n",
       "    (Field['L'](name=\"id\", doc=\"unique ID\"), Key<L>(offset=0, nElements=1)),\n",
       "    (Field['Angle'](name=\"coord_ra\", doc=\"position in ra/dec\"), Key<Angle>(offset=8, nElements=1)),\n",
       "    (Field['Angle'](name=\"coord_dec\", doc=\"position in ra/dec\"), Key<Angle>(offset=16, nElements=1)),\n",
       "    (Field['L'](name=\"parent\", doc=\"unique ID of parent source\"), Key<L>(offset=24, nElements=1)),\n",
       "    (Field['D'](name=\"U_flux\"), Key<D>(offset=32, nElements=1)),\n",
       "    (Field['D'](name=\"G_flux\"), Key<D>(offset=40, nElements=1)),\n",
       "    (Field['D'](name=\"R_flux\"), Key<D>(offset=48, nElements=1)),\n",
       "    (Field['D'](name=\"I_flux\"), Key<D>(offset=56, nElements=1)),\n",
       "    (Field['D'](name=\"Z_flux\"), Key<D>(offset=64, nElements=1)),\n",
       "    (Field['D'](name=\"I_fluxSigma\"), Key<D>(offset=72, nElements=1)),\n",
       "    (Field['D'](name=\"R_fluxSigma\"), Key<D>(offset=80, nElements=1)),\n",
       "    (Field['D'](name=\"Z_fluxSigma\"), Key<D>(offset=88, nElements=1)),\n",
       "    (Field['D'](name=\"U_fluxSigma\"), Key<D>(offset=96, nElements=1)),\n",
       "    (Field['D'](name=\"G_fluxSigma\"), Key<D>(offset=104, nElements=1)),\n",
       "    (Field['Flag'](name=\"photometric\"), Key['Flag'](offset=112, bit=0)),\n",
       "    (Field['Flag'](name=\"resolved\"), Key['Flag'](offset=112, bit=1)),\n",
       "    (Field['D'](name=\"centroid_x\"), Key<D>(offset=120, nElements=1)),\n",
       "    (Field['D'](name=\"centroid_y\"), Key<D>(offset=128, nElements=1)),\n",
       "    (Field['Flag'](name=\"hasCentroid\"), Key['Flag'](offset=112, bit=2)),\n",
       ")"
      ]
     },
     "execution_count": 10,
     "metadata": {},
     "output_type": "execute_result"
    }
   ],
   "source": [
    "ref.schema"
   ]
  },
  {
   "cell_type": "code",
   "execution_count": null,
   "metadata": {},
   "outputs": [],
   "source": []
  }
 ],
 "metadata": {
  "kernelspec": {
   "display_name": "Python 3",
   "language": "python",
   "name": "python3"
  },
  "language_info": {
   "codemirror_mode": {
    "name": "ipython",
    "version": 3
   },
   "file_extension": ".py",
   "mimetype": "text/x-python",
   "name": "python",
   "nbconvert_exporter": "python",
   "pygments_lexer": "ipython3",
   "version": "3.6.2"
  }
 },
 "nbformat": 4,
 "nbformat_minor": 2
}
