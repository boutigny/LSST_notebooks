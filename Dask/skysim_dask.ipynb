{
 "cells": [
  {
   "cell_type": "code",
   "execution_count": 3,
   "metadata": {},
   "outputs": [],
   "source": [
    "import math\n",
    "import os\n",
    "\n",
    "import numpy as np\n",
    "import pandas as pd\n",
    "\n",
    "import dask\n",
    "from dask.distributed import Client\n",
    "import dask.array as da\n",
    "import dask.dataframe as dd"
   ]
  },
  {
   "cell_type": "code",
   "execution_count": 2,
   "metadata": {},
   "outputs": [
    {
     "data": {
      "text/html": [
       "<table style=\"border: 2px solid white;\">\n",
       "<tr>\n",
       "<td style=\"vertical-align: top; border: 0px solid white\">\n",
       "<h3 style=\"text-align: left;\">Client</h3>\n",
       "<ul style=\"text-align: left; list-style: none; margin: 0; padding: 0;\">\n",
       "  <li><b>Scheduler: </b>tcp://127.0.0.1:34293</li>\n",
       "  <li><b>Dashboard: </b><a href='http://127.0.0.1:8787/status' target='_blank'>http://127.0.0.1:8787/status</a></li>\n",
       "</ul>\n",
       "</td>\n",
       "<td style=\"vertical-align: top; border: 0px solid white\">\n",
       "<h3 style=\"text-align: left;\">Cluster</h3>\n",
       "<ul style=\"text-align: left; list-style:none; margin: 0; padding: 0;\">\n",
       "  <li><b>Workers: </b>8</li>\n",
       "  <li><b>Cores: </b>32</li>\n",
       "  <li><b>Memory: </b>134.93 GB</li>\n",
       "</ul>\n",
       "</td>\n",
       "</tr>\n",
       "</table>"
      ],
      "text/plain": [
       "<Client: 'tcp://127.0.0.1:34293' processes=8 threads=32, memory=134.93 GB>"
      ]
     },
     "execution_count": 2,
     "metadata": {},
     "output_type": "execute_result"
    }
   ],
   "source": [
    "client = Client()\n",
    "client"
   ]
  },
  {
   "cell_type": "code",
   "execution_count": 6,
   "metadata": {},
   "outputs": [],
   "source": [
    "data_path = \"/sps/lsst/data/desc/gcr_rootdir/xgal/skysim/skysim5000_v1.1.1_parquet\""
   ]
  },
  {
   "cell_type": "code",
   "execution_count": 9,
   "metadata": {},
   "outputs": [],
   "source": [
    "columns = [ \"ra\", \"dec\", \"mag_u\", \"mag_g\", \"mag_r\", \"mag_i\", \"mag_z\", \"mag_y\", \"redshift\"]"
   ]
  },
  {
   "cell_type": "code",
   "execution_count": 10,
   "metadata": {},
   "outputs": [
    {
     "name": "stdout",
     "output_type": "stream",
     "text": [
      "CPU times: user 10.6 s, sys: 779 ms, total: 11.4 s\n",
      "Wall time: 10.6 s\n"
     ]
    }
   ],
   "source": [
    "%%time\n",
    "df = dd.read_parquet(data_path, columns=columns, engine='pyarrow', kwargs={'dataset': {'use_legacy_dataset': False}})"
   ]
  },
  {
   "cell_type": "code",
   "execution_count": 11,
   "metadata": {},
   "outputs": [
    {
     "data": {
      "text/plain": [
       "8503061280"
      ]
     },
     "execution_count": 11,
     "metadata": {},
     "output_type": "execute_result"
    }
   ],
   "source": [
    "%%time\n",
    "len(df)"
   ]
  },
  {
   "cell_type": "code",
   "execution_count": 12,
   "metadata": {},
   "outputs": [
    {
     "data": {
      "text/html": [
       "<div>\n",
       "<style scoped>\n",
       "    .dataframe tbody tr th:only-of-type {\n",
       "        vertical-align: middle;\n",
       "    }\n",
       "\n",
       "    .dataframe tbody tr th {\n",
       "        vertical-align: top;\n",
       "    }\n",
       "\n",
       "    .dataframe thead th {\n",
       "        text-align: right;\n",
       "    }\n",
       "</style>\n",
       "<table border=\"1\" class=\"dataframe\">\n",
       "  <thead>\n",
       "    <tr style=\"text-align: right;\">\n",
       "      <th></th>\n",
       "      <th>ra</th>\n",
       "      <th>dec</th>\n",
       "      <th>mag_u</th>\n",
       "      <th>mag_g</th>\n",
       "      <th>mag_r</th>\n",
       "      <th>mag_i</th>\n",
       "      <th>mag_z</th>\n",
       "      <th>mag_y</th>\n",
       "      <th>redshift</th>\n",
       "    </tr>\n",
       "  </thead>\n",
       "  <tbody>\n",
       "    <tr>\n",
       "      <th>0</th>\n",
       "      <td>0.432719</td>\n",
       "      <td>0.046171</td>\n",
       "      <td>21.098677</td>\n",
       "      <td>20.032227</td>\n",
       "      <td>19.708700</td>\n",
       "      <td>19.542538</td>\n",
       "      <td>19.488430</td>\n",
       "      <td>19.443745</td>\n",
       "      <td>0.020688</td>\n",
       "    </tr>\n",
       "    <tr>\n",
       "      <th>1</th>\n",
       "      <td>2.040416</td>\n",
       "      <td>-0.534684</td>\n",
       "      <td>17.333044</td>\n",
       "      <td>16.413969</td>\n",
       "      <td>15.929143</td>\n",
       "      <td>15.571618</td>\n",
       "      <td>15.348542</td>\n",
       "      <td>15.232266</td>\n",
       "      <td>0.006596</td>\n",
       "    </tr>\n",
       "    <tr>\n",
       "      <th>2</th>\n",
       "      <td>0.944323</td>\n",
       "      <td>-0.734390</td>\n",
       "      <td>18.756887</td>\n",
       "      <td>17.835205</td>\n",
       "      <td>17.638680</td>\n",
       "      <td>17.540789</td>\n",
       "      <td>17.521290</td>\n",
       "      <td>17.487024</td>\n",
       "      <td>0.018310</td>\n",
       "    </tr>\n",
       "    <tr>\n",
       "      <th>3</th>\n",
       "      <td>0.502705</td>\n",
       "      <td>-0.147265</td>\n",
       "      <td>20.579208</td>\n",
       "      <td>19.662645</td>\n",
       "      <td>19.219460</td>\n",
       "      <td>18.910147</td>\n",
       "      <td>18.736389</td>\n",
       "      <td>18.631491</td>\n",
       "      <td>0.020962</td>\n",
       "    </tr>\n",
       "    <tr>\n",
       "      <th>4</th>\n",
       "      <td>2.007109</td>\n",
       "      <td>-0.019202</td>\n",
       "      <td>18.627811</td>\n",
       "      <td>17.774061</td>\n",
       "      <td>17.404118</td>\n",
       "      <td>17.080204</td>\n",
       "      <td>16.880186</td>\n",
       "      <td>16.768349</td>\n",
       "      <td>0.019156</td>\n",
       "    </tr>\n",
       "  </tbody>\n",
       "</table>\n",
       "</div>"
      ],
      "text/plain": [
       "         ra       dec      mag_u      mag_g      mag_r      mag_i      mag_z  \\\n",
       "0  0.432719  0.046171  21.098677  20.032227  19.708700  19.542538  19.488430   \n",
       "1  2.040416 -0.534684  17.333044  16.413969  15.929143  15.571618  15.348542   \n",
       "2  0.944323 -0.734390  18.756887  17.835205  17.638680  17.540789  17.521290   \n",
       "3  0.502705 -0.147265  20.579208  19.662645  19.219460  18.910147  18.736389   \n",
       "4  2.007109 -0.019202  18.627811  17.774061  17.404118  17.080204  16.880186   \n",
       "\n",
       "       mag_y  redshift  \n",
       "0  19.443745  0.020688  \n",
       "1  15.232266  0.006596  \n",
       "2  17.487024  0.018310  \n",
       "3  18.631491  0.020962  \n",
       "4  16.768349  0.019156  "
      ]
     },
     "execution_count": 12,
     "metadata": {},
     "output_type": "execute_result"
    }
   ],
   "source": [
    "df.head()"
   ]
  },
  {
   "cell_type": "code",
   "execution_count": 20,
   "metadata": {},
   "outputs": [],
   "source": [
    "cut = (df.redshift > 1.0) & (df.redshift < 1.01)"
   ]
  },
  {
   "cell_type": "code",
   "execution_count": 21,
   "metadata": {},
   "outputs": [
    {
     "data": {
      "text/plain": [
       "Dask Series Structure:\n",
       "npartitions=1568\n",
       "    bool\n",
       "     ...\n",
       "    ... \n",
       "     ...\n",
       "     ...\n",
       "Name: redshift, dtype: bool\n",
       "Dask Name: and_, 7840 tasks"
      ]
     },
     "execution_count": 21,
     "metadata": {},
     "output_type": "execute_result"
    }
   ],
   "source": [
    "cut"
   ]
  },
  {
   "cell_type": "code",
   "execution_count": 22,
   "metadata": {},
   "outputs": [],
   "source": [
    "df2 = df[cut].compute()"
   ]
  },
  {
   "cell_type": "code",
   "execution_count": 18,
   "metadata": {},
   "outputs": [
    {
     "data": {
      "text/html": [
       "<div>\n",
       "<style scoped>\n",
       "    .dataframe tbody tr th:only-of-type {\n",
       "        vertical-align: middle;\n",
       "    }\n",
       "\n",
       "    .dataframe tbody tr th {\n",
       "        vertical-align: top;\n",
       "    }\n",
       "\n",
       "    .dataframe thead th {\n",
       "        text-align: right;\n",
       "    }\n",
       "</style>\n",
       "<table border=\"1\" class=\"dataframe\">\n",
       "  <thead>\n",
       "    <tr style=\"text-align: right;\">\n",
       "      <th></th>\n",
       "      <th>ra</th>\n",
       "      <th>dec</th>\n",
       "      <th>mag_u</th>\n",
       "      <th>mag_g</th>\n",
       "      <th>mag_r</th>\n",
       "      <th>mag_i</th>\n",
       "      <th>mag_z</th>\n",
       "      <th>mag_y</th>\n",
       "      <th>redshift</th>\n",
       "    </tr>\n",
       "  </thead>\n",
       "  <tbody>\n",
       "    <tr>\n",
       "      <th>397607</th>\n",
       "      <td>1.042379</td>\n",
       "      <td>-0.782734</td>\n",
       "      <td>24.980705</td>\n",
       "      <td>24.907329</td>\n",
       "      <td>24.394134</td>\n",
       "      <td>23.643894</td>\n",
       "      <td>23.025331</td>\n",
       "      <td>22.889061</td>\n",
       "      <td>1.001209</td>\n",
       "    </tr>\n",
       "    <tr>\n",
       "      <th>397608</th>\n",
       "      <td>1.041526</td>\n",
       "      <td>-0.784054</td>\n",
       "      <td>28.084831</td>\n",
       "      <td>27.795216</td>\n",
       "      <td>27.166285</td>\n",
       "      <td>26.362562</td>\n",
       "      <td>25.737995</td>\n",
       "      <td>25.557953</td>\n",
       "      <td>1.000656</td>\n",
       "    </tr>\n",
       "    <tr>\n",
       "      <th>397617</th>\n",
       "      <td>0.536179</td>\n",
       "      <td>-0.302533</td>\n",
       "      <td>27.145730</td>\n",
       "      <td>27.188059</td>\n",
       "      <td>27.056357</td>\n",
       "      <td>26.201157</td>\n",
       "      <td>25.978373</td>\n",
       "      <td>25.887265</td>\n",
       "      <td>1.008801</td>\n",
       "    </tr>\n",
       "    <tr>\n",
       "      <th>397621</th>\n",
       "      <td>0.753302</td>\n",
       "      <td>-0.578448</td>\n",
       "      <td>27.198244</td>\n",
       "      <td>26.833908</td>\n",
       "      <td>26.182133</td>\n",
       "      <td>25.366656</td>\n",
       "      <td>24.746761</td>\n",
       "      <td>24.637648</td>\n",
       "      <td>1.008924</td>\n",
       "    </tr>\n",
       "    <tr>\n",
       "      <th>397626</th>\n",
       "      <td>0.389237</td>\n",
       "      <td>-0.325381</td>\n",
       "      <td>26.453023</td>\n",
       "      <td>26.455196</td>\n",
       "      <td>26.259038</td>\n",
       "      <td>25.748531</td>\n",
       "      <td>25.326802</td>\n",
       "      <td>25.317304</td>\n",
       "      <td>1.004504</td>\n",
       "    </tr>\n",
       "  </tbody>\n",
       "</table>\n",
       "</div>"
      ],
      "text/plain": [
       "              ra       dec      mag_u      mag_g      mag_r      mag_i  \\\n",
       "397607  1.042379 -0.782734  24.980705  24.907329  24.394134  23.643894   \n",
       "397608  1.041526 -0.784054  28.084831  27.795216  27.166285  26.362562   \n",
       "397617  0.536179 -0.302533  27.145730  27.188059  27.056357  26.201157   \n",
       "397621  0.753302 -0.578448  27.198244  26.833908  26.182133  25.366656   \n",
       "397626  0.389237 -0.325381  26.453023  26.455196  26.259038  25.748531   \n",
       "\n",
       "            mag_z      mag_y  redshift  \n",
       "397607  23.025331  22.889061  1.001209  \n",
       "397608  25.737995  25.557953  1.000656  \n",
       "397617  25.978373  25.887265  1.008801  \n",
       "397621  24.746761  24.637648  1.008924  \n",
       "397626  25.326802  25.317304  1.004504  "
      ]
     },
     "execution_count": 18,
     "metadata": {},
     "output_type": "execute_result"
    }
   ],
   "source": [
    "df2.head()"
   ]
  },
  {
   "cell_type": "code",
   "execution_count": 19,
   "metadata": {},
   "outputs": [
    {
     "data": {
      "text/plain": [
       "29115056"
      ]
     },
     "execution_count": 19,
     "metadata": {},
     "output_type": "execute_result"
    }
   ],
   "source": [
    "%%time\n",
    "len(df2)"
   ]
  },
  {
   "cell_type": "code",
   "execution_count": 23,
   "metadata": {},
   "outputs": [
    {
     "data": {
      "text/html": [
       "<div>\n",
       "<style scoped>\n",
       "    .dataframe tbody tr th:only-of-type {\n",
       "        vertical-align: middle;\n",
       "    }\n",
       "\n",
       "    .dataframe tbody tr th {\n",
       "        vertical-align: top;\n",
       "    }\n",
       "\n",
       "    .dataframe thead th {\n",
       "        text-align: right;\n",
       "    }\n",
       "</style>\n",
       "<table border=\"1\" class=\"dataframe\">\n",
       "  <thead>\n",
       "    <tr style=\"text-align: right;\">\n",
       "      <th></th>\n",
       "      <th>ra</th>\n",
       "      <th>dec</th>\n",
       "      <th>mag_u</th>\n",
       "      <th>mag_g</th>\n",
       "      <th>mag_r</th>\n",
       "      <th>mag_i</th>\n",
       "      <th>mag_z</th>\n",
       "      <th>mag_y</th>\n",
       "      <th>redshift</th>\n",
       "    </tr>\n",
       "  </thead>\n",
       "  <tbody>\n",
       "    <tr>\n",
       "      <th>397607</th>\n",
       "      <td>1.042379</td>\n",
       "      <td>-0.782734</td>\n",
       "      <td>24.980705</td>\n",
       "      <td>24.907329</td>\n",
       "      <td>24.394134</td>\n",
       "      <td>23.643894</td>\n",
       "      <td>23.025331</td>\n",
       "      <td>22.889061</td>\n",
       "      <td>1.001209</td>\n",
       "    </tr>\n",
       "    <tr>\n",
       "      <th>397608</th>\n",
       "      <td>1.041526</td>\n",
       "      <td>-0.784054</td>\n",
       "      <td>28.084831</td>\n",
       "      <td>27.795216</td>\n",
       "      <td>27.166285</td>\n",
       "      <td>26.362562</td>\n",
       "      <td>25.737995</td>\n",
       "      <td>25.557953</td>\n",
       "      <td>1.000656</td>\n",
       "    </tr>\n",
       "    <tr>\n",
       "      <th>397617</th>\n",
       "      <td>0.536179</td>\n",
       "      <td>-0.302533</td>\n",
       "      <td>27.145730</td>\n",
       "      <td>27.188059</td>\n",
       "      <td>27.056357</td>\n",
       "      <td>26.201157</td>\n",
       "      <td>25.978373</td>\n",
       "      <td>25.887265</td>\n",
       "      <td>1.008801</td>\n",
       "    </tr>\n",
       "    <tr>\n",
       "      <th>397621</th>\n",
       "      <td>0.753302</td>\n",
       "      <td>-0.578448</td>\n",
       "      <td>27.198244</td>\n",
       "      <td>26.833908</td>\n",
       "      <td>26.182133</td>\n",
       "      <td>25.366656</td>\n",
       "      <td>24.746761</td>\n",
       "      <td>24.637648</td>\n",
       "      <td>1.008924</td>\n",
       "    </tr>\n",
       "    <tr>\n",
       "      <th>397626</th>\n",
       "      <td>0.389237</td>\n",
       "      <td>-0.325381</td>\n",
       "      <td>26.453023</td>\n",
       "      <td>26.455196</td>\n",
       "      <td>26.259038</td>\n",
       "      <td>25.748531</td>\n",
       "      <td>25.326802</td>\n",
       "      <td>25.317304</td>\n",
       "      <td>1.004504</td>\n",
       "    </tr>\n",
       "    <tr>\n",
       "      <th>...</th>\n",
       "      <td>...</td>\n",
       "      <td>...</td>\n",
       "      <td>...</td>\n",
       "      <td>...</td>\n",
       "      <td>...</td>\n",
       "      <td>...</td>\n",
       "      <td>...</td>\n",
       "      <td>...</td>\n",
       "      <td>...</td>\n",
       "    </tr>\n",
       "    <tr>\n",
       "      <th>972308</th>\n",
       "      <td>59.074570</td>\n",
       "      <td>-88.124821</td>\n",
       "      <td>26.134877</td>\n",
       "      <td>26.243435</td>\n",
       "      <td>26.312003</td>\n",
       "      <td>26.053946</td>\n",
       "      <td>25.766404</td>\n",
       "      <td>25.804101</td>\n",
       "      <td>1.008084</td>\n",
       "    </tr>\n",
       "    <tr>\n",
       "      <th>972312</th>\n",
       "      <td>45.901874</td>\n",
       "      <td>-87.493213</td>\n",
       "      <td>27.100227</td>\n",
       "      <td>26.945985</td>\n",
       "      <td>26.533807</td>\n",
       "      <td>25.899242</td>\n",
       "      <td>25.380029</td>\n",
       "      <td>25.339443</td>\n",
       "      <td>1.008251</td>\n",
       "    </tr>\n",
       "    <tr>\n",
       "      <th>972346</th>\n",
       "      <td>60.249298</td>\n",
       "      <td>-89.620737</td>\n",
       "      <td>27.001023</td>\n",
       "      <td>27.209193</td>\n",
       "      <td>26.951203</td>\n",
       "      <td>26.502192</td>\n",
       "      <td>26.076323</td>\n",
       "      <td>26.000008</td>\n",
       "      <td>1.008500</td>\n",
       "    </tr>\n",
       "    <tr>\n",
       "      <th>972399</th>\n",
       "      <td>83.211816</td>\n",
       "      <td>-89.042835</td>\n",
       "      <td>25.662015</td>\n",
       "      <td>25.809127</td>\n",
       "      <td>25.953975</td>\n",
       "      <td>25.832864</td>\n",
       "      <td>25.649040</td>\n",
       "      <td>25.708820</td>\n",
       "      <td>1.008455</td>\n",
       "    </tr>\n",
       "    <tr>\n",
       "      <th>972426</th>\n",
       "      <td>58.673097</td>\n",
       "      <td>-88.710720</td>\n",
       "      <td>26.163291</td>\n",
       "      <td>26.162471</td>\n",
       "      <td>25.721212</td>\n",
       "      <td>25.096482</td>\n",
       "      <td>24.563821</td>\n",
       "      <td>24.506572</td>\n",
       "      <td>1.008896</td>\n",
       "    </tr>\n",
       "  </tbody>\n",
       "</table>\n",
       "<p>29115056 rows × 9 columns</p>\n",
       "</div>"
      ],
      "text/plain": [
       "               ra        dec      mag_u      mag_g      mag_r      mag_i  \\\n",
       "397607   1.042379  -0.782734  24.980705  24.907329  24.394134  23.643894   \n",
       "397608   1.041526  -0.784054  28.084831  27.795216  27.166285  26.362562   \n",
       "397617   0.536179  -0.302533  27.145730  27.188059  27.056357  26.201157   \n",
       "397621   0.753302  -0.578448  27.198244  26.833908  26.182133  25.366656   \n",
       "397626   0.389237  -0.325381  26.453023  26.455196  26.259038  25.748531   \n",
       "...           ...        ...        ...        ...        ...        ...   \n",
       "972308  59.074570 -88.124821  26.134877  26.243435  26.312003  26.053946   \n",
       "972312  45.901874 -87.493213  27.100227  26.945985  26.533807  25.899242   \n",
       "972346  60.249298 -89.620737  27.001023  27.209193  26.951203  26.502192   \n",
       "972399  83.211816 -89.042835  25.662015  25.809127  25.953975  25.832864   \n",
       "972426  58.673097 -88.710720  26.163291  26.162471  25.721212  25.096482   \n",
       "\n",
       "            mag_z      mag_y  redshift  \n",
       "397607  23.025331  22.889061  1.001209  \n",
       "397608  25.737995  25.557953  1.000656  \n",
       "397617  25.978373  25.887265  1.008801  \n",
       "397621  24.746761  24.637648  1.008924  \n",
       "397626  25.326802  25.317304  1.004504  \n",
       "...           ...        ...       ...  \n",
       "972308  25.766404  25.804101  1.008084  \n",
       "972312  25.380029  25.339443  1.008251  \n",
       "972346  26.076323  26.000008  1.008500  \n",
       "972399  25.649040  25.708820  1.008455  \n",
       "972426  24.563821  24.506572  1.008896  \n",
       "\n",
       "[29115056 rows x 9 columns]"
      ]
     },
     "execution_count": 23,
     "metadata": {},
     "output_type": "execute_result"
    }
   ],
   "source": [
    "df2"
   ]
  },
  {
   "cell_type": "code",
   "execution_count": 1,
   "metadata": {},
   "outputs": [
    {
     "name": "stdout",
     "output_type": "stream",
     "text": [
      "threads 4\n"
     ]
    }
   ],
   "source": [
    "def limit_numpy(nthreads=4):\n",
    "     \"\"\" \"\"\"\n",
    "     import os\n",
    "     threads = str(nthreads)\n",
    "     print(f\"threads {threads}\")\n",
    "     os.environ[\"NUMEXPR_NUM_THREADS\"] = threads\n",
    "     os.environ[\"OMP_NUM_THREADS\"] = threads\n",
    "     os.environ[\"OPENBLAS_NUM_THREADS\"] = threads\n",
    "     os.environ[\"MKL_NUM_THREADS\"] = threads\n",
    "     os.environ[\"VECLIB_MAXIMUM_THREADS\"] = threads\n",
    "limit_numpy(4)\n",
    "import dask\n",
    "from dask_jobqueue import SGECluster\n",
    "from dask.distributed import Client\n",
    "import dask.dataframe as dd"
   ]
  },
  {
   "cell_type": "code",
   "execution_count": 2,
   "metadata": {},
   "outputs": [],
   "source": [
    "cluster = SGECluster(name=\"dask-worker\",  walltime=\"02:00:00\", memory='5GB', death_timeout=120, project=\"P_lsst\", resource_spec='sps=1', cores=1, processes=1)\n",
    "cluster.scale(100)\n",
    "client = Client(cluster)"
   ]
  },
  {
   "cell_type": "code",
   "execution_count": 4,
   "metadata": {},
   "outputs": [
    {
     "data": {
      "text/html": [
       "<table style=\"border: 2px solid white;\">\n",
       "<tr>\n",
       "<td style=\"vertical-align: top; border: 0px solid white\">\n",
       "<h3 style=\"text-align: left;\">Client</h3>\n",
       "<ul style=\"text-align: left; list-style: none; margin: 0; padding: 0;\">\n",
       "  <li><b>Scheduler: </b>tcp://134.158.240.242:37697</li>\n",
       "  <li><b>Dashboard: </b><a href='http://134.158.240.242:8787/status' target='_blank'>http://134.158.240.242:8787/status</a></li>\n",
       "</ul>\n",
       "</td>\n",
       "<td style=\"vertical-align: top; border: 0px solid white\">\n",
       "<h3 style=\"text-align: left;\">Cluster</h3>\n",
       "<ul style=\"text-align: left; list-style:none; margin: 0; padding: 0;\">\n",
       "  <li><b>Workers: </b>100</li>\n",
       "  <li><b>Cores: </b>100</li>\n",
       "  <li><b>Memory: </b>499.51 GB</li>\n",
       "</ul>\n",
       "</td>\n",
       "</tr>\n",
       "</table>"
      ],
      "text/plain": [
       "<Client: 'tcp://134.158.240.242:37697' processes=100 threads=100, memory=499.51 GB>"
      ]
     },
     "execution_count": 4,
     "metadata": {},
     "output_type": "execute_result"
    }
   ],
   "source": [
    "client"
   ]
  },
  {
   "cell_type": "code",
   "execution_count": 6,
   "metadata": {},
   "outputs": [
    {
     "name": "stdout",
     "output_type": "stream",
     "text": [
      "CPU times: user 12.4 s, sys: 834 ms, total: 13.2 s\n",
      "Wall time: 12.8 s\n"
     ]
    }
   ],
   "source": [
    "%%time\n",
    "data_path = \"/sps/lsst/data/desc/gcr_rootdir/xgal/skysim/skysim5000_v1.1.1_parquet\"\n",
    "columns = [ \"ra\", \"dec\", \"mag_u\", \"mag_g\", \"mag_r\", \"mag_i\", \"mag_z\", \"mag_y\", \"redshift\"]\n",
    "df = dd.read_parquet(data_path, columns=columns, engine='pyarrow', kwargs={'dataset': {'use_legacy_dataset': False}})"
   ]
  },
  {
   "cell_type": "code",
   "execution_count": null,
   "metadata": {},
   "outputs": [],
   "source": [
    "%%time\n",
    "cut = (df.redshift > 1.0) & (df.redshift < 1.01)\n",
    "df2 = df[cut].compute()"
   ]
  },
  {
   "cell_type": "code",
   "execution_count": null,
   "metadata": {},
   "outputs": [],
   "source": []
  }
 ],
 "metadata": {
  "kernelspec": {
   "display_name": "desc",
   "language": "python",
   "name": "desc"
  },
  "language_info": {
   "codemirror_mode": {
    "name": "ipython",
    "version": 3
   },
   "file_extension": ".py",
   "mimetype": "text/x-python",
   "name": "python",
   "nbconvert_exporter": "python",
   "pygments_lexer": "ipython3",
   "version": "3.8.8"
  }
 },
 "nbformat": 4,
 "nbformat_minor": 4
}
