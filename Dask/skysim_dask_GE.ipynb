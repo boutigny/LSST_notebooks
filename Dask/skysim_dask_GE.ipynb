{
 "cells": [
  {
   "cell_type": "code",
   "execution_count": 1,
   "metadata": {},
   "outputs": [
    {
     "name": "stdout",
     "output_type": "stream",
     "text": [
      "threads 4\n"
     ]
    }
   ],
   "source": [
    "import dask\n",
    "from dask_jobqueue import SGECluster\n",
    "from dask.distributed import Client\n",
    "import dask.dataframe as dd\n",
    "\n",
    "def limit_numpy(nthreads=4):\n",
    "     \"\"\" \"\"\"\n",
    "     import os\n",
    "     threads = str(nthreads)\n",
    "     print(f\"threads {threads}\")\n",
    "     os.environ[\"NUMEXPR_NUM_THREADS\"] = threads\n",
    "     os.environ[\"OMP_NUM_THREADS\"] = threads\n",
    "     os.environ[\"OPENBLAS_NUM_THREADS\"] = threads\n",
    "     os.environ[\"MKL_NUM_THREADS\"] = threads\n",
    "     os.environ[\"VECLIB_MAXIMUM_THREADS\"] = threads\n",
    "\n",
    "limit_numpy(4)"
   ]
  },
  {
   "cell_type": "code",
   "execution_count": 2,
   "metadata": {},
   "outputs": [],
   "source": [
    "cluster = SGECluster(name=\"dask-worker\",  walltime=\"02:00:00\", memory='5GB', death_timeout=120, project=\"P_lsst\", resource_spec='sps=1', cores=1, processes=1)\n",
    "cluster.scale(100)\n",
    "client = Client(cluster)"
   ]
  },
  {
   "cell_type": "code",
   "execution_count": 3,
   "metadata": {},
   "outputs": [],
   "source": [
    "data_path = \"/sps/lsst/data/desc/gcr_rootdir/xgal/skysim/skysim5000_v1.1.1_parquet\"\n",
    "\n",
    "columns = [ \"ra\", \"dec\", \"redshift\", \"halo_mass\", \"Mag_true_z_lsst_z0\", \"is_central\", \"halo_id\"]\n",
    "df = dd.read_parquet(data_path, columns=columns, engine='pyarrow', kwargs={'dataset': {'use_legacy_dataset': False}})"
   ]
  },
  {
   "cell_type": "code",
   "execution_count": 4,
   "metadata": {},
   "outputs": [],
   "source": [
    "ra_min = 30\n",
    "ra_max = 65\n",
    "dec_min = -40\n",
    "dec_max = -30\n",
    "\n",
    "zmax = 2\n",
    "\n",
    "cut = df.redshift < zmax\n",
    "cut &= df.Mag_true_z_lsst_z0 < z0max\n",
    "cut &= df.is_central == 1\n",
    "cut &= df.halo_mass > mmin\n",
    "cut &= (df.ra > ra_min) & (df.ra < ra_max)\n",
    "cut &= (df.dec > dec_min) & (df.dec < dec_max)"
   ]
  },
  {
   "cell_type": "code",
   "execution_count": 5,
   "metadata": {},
   "outputs": [
    {
     "name": "stdout",
     "output_type": "stream",
     "text": [
      "CPU times: user 18.2 s, sys: 1.07 s, total: 19.3 s\n",
      "Wall time: 1min 27s\n"
     ]
    }
   ],
   "source": [
    "%%time\n",
    "df2 = df[cut].compute()"
   ]
  },
  {
   "cell_type": "code",
   "execution_count": 6,
   "metadata": {},
   "outputs": [
    {
     "data": {
      "text/html": [
       "<div>\n",
       "<style scoped>\n",
       "    .dataframe tbody tr th:only-of-type {\n",
       "        vertical-align: middle;\n",
       "    }\n",
       "\n",
       "    .dataframe tbody tr th {\n",
       "        vertical-align: top;\n",
       "    }\n",
       "\n",
       "    .dataframe thead th {\n",
       "        text-align: right;\n",
       "    }\n",
       "</style>\n",
       "<table border=\"1\" class=\"dataframe\">\n",
       "  <thead>\n",
       "    <tr style=\"text-align: right;\">\n",
       "      <th></th>\n",
       "      <th>ra</th>\n",
       "      <th>dec</th>\n",
       "      <th>redshift</th>\n",
       "      <th>halo_mass</th>\n",
       "      <th>Mag_true_z_lsst_z0</th>\n",
       "      <th>is_central</th>\n",
       "      <th>halo_id</th>\n",
       "    </tr>\n",
       "  </thead>\n",
       "  <tbody>\n",
       "    <tr>\n",
       "      <th>114850</th>\n",
       "      <td>32.756352</td>\n",
       "      <td>-30.079380</td>\n",
       "      <td>0.457112</td>\n",
       "      <td>8.920843e+14</td>\n",
       "      <td>-25.031357</td>\n",
       "      <td>True</td>\n",
       "      <td>721609163338</td>\n",
       "    </tr>\n",
       "    <tr>\n",
       "      <th>740656</th>\n",
       "      <td>40.064568</td>\n",
       "      <td>-30.253633</td>\n",
       "      <td>0.952615</td>\n",
       "      <td>7.890940e+14</td>\n",
       "      <td>-25.047729</td>\n",
       "      <td>True</td>\n",
       "      <td>3188409166253</td>\n",
       "    </tr>\n",
       "    <tr>\n",
       "      <th>103739</th>\n",
       "      <td>47.005075</td>\n",
       "      <td>-30.314735</td>\n",
       "      <td>0.457850</td>\n",
       "      <td>5.582540e+14</td>\n",
       "      <td>-24.986231</td>\n",
       "      <td>True</td>\n",
       "      <td>105309168338</td>\n",
       "    </tr>\n",
       "    <tr>\n",
       "      <th>630993</th>\n",
       "      <td>52.734021</td>\n",
       "      <td>-30.593831</td>\n",
       "      <td>0.878769</td>\n",
       "      <td>5.298776e+14</td>\n",
       "      <td>-25.084021</td>\n",
       "      <td>True</td>\n",
       "      <td>1001709170259</td>\n",
       "    </tr>\n",
       "    <tr>\n",
       "      <th>111173</th>\n",
       "      <td>56.120369</td>\n",
       "      <td>-30.005988</td>\n",
       "      <td>0.463085</td>\n",
       "      <td>1.048620e+15</td>\n",
       "      <td>-25.171385</td>\n",
       "      <td>True</td>\n",
       "      <td>655209171338</td>\n",
       "    </tr>\n",
       "    <tr>\n",
       "      <th>...</th>\n",
       "      <td>...</td>\n",
       "      <td>...</td>\n",
       "      <td>...</td>\n",
       "      <td>...</td>\n",
       "      <td>...</td>\n",
       "      <td>...</td>\n",
       "      <td>...</td>\n",
       "    </tr>\n",
       "    <tr>\n",
       "      <th>6924</th>\n",
       "      <td>62.485817</td>\n",
       "      <td>-38.849633</td>\n",
       "      <td>0.183383</td>\n",
       "      <td>5.544304e+14</td>\n",
       "      <td>-23.885361</td>\n",
       "      <td>True</td>\n",
       "      <td>144309942421</td>\n",
       "    </tr>\n",
       "    <tr>\n",
       "      <th>129509</th>\n",
       "      <td>63.960972</td>\n",
       "      <td>-38.874504</td>\n",
       "      <td>0.475919</td>\n",
       "      <td>7.123371e+14</td>\n",
       "      <td>-25.091227</td>\n",
       "      <td>True</td>\n",
       "      <td>21709942331</td>\n",
       "    </tr>\n",
       "    <tr>\n",
       "      <th>83390</th>\n",
       "      <td>30.952695</td>\n",
       "      <td>-39.456496</td>\n",
       "      <td>0.420646</td>\n",
       "      <td>1.111478e+15</td>\n",
       "      <td>-25.248531</td>\n",
       "      <td>True</td>\n",
       "      <td>49010059347</td>\n",
       "    </tr>\n",
       "    <tr>\n",
       "      <th>199634</th>\n",
       "      <td>54.374400</td>\n",
       "      <td>-39.857394</td>\n",
       "      <td>0.557466</td>\n",
       "      <td>5.475683e+14</td>\n",
       "      <td>-25.158176</td>\n",
       "      <td>True</td>\n",
       "      <td>627510067315</td>\n",
       "    </tr>\n",
       "    <tr>\n",
       "      <th>424256</th>\n",
       "      <td>61.381447</td>\n",
       "      <td>-39.995343</td>\n",
       "      <td>0.752266</td>\n",
       "      <td>1.328346e+15</td>\n",
       "      <td>-25.420084</td>\n",
       "      <td>True</td>\n",
       "      <td>1387310070279</td>\n",
       "    </tr>\n",
       "  </tbody>\n",
       "</table>\n",
       "<p>103 rows × 7 columns</p>\n",
       "</div>"
      ],
      "text/plain": [
       "               ra        dec  redshift     halo_mass  Mag_true_z_lsst_z0  \\\n",
       "114850  32.756352 -30.079380  0.457112  8.920843e+14          -25.031357   \n",
       "740656  40.064568 -30.253633  0.952615  7.890940e+14          -25.047729   \n",
       "103739  47.005075 -30.314735  0.457850  5.582540e+14          -24.986231   \n",
       "630993  52.734021 -30.593831  0.878769  5.298776e+14          -25.084021   \n",
       "111173  56.120369 -30.005988  0.463085  1.048620e+15          -25.171385   \n",
       "...           ...        ...       ...           ...                 ...   \n",
       "6924    62.485817 -38.849633  0.183383  5.544304e+14          -23.885361   \n",
       "129509  63.960972 -38.874504  0.475919  7.123371e+14          -25.091227   \n",
       "83390   30.952695 -39.456496  0.420646  1.111478e+15          -25.248531   \n",
       "199634  54.374400 -39.857394  0.557466  5.475683e+14          -25.158176   \n",
       "424256  61.381447 -39.995343  0.752266  1.328346e+15          -25.420084   \n",
       "\n",
       "        is_central        halo_id  \n",
       "114850        True   721609163338  \n",
       "740656        True  3188409166253  \n",
       "103739        True   105309168338  \n",
       "630993        True  1001709170259  \n",
       "111173        True   655209171338  \n",
       "...            ...            ...  \n",
       "6924          True   144309942421  \n",
       "129509        True    21709942331  \n",
       "83390         True    49010059347  \n",
       "199634        True   627510067315  \n",
       "424256        True  1387310070279  \n",
       "\n",
       "[103 rows x 7 columns]"
      ]
     },
     "execution_count": 6,
     "metadata": {},
     "output_type": "execute_result"
    }
   ],
   "source": [
    "df2"
   ]
  },
  {
   "cell_type": "code",
   "execution_count": 7,
   "metadata": {},
   "outputs": [
    {
     "name": "stderr",
     "output_type": "stream",
     "text": [
      "distributed.client - ERROR - Failed to reconnect to scheduler after 10.00 seconds, closing client\n",
      "_GatheringFuture exception was never retrieved\n",
      "future: <_GatheringFuture finished exception=CancelledError()>\n",
      "concurrent.futures._base.CancelledError\n"
     ]
    }
   ],
   "source": [
    "cluster.close()"
   ]
  },
  {
   "cell_type": "code",
   "execution_count": null,
   "metadata": {},
   "outputs": [],
   "source": []
  }
 ],
 "metadata": {
  "kernelspec": {
   "display_name": "desc",
   "language": "python",
   "name": "desc"
  },
  "language_info": {
   "codemirror_mode": {
    "name": "ipython",
    "version": 3
   },
   "file_extension": ".py",
   "mimetype": "text/x-python",
   "name": "python",
   "nbconvert_exporter": "python",
   "pygments_lexer": "ipython3",
   "version": "3.7.6"
  }
 },
 "nbformat": 4,
 "nbformat_minor": 4
}
