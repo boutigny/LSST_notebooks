{
 "cells": [
  {
   "cell_type": "code",
   "execution_count": 1,
   "metadata": {},
   "outputs": [],
   "source": [
    "%matplotlib inline\n",
    "import numpy as np\n",
    "import matplotlib.pyplot as plt\n",
    "\n",
    "import dask\n",
    "from dask_jobqueue import SGECluster\n",
    "from dask.distributed import Client\n",
    "import dask.dataframe as dd"
   ]
  },
  {
   "cell_type": "code",
   "execution_count": 2,
   "metadata": {},
   "outputs": [
    {
     "name": "stdout",
     "output_type": "stream",
     "text": [
      "threads 4\n"
     ]
    }
   ],
   "source": [
    "def limit_numpy(nthreads=4):\n",
    "     \"\"\" \"\"\"\n",
    "     import os\n",
    "     threads = str(nthreads)\n",
    "     print(f\"threads {threads}\")\n",
    "     os.environ[\"NUMEXPR_NUM_THREADS\"] = threads\n",
    "     os.environ[\"OMP_NUM_THREADS\"] = threads\n",
    "     os.environ[\"OPENBLAS_NUM_THREADS\"] = threads\n",
    "     os.environ[\"MKL_NUM_THREADS\"] = threads\n",
    "     os.environ[\"VECLIB_MAXIMUM_THREADS\"] = threads\n",
    "\n",
    "limit_numpy(4)"
   ]
  },
  {
   "cell_type": "code",
   "execution_count": 3,
   "metadata": {},
   "outputs": [],
   "source": [
    "cluster = SGECluster(name=\"dask-worker\",  walltime=\"02:00:00\", memory='5GB', death_timeout=120, project=\"P_lsst\", \n",
    "                     resource_spec='sps=1', cores=1, processes=1)\n",
    "cluster.scale(100)\n",
    "client = Client(cluster)"
   ]
  },
  {
   "cell_type": "code",
   "execution_count": 4,
   "metadata": {},
   "outputs": [
    {
     "data": {
      "text/html": [
       "<table style=\"border: 2px solid white;\">\n",
       "<tr>\n",
       "<td style=\"vertical-align: top; border: 0px solid white\">\n",
       "<h3 style=\"text-align: left;\">Client</h3>\n",
       "<ul style=\"text-align: left; list-style: none; margin: 0; padding: 0;\">\n",
       "  <li><b>Scheduler: </b>tcp://134.158.48.25:40959</li>\n",
       "  <li><b>Dashboard: </b><a href='http://134.158.48.25:8787/status' target='_blank'>http://134.158.48.25:8787/status</a></li>\n",
       "</ul>\n",
       "</td>\n",
       "<td style=\"vertical-align: top; border: 0px solid white\">\n",
       "<h3 style=\"text-align: left;\">Cluster</h3>\n",
       "<ul style=\"text-align: left; list-style:none; margin: 0; padding: 0;\">\n",
       "  <li><b>Workers: </b>88</li>\n",
       "  <li><b>Cores: </b>88</li>\n",
       "  <li><b>Memory: </b>406.30 GiB</li>\n",
       "</ul>\n",
       "</td>\n",
       "</tr>\n",
       "</table>"
      ],
      "text/plain": [
       "<Client: 'tcp://134.158.48.25:40959' processes=85 threads=85, memory=392.32 GiB>"
      ]
     },
     "execution_count": 4,
     "metadata": {},
     "output_type": "execute_result"
    }
   ],
   "source": [
    "client"
   ]
  },
  {
   "cell_type": "code",
   "execution_count": 5,
   "metadata": {},
   "outputs": [
    {
     "name": "stdout",
     "output_type": "stream",
     "text": [
      "CPU times: user 531 ms, sys: 288 ms, total: 818 ms\n",
      "Wall time: 5.06 s\n"
     ]
    }
   ],
   "source": [
    "%%time\n",
    "data_path = \"/sps/lsst/groups/desc/skysim5000_v1.1.1_native/skysim5000_v1.1.1_healpix*.parquet\"\n",
    "\n",
    "columns = [\"ra\", \"dec\", \"redshift\", \"mag_u_lsst\", \"mag_g_lsst\", \"mag_r_lsst\", \"mag_i_lsst\", \"mag_z_lsst\", \"mag_y_lsst\",\n",
    "#           \"lightcone_replication\", \"lightcone_rotation\", \"baseDC2/source_halo_mvir\"]\n",
    "           \"halo_id\", \"halo_mass\", \"is_central\",\n",
    "           \"baseDC2/is_on_red_sequence_gr\", \"baseDC2/is_on_red_sequence_ri\"]\n",
    "df = dd.read_parquet(data_path, columns=columns, engine='pyarrow', kwargs={'dataset': {'use_legacy_dataset': False}})"
   ]
  },
  {
   "cell_type": "code",
   "execution_count": null,
   "metadata": {},
   "outputs": [],
   "source": []
  }
 ],
 "metadata": {
  "kernelspec": {
   "display_name": "desc",
   "language": "python",
   "name": "desc"
  },
  "language_info": {
   "codemirror_mode": {
    "name": "ipython",
    "version": 3
   },
   "file_extension": ".py",
   "mimetype": "text/x-python",
   "name": "python",
   "nbconvert_exporter": "python",
   "pygments_lexer": "ipython3",
   "version": "3.8.8"
  }
 },
 "nbformat": 4,
 "nbformat_minor": 4
}
