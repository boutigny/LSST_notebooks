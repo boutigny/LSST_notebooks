{
 "cells": [
  {
   "cell_type": "markdown",
   "metadata": {},
   "source": [
    "# Get a raw image, display it and superimpose the position of the reference sources"
   ]
  },
  {
   "cell_type": "code",
   "execution_count": 3,
   "metadata": {},
   "outputs": [],
   "source": [
    "#dataid = {'visit':2249, 'raft':'R32', 'ccd':'S21'}\n",
    "#dataid = {'visit':277108, 'raftName':'R34', 'detectorName':'S22'}\n",
    "#dataid = {'visit':277108, 'raftName':'R43', 'detectorName':'S22'}\n",
    "#dataid = {'visit':230, 'raftName':'R43', 'detectorName':'S22'}\n",
    "dataid = {'visit':179972, 'raftName':'R41', 'detectorName':'S20'}\n",
    "#dataid = {'visit': 263504, 'filter': 'i', 'raftName': 'R33', 'detectorName': 'S01'}\n",
    "#dataid = {'visit': 227032, 'filter': 'z', 'raftName': 'R32', 'detectorName': 'S20'}"
   ]
  },
  {
   "cell_type": "code",
   "execution_count": 4,
   "metadata": {},
   "outputs": [
    {
     "name": "stderr",
     "output_type": "stream",
     "text": [
      "WARNING: ErfaWarning: ERFA function \"dtf2d\" yielded 1 of \"dubious year (Note 6)\" [astropy._erfa.core]\n",
      "WARNING: ErfaWarning: ERFA function \"utctai\" yielded 1 of \"dubious year (Note 3)\" [astropy._erfa.core]\n"
     ]
    }
   ],
   "source": [
    "import lsst.daf.persistence as dafPersist\n",
    "import lsst.afw.display.ds9 as ds9\n",
    "import numpy\n",
    "\n",
    "#butler = dafPersist.Butler(\"/sps/lsst/dataproducts/desc/DC2/Run1.2p/w_2018_30\")\n",
    "butler = dafPersist.Butler(\"/sps/lsst/users/lsstprod/desc/DC2-test/phosim/input/rerun/test\")\n",
    "\n",
    "raw = butler.get('raw', dataid)\n",
    "wcsRaw = raw.getWcs()"
   ]
  },
  {
   "cell_type": "code",
   "execution_count": 75,
   "metadata": {},
   "outputs": [],
   "source": [
    "# Display image in ds9 (the display_ds9 stack package should be set up)\n",
    "ds9.mtv(raw.getMaskedImage().getImage(),frame=1,wcs=wcsRaw)"
   ]
  },
  {
   "cell_type": "markdown",
   "metadata": {},
   "source": [
    "## Create and load a catalog with reference objects "
   ]
  },
  {
   "cell_type": "code",
   "execution_count": 5,
   "metadata": {},
   "outputs": [],
   "source": [
    "import lsst.afw.table as afwTable\n",
    "import lsst.afw.geom as afwGeom\n",
    "import lsst.afw.coord as afwCoord\n",
    "import lsst.afw.image as afwImage\n",
    "from lsst.meas.algorithms import LoadIndexedReferenceObjectsTask\n",
    "\n",
    "# Configure LoadIndexedReferenceObjectsTask\n",
    "refConfig = LoadIndexedReferenceObjectsTask.ConfigClass()\n",
    "refConfig.ref_dataset_name = 'cal_ref_cat'\n",
    "refTask = LoadIndexedReferenceObjectsTask(butler, config=refConfig)\n",
    "\n",
    "#define a reference filter (not critical for what we are doing) \n",
    "filter = 'lsst_r_smeared'\n",
    "\n",
    "# Find the approximate celestial coordinates of the sensor's center \n",
    "centerPixel = afwGeom.Point2D(2000., 2000.)\n",
    "centerCoord = wcsRaw.pixelToSky(centerPixel)\n",
    "\n",
    "# Retrieve reference object within a 0.5 deg radius circle around the sensor's center\n",
    "radius = afwGeom.Angle(0.5, afwGeom.degrees)\n",
    "ref = refTask.loadSkyCircle(centerCoord, radius, filter).refCat.copy(deep=True)"
   ]
  },
  {
   "cell_type": "code",
   "execution_count": 6,
   "metadata": {},
   "outputs": [
    {
     "data": {
      "text/html": [
       "<i>Table length=18730</i>\n",
       "<table id=\"table140286988398432\" class=\"table-striped table-bordered table-condensed\">\n",
       "<thead><tr><th>id</th><th>coord_ra</th><th>coord_dec</th><th>parent</th><th>lsst_u_smeared_flux</th><th>lsst_u_smeared_instFlux</th><th>lsst_g_smeared_flux</th><th>lsst_g_smeared_instFlux</th><th>lsst_r_smeared_flux</th><th>lsst_r_smeared_instFlux</th><th>lsst_i_smeared_flux</th><th>lsst_i_smeared_instFlux</th><th>lsst_z_smeared_flux</th><th>lsst_z_smeared_instFlux</th><th>lsst_y_smeared_flux</th><th>lsst_y_smeared_instFlux</th><th>lsst_u_smeared_fluxSigma</th><th>lsst_u_smeared_instFluxSigma</th><th>lsst_u_smeared_instFluxErr</th><th>lsst_g_smeared_fluxSigma</th><th>lsst_g_smeared_instFluxSigma</th><th>lsst_g_smeared_instFluxErr</th><th>lsst_r_smeared_fluxSigma</th><th>lsst_r_smeared_instFluxSigma</th><th>lsst_r_smeared_instFluxErr</th><th>lsst_i_smeared_fluxSigma</th><th>lsst_i_smeared_instFluxSigma</th><th>lsst_i_smeared_instFluxErr</th><th>lsst_z_smeared_fluxSigma</th><th>lsst_z_smeared_instFluxSigma</th><th>lsst_z_smeared_instFluxErr</th><th>lsst_y_smeared_fluxSigma</th><th>lsst_y_smeared_instFluxSigma</th><th>lsst_y_smeared_instFluxErr</th><th>resolved</th><th>variable</th><th>raJ2000</th><th>decJ2000</th><th>sigma_raJ2000</th><th>sigma_decJ2000</th><th>lsst_u</th><th>lsst_g</th><th>lsst_r</th><th>lsst_i</th><th>lsst_z</th><th>lsst_y</th><th>properMotionRa</th><th>properMotionDec</th><th>parallax</th><th>radialVelocity</th><th>centroid_x</th><th>centroid_y</th><th>hasCentroid</th></tr></thead>\n",
       "<thead><tr><th></th><th>rad</th><th>rad</th><th></th><th></th><th></th><th></th><th></th><th></th><th></th><th></th><th></th><th></th><th></th><th></th><th></th><th></th><th></th><th></th><th></th><th></th><th></th><th></th><th></th><th></th><th></th><th></th><th></th><th></th><th></th><th></th><th></th><th></th><th></th><th></th><th></th><th></th><th></th><th></th><th></th><th></th><th></th><th></th><th></th><th></th><th></th><th></th><th></th><th></th><th></th><th></th><th></th><th></th></tr></thead>\n",
       "<thead><tr><th>int64</th><th>float64</th><th>float64</th><th>int64</th><th>float64</th><th>float64</th><th>float64</th><th>float64</th><th>float64</th><th>float64</th><th>float64</th><th>float64</th><th>float64</th><th>float64</th><th>float64</th><th>float64</th><th>float64</th><th>float64</th><th>float64</th><th>float64</th><th>float64</th><th>float64</th><th>float64</th><th>float64</th><th>float64</th><th>float64</th><th>float64</th><th>float64</th><th>float64</th><th>float64</th><th>float64</th><th>float64</th><th>float64</th><th>float64</th><th>bool</th><th>bool</th><th>float64</th><th>float64</th><th>float64</th><th>float64</th><th>float64</th><th>float64</th><th>float64</th><th>float64</th><th>float64</th><th>float64</th><th>float64</th><th>float64</th><th>float64</th><th>float64</th><th>float64</th><th>float64</th><th>bool</th></tr></thead>\n",
       "<tr><td>1277260946436</td><td>0.9969151355857375</td><td>-0.49710819972859266</td><td>-1</td><td>1.6612178496166186e-07</td><td>1.6612178496166186e-07</td><td>1.5200021313468859e-06</td><td>1.5200021313468859e-06</td><td>4.544919432474331e-06</td><td>4.544919432474331e-06</td><td>1.2247206736161752e-05</td><td>1.2247206736161752e-05</td><td>1.9004741594090546e-05</td><td>1.9004741594090546e-05</td><td>2.3364314790439987e-05</td><td>2.3364314790439987e-05</td><td>1.5300381826971403e-10</td><td>1.5300381826971403e-10</td><td>1.5300381826971403e-10</td><td>1.3999736995834068e-09</td><td>1.3999736995834068e-09</td><td>1.3999736995834068e-09</td><td>4.1860254936297416e-09</td><td>4.1860254936297416e-09</td><td>4.1860254936297416e-09</td><td>1.1280094264600926e-08</td><td>1.1280094264600926e-08</td><td>1.1280094264600926e-08</td><td>1.750401387630272e-08</td><td>1.750401387630272e-08</td><td>1.750401387630272e-08</td><td>2.151932917779497e-08</td><td>2.151932917779497e-08</td><td>2.151932917779497e-08</td><td>False</td><td>False</td><td>57.1190298</td><td>-28.4822018</td><td>2.777777778e-08</td><td>2.777777778e-08</td><td>25.85026453</td><td>23.44591757</td><td>22.25519938</td><td>21.17972813</td><td>20.70401292</td><td>20.47906653</td><td>0.0</td><td>0.0</td><td>0.0</td><td>0.0</td><td>nan</td><td>nan</td><td>False</td></tr>\n",
       "<tr><td>992912206852</td><td>0.9967867872240551</td><td>-0.49712065591343446</td><td>-1</td><td>2.0079813782963007e-06</td><td>2.0079813782963007e-06</td><td>1.8423759038077915e-05</td><td>1.8423759038077915e-05</td><td>5.847545057755917e-05</td><td>5.847545057755917e-05</td><td>0.00011657152793176828</td><td>0.00011657152793176828</td><td>0.00016030258617245693</td><td>0.00016030258617245693</td><td>0.00018794306491552382</td><td>0.00018794306491552382</td><td>1.84941919546988e-09</td><td>1.84941919546988e-09</td><td>1.84941919546988e-09</td><td>1.696890916719701e-08</td><td>1.696890916719701e-08</td><td>1.696890916719701e-08</td><td>5.385788032239913e-08</td><td>5.385788032239913e-08</td><td>5.385788032239913e-08</td><td>1.0736634499329149e-07</td><td>1.0736634499329149e-07</td><td>1.0736634499329149e-07</td><td>1.4764413811563712e-07</td><td>1.4764413811563712e-07</td><td>1.4764413811563712e-07</td><td>1.7310195984243895e-07</td><td>1.7310195984243895e-07</td><td>1.7310195984243895e-07</td><td>False</td><td>False</td><td>57.111676</td><td>-28.482915499999997</td><td>2.777777778e-08</td><td>2.777777778e-08</td><td>23.14431291</td><td>20.73602046</td><td>19.48109115</td><td>18.73324644</td><td>18.3887578</td><td>18.21456429</td><td>0.0</td><td>0.0</td><td>0.0</td><td>0.0</td><td>nan</td><td>nan</td><td>False</td></tr>\n",
       "<tr><td>1277260281860</td><td>0.9967296833142314</td><td>-0.4969892380869451</td><td>-1</td><td>8.864889303663751e-07</td><td>8.864889303663751e-07</td><td>8.133287961764624e-06</td><td>8.133287961764624e-06</td><td>2.58492015557984e-05</td><td>2.58492015557984e-05</td><td>5.1574721193864974e-05</td><td>5.1574721193864974e-05</td><td>7.068004493082869e-05</td><td>7.068004493082869e-05</td><td>8.283015249357009e-05</td><td>8.283015249357009e-05</td><td>8.164864784663408e-10</td><td>8.164864784663408e-10</td><td>8.164864784663408e-10</td><td>7.49103504711486e-09</td><td>7.49103504711486e-09</td><td>7.49103504711486e-09</td><td>2.3807994467271958e-08</td><td>2.3807994467271958e-08</td><td>2.3807994467271958e-08</td><td>4.750207367852703e-08</td><td>4.750207367852703e-08</td><td>4.750207367852703e-08</td><td>6.509872713195022e-08</td><td>6.509872713195022e-08</td><td>6.509872713195022e-08</td><td>7.628938975284724e-08</td><td>7.628938975284724e-08</td><td>7.628938975284724e-08</td><td>False</td><td>False</td><td>57.108404199999995</td><td>-28.4753858</td><td>2.777777778e-08</td><td>2.777777778e-08</td><td>24.03151313</td><td>21.62322067</td><td>20.36829137</td><td>19.62044666</td><td>19.27595801</td><td>19.1017645</td><td>0.0</td><td>0.0</td><td>0.0</td><td>0.0</td><td>nan</td><td>nan</td><td>False</td></tr>\n",
       "<tr><td>1472575588356</td><td>0.9964567892506908</td><td>-0.4966378267123419</td><td>-1</td><td>1.2118727522707932e-07</td><td>1.2118727522707932e-07</td><td>9.687053647941793e-07</td><td>9.687053647941793e-07</td><td>3.380517005043714e-06</td><td>3.380517005043714e-06</td><td>1.690871549993027e-05</td><td>1.690871549993027e-05</td><td>3.724563756962973e-05</td><td>3.724563756962973e-05</td><td>6.265886688824785e-05</td><td>6.265886688824785e-05</td><td>1.116176053593758e-10</td><td>1.116176053593758e-10</td><td>1.116176053593758e-10</td><td>8.922106129913746e-10</td><td>8.922106129913746e-10</td><td>8.922106129913746e-10</td><td>3.1135712249706136e-09</td><td>3.1135712249706136e-09</td><td>3.1135712249706136e-09</td><td>1.5573502500726724e-08</td><td>1.5573502500726724e-08</td><td>1.5573502500726724e-08</td><td>3.430449993875536e-08</td><td>3.430449993875536e-08</td><td>3.430449993875536e-08</td><td>5.771094913631109e-08</td><td>5.771094913631109e-08</td><td>5.771094913631109e-08</td><td>False</td><td>False</td><td>57.0927685</td><td>-28.455251399999998</td><td>2.777777778e-08</td><td>2.777777778e-08</td><td>26.19203908</td><td>23.93392295</td><td>22.57769716</td><td>20.82980351</td><td>19.97385671</td><td>19.40941989</td><td>0.0</td><td>0.0</td><td>0.0</td><td>0.0</td><td>nan</td><td>nan</td><td>False</td></tr>\n",
       "<tr><td>1472573885444</td><td>0.9977064799135267</td><td>-0.495504144580059</td><td>-1</td><td>1.2356692660778845e-07</td><td>1.2356692660778845e-07</td><td>1.1289640504157671e-06</td><td>1.1289640504157671e-06</td><td>3.378641225360592e-06</td><td>3.378641225360592e-06</td><td>9.090709774444116e-06</td><td>9.090709774444116e-06</td><td>1.4087234917292739e-05</td><td>1.4087234917292739e-05</td><td>1.7295948557608555e-05</td><td>1.7295948557608555e-05</td><td>1.138093452776732e-10</td><td>1.138093452776732e-10</td><td>1.138093452776732e-10</td><td>1.0398143172054096e-09</td><td>1.0398143172054096e-09</td><td>1.0398143172054096e-09</td><td>3.111843568036175e-09</td><td>3.111843568036175e-09</td><td>3.111843568036175e-09</td><td>8.372853124548116e-09</td><td>8.372853124548116e-09</td><td>8.372853124548116e-09</td><td>1.297482284882539e-08</td><td>1.297482284882539e-08</td><td>1.297482284882539e-08</td><td>1.5930157327176533e-08</td><td>1.5930157327176533e-08</td><td>1.5930157327176533e-08</td><td>False</td><td>False</td><td>57.16437049999999</td><td>-28.3902962</td><td>2.777777778e-08</td><td>2.777777778e-08</td><td>26.17076057</td><td>23.76763047</td><td>22.5779058</td><td>21.50308382</td><td>21.02787616</td><td>20.80323192</td><td>0.0</td><td>0.0</td><td>0.0</td><td>0.0</td><td>nan</td><td>nan</td><td>False</td></tr>\n",
       "<tr><td>470358561796</td><td>0.9961418754802409</td><td>-0.4960419941539864</td><td>-1</td><td>1.6540632969215996e-06</td><td>1.6540632969215996e-06</td><td>1.613927363378701e-05</td><td>1.613927363378701e-05</td><td>5.083759218302742e-05</td><td>5.083759218302742e-05</td><td>0.00012048027576688396</td><td>0.00012048027576688396</td><td>0.00017804485525467058</td><td>0.00017804485525467058</td><td>0.0002152629704644855</td><td>0.0002152629704644855</td><td>1.523448596144104e-09</td><td>1.523448596144104e-09</td><td>1.523448596144104e-09</td><td>1.4864820352363928e-08</td><td>1.4864820352363928e-08</td><td>1.4864820352363928e-08</td><td>4.682315276973983e-08</td><td>4.682315276973983e-08</td><td>4.682315276973983e-08</td><td>1.1096643479225553e-07</td><td>1.1096643479225553e-07</td><td>1.1096643479225553e-07</td><td>1.6398537183747486e-07</td><td>1.6398537183747486e-07</td><td>1.6398537183747486e-07</td><td>1.9826452274605677e-07</td><td>1.9826452274605677e-07</td><td>1.9826452274605677e-07</td><td>False</td><td>False</td><td>57.0747252</td><td>-28.4211127</td><td>2.777777778e-08</td><td>2.777777778e-08</td><td>23.35564771</td><td>20.87991176</td><td>19.63465653</td><td>18.6972439</td><td>18.27404147</td><td>18.06961808</td><td>0.0</td><td>0.0</td><td>0.0</td><td>0.0</td><td>nan</td><td>nan</td><td>False</td></tr>\n",
       "<tr><td>1277253274628</td><td>0.9962654563331362</td><td>-0.4953990999137132</td><td>-1</td><td>1.4367908742303859e-07</td><td>1.4367908742303859e-07</td><td>1.3590484666818625e-06</td><td>1.3590484666818625e-06</td><td>4.042564155738293e-06</td><td>4.042564155738293e-06</td><td>1.2473458800362886e-05</td><td>1.2473458800362886e-05</td><td>2.0311036607593112e-05</td><td>2.0311036607593112e-05</td><td>2.551707963035388e-05</td><td>2.551707963035388e-05</td><td>1.323333299501108e-10</td><td>1.323333299501108e-10</td><td>1.323333299501108e-10</td><td>1.2517298960152288e-09</td><td>1.2517298960152288e-09</td><td>1.2517298960152288e-09</td><td>3.723339184990022e-09</td><td>3.723339184990022e-09</td><td>3.723339184990022e-09</td><td>1.1488480116716391e-08</td><td>1.1488480116716391e-08</td><td>1.1488480116716391e-08</td><td>1.8707156046360102e-08</td><td>1.8707156046360102e-08</td><td>1.8707156046360102e-08</td><td>2.3502098869437947e-08</td><td>2.3502098869437947e-08</td><td>2.3502098869437947e-08</td><td>False</td><td>False</td><td>57.08180589999999</td><td>-28.3842776</td><td>2.777777778e-08</td><td>2.777777778e-08</td><td>26.00657466</td><td>23.56776737</td><td>22.38286916</td><td>21.1605162</td><td>20.62911868</td><td>20.38296039</td><td>0.0</td><td>0.0</td><td>0.0</td><td>0.0</td><td>nan</td><td>nan</td><td>False</td></tr>\n",
       "<tr><td>1277254379524</td><td>0.9960092557813836</td><td>-0.49570896236812906</td><td>-1</td><td>3.335466728643659e-07</td><td>3.335466728643659e-07</td><td>3.1479086786331367e-06</td><td>3.1479086786331367e-06</td><td>9.365520113897442e-06</td><td>9.365520113897442e-06</td><td>2.891162624506232e-05</td><td>2.891162624506232e-05</td><td>4.707693468361663e-05</td><td>4.707693468361663e-05</td><td>5.920719588319536e-05</td><td>5.920719588319536e-05</td><td>3.072078387021002e-10</td><td>3.072078387021002e-10</td><td>3.072078387021002e-10</td><td>2.899331039010898e-09</td><td>2.899331039010898e-09</td><td>2.899331039010898e-09</td><td>8.62596280095846e-09</td><td>8.62596280095846e-09</td><td>8.62596280095846e-09</td><td>2.6628591842438368e-08</td><td>2.6628591842438368e-08</td><td>2.6628591842438368e-08</td><td>4.3359459210540014e-08</td><td>4.3359459210540014e-08</td><td>4.3359459210540014e-08</td><td>5.453184265544964e-08</td><td>5.453184265544964e-08</td><td>5.453184265544964e-08</td><td>False</td><td>False</td><td>57.0671267</td><td>-28.4020314</td><td>2.777777778e-08</td><td>2.777777778e-08</td><td>25.09397411</td><td>22.65516682</td><td>21.47026862</td><td>20.24791565</td><td>19.71651814</td><td>19.47035984</td><td>0.0</td><td>0.0</td><td>0.0</td><td>0.0</td><td>nan</td><td>nan</td><td>False</td></tr>\n",
       "<tr><td>470357748740</td><td>0.9966182122842612</td><td>-0.495374805931805</td><td>-1</td><td>1.5151538332799956e-05</td><td>1.5151538332799956e-05</td><td>0.00014305033688581689</td><td>0.00014305033688581689</td><td>0.00042580134498110256</td><td>0.00042580134498110256</td><td>0.0013116486630454307</td><td>0.0013116486630454307</td><td>0.00213801756527301</td><td>0.00213801756527301</td><td>0.0026808415189021827</td><td>0.0026808415189021827</td><td>1.3955082520413216e-08</td><td>1.3955082520413216e-08</td><td>1.3955082520413216e-08</td><td>1.317542293044233e-07</td><td>1.317542293044233e-07</td><td>1.317542293044233e-07</td><td>3.9217753181212074e-07</td><td>3.9217753181212074e-07</td><td>3.9217753181212074e-07</td><td>1.2080730635095917e-06</td><td>1.2080730635095917e-06</td><td>1.2080730635095917e-06</td><td>1.969186949742823e-06</td><td>1.969186949742823e-06</td><td>1.969186949742823e-06</td><td>2.4691462872414727e-06</td><td>2.4691462872414727e-06</td><td>2.4691462872414727e-06</td><td>False</td><td>False</td><td>57.10201740000001</td><td>-28.3828857</td><td>2.777777778e-08</td><td>2.777777778e-08</td><td>20.94867378</td><td>18.51108413</td><td>17.32717852</td><td>16.10547817</td><td>15.57458277</td><td>15.32872599</td><td>0.0</td><td>0.0</td><td>0.0</td><td>0.0</td><td>nan</td><td>nan</td><td>False</td></tr>\n",
       "<tr><td>...</td><td>...</td><td>...</td><td>...</td><td>...</td><td>...</td><td>...</td><td>...</td><td>...</td><td>...</td><td>...</td><td>...</td><td>...</td><td>...</td><td>...</td><td>...</td><td>...</td><td>...</td><td>...</td><td>...</td><td>...</td><td>...</td><td>...</td><td>...</td><td>...</td><td>...</td><td>...</td><td>...</td><td>...</td><td>...</td><td>...</td><td>...</td><td>...</td><td>...</td><td>...</td><td>...</td><td>...</td><td>...</td><td>...</td><td>...</td><td>...</td><td>...</td><td>...</td><td>...</td><td>...</td><td>...</td><td>...</td><td>...</td><td>...</td><td>...</td><td>...</td><td>...</td><td>...</td></tr>\n",
       "<tr><td>9118526695</td><td>0.9955124325873086</td><td>-0.4984091378306734</td><td>-1</td><td>3.837396339228976e-06</td><td>3.837396339228976e-06</td><td>3.5517050837719157e-06</td><td>3.5517050837719157e-06</td><td>3.6643622203965526e-06</td><td>3.6643622203965526e-06</td><td>5.031156200418866e-06</td><td>5.031156200418866e-06</td><td>7.640166179410772e-06</td><td>7.640166179410772e-06</td><td>8.777450094792111e-06</td><td>8.777450094792111e-06</td><td>3.5343726426474253e-09</td><td>3.5343726426474253e-09</td><td>3.5343726426474253e-09</td><td>3.271241272241753e-09</td><td>3.271241272241753e-09</td><td>3.271241272241753e-09</td><td>3.375002329606266e-09</td><td>3.375002329606266e-09</td><td>3.375002329606266e-09</td><td>4.633866107043618e-09</td><td>4.633866107043618e-09</td><td>4.633866107043618e-09</td><td>7.036853101083408e-09</td><td>7.036853101083408e-09</td><td>7.036853101083408e-09</td><td>8.084330297106996e-09</td><td>8.084330297106996e-09</td><td>8.084330297106996e-09</td><td>True</td><td>True</td><td>57.03866084038842</td><td>-28.556740069775504</td><td>2.777777778e-08</td><td>2.777777778e-08</td><td>22.43842923</td><td>22.52395224</td><td>22.490675</td><td>22.14628876</td><td>21.69195263</td><td>21.5422547</td><td>0.0</td><td>0.0</td><td>0.0</td><td>0.0</td><td>nan</td><td>nan</td><td>False</td></tr>\n",
       "<tr><td>9121732839</td><td>0.9951980651960568</td><td>-0.5008514231435653</td><td>-1</td><td>2.2307737679827693e-06</td><td>2.2307737679827693e-06</td><td>2.1093469383029156e-06</td><td>2.1093469383029156e-06</td><td>2.348089664430815e-06</td><td>2.348089664430815e-06</td><td>3.46890156993333e-06</td><td>3.46890156993333e-06</td><td>5.604423441437783e-06</td><td>5.604423441437783e-06</td><td>6.659230519333016e-06</td><td>6.659230519333016e-06</td><td>2.0546185695997134e-09</td><td>2.0546185695997134e-09</td><td>2.0546185695997134e-09</td><td>1.94278032643557e-09</td><td>1.94278032643557e-09</td><td>1.94278032643557e-09</td><td>2.162670503332715e-09</td><td>2.162670503332715e-09</td><td>2.162670503332715e-09</td><td>3.1949764175968516e-09</td><td>3.1949764175968516e-09</td><td>3.1949764175968516e-09</td><td>5.161864748432412e-09</td><td>5.161864748432412e-09</td><td>5.161864748432412e-09</td><td>6.133377969850881e-09</td><td>6.133377969850881e-09</td><td>6.133377969850881e-09</td><td>True</td><td>False</td><td>57.02064891158393</td><td>-28.69667270710456</td><td>2.777777778e-08</td><td>2.777777778e-08</td><td>23.02938885</td><td>23.08885729</td><td>22.97343178</td><td>22.55032316</td><td>22.02885526</td><td>21.84373868</td><td>0.0</td><td>0.0</td><td>0.0</td><td>0.0</td><td>nan</td><td>nan</td><td>False</td></tr>\n",
       "<tr><td>9127280871</td><td>0.9959077014702119</td><td>-0.4983821582531335</td><td>-1</td><td>4.012986778844223e-06</td><td>4.012986778844223e-06</td><td>3.719956392967237e-06</td><td>3.719956392967237e-06</td><td>3.760740688812703e-06</td><td>3.760740688812703e-06</td><td>5.015231965704399e-06</td><td>5.015231965704399e-06</td><td>7.404321586958024e-06</td><td>7.404321586958024e-06</td><td>8.220439263471538e-06</td><td>8.220439263471538e-06</td><td>3.6960974141395608e-09</td><td>3.6960974141395608e-09</td><td>3.6960974141395608e-09</td><td>3.4262064548137048e-09</td><td>3.4262064548137048e-09</td><td>3.4262064548137048e-09</td><td>3.4637701794705162e-09</td><td>3.4637701794705162e-09</td><td>3.4637701794705162e-09</td><td>4.6191993448552705e-09</td><td>4.6191993448552705e-09</td><td>4.6191993448552705e-09</td><td>6.819632203945425e-09</td><td>6.819632203945425e-09</td><td>6.819632203945425e-09</td><td>7.571304362373008e-09</td><td>7.571304362373008e-09</td><td>7.571304362373008e-09</td><td>True</td><td>False</td><td>57.06130809592779</td><td>-28.555194270873017</td><td>2.777777778e-08</td><td>2.777777778e-08</td><td>22.39125958</td><td>22.47357403</td><td>22.46268889</td><td>22.15075745</td><td>21.72544274</td><td>21.61043837</td><td>0.0</td><td>0.0</td><td>0.0</td><td>0.0</td><td>nan</td><td>nan</td><td>False</td></tr>\n",
       "<tr><td>9134424295</td><td>0.9944863724240289</td><td>-0.49962171553524387</td><td>-1</td><td>3.825966340272759e-06</td><td>3.825966340272759e-06</td><td>3.581786843704001e-06</td><td>3.581786843704001e-06</td><td>3.7807089806360875e-06</td><td>3.7807089806360875e-06</td><td>5.293828661103199e-06</td><td>5.293828661103199e-06</td><td>8.1442171524885e-06</td><td>8.1442171524885e-06</td><td>9.273543317062375e-06</td><td>9.273543317062375e-06</td><td>3.523845224563616e-09</td><td>3.523845224563616e-09</td><td>3.523845224563616e-09</td><td>3.2989475970380107e-09</td><td>3.2989475970380107e-09</td><td>3.2989475970380107e-09</td><td>3.482161655904548e-09</td><td>3.482161655904548e-09</td><td>3.482161655904548e-09</td><td>4.875796383968342e-09</td><td>4.875796383968342e-09</td><td>4.875796383968342e-09</td><td>7.501101203770575e-09</td><td>7.501101203770575e-09</td><td>7.501101203770575e-09</td><td>8.541249040440953e-09</td><td>8.541249040440953e-09</td><td>8.541249040440953e-09</td><td>True</td><td>False</td><td>56.97987191123391</td><td>-28.62621565817169</td><td>2.777777778e-08</td><td>2.777777778e-08</td><td>22.44409105</td><td>22.51361313</td><td>22.4555782</td><td>22.09066225</td><td>21.62162287</td><td>21.48025068</td><td>0.0</td><td>0.0</td><td>0.0</td><td>0.0</td><td>nan</td><td>nan</td><td>False</td></tr>\n",
       "<tr><td>9134478567</td><td>0.9941163735235655</td><td>-0.4977889316438551</td><td>-1</td><td>1.4304641329867678e-06</td><td>1.4304641329867678e-06</td><td>1.4347777491216395e-06</td><td>1.4347777491216395e-06</td><td>2.3665028777027467e-06</td><td>2.3665028777027467e-06</td><td>4.611597264658824e-06</td><td>4.611597264658824e-06</td><td>9.383596420364186e-06</td><td>9.383596420364186e-06</td><td>1.3668224797708113e-05</td><td>1.3668224797708113e-05</td><td>1.3175061554711936e-09</td><td>1.3175061554711936e-09</td><td>1.3175061554711936e-09</td><td>1.3214791427548154e-09</td><td>1.3214791427548154e-09</td><td>1.3214791427548154e-09</td><td>2.1796296994903428e-09</td><td>2.1796296994903428e-09</td><td>2.1796296994903428e-09</td><td>4.24743804659821e-09</td><td>4.24743804659821e-09</td><td>4.24743804659821e-09</td><td>8.642611694481147e-09</td><td>8.642611694481147e-09</td><td>8.642611694481147e-09</td><td>1.2588900266757705e-08</td><td>1.2588900266757705e-08</td><td>1.2588900266757705e-08</td><td>True</td><td>False</td><td>56.958672539906864</td><td>-28.521204837549934</td><td>2.777777778e-08</td><td>2.777777778e-08</td><td>23.51128555</td><td>23.50842486</td><td>22.96556906</td><td>22.24098606</td><td>21.4685482</td><td>21.06116605</td><td>0.0</td><td>0.0</td><td>0.0</td><td>0.0</td><td>nan</td><td>nan</td><td>False</td></tr>\n",
       "<tr><td>9134591207</td><td>0.9939626783110801</td><td>-0.4988941698973986</td><td>-1</td><td>1.0106317011408136e-05</td><td>1.0106317011408136e-05</td><td>9.391915681277781e-06</td><td>9.391915681277781e-06</td><td>9.54500228975697e-06</td><td>9.54500228975697e-06</td><td>1.2807225635392199e-05</td><td>1.2807225635392199e-05</td><td>1.9023962137209287e-05</td><td>1.9023962137209287e-05</td><td>2.114125637879156e-05</td><td>2.114125637879156e-05</td><td>9.308261958216204e-09</td><td>9.308261958216204e-09</td><td>9.308261958216204e-09</td><td>8.650274016946895e-09</td><td>8.650274016946895e-09</td><td>8.650274016946895e-09</td><td>8.791271993995373e-09</td><td>8.791271993995373e-09</td><td>8.791271993995373e-09</td><td>1.179589073226611e-08</td><td>1.179589073226611e-08</td><td>1.179589073226611e-08</td><td>1.75217166507285e-08</td><td>1.75217166507285e-08</td><td>1.75217166507285e-08</td><td>1.9471816713988293e-08</td><td>1.9471816713988293e-08</td><td>1.9471816713988293e-08</td><td>True</td><td>False</td><td>56.94986642871609</td><td>-28.584530347316296</td><td>2.777777778e-08</td><td>2.777777778e-08</td><td>21.38806796</td><td>21.46926591</td><td>21.45291085</td><td>21.13109124</td><td>20.70196807</td><td>20.58665791</td><td>0.0</td><td>0.0</td><td>0.0</td><td>0.0</td><td>nan</td><td>nan</td><td>False</td></tr>\n",
       "<tr><td>9140840679</td><td>0.9952174422903302</td><td>-0.4985974195761195</td><td>-1</td><td>4.539512798984059e-06</td><td>4.539512798984059e-06</td><td>3.816829646930161e-06</td><td>3.816829646930161e-06</td><td>3.15422188664422e-06</td><td>3.15422188664422e-06</td><td>3.4043098149561426e-06</td><td>3.4043098149561426e-06</td><td>3.869975939418421e-06</td><td>3.869975939418421e-06</td><td>3.637502872171183e-06</td><td>3.637502872171183e-06</td><td>4.181045800158548e-09</td><td>4.181045800158548e-09</td><td>4.181045800158548e-09</td><td>3.515430019007647e-09</td><td>3.515430019007647e-09</td><td>3.515430019007647e-09</td><td>2.9051457184730147e-09</td><td>2.9051457184730147e-09</td><td>2.9051457184730147e-09</td><td>3.135485212740533e-09</td><td>3.135485212740533e-09</td><td>3.135485212740533e-09</td><td>3.5643795633401944e-09</td><td>3.5643795633401944e-09</td><td>3.5643795633401944e-09</td><td>3.3502639556737567e-09</td><td>3.3502639556737567e-09</td><td>3.3502639556737567e-09</td><td>True</td><td>False</td><td>57.02175911766129</td><td>-28.567527795867207</td><td>2.777777778e-08</td><td>2.777777778e-08</td><td>22.25713574</td><td>22.44731676</td><td>22.65492988</td><td>22.5711482</td><td>22.4309262</td><td>22.49723202</td><td>0.0</td><td>0.0</td><td>0.0</td><td>0.0</td><td>nan</td><td>nan</td><td>False</td></tr>\n",
       "<tr><td>9141027047</td><td>0.9940556425564582</td><td>-0.498911236609349</td><td>-1</td><td>5.876155080013785e-06</td><td>5.876155080013785e-06</td><td>5.411743459158212e-06</td><td>5.411743459158212e-06</td><td>5.546807638059004e-06</td><td>5.546807638059004e-06</td><td>7.5679134547785485e-06</td><td>7.5679134547785485e-06</td><td>1.1415943978916185e-05</td><td>1.1415943978916185e-05</td><td>1.283671658970084e-05</td><td>1.283671658970084e-05</td><td>5.412138836544391e-09</td><td>5.412138836544391e-09</td><td>5.412138836544391e-09</td><td>4.9843999264662925e-09</td><td>4.9843999264662925e-09</td><td>4.9843999264662925e-09</td><td>5.108798632440071e-09</td><td>5.108798632440071e-09</td><td>5.108798632440071e-09</td><td>6.970305882416863e-09</td><td>6.970305882416863e-09</td><td>6.970305882416863e-09</td><td>1.0514472971323017e-08</td><td>1.0514472971323017e-08</td><td>1.0514472971323017e-08</td><td>1.182305290497381e-08</td><td>1.182305290497381e-08</td><td>1.182305290497381e-08</td><td>True</td><td>False</td><td>56.955192931602866</td><td>-28.585508202354735</td><td>2.777777778e-08</td><td>2.777777778e-08</td><td>21.97724515</td><td>22.06630155</td><td>22.04131448</td><td>21.70034842</td><td>21.25654016</td><td>21.13057796</td><td>0.0</td><td>0.0</td><td>0.0</td><td>0.0</td><td>nan</td><td>nan</td><td>False</td></tr>\n",
       "<tr><td>9141582055</td><td>0.9919021743581949</td><td>-0.49875330068461227</td><td>-1</td><td>5.000068439938858e-06</td><td>5.000068439938858e-06</td><td>4.7015618846287985e-06</td><td>4.7015618846287985e-06</td><td>5.152244412298884e-06</td><td>5.152244412298884e-06</td><td>7.426950218237782e-06</td><td>7.426950218237782e-06</td><td>1.1778787883114136e-05</td><td>1.1778787883114136e-05</td><td>1.3877692010755185e-05</td><td>1.3877692010755185e-05</td><td>4.605233221501284e-09</td><td>4.605233221501284e-09</td><td>4.605233221501284e-09</td><td>4.330298523734106e-09</td><td>4.330298523734106e-09</td><td>4.330298523734106e-09</td><td>4.7453924716885125e-09</td><td>4.7453924716885125e-09</td><td>4.7453924716885125e-09</td><td>6.840473943569277e-09</td><td>6.840473943569277e-09</td><td>6.840473943569277e-09</td><td>1.0848664557279002e-08</td><td>1.0848664557279002e-08</td><td>1.0848664557279002e-08</td><td>1.2781826699650982e-08</td><td>1.2781826699650982e-08</td><td>1.2781826699650982e-08</td><td>True</td><td>False</td><td>56.831808260887236</td><td>-28.576459107430935</td><td>2.777777778e-08</td><td>2.777777778e-08</td><td>22.15312382</td><td>22.2174356</td><td>22.12037285</td><td>21.72307614</td><td>21.22321915</td><td>21.04363217</td><td>0.0</td><td>0.0</td><td>0.0</td><td>0.0</td><td>nan</td><td>nan</td><td>False</td></tr>\n",
       "<tr><td>9141879015</td><td>0.99175695132821</td><td>-0.4985277278721759</td><td>-1</td><td>8.299192170095003e-06</td><td>8.299192170095003e-06</td><td>7.898779473712961e-06</td><td>7.898779473712961e-06</td><td>8.60502493066681e-06</td><td>8.60502493066681e-06</td><td>1.2801531491664802e-05</td><td>1.2801531491664802e-05</td><td>2.0281635293111165e-05</td><td>2.0281635293111165e-05</td><td>2.2500897065969825e-05</td><td>2.2500897065969825e-05</td><td>7.643838469901464e-09</td><td>7.643838469901464e-09</td><td>7.643838469901464e-09</td><td>7.275044747607528e-09</td><td>7.275044747607528e-09</td><td>7.275044747607528e-09</td><td>7.92552085207821e-09</td><td>7.92552085207821e-09</td><td>7.92552085207821e-09</td><td>1.1790646232080482e-08</td><td>1.1790646232080482e-08</td><td>1.1790646232080482e-08</td><td>1.8680076434983877e-08</td><td>1.8680076434983877e-08</td><td>1.8680076434983877e-08</td><td>2.0724092065238233e-08</td><td>2.0724092065238233e-08</td><td>2.0724092065238233e-08</td><td>True</td><td>False</td><td>56.82348762671387</td><td>-28.56353476969015</td><td>2.777777778e-08</td><td>2.777777778e-08</td><td>21.60305285</td><td>21.65574805</td><td>21.56181788</td><td>21.13338402</td><td>20.63143257</td><td>20.51917661</td><td>0.0</td><td>0.0</td><td>0.0</td><td>0.0</td><td>nan</td><td>nan</td><td>False</td></tr>\n",
       "</table>"
      ],
      "text/plain": [
       "<Table length=18730>\n",
       "      id           coord_ra           coord_dec       ... centroid_y hasCentroid\n",
       "                     rad                 rad          ...                       \n",
       "    int64          float64             float64        ...  float64       bool   \n",
       "------------- ------------------ -------------------- ... ---------- -----------\n",
       "1277260946436 0.9969151355857375 -0.49710819972859266 ...        nan       False\n",
       " 992912206852 0.9967867872240551 -0.49712065591343446 ...        nan       False\n",
       "1277260281860 0.9967296833142314  -0.4969892380869451 ...        nan       False\n",
       "1472575588356 0.9964567892506908  -0.4966378267123419 ...        nan       False\n",
       "1472573885444 0.9977064799135267   -0.495504144580059 ...        nan       False\n",
       " 470358561796 0.9961418754802409  -0.4960419941539864 ...        nan       False\n",
       "1277253274628 0.9962654563331362  -0.4953990999137132 ...        nan       False\n",
       "1277254379524 0.9960092557813836 -0.49570896236812906 ...        nan       False\n",
       " 470357748740 0.9966182122842612   -0.495374805931805 ...        nan       False\n",
       "          ...                ...                  ... ...        ...         ...\n",
       "   9118526695 0.9955124325873086  -0.4984091378306734 ...        nan       False\n",
       "   9121732839 0.9951980651960568  -0.5008514231435653 ...        nan       False\n",
       "   9127280871 0.9959077014702119  -0.4983821582531335 ...        nan       False\n",
       "   9134424295 0.9944863724240289 -0.49962171553524387 ...        nan       False\n",
       "   9134478567 0.9941163735235655  -0.4977889316438551 ...        nan       False\n",
       "   9134591207 0.9939626783110801  -0.4988941698973986 ...        nan       False\n",
       "   9140840679 0.9952174422903302  -0.4985974195761195 ...        nan       False\n",
       "   9141027047 0.9940556425564582   -0.498911236609349 ...        nan       False\n",
       "   9141582055 0.9919021743581949 -0.49875330068461227 ...        nan       False\n",
       "   9141879015   0.99175695132821  -0.4985277278721759 ...        nan       False"
      ]
     },
     "execution_count": 6,
     "metadata": {},
     "output_type": "execute_result"
    }
   ],
   "source": [
    "# We can now display the reference catalog as an astropy table\n",
    "ref.asAstropy()"
   ]
  },
  {
   "cell_type": "markdown",
   "metadata": {},
   "source": [
    "## Display the bright reference sources as a small circle overlaid on the ds9 image"
   ]
  },
  {
   "cell_type": "code",
   "execution_count": 78,
   "metadata": {},
   "outputs": [],
   "source": [
    "for r in ref:\n",
    "    ra = r.get(\"coord_ra\")\n",
    "    dec = r.get(\"coord_dec\")\n",
    "    mag = r.get(\"lsst_z\")\n",
    "    c = afwGeom.SpherePoint(ra, dec)\n",
    "    pt = wcsRaw.skyToPixel(c)\n",
    "    # Ignore sources which lye outside the sensor footprint or which are too faint \n",
    "    if (pt.getX() > 4000) or (pt.getX()<0) or (pt.getY()>4000) or (pt.getY()<0) or mag > 21:\n",
    "        continue\n",
    "    with ds9.Buffering():\n",
    "        ds9.dot('o', pt.getX(), pt.getY(), frame=1, size=8)"
   ]
  },
  {
   "cell_type": "markdown",
   "metadata": {},
   "source": [
    "### Note that reference sources does not exactly match the sources in the raw images according to Scott \n",
    "### this is due to the fact that PhoSim  does not include an internal model for the motion of the earth"
   ]
  },
  {
   "cell_type": "markdown",
   "metadata": {},
   "source": [
    "## We can now redo the same thing with the calibrated exposure (calexp)"
   ]
  },
  {
   "cell_type": "code",
   "execution_count": 79,
   "metadata": {},
   "outputs": [],
   "source": [
    "import lsst.daf.persistence as dafPersist\n",
    "import lsst.afw.display.ds9 as ds9\n",
    "import numpy\n",
    "\n",
    "# We need to get a new butler as calexp are in the output directory while eImage(raw) was in the input\n",
    "\n",
    "#butler = dafPersist.Butler(\"/sps/lsst/dataproducts/desc/DC2/Run1.2p/w_2018_18/data/output\")\n",
    "#butler = dafPersist.Butler(\"/sps/lsst/users/lsstprod/desc/DC2-test/newCam/input/rerun/jointcal2\")\n",
    "#butler = dafPersist.Butler(\"/sps/lsst/dataproducts/desc/DC2/Run1.2p/w_2018_30/rerun/210918\")\n",
    "calexp = butler.get('calexp', dataid)\n",
    "wcs = calexp.getWcs()"
   ]
  },
  {
   "cell_type": "code",
   "execution_count": 80,
   "metadata": {},
   "outputs": [],
   "source": [
    "# display in another frame\n",
    "ds9.mtv(calexp.getMaskedImage().getImage(),frame=2,wcs=wcs)"
   ]
  },
  {
   "cell_type": "code",
   "execution_count": null,
   "metadata": {},
   "outputs": [],
   "source": [
    "# display in another frame\n",
    "ds9.mtv(calexp.getMaskedImage(),frame=2,wcs=wcs)"
   ]
  },
  {
   "cell_type": "code",
   "execution_count": null,
   "metadata": {},
   "outputs": [],
   "source": [
    "import lsst.afw.geom as afwGeom\n",
    "meta = butler.get('calexp_md', dataid)\n",
    "wcs = afwGeom.makeSkyWcs(meta)\n",
    "bbox = butler.get('calexp_bbox', dataid)\n",
    "butler.getKeys()"
   ]
  },
  {
   "cell_type": "code",
   "execution_count": 81,
   "metadata": {},
   "outputs": [],
   "source": [
    "for r in ref:\n",
    "    ra = r.get(\"coord_ra\")\n",
    "    dec = r.get(\"coord_dec\")\n",
    "    mag = r.get(\"lsst_u\")\n",
    "    c = afwGeom.SpherePoint(ra, dec)\n",
    "    pt = wcs.skyToPixel(c)\n",
    "    # Ignore sources which lie outside the sensor footprint or which are too faint \n",
    "    if (pt.getX() > 4000) or (pt.getX()<0) or (pt.getY()>4000) or (pt.getY()<0) or mag > 23:\n",
    "        continue\n",
    "    with ds9.Buffering():\n",
    "        ds9.dot('o', pt.getX(), pt.getY(), frame=2, size=8)"
   ]
  },
  {
   "cell_type": "code",
   "execution_count": null,
   "metadata": {},
   "outputs": [],
   "source": [
    "import lsst.afw.geom as afwGeom\n",
    "src = butler.get('src', dataid)\n",
    "for s in src:\n",
    "    ra = s.get(\"coord_ra\")\n",
    "    dec = s.get(\"coord_dec\")\n",
    "    c = afwGeom.SpherePoint(ra, dec)\n",
    "    pt = wcs.skyToPixel(c)\n",
    "    with ds9.Buffering():\n",
    "        ds9.dot('o', pt.getX(), pt.getY(), frame=2, size=8)"
   ]
  },
  {
   "cell_type": "code",
   "execution_count": null,
   "metadata": {},
   "outputs": [],
   "source": [
    "ra = []\n",
    "dec = []\n",
    "for r in ref:\n",
    "    mag = r.get(\"lsst_z\")\n",
    "#    c = afwCoord.IcrsCoord(ra, dec)\n",
    "#    pt = wcsRaw.skyToPixel(c)\n",
    "    if mag > 21:\n",
    "        continue\n",
    "    ra.append(afwGeom.radToDeg(r.get(\"coord_ra\")))\n",
    "    dec.append(afwGeom.radToDeg(r.get(\"coord_dec\")))"
   ]
  },
  {
   "cell_type": "code",
   "execution_count": null,
   "metadata": {},
   "outputs": [],
   "source": [
    "%matplotlib inline\n",
    "import matplotlib\n",
    "import matplotlib.pylab as plt\n",
    "import numpy as np\n",
    "\n",
    "fig, (ax0) = plt.subplots(ncols=1, figsize=(10, 10))\n",
    "_ = ax0.scatter(ra, dec, s=0.5)"
   ]
  },
  {
   "cell_type": "code",
   "execution_count": null,
   "metadata": {},
   "outputs": [],
   "source": [
    "ref['id']%1024"
   ]
  },
  {
   "cell_type": "code",
   "execution_count": null,
   "metadata": {},
   "outputs": [],
   "source": [
    "srcA = butler.get('src', dataid).asAstropy()\n",
    "refA = ref.asAstropy()"
   ]
  },
  {
   "cell_type": "code",
   "execution_count": null,
   "metadata": {},
   "outputs": [],
   "source": [
    "fluxType = \"base_CircularApertureFlux_6_0\"\n",
    "\n",
    "Flags = [\"base_PixelFlags_flag_saturated\", \"base_PixelFlags_flag_cr\", \"base_PixelFlags_flag_interpolated\",\n",
    "         fluxType + \"_flag\", \"base_SdssCentroid_flag\", \n",
    "         \"base_SdssCentroid_flag_almostNoSecondDerivative\", \"base_SdssCentroid_flag_edge\", \"base_SdssCentroid_flag_noSecondDerivative\",\n",
    "         \"base_SdssCentroid_flag_notAtMaximum\", \"base_SdssCentroid_flag_resetToPeak\", \n",
    "         \"base_SdssShape_flag\", \"base_ClassificationExtendedness_flag\"]\n",
    "\n",
    "# select sources\n",
    "cut = np.ones_like(srcA['id'], dtype=bool)\n",
    "for flag in Flags:\n",
    "    cut &= srcA[flag]==False\n",
    "cut &= (srcA[fluxType + '_flux'] > 0) & (srcA[fluxType + '_flux'] / srcA[fluxType + '_fluxSigma'] > 5)\n",
    "#cut &= srcA['base_ClassificationExtendedness_value'] < 0.5\n",
    "\n",
    "cat = srcA[cut]['id', 'coord_ra', 'coord_dec']"
   ]
  },
  {
   "cell_type": "code",
   "execution_count": null,
   "metadata": {},
   "outputs": [],
   "source": [
    "from astropy.coordinates import SkyCoord\n",
    "from astropy import units as u\n",
    "\n",
    "cut1 = (refA['id']%1024 == 231)\n",
    "cut2 = (refA['id']%1024 == 4)\n",
    "\n",
    "cRef = SkyCoord(ra = refA['coord_ra'], dec = refA['coord_dec'])\n",
    "cRef1 = SkyCoord(ra = refA[cut1]['coord_ra'], dec = refA[cut1]['coord_dec'])\n",
    "cRef2 = SkyCoord(ra = refA[cut2]['coord_ra'], dec = refA[cut2]['coord_dec'])\n",
    "cCat = SkyCoord(ra = cat['coord_ra'], dec = cat['coord_dec'])"
   ]
  },
  {
   "cell_type": "code",
   "execution_count": null,
   "metadata": {},
   "outputs": [],
   "source": [
    "idx, d2d, d3d = cCat.match_to_catalog_sky(cRef)\n",
    "idx1, d2d1, d3d1 = cCat.match_to_catalog_sky(cRef1)\n",
    "idx2, d2d2, d3d2 = cCat.match_to_catalog_sky(cRef2)"
   ]
  },
  {
   "cell_type": "code",
   "execution_count": null,
   "metadata": {},
   "outputs": [],
   "source": [
    "fig, (ax0, ax1, ax2) = plt.subplots(ncols=3, figsize=(15, 8))\n",
    "_ = ax0.hist(d2d.arcsec, bins=50, range=[0, 20])\n",
    "_ = ax1.hist(d2d1.arcsec, bins=50, range=[0,20])\n",
    "_ = ax2.hist(d2d2.arcsec, bins=50, range=[0,20])\n",
    "ax0.set_xlabel('Ang dist in arcsec star + galaxies')\n",
    "ax1.set_xlabel('Ang dist in arcsec galaxies only')\n",
    "ax2.set_xlabel('Ang dist in arcsec star only')\n",
    "fig.tight_layout()"
   ]
  },
  {
   "cell_type": "code",
   "execution_count": null,
   "metadata": {},
   "outputs": [],
   "source": [
    "fig.savefig(\"refCat.png\")"
   ]
  },
  {
   "cell_type": "markdown",
   "metadata": {},
   "source": [
    "## Same thing with coadd"
   ]
  },
  {
   "cell_type": "code",
   "execution_count": 1,
   "metadata": {},
   "outputs": [],
   "source": [
    "import lsst.daf.persistence as dafPersist\n",
    "import lsst.afw.display.ds9 as ds9\n",
    "import numpy\n",
    "\n",
    "dataid = {'tract': 4849, 'patch': '5,4', 'filter': 'u' }\n",
    "butler = dafPersist.Butler(\"/sps/lsst/dataproducts/desc/DC2/Run1.2p/w_2018_30/rerun/coadd-all2\")\n",
    "\n",
    "coadd = butler.get('deepCoadd', dataid)\n",
    "wcs = coadd.getWcs()"
   ]
  },
  {
   "cell_type": "code",
   "execution_count": 3,
   "metadata": {},
   "outputs": [],
   "source": [
    "ds9.mtv(coadd.getMaskedImage().getImage(),frame=1,wcs=wcs)"
   ]
  },
  {
   "cell_type": "code",
   "execution_count": null,
   "metadata": {},
   "outputs": [],
   "source": [
    "import lsst.afw.geom as afwGeom\n",
    "src = butler.get('deepCoadd_meas', dataid)\n",
    "for s in src:\n",
    "    ra = s.get(\"coord_ra\")\n",
    "    dec = s.get(\"coord_dec\")\n",
    "    c = afwGeom.SpherePoint(ra, dec)\n",
    "    pt = wcs.skyToPixel(c)\n",
    "    with ds9.Buffering():\n",
    "        ds9.dot('o', pt.getX(), pt.getY(), frame=1, size=8)"
   ]
  },
  {
   "cell_type": "code",
   "execution_count": null,
   "metadata": {},
   "outputs": [],
   "source": []
  }
 ],
 "metadata": {
  "kernelspec": {
   "display_name": "Python 3",
   "language": "python",
   "name": "python3"
  },
  "language_info": {
   "codemirror_mode": {
    "name": "ipython",
    "version": 3
   },
   "file_extension": ".py",
   "mimetype": "text/x-python",
   "name": "python",
   "nbconvert_exporter": "python",
   "pygments_lexer": "ipython3",
   "version": "3.6.6"
  }
 },
 "nbformat": 4,
 "nbformat_minor": 2
}
