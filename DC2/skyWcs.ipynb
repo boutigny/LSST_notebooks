{
 "cells": [
  {
   "cell_type": "code",
   "execution_count": 1,
   "metadata": {},
   "outputs": [],
   "source": [
    "%matplotlib inline\n",
    "import lsst.daf.persistence as dafPersist\n",
    "import lsst.afw.table as afwTable\n",
    "import lsst.afw.geom as afwGeom\n",
    "import lsst.afw.coord as afwCoord\n",
    "import lsst.afw.image as afwImage\n",
    "from lsst.meas.algorithms import LoadIndexedReferenceObjectsTask\n",
    "from astropy.table import Table, vstack\n",
    "from astropy import units\n",
    "import numpy as np\n",
    "import matplotlib\n",
    "import matplotlib.pylab as plt\n",
    "\n",
    "filt = 'r'\n",
    "butler = dafPersist.Butler(\"/sps/lsst/dataproducts/desc/DC2/Run1.1-test2/w_2018_14/work/0/output\")\n",
    "\n",
    "dataId = {'visit': 219976, 'filter': 'r', 'raft': '3,0', 'sensor': '0,0', 'tract': 4429}\n",
    "src = butler.get('src', dataId, immediate=True, flags=afwTable.SOURCE_IO_NO_FOOTPRINTS)\n",
    "oldWcs = butler.get(\"calexp_wcs\", dataId, immediate=True)"
   ]
  },
  {
   "cell_type": "code",
   "execution_count": 3,
   "metadata": {},
   "outputs": [],
   "source": [
    "#oldWcs = afwGeom.makeSkyWcs(md)\n",
    "pixels = oldWcs.skyToPixel([afwGeom.SpherePoint(ra, dec, afwGeom.radians) for ra, dec in zip(src.get('coord_ra'), src.get('coord_dec'))])"
   ]
  },
  {
   "cell_type": "code",
   "execution_count": 5,
   "metadata": {},
   "outputs": [],
   "source": [
    "coord = oldWcs.pixelToSky(pixels)"
   ]
  },
  {
   "cell_type": "code",
   "execution_count": 12,
   "metadata": {},
   "outputs": [],
   "source": [
    "newRa = [cd.getRa() for cd in coord]\n",
    "newDec = [cd.getDec() for cd in coord]"
   ]
  },
  {
   "cell_type": "code",
   "execution_count": 14,
   "metadata": {},
   "outputs": [],
   "source": [
    "calib = butler.get(\"calexp_calib\", dataId, immediate=True)"
   ]
  },
  {
   "cell_type": "code",
   "execution_count": 15,
   "metadata": {},
   "outputs": [
    {
     "data": {
      "text/plain": [
       "<lsst.afw.image.calib.Calib at 0x7fcfc4abd148>"
      ]
     },
     "execution_count": 15,
     "metadata": {},
     "output_type": "execute_result"
    }
   ],
   "source": [
    "calib"
   ]
  },
  {
   "cell_type": "code",
   "execution_count": null,
   "metadata": {},
   "outputs": [],
   "source": []
  }
 ],
 "metadata": {
  "kernelspec": {
   "display_name": "Python 3",
   "language": "python",
   "name": "python3"
  },
  "language_info": {
   "codemirror_mode": {
    "name": "ipython",
    "version": 3
   },
   "file_extension": ".py",
   "mimetype": "text/x-python",
   "name": "python",
   "nbconvert_exporter": "python",
   "pygments_lexer": "ipython3",
   "version": "3.6.2"
  }
 },
 "nbformat": 4,
 "nbformat_minor": 2
}
