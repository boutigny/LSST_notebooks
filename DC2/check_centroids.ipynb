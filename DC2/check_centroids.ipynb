{
 "cells": [
  {
   "cell_type": "code",
   "execution_count": 28,
   "metadata": {},
   "outputs": [],
   "source": [
    "%matplotlib inline  \n",
    "import os\n",
    "from astropy.io import ascii\n",
    "import matplotlib.pyplot as plt\n",
    "import numpy as np\n",
    "\n",
    "cDir = '/sps/lsst/users/lsstprod/desc/DC2/centroids'\n",
    "cFile = 'centroid_lsst_e_151687_f2_R43_S20_E000.txt'\n",
    "\n",
    "cPath = os.path.join(cDir,cFile)\n",
    "#converters = {'col1': [ascii.convert_numpy(np.int)],\n",
    "#              'col2': [ascii.convert_numpy(np.int)],\n",
    "#              'col3': [ascii.convert_numpy(np.float)],\n",
    "#              'col4': [ascii.convert_numpy(np.float)]}\n",
    "converters = {'SourceID': [ascii.convert_numpy(np.int64)],\n",
    "              'Photons': [ascii.convert_numpy(np.int)],\n",
    "              'AvgX': [ascii.convert_numpy(np.float)],\n",
    "              'AvgY': [ascii.convert_numpy(np.float)]}\n",
    "centroids = ascii.read(cPath)"
   ]
  },
  {
   "cell_type": "code",
   "execution_count": 29,
   "metadata": {},
   "outputs": [
    {
     "data": {
      "text/html": [
       "&lt;Table length=57867&gt;\n",
       "<table id=\"table140451349894424\" class=\"table-striped table-bordered table-condensed\">\n",
       "<thead><tr><th>SourceID</th><th>Photons</th><th>AvgX</th><th>AvgY</th></tr></thead>\n",
       "<thead><tr><th>float64</th><th>int64</th><th>float64</th><th>float64</th></tr></thead>\n",
       "<tr><td>838377060356.0</td><td>697</td><td>2304.170732</td><td>2513.64132</td></tr>\n",
       "<tr><td>1.13473036493e+12</td><td>1119</td><td>2359.363718</td><td>2974.991957</td></tr>\n",
       "<tr><td>1.12522788864e+12</td><td>44</td><td>2136.954545</td><td>2778.295455</td></tr>\n",
       "<tr><td>1.13473032704e+12</td><td>903</td><td>2320.352159</td><td>2816.253599</td></tr>\n",
       "<tr><td>1.19534553088e+12</td><td>2374</td><td>2278.863943</td><td>2658.489469</td></tr>\n",
       "<tr><td>1.13473243751e+12</td><td>1</td><td>2218.0</td><td>4070.0</td></tr>\n",
       "<tr><td>1.1252289792e+12</td><td>56</td><td>2269.321429</td><td>3994.0</td></tr>\n",
       "<tr><td>1.19534668698e+12</td><td>229</td><td>2215.196507</td><td>4056.406114</td></tr>\n",
       "<tr><td>1.01380056986e+12</td><td>1645</td><td>2320.227964</td><td>3973.32462</td></tr>\n",
       "<tr><td>1.13473304986e+12</td><td>2137</td><td>1962.799251</td><td>3819.518952</td></tr>\n",
       "<tr><td>...</td><td>...</td><td>...</td><td>...</td></tr>\n",
       "<tr><td>0.0</td><td>0</td><td>nan</td><td>nan</td></tr>\n",
       "<tr><td>0.0</td><td>0</td><td>nan</td><td>nan</td></tr>\n",
       "<tr><td>0.0</td><td>0</td><td>nan</td><td>nan</td></tr>\n",
       "<tr><td>0.0</td><td>0</td><td>nan</td><td>nan</td></tr>\n",
       "<tr><td>0.0</td><td>0</td><td>nan</td><td>nan</td></tr>\n",
       "<tr><td>0.0</td><td>0</td><td>nan</td><td>nan</td></tr>\n",
       "<tr><td>0.0</td><td>0</td><td>nan</td><td>nan</td></tr>\n",
       "<tr><td>0.0</td><td>0</td><td>nan</td><td>nan</td></tr>\n",
       "<tr><td>0.0</td><td>0</td><td>nan</td><td>nan</td></tr>\n",
       "<tr><td>0.0</td><td>0</td><td>nan</td><td>nan</td></tr>\n",
       "</table>"
      ],
      "text/plain": [
       "<Table length=57867>\n",
       "     SourceID     Photons     AvgX        AvgY   \n",
       "     float64       int64    float64     float64  \n",
       "----------------- ------- ----------- -----------\n",
       "   838377060356.0     697 2304.170732  2513.64132\n",
       "1.13473036493e+12    1119 2359.363718 2974.991957\n",
       "1.12522788864e+12      44 2136.954545 2778.295455\n",
       "1.13473032704e+12     903 2320.352159 2816.253599\n",
       "1.19534553088e+12    2374 2278.863943 2658.489469\n",
       "1.13473243751e+12       1      2218.0      4070.0\n",
       " 1.1252289792e+12      56 2269.321429      3994.0\n",
       "1.19534668698e+12     229 2215.196507 4056.406114\n",
       "1.01380056986e+12    1645 2320.227964  3973.32462\n",
       "1.13473304986e+12    2137 1962.799251 3819.518952\n",
       "              ...     ...         ...         ...\n",
       "              0.0       0         nan         nan\n",
       "              0.0       0         nan         nan\n",
       "              0.0       0         nan         nan\n",
       "              0.0       0         nan         nan\n",
       "              0.0       0         nan         nan\n",
       "              0.0       0         nan         nan\n",
       "              0.0       0         nan         nan\n",
       "              0.0       0         nan         nan\n",
       "              0.0       0         nan         nan\n",
       "              0.0       0         nan         nan"
      ]
     },
     "execution_count": 29,
     "metadata": {},
     "output_type": "execute_result"
    }
   ],
   "source": [
    "np.int(centroids['SourceID'])"
   ]
  },
  {
   "cell_type": "code",
   "execution_count": null,
   "metadata": {},
   "outputs": [],
   "source": []
  }
 ],
 "metadata": {
  "kernelspec": {
   "display_name": "Python 3",
   "language": "python",
   "name": "python3"
  },
  "language_info": {
   "codemirror_mode": {
    "name": "ipython",
    "version": 3
   },
   "file_extension": ".py",
   "mimetype": "text/x-python",
   "name": "python",
   "nbconvert_exporter": "python",
   "pygments_lexer": "ipython3",
   "version": "3.7.2"
  }
 },
 "nbformat": 4,
 "nbformat_minor": 2
}
