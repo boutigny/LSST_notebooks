{
 "cells": [
  {
   "cell_type": "code",
   "execution_count": 2,
   "metadata": {
    "collapsed": false
   },
   "outputs": [
    {
     "name": "stdout",
     "output_type": "stream",
     "text": [
      "Coord(34.5000000, -5.0000000, 2000.00)\n"
     ]
    }
   ],
   "source": [
    "%matplotlib inline\n",
    "import lsst.daf.persistence as dafPersist\n",
    "import lsst.afw.table as afwTable\n",
    "import lsst.afw.geom as afwGeom\n",
    "import lsst.afw.coord as afwCoord\n",
    "import lsst.afw.image as afwImage\n",
    "import numpy as np\n",
    "import matplotlib\n",
    "import matplotlib.pylab as plt\n",
    "\n",
    "from lsst.meas.algorithms import LoadIndexedReferenceObjectsTask\n",
    "\n",
    "#setup butler - Replace path name by something suitable for you\n",
    "butler = dafPersist.Butler(\"/sps/lsst/users/lsstprod/hsc/SXDS/input\")\n",
    "\n",
    "refConfig = LoadIndexedReferenceObjectsTask.ConfigClass()\n",
    "refConfig.ref_dataset_name = 'pan-starrs'\n",
    "#refConfig.ref_dataset_name = 'gaia'\n",
    "refTask = LoadIndexedReferenceObjectsTask(butler, config=refConfig)\n",
    "\n",
    "filt = 'g'\n",
    "#filt = 'phot_g_mean_mag'\n",
    "flux = filt + '_flux'\n",
    "\n",
    "center = afwCoord.Coord('2:18:00', '-5:00:00')\n",
    "print(center)\n",
    "radius = 0.010\n",
    "skyCircle = refTask.loadSkyCircle(center,\n",
    "                                        afwGeom.Angle(radius, afwGeom.radians), filt)\n",
    "\n",
    "refCat = skyCircle.refCat.copy(deep=True).asAstropy()"
   ]
  },
  {
   "cell_type": "code",
   "execution_count": 2,
   "metadata": {
    "collapsed": false
   },
   "outputs": [
    {
     "data": {
      "text/html": [
       "&lt;Table length=46684&gt;\n",
       "<table id=\"table140178034981856\" class=\"table-striped table-bordered table-condensed\">\n",
       "<thead><tr><th>id</th><th>coord_ra</th><th>coord_dec</th><th>parent</th><th>g_flux</th><th>r_flux</th><th>i_flux</th><th>z_flux</th><th>y_flux</th><th>i_fluxSigma</th><th>y_fluxSigma</th><th>r_fluxSigma</th><th>z_fluxSigma</th><th>g_fluxSigma</th><th>coord_ra_err</th><th>coord_dec_err</th><th>epoch</th><th>pm_ra</th><th>pm_dec</th><th>pm_ra_err</th><th>pm_dec_err</th><th>centroid_x</th><th>centroid_y</th><th>hasCentroid</th></tr></thead>\n",
       "<thead><tr><th></th><th>rad</th><th>rad</th><th></th><th></th><th></th><th></th><th></th><th></th><th></th><th></th><th></th><th></th><th></th><th></th><th></th><th></th><th></th><th></th><th></th><th></th><th></th><th></th><th></th></tr></thead>\n",
       "<thead><tr><th>int64</th><th>float64</th><th>float64</th><th>int64</th><th>float64</th><th>float64</th><th>float64</th><th>float64</th><th>float64</th><th>float64</th><th>float64</th><th>float64</th><th>float64</th><th>float64</th><th>float32</th><th>float32</th><th>int64</th><th>float32</th><th>float32</th><th>float32</th><th>float32</th><th>float64</th><th>float64</th><th>bool</th></tr></thead>\n",
       "<tr><td>102010343486462892</td><td>0.599499154812</td><td>-0.0870841698701</td><td>0</td><td>1.84560246907e-06</td><td>2.28611739317e-07</td><td>2.4730095447e-06</td><td>3.92359606849e-06</td><td>8.13839506009e-06</td><td>7.30418321382e-07</td><td>9.15200962481e-06</td><td>3.83430233342e-07</td><td>1.32616298743e-06</td><td>2.90571392725e-07</td><td>0.0</td><td>0.0</td><td>1328334208</td><td>0.0</td><td>0.0</td><td>0.0</td><td>0.0</td><td>nan</td><td>nan</td><td>False</td></tr>\n",
       "<tr><td>102010343490994670</td><td>0.599506624954</td><td>-0.0870606467991</td><td>0</td><td>4.83877420265e-06</td><td>6.34796197119e-06</td><td>6.21805475021e-06</td><td>9.3222479336e-06</td><td>1.23368627101e-05</td><td>3.15262411732e-07</td><td>2.03300919566e-06</td><td>7.01367753209e-07</td><td>1.35035122639e-06</td><td>3.394666237e-07</td><td>0.0</td><td>0.0</td><td>1344082432</td><td>0.127443</td><td>-0.0435672</td><td>0.14006</td><td>0.0741894</td><td>nan</td><td>nan</td><td>False</td></tr>\n",
       "<tr><td>102010343516900982</td><td>0.599550377238</td><td>-0.0871123949903</td><td>0</td><td>2.86495696855e-06</td><td>8.48813124321e-06</td><td>1.07354662759e-05</td><td>1.51237318278e-05</td><td>1.43542210935e-05</td><td>4.39615064352e-07</td><td>2.0131835754e-06</td><td>3.9348702785e-07</td><td>1.11329427455e-06</td><td>2.21747214368e-07</td><td>0.0</td><td>0.0</td><td>1365968384</td><td>0.0308939</td><td>0.00328479</td><td>0.0258905</td><td>0.0210772</td><td>nan</td><td>nan</td><td>False</td></tr>\n",
       "<tr><td>102010343553042506</td><td>0.599613346841</td><td>-0.0870910385568</td><td>0</td><td>0.000109954649815</td><td>0.000154573543114</td><td>0.00019433198031</td><td>0.000204003954423</td><td>0.000203477364266</td><td>2.75260822491e-06</td><td>5.6540411606e-06</td><td>1.56513669936e-05</td><td>1.95875577447e-06</td><td>1.67837117715e-06</td><td>0.0</td><td>0.0</td><td>1358547968</td><td>0.0328359</td><td>0.00502027</td><td>0.020732</td><td>0.00908924</td><td>nan</td><td>nan</td><td>False</td></tr>\n",
       "<tr><td>102000343554067807</td><td>0.599615225459</td><td>-0.0871610168209</td><td>0</td><td>2.97152655548e-06</td><td>4.99489624417e-06</td><td>6.38470100967e-06</td><td>7.40865880289e-06</td><td>1.27389630507e-05</td><td>4.25506840429e-07</td><td>2.08697065318e-06</td><td>2.41949777546e-07</td><td>7.46703619825e-07</td><td>4.51339047913e-07</td><td>0.0</td><td>0.0</td><td>1379498112</td><td>0.0462198</td><td>-0.0787203</td><td>0.0615441</td><td>0.0615441</td><td>nan</td><td>nan</td><td>False</td></tr>\n",
       "<tr><td>102000343555682370</td><td>0.599617896905</td><td>-0.0872384214165</td><td>0</td><td>2.07521657103e-06</td><td>1.82036967544e-06</td><td>3.37114738613e-06</td><td>3.63252320312e-06</td><td>4.46829471912e-06</td><td>4.65756045287e-07</td><td>5.91462412558e-06</td><td>1.62857588748e-07</td><td>6.07644608408e-07</td><td>3.42090515915e-07</td><td>0.0</td><td>0.0</td><td>1350212736</td><td>0.0</td><td>0.0</td><td>0.0</td><td>0.0</td><td>nan</td><td>nan</td><td>False</td></tr>\n",
       "<tr><td>102010343563323137</td><td>0.599631927829</td><td>-0.0870809625223</td><td>0</td><td>0.012011311017</td><td>0.0163842327893</td><td>0.0180645026267</td><td>0.0191254429519</td><td>0.0195187740028</td><td>0.00998281314969</td><td>6.29578426015e-05</td><td>0.00905426219106</td><td>1.50719970406e-05</td><td>6.37038392597e-05</td><td>0.0</td><td>0.0</td><td>1319358208</td><td>0.022022</td><td>0.00984402</td><td>0.00411038</td><td>0.00475597</td><td>nan</td><td>nan</td><td>False</td></tr>\n",
       "<tr><td>102000343587846009</td><td>0.599674218694</td><td>-0.087185713239</td><td>0</td><td>2.23074425776e-06</td><td>6.05010836807e-06</td><td>8.19891647552e-06</td><td>1.0027620192e-05</td><td>9.89704130916e-06</td><td>2.82353767034e-07</td><td>1.80922120308e-06</td><td>3.66595429568e-07</td><td>7.63664672832e-07</td><td>3.4094071566e-07</td><td>0.0</td><td>0.0</td><td>1369053824</td><td>0.0846619</td><td>-0.0628777</td><td>0.0351263</td><td>0.0401966</td><td>nan</td><td>nan</td><td>False</td></tr>\n",
       "<tr><td>102020343596954142</td><td>0.599690385371</td><td>-0.0869216518354</td><td>0</td><td>1.24384075662e-06</td><td>2.59547073256e-06</td><td>3.87877571484e-06</td><td>4.60909132016e-06</td><td>1.53862549723e-06</td><td>5.32841511358e-07</td><td>2.13157045437e-06</td><td>3.85873164532e-07</td><td>2.79677033177e-06</td><td>6.38901269667e-07</td><td>0.0</td><td>0.0</td><td>1410870912</td><td>0.0</td><td>0.0</td><td>0.0</td><td>0.0</td><td>nan</td><td>nan</td><td>False</td></tr>\n",
       "<tr><td>...</td><td>...</td><td>...</td><td>...</td><td>...</td><td>...</td><td>...</td><td>...</td><td>...</td><td>...</td><td>...</td><td>...</td><td>...</td><td>...</td><td>...</td><td>...</td><td>...</td><td>...</td><td>...</td><td>...</td><td>...</td><td>...</td><td>...</td><td>...</td></tr>\n",
       "<tr><td>101610340707476672</td><td>0.594646980163</td><td>-0.0928476565247</td><td>0</td><td>nan</td><td>9.31310239594e-07</td><td>2.63039032689e-06</td><td>2.99290127259e-06</td><td>8.89420789463e-06</td><td>7.63674393056e-07</td><td>2.27111263484e-06</td><td>9.94263359644e-07</td><td>8.79149467892e-07</td><td>nan</td><td>0.0</td><td>0.0</td><td>1340987904</td><td>0.0</td><td>0.0</td><td>nan</td><td>nan</td><td>nan</td><td>nan</td><td>False</td></tr>\n",
       "<tr><td>101670340718950667</td><td>0.594666797067</td><td>-0.0920623261247</td><td>0</td><td>1.93617006516e-06</td><td>1.84388875368e-06</td><td>1.35786456212e-06</td><td>2.61134050561e-06</td><td>6.08134359936e-06</td><td>3.5462775827e-07</td><td>2.69484212367e-06</td><td>4.34240519098e-07</td><td>5.04130809986e-07</td><td>4.42741082907e-07</td><td>0.0</td><td>0.0</td><td>1332823680</td><td>0.0</td><td>0.0</td><td>nan</td><td>nan</td><td>nan</td><td>nan</td><td>False</td></tr>\n",
       "<tr><td>101640340725457065</td><td>0.594678726336</td><td>-0.0924042887077</td><td>0</td><td>1.68620613294e-06</td><td>3.35628601533e-06</td><td>3.05466437567e-06</td><td>nan</td><td>1.10659157144e-05</td><td>3.89617156316e-07</td><td>1.96138512365e-06</td><td>3.5205266613e-07</td><td>nan</td><td>2.74269751799e-07</td><td>0.0</td><td>0.0</td><td>1343406080</td><td>0.0</td><td>0.0</td><td>nan</td><td>nan</td><td>nan</td><td>nan</td><td>False</td></tr>\n",
       "<tr><td>101650340728057775</td><td>0.59468267127</td><td>-0.0922498307826</td><td>0</td><td>1.97744975594e-06</td><td>3.03097090182e-06</td><td>2.24964901463e-06</td><td>4.77149797007e-06</td><td>6.31947796137e-06</td><td>4.7973094297e-07</td><td>1.51460289999e-06</td><td>2.76884861705e-07</td><td>4.85352018131e-07</td><td>1.86749758768e-07</td><td>0.0</td><td>0.0</td><td>1339848448</td><td>0.0</td><td>0.0</td><td>nan</td><td>nan</td><td>nan</td><td>nan</td><td>False</td></tr>\n",
       "<tr><td>101600340735937988</td><td>0.59469647782</td><td>-0.0929739528015</td><td>0</td><td>2.26456268138e-06</td><td>3.0855883324e-06</td><td>3.34945343639e-06</td><td>4.09117410527e-06</td><td>1.18917023428e-06</td><td>4.46788760655e-07</td><td>4.72812689623e-06</td><td>3.03367784227e-07</td><td>5.29523333626e-07</td><td>2.93548282571e-07</td><td>0.0</td><td>0.0</td><td>1339848448</td><td>0.0</td><td>0.0</td><td>nan</td><td>nan</td><td>nan</td><td>nan</td><td>False</td></tr>\n",
       "<tr><td>101600340737739659</td><td>0.594699551529</td><td>-0.0929496502179</td><td>0</td><td>1.15188743166e-06</td><td>2.00992485588e-06</td><td>3.04337572743e-06</td><td>4.39346422354e-06</td><td>8.4113153207e-06</td><td>3.91139224121e-07</td><td>2.08177561944e-06</td><td>3.22960687527e-07</td><td>3.64100770867e-07</td><td>5.66846495076e-07</td><td>0.0</td><td>0.0</td><td>1339848448</td><td>0.0</td><td>0.0</td><td>nan</td><td>nan</td><td>nan</td><td>nan</td><td>False</td></tr>\n",
       "<tr><td>101610340759949072</td><td>0.594738337617</td><td>-0.0928127579586</td><td>0</td><td>3.16043860948e-06</td><td>2.63179435933e-06</td><td>2.09505151361e-06</td><td>2.86540989691e-06</td><td>2.77324033959e-06</td><td>9.33640819767e-07</td><td>1.47212426782e-06</td><td>1.05357150915e-06</td><td>1.38093378155e-06</td><td>8.62935110035e-07</td><td>0.0</td><td>0.0</td><td>1337549568</td><td>0.0</td><td>0.0</td><td>nan</td><td>nan</td><td>nan</td><td>nan</td><td>False</td></tr>\n",
       "<tr><td>101630340774145039</td><td>0.594763114715</td><td>-0.0925805258435</td><td>0</td><td>1.86845466033e-06</td><td>1.61796174325e-06</td><td>2.75701017927e-06</td><td>2.63256288235e-06</td><td>8.15675139165e-06</td><td>3.56089913112e-07</td><td>1.93095274881e-06</td><td>1.7421314169e-07</td><td>6.4385199039e-07</td><td>2.40801000473e-07</td><td>0.0</td><td>0.0</td><td>1339848448</td><td>0.0</td><td>0.0</td><td>nan</td><td>nan</td><td>nan</td><td>nan</td><td>False</td></tr>\n",
       "<tr><td>101620340798143507</td><td>0.594804988619</td><td>-0.0927482475222</td><td>0</td><td>2.76279183709e-06</td><td>2.31069634538e-06</td><td>1.997867912e-06</td><td>1.89479510482e-06</td><td>7.14664474799e-06</td><td>4.52795006822e-07</td><td>5.37399216682e-07</td><td>3.1234245057e-07</td><td>3.48712376308e-07</td><td>2.92600020657e-07</td><td>0.0</td><td>0.0</td><td>1339848448</td><td>0.0</td><td>0.0</td><td>nan</td><td>nan</td><td>nan</td><td>nan</td><td>False</td></tr>\n",
       "<tr><td>101600340800276994</td><td>0.59480871396</td><td>-0.092988400415</td><td>0</td><td>7.45289526094e-07</td><td>1.96026417143e-06</td><td>2.05787250707e-06</td><td>2.58642444351e-06</td><td>7.95334744907e-06</td><td>4.15488017325e-07</td><td>2.18528703044e-06</td><td>1.39561052492e-07</td><td>9.26150619307e-07</td><td>4.91923231039e-07</td><td>0.0</td><td>0.0</td><td>1339848448</td><td>0.0</td><td>0.0</td><td>nan</td><td>nan</td><td>nan</td><td>nan</td><td>False</td></tr>\n",
       "</table>"
      ],
      "text/plain": [
       "<Table length=46684>\n",
       "        id            coord_ra       coord_dec     ... centroid_y hasCentroid\n",
       "                        rad             rad        ...                       \n",
       "      int64           float64         float64      ...  float64       bool   \n",
       "------------------ -------------- ---------------- ... ---------- -----------\n",
       "102010343486462892 0.599499154812 -0.0870841698701 ...        nan       False\n",
       "102010343490994670 0.599506624954 -0.0870606467991 ...        nan       False\n",
       "102010343516900982 0.599550377238 -0.0871123949903 ...        nan       False\n",
       "102010343553042506 0.599613346841 -0.0870910385568 ...        nan       False\n",
       "102000343554067807 0.599615225459 -0.0871610168209 ...        nan       False\n",
       "102000343555682370 0.599617896905 -0.0872384214165 ...        nan       False\n",
       "102010343563323137 0.599631927829 -0.0870809625223 ...        nan       False\n",
       "102000343587846009 0.599674218694  -0.087185713239 ...        nan       False\n",
       "102020343596954142 0.599690385371 -0.0869216518354 ...        nan       False\n",
       "               ...            ...              ... ...        ...         ...\n",
       "101610340707476672 0.594646980163 -0.0928476565247 ...        nan       False\n",
       "101670340718950667 0.594666797067 -0.0920623261247 ...        nan       False\n",
       "101640340725457065 0.594678726336 -0.0924042887077 ...        nan       False\n",
       "101650340728057775  0.59468267127 -0.0922498307826 ...        nan       False\n",
       "101600340735937988  0.59469647782 -0.0929739528015 ...        nan       False\n",
       "101600340737739659 0.594699551529 -0.0929496502179 ...        nan       False\n",
       "101610340759949072 0.594738337617 -0.0928127579586 ...        nan       False\n",
       "101630340774145039 0.594763114715 -0.0925805258435 ...        nan       False\n",
       "101620340798143507 0.594804988619 -0.0927482475222 ...        nan       False\n",
       "101600340800276994  0.59480871396  -0.092988400415 ...        nan       False"
      ]
     },
     "execution_count": 2,
     "metadata": {},
     "output_type": "execute_result"
    }
   ],
   "source": [
    "refCat"
   ]
  },
  {
   "cell_type": "code",
   "execution_count": 7,
   "metadata": {
    "collapsed": true
   },
   "outputs": [],
   "source": [
    "def flToMag(flux):\n",
    "    return -2.5 * np.log10(flux/3631.)\n",
    "\n",
    "def flToMagErr (flux, fluxErr):\n",
    "    return np.abs(fluxErr / (-0.4 * flux *np.log(10)))"
   ]
  },
  {
   "cell_type": "code",
   "execution_count": 8,
   "metadata": {
    "collapsed": false
   },
   "outputs": [
    {
     "data": {
      "text/html": [
       "&lt;Column name=&apos;r_fluxSigma&apos; dtype=&apos;float64&apos; description=u&apos;&apos; length=53987&gt;\n",
       "<table>\n",
       "<tr><td>0.0206571987814</td></tr>\n",
       "<tr><td>0.00956059634505</td></tr>\n",
       "<tr><td>0.148223795127</td></tr>\n",
       "<tr><td>0.240897135938</td></tr>\n",
       "<tr><td>0.0141438778288</td></tr>\n",
       "<tr><td>0.0340419833327</td></tr>\n",
       "<tr><td>0.00184862105133</td></tr>\n",
       "<tr><td>0.167518658488</td></tr>\n",
       "<tr><td>0.0681929830223</td></tr>\n",
       "<tr><td>0.206876928122</td></tr>\n",
       "<tr><td>0.127779938592</td></tr>\n",
       "<tr><td>0.0199342422131</td></tr>\n",
       "<tr><td>...</td></tr>\n",
       "<tr><td>0.287775452066</td></tr>\n",
       "<tr><td>0.313468984679</td></tr>\n",
       "<tr><td>0.497595601397</td></tr>\n",
       "<tr><td>0.180742329063</td></tr>\n",
       "<tr><td>1.56912451733</td></tr>\n",
       "<tr><td>0.188275720808</td></tr>\n",
       "<tr><td>0.167550404005</td></tr>\n",
       "<tr><td>0.272656968577</td></tr>\n",
       "<tr><td>0.234597367445</td></tr>\n",
       "<tr><td>0.188610847434</td></tr>\n",
       "<tr><td>0.0974091052926</td></tr>\n",
       "<tr><td>0.148740363339</td></tr>\n",
       "</table>"
      ],
      "text/plain": [
       "<Column name='r_fluxSigma' dtype='float64' description=u'' length=53987>\n",
       " 0.0206571987814\n",
       "0.00956059634505\n",
       "  0.148223795127\n",
       "  0.240897135938\n",
       " 0.0141438778288\n",
       " 0.0340419833327\n",
       "0.00184862105133\n",
       "  0.167518658488\n",
       " 0.0681929830223\n",
       "  0.206876928122\n",
       "  0.127779938592\n",
       " 0.0199342422131\n",
       "             ...\n",
       "  0.287775452066\n",
       "  0.313468984679\n",
       "  0.497595601397\n",
       "  0.180742329063\n",
       "   1.56912451733\n",
       "  0.188275720808\n",
       "  0.167550404005\n",
       "  0.272656968577\n",
       "  0.234597367445\n",
       "  0.188610847434\n",
       " 0.0974091052926\n",
       "  0.148740363339"
      ]
     },
     "execution_count": 8,
     "metadata": {},
     "output_type": "execute_result"
    }
   ],
   "source": [
    "flToMagErr(refCat[flux], refCat[flux + 'Sigma'])"
   ]
  },
  {
   "cell_type": "code",
   "execution_count": 9,
   "metadata": {
    "collapsed": false
   },
   "outputs": [
    {
     "data": {
      "text/html": [
       "&lt;Column name=&apos;r_flux&apos; dtype=&apos;float64&apos; description=u&apos;&apos; length=53987&gt;\n",
       "<table>\n",
       "<tr><td>20.3080033934</td></tr>\n",
       "<tr><td>19.0196287649</td></tr>\n",
       "<tr><td>22.1845221555</td></tr>\n",
       "<tr><td>23.4883571125</td></tr>\n",
       "<tr><td>20.1379299297</td></tr>\n",
       "<tr><td>22.8453802884</td></tr>\n",
       "<tr><td>15.1503193122</td></tr>\n",
       "<tr><td>22.394483097</td></tr>\n",
       "<tr><td>21.5339278989</td></tr>\n",
       "<tr><td>22.6307702146</td></tr>\n",
       "<tr><td>22.1076345799</td></tr>\n",
       "<tr><td>18.7081146189</td></tr>\n",
       "<tr><td>...</td></tr>\n",
       "<tr><td>23.9569734878</td></tr>\n",
       "<tr><td>23.5566854383</td></tr>\n",
       "<tr><td>24.2641091708</td></tr>\n",
       "<tr><td>22.8365874493</td></tr>\n",
       "<tr><td>25.5527138844</td></tr>\n",
       "<tr><td>23.3516407016</td></tr>\n",
       "<tr><td>23.4789347278</td></tr>\n",
       "<tr><td>22.4897121889</td></tr>\n",
       "<tr><td>22.6598596365</td></tr>\n",
       "<tr><td>23.0409478506</td></tr>\n",
       "<tr><td>22.834696747</td></tr>\n",
       "<tr><td>22.9560781548</td></tr>\n",
       "</table>"
      ],
      "text/plain": [
       "<Column name='r_flux' dtype='float64' description=u'' length=53987>\n",
       "20.3080033934\n",
       "19.0196287649\n",
       "22.1845221555\n",
       "23.4883571125\n",
       "20.1379299297\n",
       "22.8453802884\n",
       "15.1503193122\n",
       " 22.394483097\n",
       "21.5339278989\n",
       "22.6307702146\n",
       "22.1076345799\n",
       "18.7081146189\n",
       "          ...\n",
       "23.9569734878\n",
       "23.5566854383\n",
       "24.2641091708\n",
       "22.8365874493\n",
       "25.5527138844\n",
       "23.3516407016\n",
       "23.4789347278\n",
       "22.4897121889\n",
       "22.6598596365\n",
       "23.0409478506\n",
       " 22.834696747\n",
       "22.9560781548"
      ]
     },
     "execution_count": 9,
     "metadata": {},
     "output_type": "execute_result"
    }
   ],
   "source": [
    "flToMag(refCat[flux])"
   ]
  },
  {
   "cell_type": "code",
   "execution_count": null,
   "metadata": {
    "collapsed": false
   },
   "outputs": [],
   "source": [
    "font = {'family' : 'serif',\n",
    "        'color'  : 'darkred',\n",
    "        'weight' : 'bold',\n",
    "        'size'   : 25,\n",
    "        }\n",
    "\n",
    "plt.rcParams['axes.linewidth'] = 1.5 #set the value globally\n",
    "\n",
    "f1 = (refCat['r_flux'] > 0) & (refCat['r_fluxSigma'] > 0.) & (refCat['r_flux']/refCat['r_fluxSigma'] > 1.)\n",
    "\n",
    "fig, (ax0, ax1) = plt.subplots(ncols=2, figsize=(18, 8))\n",
    "ax0.hist(flToMag(refCat['r_flux'][f1]), bins=80)\n",
    "ax1.hist(flToMagErr(refCat['r_flux'][f1], refCat['r_fluxSigma'][f1]), bins=80)\n",
    "\n",
    "fig, (ax2) = plt.subplots(ncols=1, figsize=(18, 8))\n",
    "ax2.scatter(flToMag(refCat['r_flux'][f1]), flToMagErr(refCat['r_flux'][f1], refCat['r_fluxSigma'][f1]), s=0.2)\n",
    "ax2.set_xlabel('Magnitude', fontsize=15)\n",
    "ax2.set_ylabel('$\\sigma$(Mag)', fontsize=15)\n",
    "ax2.tick_params(labelsize=20)"
   ]
  },
  {
   "cell_type": "code",
   "execution_count": null,
   "metadata": {
    "collapsed": false
   },
   "outputs": [],
   "source": [
    "refCat"
   ]
  },
  {
   "cell_type": "code",
   "execution_count": null,
   "metadata": {
    "collapsed": false
   },
   "outputs": [],
   "source": [
    "f2 = (refCat['r_flux'] > 0) & (refCat['r_fluxSigma'] > 0.) & (refCat['r_flux']/refCat['r_fluxSigma'] > 5.) \n",
    "f2 &= (flToMag(refCat['r_flux']) < 22.5)\n",
    "fig, (ax0) = plt.subplots(ncols=1, figsize=(10, 10))\n",
    "ax0.scatter(refCat['coord_ra'], refCat['coord_dec'], s=0.1)\n",
    "ax0.set_xlabel('RA', fontsize=20)\n",
    "ax0.set_ylabel('DEC', fontsize=20)\n",
    "ax0.tick_params(labelsize=20)\n",
    "fig, (ax1) = plt.subplots(ncols=1, figsize=(10, 10))\n",
    "ax1.scatter(refCat['coord_ra'][f1], refCat['coord_dec'][f1], s=0.1)\n",
    "ax1.set_xlabel('RA', fontsize=20)\n",
    "ax1.set_ylabel('DEC', fontsize=20)\n",
    "ax1.tick_params(labelsize=20)"
   ]
  },
  {
   "cell_type": "code",
   "execution_count": null,
   "metadata": {
    "collapsed": false
   },
   "outputs": [],
   "source": [
    "f3 = (refCat['r_flux'] > 0) & (refCat['r_fluxSigma'] > 0.) & (refCat['r_flux']/refCat['r_fluxSigma'] > 0.) \n",
    "f3 &= (flToMag(refCat['r_flux']) > 23.2)\n",
    "fig, (ax0) = plt.subplots(ncols=1, figsize=(10, 10))\n",
    "ax0.scatter(refCat['coord_ra'][f3], refCat['coord_dec'][f3], s=0.1)\n",
    "ax0.set_xlabel('RA', fontsize=15)\n",
    "ax0.set_ylabel('DEC', fontsize=15)\n",
    "ax0.tick_params(labelsize=15)"
   ]
  },
  {
   "cell_type": "code",
   "execution_count": null,
   "metadata": {
    "collapsed": false
   },
   "outputs": [],
   "source": [
    "f4 = (f1) & (refCat['coord_ra_err'] > 0.)\n",
    "fig, (ax0) = plt.subplots(ncols=1, figsize=(10, 10))\n",
    "ax0.hist(refCat['coord_ra_err'][f4], bins=80)"
   ]
  },
  {
   "cell_type": "code",
   "execution_count": null,
   "metadata": {
    "collapsed": true
   },
   "outputs": [],
   "source": [
    "        applyColorTerms = self.config.applyColorTerms\n",
    "        applyCTReason = \"config.applyColorTerms is %s\" % (self.config.applyColorTerms,)\n",
    "        if self.config.applyColorTerms is None:\n",
    "            # apply color terms if color term data is available and photoCatName specified\n",
    "            ctDataAvail = len(self.config.colorterms.data) > 0\n",
    "            photoCatSpecified = self.config.photoCatName is not None\n",
    "            applyCTReason += \" and data %s available\" % (\"is\" if ctDataAvail else \"is not\")\n",
    "            applyCTReason += \" and photoRefCat %s None\" % (\"is not\" if photoCatSpecified else \"is\")\n",
    "            applyColorTerms = ctDataAvail and photoCatSpecified\n",
    "\n",
    "        if applyColorTerms:\n",
    "            self.log.info(\"Applying color terms for filterName=%r, config.photoCatName=%s because %s\",\n",
    "                          filterName, self.config.photoCatName, applyCTReason)\n",
    "            ct = self.config.colorterms.getColorterm(\n",
    "                filterName=filterName, photoCatName=self.config.photoCatName, doRaise=True)\n",
    "        else:\n",
    "            self.log.info(\"Not applying color terms because %s\", applyCTReason)\n",
    "            ct = None\n",
    "\n",
    "        if ct:                          # we have a color term to worry about\n",
    "            fluxFieldList = [getRefFluxField(refSchema, filt) for filt in (ct.primary, ct.secondary)]\n",
    "            missingFluxFieldList = []\n",
    "            for fluxField in fluxFieldList:\n",
    "                try:\n",
    "                    refSchema.find(fluxField).key\n",
    "                except KeyError:\n",
    "                    missingFluxFieldList.append(fluxField)\n",
    "\n",
    "            if missingFluxFieldList:\n",
    "                self.log.warn(\"Source catalog does not have fluxes for %s; ignoring color terms\",\n",
    "                              \" \".join(missingFluxFieldList))\n",
    "                ct = None\n",
    "\n",
    "        if not ct:\n",
    "            fluxFieldList = [getRefFluxField(refSchema, filterName)]\n",
    "\n",
    "        refFluxArrList = []  # list of ref arrays, one per flux field\n",
    "        refFluxErrArrList = []  # list of ref flux arrays, one per flux field\n",
    "        for fluxField in fluxFieldList:\n",
    "            fluxKey = refSchema.find(fluxField).key\n",
    "            refFluxArr = np.array([m.first.get(fluxKey) for m in matches])\n",
    "            try:\n",
    "                fluxErrKey = refSchema.find(fluxField + \"Sigma\").key\n",
    "                refFluxErrArr = np.array([m.first.get(fluxErrKey) for m in matches])\n",
    "            except KeyError:\n",
    "                # Reference catalogue may not have flux uncertainties; HACK\n",
    "                self.log.warn(\"Reference catalog does not have flux uncertainties for %s; using sqrt(flux).\",\n",
    "                              fluxField)\n",
    "                refFluxErrArr = np.sqrt(refFluxArr)\n",
    "\n",
    "            refFluxArrList.append(refFluxArr)\n",
    "            refFluxErrArrList.append(refFluxErrArr)\n",
    "\n",
    "        if ct:                          # we have a color term to worry about\n",
    "            refMagArr1 = np.array([abMagFromFlux(rf1) for rf1 in refFluxArrList[0]])  # primary\n",
    "            refMagArr2 = np.array([abMagFromFlux(rf2) for rf2 in refFluxArrList[1]])  # secondary\n",
    "\n",
    "            refMagArr = ct.transformMags(refMagArr1, refMagArr2)\n",
    "            refFluxErrArr = ct.propagateFluxErrors(refFluxErrArrList[0], refFluxErrArrList[1])\n",
    "        else:\n",
    "            refMagArr = np.array([abMagFromFlux(rf) for rf in refFluxArrList[0]])\n",
    "\n",
    "        srcMagArr = np.array([abMagFromFlux(sf) for sf in srcFluxArr])\n",
    "\n",
    "        # Fitting with error bars in both axes is hard\n",
    "        # for now ignore reference flux error, but ticket DM-2308 is a request for a better solution\n",
    "        magErrArr = np.array([abMagErrFromFluxErr(fe, sf) for fe, sf in zip(srcFluxErrArr, srcFluxArr)])\n",
    "        if self.config.magErrFloor != 0.0:\n",
    "            magErrArr = (magErrArr**2 + self.config.magErrFloor**2)**0.5\n",
    "\n",
    "        srcMagErrArr = np.array([abMagErrFromFluxErr(sfe, sf) for sfe, sf in zip(srcFluxErrArr, srcFluxArr)])\n",
    "        refMagErrArr = np.array([abMagErrFromFluxErr(rfe, rf) for rfe, rf in zip(refFluxErrArr, refFluxArr)])\n",
    "\n",
    "        return pipeBase.Struct(\n",
    "            srcMag=srcMagArr,\n",
    "            refMag=refMagArr,\n",
    "            magErr=magErrArr,\n",
    "            srcMagErr=srcMagErrArr,\n",
    "            refMagErr=refMagErrArr,\n",
    "            refFluxFieldList=fluxFieldList,\n",
    "        )"
   ]
  },
  {
   "cell_type": "code",
   "execution_count": 3,
   "metadata": {},
   "outputs": [],
   "source": [
    "from lsst.pipe.tasks.colorterms import ColortermLibrary\n",
    "from lsst.afw.image import abMagFromFlux, abMagErrFromFluxErr, fluxFromABMag, Calib"
   ]
  },
  {
   "cell_type": "code",
   "execution_count": 4,
   "metadata": {},
   "outputs": [],
   "source": [
    "import os\n",
    "from lsst.utils import getPackageDir\n",
    "\n",
    "hscConfigDir = os.path.join(getPackageDir(\"obs_subaru\"), \"config\", \"hsc\")\n",
    "colorterms = ColortermLibrary()\n",
    "colorterms.load(os.path.join(hscConfigDir, 'colorterms.py'))\n",
    "\n",
    "photoCatName = 'ps1*'\n",
    "\n",
    "ct = colorterms.getColorterm(\n",
    "            filterName='g', photoCatName=photoCatName, doRaise=True)"
   ]
  },
  {
   "cell_type": "code",
   "execution_count": 5,
   "metadata": {},
   "outputs": [
    {
     "data": {
      "text/plain": [
       "lsst.pipe.tasks.colorterms.Colorterm(primary='g', secondary='r', c0=0.00730066, c1=0.06508481, c2=-0.0151057)"
      ]
     },
     "execution_count": 5,
     "metadata": {},
     "output_type": "execute_result"
    }
   ],
   "source": [
    "ct."
   ]
  },
  {
   "cell_type": "code",
   "execution_count": 6,
   "metadata": {},
   "outputs": [
    {
     "data": {
      "text/plain": [
       "'r'"
      ]
     },
     "execution_count": 6,
     "metadata": {},
     "output_type": "execute_result"
    }
   ],
   "source": [
    "ct.secondary"
   ]
  },
  {
   "cell_type": "code",
   "execution_count": 20,
   "metadata": {},
   "outputs": [
    {
     "data": {
      "text/plain": [
       "(23.84107582255976, 5.108196971524156)"
      ]
     },
     "execution_count": 20,
     "metadata": {},
     "output_type": "execute_result"
    }
   ],
   "source": [
    "mag = abMagFromFlux(refCat[2001]['g_flux'])\n",
    "err = abMagErrFromFluxErr(refCat[2001]['g_flux'], refCat[2001]['g_fluxSigma'])\n",
    "err2 = abMag\n",
    "\n",
    "mag, err"
   ]
  },
  {
   "cell_type": "code",
   "execution_count": 16,
   "metadata": {},
   "outputs": [
    {
     "data": {
      "text/plain": [
       "<function lsst.afw.image.calib.PyCapsule.abMagErrFromFluxErr>"
      ]
     },
     "execution_count": 16,
     "metadata": {},
     "output_type": "execute_result"
    }
   ],
   "source": [
    "abMagErrFromFluxErr"
   ]
  },
  {
   "cell_type": "code",
   "execution_count": 27,
   "metadata": {},
   "outputs": [
    {
     "data": {
      "text/plain": [
       "(array([0, 1, 2, 3, 4, 5, 6, 7, 8, 9]),\n",
       " array([ 0,  2,  4,  6,  8, 10, 12, 14, 16, 18]))"
      ]
     },
     "execution_count": 27,
     "metadata": {},
     "output_type": "execute_result"
    }
   ],
   "source": [
    "a = np.arange(10)\n",
    "b = np.arange(10)*2\n",
    "a, b"
   ]
  },
  {
   "cell_type": "code",
   "execution_count": 25,
   "metadata": {},
   "outputs": [],
   "source": [
    "c =[i*j for i,j in zip(a,b)]"
   ]
  },
  {
   "cell_type": "code",
   "execution_count": 26,
   "metadata": {},
   "outputs": [
    {
     "data": {
      "text/plain": [
       "[0, 2, 8, 18, 32, 50, 72, 98, 128, 162]"
      ]
     },
     "execution_count": 26,
     "metadata": {},
     "output_type": "execute_result"
    }
   ],
   "source": [
    "c"
   ]
  },
  {
   "cell_type": "code",
   "execution_count": 30,
   "metadata": {},
   "outputs": [
    {
     "name": "stdout",
     "output_type": "stream",
     "text": [
      "r\n",
      "i\n"
     ]
    }
   ],
   "source": [
    "filters = ['r', 'i']\n",
    "for f in filters :\n",
    "    print(f)"
   ]
  },
  {
   "cell_type": "code",
   "execution_count": 31,
   "metadata": {},
   "outputs": [
    {
     "data": {
      "text/plain": [
       "{'g': array([0, 1, 2, 3, 4, 5, 6, 7, 8, 9]),\n",
       " 'r': array([ 0,  2,  4,  6,  8, 10, 12, 14, 16, 18])}"
      ]
     },
     "execution_count": 31,
     "metadata": {},
     "output_type": "execute_result"
    }
   ],
   "source": [
    "test = {}\n",
    "test['g'] = a\n",
    "test['r'] = b\n",
    "test"
   ]
  },
  {
   "cell_type": "code",
   "execution_count": null,
   "metadata": {},
   "outputs": [],
   "source": []
  }
 ],
 "metadata": {
  "kernelspec": {
   "display_name": "Python 3",
   "language": "python",
   "name": "python3"
  },
  "language_info": {
   "codemirror_mode": {
    "name": "ipython",
    "version": 3
   },
   "file_extension": ".py",
   "mimetype": "text/x-python",
   "name": "python",
   "nbconvert_exporter": "python",
   "pygments_lexer": "ipython3",
   "version": "3.6.2"
  }
 },
 "nbformat": 4,
 "nbformat_minor": 2
}
