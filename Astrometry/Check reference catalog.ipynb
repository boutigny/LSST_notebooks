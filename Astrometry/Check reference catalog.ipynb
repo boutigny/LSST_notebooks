{
 "cells": [
  {
   "cell_type": "code",
   "execution_count": 10,
   "metadata": {
    "collapsed": false,
    "jupyter": {
     "outputs_hidden": false
    }
   },
   "outputs": [
    {
     "name": "stdout",
     "output_type": "stream",
     "text": [
      "(340.801599, -9.362990)\n"
     ]
    }
   ],
   "source": [
    "%matplotlib inline\n",
    "import lsst.daf.persistence as dafPersist\n",
    "import lsst.afw.table as afwTable\n",
    "import lsst.afw.geom as afwGeom\n",
    "import lsst.afw.coord as afwCoord\n",
    "import lsst.afw.image as afwImage\n",
    "import lsst.geom as geom\n",
    "import numpy as np\n",
    "import matplotlib\n",
    "import matplotlib.pylab as plt\n",
    "\n",
    "from lsst.meas.algorithms import LoadIndexedReferenceObjectsTask\n",
    "\n",
    "#setup butler - Replace path name by something suitable for you\n",
    "butler = dafPersist.Butler(\"/pbs/throng/lsst/users/boutigny/clusters/MACSJ2243.3-0935/input\")\n",
    "#butler = dafPersist.Butler(\"/pbs/throng/lsst/users/boutigny/test\")\n",
    "\n",
    "refConfig = LoadIndexedReferenceObjectsTask.ConfigClass()\n",
    "#refConfig.ref_dataset_name = 'pan-starrs'\n",
    "refConfig.ref_dataset_name = 'gaia'\n",
    "refTask = LoadIndexedReferenceObjectsTask(butler, config=refConfig)\n",
    "\n",
    "#filt = 'g'                  # For pan-starrs\n",
    "filt = 'phot_g_mean'         # For Gaia\n",
    "flux = filt + '_flux'\n",
    "\n",
    "center = geom.SpherePoint(5.94811*geom.radians, -0.163415*geom.radians)\n",
    "print(center)\n",
    "radius = 0.010\n",
    "skyCircle = refTask.loadSkyCircle(center,\n",
    "                                        geom.Angle(radius, geom.radians), filt)\n",
    "\n",
    "refCat = skyCircle.refCat.copy(deep=True).asAstropy()"
   ]
  },
  {
   "cell_type": "code",
   "execution_count": 16,
   "metadata": {},
   "outputs": [],
   "source": [
    "md = refTask.getMetadataCircle(center,geom.Angle(radius, geom.radians), filt)"
   ]
  },
  {
   "cell_type": "code",
   "execution_count": 20,
   "metadata": {},
   "outputs": [
    {
     "data": {
      "text/plain": [
       "(array([192197, 192201, 192202, 192203, 192204, 192205, 192207, 192245,\n",
       "        192250, 192252]),\n",
       " <generator object HtmIndexer.getShardIds.<locals>.<genexpr> at 0x7efeb474cc50>)"
      ]
     },
     "execution_count": 20,
     "metadata": {},
     "output_type": "execute_result"
    }
   ],
   "source": [
    "refTask.indexer.getShardIds(center,geom.Angle(radius, geom.radians))"
   ]
  },
  {
   "cell_type": "code",
   "execution_count": 2,
   "metadata": {
    "collapsed": false,
    "jupyter": {
     "outputs_hidden": false
    }
   },
   "outputs": [
    {
     "data": {
      "text/html": [
       "<i>Table length=3966</i>\n",
       "<table id=\"table139657538786024\" class=\"table-striped table-bordered table-condensed\">\n",
       "<thead><tr><th>id</th><th>coord_ra</th><th>coord_dec</th><th>phot_g_mean_flux</th><th>phot_bp_mean_flux</th><th>phot_rp_mean_flux</th><th>phot_g_mean_fluxErr</th><th>phot_bp_mean_fluxErr</th><th>phot_rp_mean_fluxErr</th><th>coord_raErr</th><th>coord_decErr</th><th>epoch</th><th>pm_ra</th><th>pm_dec</th><th>pm_raErr</th><th>pm_decErr</th><th>pm_flag</th><th>parallax</th><th>parallaxErr</th><th>parallax_flag</th><th>astrometric_excess_noise</th><th>phot_variable_flag</th></tr></thead>\n",
       "<thead><tr><th></th><th>rad</th><th>rad</th><th>nJy</th><th>nJy</th><th>nJy</th><th>nJy</th><th>nJy</th><th>nJy</th><th>rad</th><th>rad</th><th>d</th><th>rad</th><th>rad</th><th>rad / yr</th><th>rad / yr</th><th></th><th>rad</th><th>rad</th><th></th><th></th><th></th></tr></thead>\n",
       "<thead><tr><th>int64</th><th>float64</th><th>float64</th><th>float64</th><th>float64</th><th>float64</th><th>float64</th><th>float64</th><th>float64</th><th>float32</th><th>float32</th><th>float64</th><th>float64</th><th>float64</th><th>float32</th><th>float32</th><th>bool</th><th>float64</th><th>float64</th><th>bool</th><th>float64</th><th>str52</th></tr></thead>\n",
       "<tr><td>2608663286191100544</td><td>5.952529231444764</td><td>-0.1566157207562948</td><td>25377.38949816775</td><td>21199.896262053444</td><td>43776.851542881115</td><td>242.0933738787744</td><td>2812.7660215742126</td><td>3006.8648091002265</td><td>0.012969438</td><td>0.012006349</td><td>57205.87541666667</td><td>-3.2318964960407826e-08</td><td>-4.844208264477086e-08</td><td>8.715444e-09</td><td>6.600013e-09</td><td>False</td><td>-3.224712715097669e-09</td><td>3.791853742781617e-09</td><td>False</td><td>0.0</td><td>NOT_AVAILABLE</td></tr>\n",
       "<tr><td>2608551479602134144</td><td>5.954488657559802</td><td>-0.16029059833242515</td><td>74826.6729345926</td><td>33301.09829704277</td><td>153265.19528196385</td><td>275.33407012147586</td><td>4406.5564932931475</td><td>4074.5424930379118</td><td>0.0051092426</td><td>0.0055799144</td><td>57205.87541666667</td><td>1.0541088072073356e-07</td><td>2.106752823106703e-08</td><td>3.607894e-09</td><td>2.9774203e-09</td><td>False</td><td>4.771351228472153e-09</td><td>1.6469958029795752e-09</td><td>False</td><td>0.0</td><td>NOT_AVAILABLE</td></tr>\n",
       "<tr><td>2608546158138065664</td><td>5.957431928940604</td><td>-0.16186023207261524</td><td>41116.55330043019</td><td>12130.468072636044</td><td>115279.5568735628</td><td>241.6000274786083</td><td>3183.277232131533</td><td>2847.232048416043</td><td>0.008944796</td><td>0.009448024</td><td>57205.87541666667</td><td>-1.8361591148903182e-08</td><td>-1.048806495729674e-07</td><td>5.509711e-09</td><td>4.501996e-09</td><td>False</td><td>5.5509975462384495e-09</td><td>2.8377710830138835e-09</td><td>False</td><td>1.7774301442707416</td><td>NOT_AVAILABLE</td></tr>\n",
       "<tr><td>2608645316047756544</td><td>5.955561369932886</td><td>-0.15967282038614547</td><td>742233.3799724942</td><td>544153.0237761885</td><td>1005367.3934706472</td><td>735.5083112144864</td><td>7262.673121014007</td><td>3334.397607376531</td><td>0.001218976</td><td>0.001261652</td><td>57205.87541666667</td><td>-6.586301082100416e-09</td><td>-4.051294848967385e-08</td><td>7.261759e-10</td><td>6.685778e-10</td><td>False</td><td>7.774840864234198e-10</td><td>3.9116743317682393e-10</td><td>False</td><td>0.0</td><td>NOT_AVAILABLE</td></tr>\n",
       "<tr><td>2608644186471667072</td><td>5.956259511556312</td><td>-0.16056230609538757</td><td>1992297.7577503785</td><td>1238296.031725902</td><td>3090925.2480710386</td><td>1247.8948102665213</td><td>4885.324815671019</td><td>6748.466303686841</td><td>0.00070330064</td><td>0.0006795674</td><td>57205.87541666667</td><td>-1.8504829399377313e-08</td><td>-2.106082569439966e-08</td><td>4.018115e-10</td><td>3.3380518e-10</td><td>False</td><td>7.753102903576265e-09</td><td>2.1090927241469564e-10</td><td>False</td><td>0.0</td><td>NOT_AVAILABLE</td></tr>\n",
       "<tr><td>2608641433397277952</td><td>5.957639893597756</td><td>-0.16051112358051262</td><td>198088.5819363823</td><td>139210.09008385535</td><td>279081.24703546485</td><td>384.7722078153514</td><td>2547.039468471672</td><td>5516.6018579302445</td><td>0.0030140518</td><td>0.00292093</td><td>57205.87541666667</td><td>1.2397022773088361e-08</td><td>-4.782032549208558e-08</td><td>1.882624e-09</td><td>1.4787722e-09</td><td>False</td><td>2.459092672302516e-09</td><td>9.426775771203042e-10</td><td>False</td><td>0.5106770790120188</td><td>NOT_AVAILABLE</td></tr>\n",
       "<tr><td>2608545196065391232</td><td>5.956593446809088</td><td>-0.16304433808041174</td><td>43751.12085625615</td><td>20923.60530802289</td><td>94684.84066556291</td><td>275.8421251029962</td><td>2813.167683878595</td><td>4421.186649033389</td><td>0.0092218295</td><td>0.009374638</td><td>57205.87541666667</td><td>-2.4378882372905e-09</td><td>-6.5793385440230875e-09</td><td>5.4267226e-09</td><td>4.5367026e-09</td><td>False</td><td>2.903970233803984e-09</td><td>3.1239815477812384e-09</td><td>False</td><td>1.9101737984913563</td><td>NOT_AVAILABLE</td></tr>\n",
       "<tr><td>2608550173932069248</td><td>5.9556313682819</td><td>-0.16114440161805704</td><td>26023.594828502828</td><td>22310.984577054627</td><td>31523.747181174454</td><td>261.4376464268292</td><td>4043.6536880453646</td><td>4182.360663700805</td><td>0.012263505</td><td>0.017186634</td><td>57205.87541666667</td><td>-1.3268245257182637e-08</td><td>-8.904678251693125e-09</td><td>7.494156e-09</td><td>7.733207e-09</td><td>False</td><td>-3.6209231189544596e-09</td><td>3.487805616411782e-09</td><td>False</td><td>0.0</td><td>NOT_AVAILABLE</td></tr>\n",
       "<tr><td>2608549967773638784</td><td>5.954954806960037</td><td>-0.16123640666022626</td><td>98073.03717560263</td><td>57979.784884935325</td><td>192218.1010243452</td><td>550.4198437724992</td><td>10483.93917754572</td><td>3088.1371438248007</td><td>0.0061806906</td><td>0.006133807</td><td>57205.87541666667</td><td>-1.3245258893158551e-09</td><td>-2.916121113915488e-08</td><td>6.731602e-09</td><td>4.2363046e-09</td><td>False</td><td>2.522886158874616e-11</td><td>2.4119770086678764e-09</td><td>False</td><td>0.30499469076941527</td><td>NOT_AVAILABLE</td></tr>\n",
       "<tr><td>...</td><td>...</td><td>...</td><td>...</td><td>...</td><td>...</td><td>...</td><td>...</td><td>...</td><td>...</td><td>...</td><td>...</td><td>...</td><td>...</td><td>...</td><td>...</td><td>...</td><td>...</td><td>...</td><td>...</td><td>...</td><td>...</td></tr>\n",
       "<tr><td>2609337733495905152</td><td>5.947777863728409</td><td>-0.15409573684008637</td><td>88955.5125745926</td><td>30671.76451998714</td><td>209441.2685646054</td><td>389.09727579059756</td><td>4363.784143542048</td><td>3603.03928155387</td><td>0.008405102</td><td>0.005920337</td><td>57205.87541666667</td><td>2.3661476298915758e-09</td><td>-1.0256859849318325e-07</td><td>3.3096532e-09</td><td>3.1323106e-09</td><td>False</td><td>5.544529494077169e-09</td><td>3.0516550914024082e-09</td><td>False</td><td>0.634628146659592</td><td>NOT_AVAILABLE</td></tr>\n",
       "<tr><td>2609338558129627136</td><td>5.9472451451173045</td><td>-0.15363767578354978</td><td>43143.65060907782</td><td>13501.314439994865</td><td>104447.7458114417</td><td>398.9967164542146</td><td>2966.81260645038</td><td>3575.6347739900725</td><td>0.011366129</td><td>0.010868879</td><td>57205.87541666667</td><td>9.867790591726368e-09</td><td>-3.089239441101011e-08</td><td>6.981384e-09</td><td>5.832057e-09</td><td>False</td><td>3.1555785628331157e-09</td><td>3.6419680788838783e-09</td><td>False</td><td>2.067168488543695</td><td>NOT_AVAILABLE</td></tr>\n",
       "<tr><td>2609337458617997952</td><td>5.947900112120017</td><td>-0.15443529504232914</td><td>69051.39838865167</td><td>35618.65853016725</td><td>128007.35632067558</td><td>287.8312952969305</td><td>2222.0035123055877</td><td>4855.145622697729</td><td>0.0074204262</td><td>0.007251917</td><td>57205.87541666667</td><td>5.896683897199541e-08</td><td>-7.272551598544689e-08</td><td>3.9807944e-09</td><td>3.7194414e-09</td><td>False</td><td>6.613164824843631e-09</td><td>2.5215292839816738e-09</td><td>False</td><td>1.453997063158574</td><td>NOT_AVAILABLE</td></tr>\n",
       "<tr><td>2609337664776428288</td><td>5.947723246984718</td><td>-0.15423181141554673</td><td>64649.55822406504</td><td>56986.65196946903</td><td>87990.66902496874</td><td>302.4233148126363</td><td>3476.349186360163</td><td>3480.709091870905</td><td>0.006219337</td><td>0.0063576684</td><td>57205.87541666667</td><td>1.150891936492519e-08</td><td>-1.2153858409521796e-08</td><td>3.4635814e-09</td><td>3.24214e-09</td><td>False</td><td>8.132129089486378e-10</td><td>2.1085118923008547e-09</td><td>False</td><td>0.0</td><td>NOT_AVAILABLE</td></tr>\n",
       "<tr><td>2609337394193160448</td><td>5.948201257468248</td><td>-0.15446857311417284</td><td>2601681.351173785</td><td>2035984.8028317918</td><td>3321426.2110316143</td><td>1943.1985852900414</td><td>7191.865652515818</td><td>5943.802946308479</td><td>0.0010902113</td><td>0.0007811507</td><td>57205.87541666667</td><td>6.655611501884514e-08</td><td>-2.4222723330514647e-08</td><td>4.156398e-10</td><td>3.9940523e-10</td><td>False</td><td>3.5280890716029964e-09</td><td>3.8489826473240103e-10</td><td>False</td><td>0.0</td><td>NOT_AVAILABLE</td></tr>\n",
       "<tr><td>2609338699863218944</td><td>5.94779492844622</td><td>-0.15345074066733097</td><td>1616192.0046284075</td><td>1230933.650836693</td><td>2120339.189557203</td><td>1309.0545558421263</td><td>7136.931651103005</td><td>7843.162398574737</td><td>0.0013440306</td><td>0.0012176964</td><td>57205.87541666667</td><td>-2.2279276380527615e-08</td><td>-4.9460961044086284e-08</td><td>7.33268e-10</td><td>6.331275e-10</td><td>False</td><td>3.5657952619766633e-09</td><td>4.24863741817145e-10</td><td>False</td><td>0.2900571348502733</td><td>NOT_AVAILABLE</td></tr>\n",
       "<tr><td>2609338665503480704</td><td>5.947572367325805</td><td>-0.15359793226150145</td><td>198771.85344967508</td><td>194777.7359650856</td><td>229849.59207759102</td><td>1568.8169535912098</td><td>8157.560431589533</td><td>5265.835521022669</td><td>0.003012063</td><td>0.0028482887</td><td>57205.87541666667</td><td>3.4172141728041326e-09</td><td>1.8731376481716646e-09</td><td>1.7286208e-09</td><td>1.4680854e-09</td><td>False</td><td>-7.548367390762145e-10</td><td>9.693813415653206e-10</td><td>False</td><td>0.0</td><td>NOT_AVAILABLE</td></tr>\n",
       "<tr><td>2609431746034813440</td><td>5.948322914722374</td><td>-0.1535232161596084</td><td>20953659.812988378</td><td>15979117.436097594</td><td>26890625.870693736</td><td>10675.989965501114</td><td>24387.03203057612</td><td>62773.05203387597</td><td>0.00060343515</td><td>0.0005421544</td><td>57205.87541666667</td><td>5.1594900414251926e-08</td><td>3.117675261543527e-08</td><td>3.2798064e-10</td><td>2.783708e-10</td><td>False</td><td>6.430723730030321e-09</td><td>1.938609707465546e-10</td><td>False</td><td>0.0</td><td>NOT_AVAILABLE</td></tr>\n",
       "<tr><td>2609432497654087680</td><td>5.948204557868488</td><td>-0.1534274599594068</td><td>133183.00732982028</td><td>78529.1274323285</td><td>230064.3051226665</td><td>456.66998924981107</td><td>2871.4218874738394</td><td>3571.180512185599</td><td>0.004168078</td><td>0.004000633</td><td>57205.87541666667</td><td>-1.3121480244259183e-08</td><td>-6.039007624909169e-09</td><td>2.4381155e-09</td><td>2.0677422e-09</td><td>False</td><td>1.8669485124213593e-09</td><td>1.3471747252854123e-09</td><td>False</td><td>0.419018682864447</td><td>NOT_AVAILABLE</td></tr>\n",
       "<tr><td>2609337870934859008</td><td>5.947988156396179</td><td>-0.15389975956754184</td><td>75270.6720108331</td><td>54823.75608359959</td><td>133863.03453797864</td><td>339.60097810178917</td><td>3184.167055189334</td><td>2458.00276393223</td><td>0.0067681246</td><td>0.00581242</td><td>57205.87541666667</td><td>1.6344703488464205e-09</td><td>-3.998929401832052e-08</td><td>4.3862887e-09</td><td>3.0532479e-09</td><td>False</td><td>2.1118624153388697e-09</td><td>1.9580117859671155e-09</td><td>False</td><td>0.0</td><td>NOT_AVAILABLE</td></tr>\n",
       "</table>"
      ],
      "text/plain": [
       "<Table length=3966>\n",
       "         id              coord_ra      ... phot_variable_flag\n",
       "                           rad         ...                   \n",
       "       int64             float64       ...       str52       \n",
       "------------------- ------------------ ... ------------------\n",
       "2608663286191100544  5.952529231444764 ...      NOT_AVAILABLE\n",
       "2608551479602134144  5.954488657559802 ...      NOT_AVAILABLE\n",
       "2608546158138065664  5.957431928940604 ...      NOT_AVAILABLE\n",
       "2608645316047756544  5.955561369932886 ...      NOT_AVAILABLE\n",
       "2608644186471667072  5.956259511556312 ...      NOT_AVAILABLE\n",
       "2608641433397277952  5.957639893597756 ...      NOT_AVAILABLE\n",
       "2608545196065391232  5.956593446809088 ...      NOT_AVAILABLE\n",
       "2608550173932069248    5.9556313682819 ...      NOT_AVAILABLE\n",
       "2608549967773638784  5.954954806960037 ...      NOT_AVAILABLE\n",
       "                ...                ... ...                ...\n",
       "2609337733495905152  5.947777863728409 ...      NOT_AVAILABLE\n",
       "2609338558129627136 5.9472451451173045 ...      NOT_AVAILABLE\n",
       "2609337458617997952  5.947900112120017 ...      NOT_AVAILABLE\n",
       "2609337664776428288  5.947723246984718 ...      NOT_AVAILABLE\n",
       "2609337394193160448  5.948201257468248 ...      NOT_AVAILABLE\n",
       "2609338699863218944   5.94779492844622 ...      NOT_AVAILABLE\n",
       "2609338665503480704  5.947572367325805 ...      NOT_AVAILABLE\n",
       "2609431746034813440  5.948322914722374 ...      NOT_AVAILABLE\n",
       "2609432497654087680  5.948204557868488 ...      NOT_AVAILABLE\n",
       "2609337870934859008  5.947988156396179 ...      NOT_AVAILABLE"
      ]
     },
     "execution_count": 2,
     "metadata": {},
     "output_type": "execute_result"
    }
   ],
   "source": [
    "refCat"
   ]
  },
  {
   "cell_type": "code",
   "execution_count": 11,
   "metadata": {},
   "outputs": [
    {
     "name": "stderr",
     "output_type": "stream",
     "text": [
      "/cvmfs/sw.lsst.eu/linux-x86_64/lsst_distrib/w_2019_37/python/miniconda3-4.5.12/envs/lsst-scipipe-1172c30/lib/python3.7/site-packages/ipykernel_launcher.py:4: FutureWarning: Call to deprecated function (or staticmethod) Point2D. (Replaced by lsst.geom.Point2D (will be removed before the release of v20.0))\n",
      "  after removing the cwd from sys.path.\n"
     ]
    }
   ],
   "source": [
    "dataid = {'visit':1022181, 'filter':'r', 'ccd':10}\n",
    "raw = butler.get('raw', dataid)\n",
    "wcsRaw = raw.getWcs()\n",
    "centerPixel = afwGeom.Point2D(2000., 2000.)\n",
    "centerCoord = wcsRaw.pixelToSky(centerPixel)"
   ]
  },
  {
   "cell_type": "code",
   "execution_count": 19,
   "metadata": {},
   "outputs": [
    {
     "name": "stdout",
     "output_type": "stream",
     "text": [
      "5.94811 rad -0.163415 rad\n"
     ]
    }
   ],
   "source": [
    "print(centerCoord.getLongitude(), centerCoord.getLatitude())\n"
   ]
  },
  {
   "cell_type": "code",
   "execution_count": 7,
   "metadata": {
    "collapsed": true,
    "jupyter": {
     "outputs_hidden": true
    }
   },
   "outputs": [],
   "source": [
    "def flToMag(flux):\n",
    "    return -2.5 * np.log10(flux/3631.)\n",
    "\n",
    "def flToMagErr (flux, fluxErr):\n",
    "    return np.abs(fluxErr / (-0.4 * flux *np.log(10)))"
   ]
  },
  {
   "cell_type": "code",
   "execution_count": 8,
   "metadata": {
    "collapsed": false,
    "jupyter": {
     "outputs_hidden": false
    }
   },
   "outputs": [
    {
     "data": {
      "text/html": [
       "&lt;Column name=&apos;r_fluxSigma&apos; dtype=&apos;float64&apos; description=u&apos;&apos; length=53987&gt;\n",
       "<table>\n",
       "<tr><td>0.0206571987814</td></tr>\n",
       "<tr><td>0.00956059634505</td></tr>\n",
       "<tr><td>0.148223795127</td></tr>\n",
       "<tr><td>0.240897135938</td></tr>\n",
       "<tr><td>0.0141438778288</td></tr>\n",
       "<tr><td>0.0340419833327</td></tr>\n",
       "<tr><td>0.00184862105133</td></tr>\n",
       "<tr><td>0.167518658488</td></tr>\n",
       "<tr><td>0.0681929830223</td></tr>\n",
       "<tr><td>0.206876928122</td></tr>\n",
       "<tr><td>0.127779938592</td></tr>\n",
       "<tr><td>0.0199342422131</td></tr>\n",
       "<tr><td>...</td></tr>\n",
       "<tr><td>0.287775452066</td></tr>\n",
       "<tr><td>0.313468984679</td></tr>\n",
       "<tr><td>0.497595601397</td></tr>\n",
       "<tr><td>0.180742329063</td></tr>\n",
       "<tr><td>1.56912451733</td></tr>\n",
       "<tr><td>0.188275720808</td></tr>\n",
       "<tr><td>0.167550404005</td></tr>\n",
       "<tr><td>0.272656968577</td></tr>\n",
       "<tr><td>0.234597367445</td></tr>\n",
       "<tr><td>0.188610847434</td></tr>\n",
       "<tr><td>0.0974091052926</td></tr>\n",
       "<tr><td>0.148740363339</td></tr>\n",
       "</table>"
      ],
      "text/plain": [
       "<Column name='r_fluxSigma' dtype='float64' description=u'' length=53987>\n",
       " 0.0206571987814\n",
       "0.00956059634505\n",
       "  0.148223795127\n",
       "  0.240897135938\n",
       " 0.0141438778288\n",
       " 0.0340419833327\n",
       "0.00184862105133\n",
       "  0.167518658488\n",
       " 0.0681929830223\n",
       "  0.206876928122\n",
       "  0.127779938592\n",
       " 0.0199342422131\n",
       "             ...\n",
       "  0.287775452066\n",
       "  0.313468984679\n",
       "  0.497595601397\n",
       "  0.180742329063\n",
       "   1.56912451733\n",
       "  0.188275720808\n",
       "  0.167550404005\n",
       "  0.272656968577\n",
       "  0.234597367445\n",
       "  0.188610847434\n",
       " 0.0974091052926\n",
       "  0.148740363339"
      ]
     },
     "execution_count": 8,
     "metadata": {},
     "output_type": "execute_result"
    }
   ],
   "source": [
    "flToMagErr(refCat[flux], refCat[flux + 'Sigma'])"
   ]
  },
  {
   "cell_type": "code",
   "execution_count": 9,
   "metadata": {
    "collapsed": false,
    "jupyter": {
     "outputs_hidden": false
    }
   },
   "outputs": [
    {
     "data": {
      "text/html": [
       "&lt;Column name=&apos;r_flux&apos; dtype=&apos;float64&apos; description=u&apos;&apos; length=53987&gt;\n",
       "<table>\n",
       "<tr><td>20.3080033934</td></tr>\n",
       "<tr><td>19.0196287649</td></tr>\n",
       "<tr><td>22.1845221555</td></tr>\n",
       "<tr><td>23.4883571125</td></tr>\n",
       "<tr><td>20.1379299297</td></tr>\n",
       "<tr><td>22.8453802884</td></tr>\n",
       "<tr><td>15.1503193122</td></tr>\n",
       "<tr><td>22.394483097</td></tr>\n",
       "<tr><td>21.5339278989</td></tr>\n",
       "<tr><td>22.6307702146</td></tr>\n",
       "<tr><td>22.1076345799</td></tr>\n",
       "<tr><td>18.7081146189</td></tr>\n",
       "<tr><td>...</td></tr>\n",
       "<tr><td>23.9569734878</td></tr>\n",
       "<tr><td>23.5566854383</td></tr>\n",
       "<tr><td>24.2641091708</td></tr>\n",
       "<tr><td>22.8365874493</td></tr>\n",
       "<tr><td>25.5527138844</td></tr>\n",
       "<tr><td>23.3516407016</td></tr>\n",
       "<tr><td>23.4789347278</td></tr>\n",
       "<tr><td>22.4897121889</td></tr>\n",
       "<tr><td>22.6598596365</td></tr>\n",
       "<tr><td>23.0409478506</td></tr>\n",
       "<tr><td>22.834696747</td></tr>\n",
       "<tr><td>22.9560781548</td></tr>\n",
       "</table>"
      ],
      "text/plain": [
       "<Column name='r_flux' dtype='float64' description=u'' length=53987>\n",
       "20.3080033934\n",
       "19.0196287649\n",
       "22.1845221555\n",
       "23.4883571125\n",
       "20.1379299297\n",
       "22.8453802884\n",
       "15.1503193122\n",
       " 22.394483097\n",
       "21.5339278989\n",
       "22.6307702146\n",
       "22.1076345799\n",
       "18.7081146189\n",
       "          ...\n",
       "23.9569734878\n",
       "23.5566854383\n",
       "24.2641091708\n",
       "22.8365874493\n",
       "25.5527138844\n",
       "23.3516407016\n",
       "23.4789347278\n",
       "22.4897121889\n",
       "22.6598596365\n",
       "23.0409478506\n",
       " 22.834696747\n",
       "22.9560781548"
      ]
     },
     "execution_count": 9,
     "metadata": {},
     "output_type": "execute_result"
    }
   ],
   "source": [
    "flToMag(refCat[flux])"
   ]
  },
  {
   "cell_type": "code",
   "execution_count": null,
   "metadata": {
    "collapsed": false,
    "jupyter": {
     "outputs_hidden": false
    }
   },
   "outputs": [],
   "source": [
    "font = {'family' : 'serif',\n",
    "        'color'  : 'darkred',\n",
    "        'weight' : 'bold',\n",
    "        'size'   : 25,\n",
    "        }\n",
    "\n",
    "plt.rcParams['axes.linewidth'] = 1.5 #set the value globally\n",
    "\n",
    "f1 = (refCat['r_flux'] > 0) & (refCat['r_fluxSigma'] > 0.) & (refCat['r_flux']/refCat['r_fluxSigma'] > 1.)\n",
    "\n",
    "fig, (ax0, ax1) = plt.subplots(ncols=2, figsize=(18, 8))\n",
    "ax0.hist(flToMag(refCat['r_flux'][f1]), bins=80)\n",
    "ax1.hist(flToMagErr(refCat['r_flux'][f1], refCat['r_fluxSigma'][f1]), bins=80)\n",
    "\n",
    "fig, (ax2) = plt.subplots(ncols=1, figsize=(18, 8))\n",
    "ax2.scatter(flToMag(refCat['r_flux'][f1]), flToMagErr(refCat['r_flux'][f1], refCat['r_fluxSigma'][f1]), s=0.2)\n",
    "ax2.set_xlabel('Magnitude', fontsize=15)\n",
    "ax2.set_ylabel('$\\sigma$(Mag)', fontsize=15)\n",
    "ax2.tick_params(labelsize=20)"
   ]
  },
  {
   "cell_type": "code",
   "execution_count": null,
   "metadata": {
    "collapsed": false,
    "jupyter": {
     "outputs_hidden": false
    }
   },
   "outputs": [],
   "source": [
    "refCat"
   ]
  },
  {
   "cell_type": "code",
   "execution_count": null,
   "metadata": {
    "collapsed": false,
    "jupyter": {
     "outputs_hidden": false
    }
   },
   "outputs": [],
   "source": [
    "f2 = (refCat['r_flux'] > 0) & (refCat['r_fluxSigma'] > 0.) & (refCat['r_flux']/refCat['r_fluxSigma'] > 5.) \n",
    "f2 &= (flToMag(refCat['r_flux']) < 22.5)\n",
    "fig, (ax0) = plt.subplots(ncols=1, figsize=(10, 10))\n",
    "ax0.scatter(refCat['coord_ra'], refCat['coord_dec'], s=0.1)\n",
    "ax0.set_xlabel('RA', fontsize=20)\n",
    "ax0.set_ylabel('DEC', fontsize=20)\n",
    "ax0.tick_params(labelsize=20)\n",
    "fig, (ax1) = plt.subplots(ncols=1, figsize=(10, 10))\n",
    "ax1.scatter(refCat['coord_ra'][f1], refCat['coord_dec'][f1], s=0.1)\n",
    "ax1.set_xlabel('RA', fontsize=20)\n",
    "ax1.set_ylabel('DEC', fontsize=20)\n",
    "ax1.tick_params(labelsize=20)"
   ]
  },
  {
   "cell_type": "code",
   "execution_count": null,
   "metadata": {
    "collapsed": false,
    "jupyter": {
     "outputs_hidden": false
    }
   },
   "outputs": [],
   "source": [
    "f3 = (refCat['r_flux'] > 0) & (refCat['r_fluxSigma'] > 0.) & (refCat['r_flux']/refCat['r_fluxSigma'] > 0.) \n",
    "f3 &= (flToMag(refCat['r_flux']) > 23.2)\n",
    "fig, (ax0) = plt.subplots(ncols=1, figsize=(10, 10))\n",
    "ax0.scatter(refCat['coord_ra'][f3], refCat['coord_dec'][f3], s=0.1)\n",
    "ax0.set_xlabel('RA', fontsize=15)\n",
    "ax0.set_ylabel('DEC', fontsize=15)\n",
    "ax0.tick_params(labelsize=15)"
   ]
  },
  {
   "cell_type": "code",
   "execution_count": null,
   "metadata": {
    "collapsed": false,
    "jupyter": {
     "outputs_hidden": false
    }
   },
   "outputs": [],
   "source": [
    "f4 = (f1) & (refCat['coord_ra_err'] > 0.)\n",
    "fig, (ax0) = plt.subplots(ncols=1, figsize=(10, 10))\n",
    "ax0.hist(refCat['coord_ra_err'][f4], bins=80)"
   ]
  },
  {
   "cell_type": "code",
   "execution_count": null,
   "metadata": {
    "collapsed": true,
    "jupyter": {
     "outputs_hidden": true
    }
   },
   "outputs": [],
   "source": [
    "        applyColorTerms = self.config.applyColorTerms\n",
    "        applyCTReason = \"config.applyColorTerms is %s\" % (self.config.applyColorTerms,)\n",
    "        if self.config.applyColorTerms is None:\n",
    "            # apply color terms if color term data is available and photoCatName specified\n",
    "            ctDataAvail = len(self.config.colorterms.data) > 0\n",
    "            photoCatSpecified = self.config.photoCatName is not None\n",
    "            applyCTReason += \" and data %s available\" % (\"is\" if ctDataAvail else \"is not\")\n",
    "            applyCTReason += \" and photoRefCat %s None\" % (\"is not\" if photoCatSpecified else \"is\")\n",
    "            applyColorTerms = ctDataAvail and photoCatSpecified\n",
    "\n",
    "        if applyColorTerms:\n",
    "            self.log.info(\"Applying color terms for filterName=%r, config.photoCatName=%s because %s\",\n",
    "                          filterName, self.config.photoCatName, applyCTReason)\n",
    "            ct = self.config.colorterms.getColorterm(\n",
    "                filterName=filterName, photoCatName=self.config.photoCatName, doRaise=True)\n",
    "        else:\n",
    "            self.log.info(\"Not applying color terms because %s\", applyCTReason)\n",
    "            ct = None\n",
    "\n",
    "        if ct:                          # we have a color term to worry about\n",
    "            fluxFieldList = [getRefFluxField(refSchema, filt) for filt in (ct.primary, ct.secondary)]\n",
    "            missingFluxFieldList = []\n",
    "            for fluxField in fluxFieldList:\n",
    "                try:\n",
    "                    refSchema.find(fluxField).key\n",
    "                except KeyError:\n",
    "                    missingFluxFieldList.append(fluxField)\n",
    "\n",
    "            if missingFluxFieldList:\n",
    "                self.log.warn(\"Source catalog does not have fluxes for %s; ignoring color terms\",\n",
    "                              \" \".join(missingFluxFieldList))\n",
    "                ct = None\n",
    "\n",
    "        if not ct:\n",
    "            fluxFieldList = [getRefFluxField(refSchema, filterName)]\n",
    "\n",
    "        refFluxArrList = []  # list of ref arrays, one per flux field\n",
    "        refFluxErrArrList = []  # list of ref flux arrays, one per flux field\n",
    "        for fluxField in fluxFieldList:\n",
    "            fluxKey = refSchema.find(fluxField).key\n",
    "            refFluxArr = np.array([m.first.get(fluxKey) for m in matches])\n",
    "            try:\n",
    "                fluxErrKey = refSchema.find(fluxField + \"Sigma\").key\n",
    "                refFluxErrArr = np.array([m.first.get(fluxErrKey) for m in matches])\n",
    "            except KeyError:\n",
    "                # Reference catalogue may not have flux uncertainties; HACK\n",
    "                self.log.warn(\"Reference catalog does not have flux uncertainties for %s; using sqrt(flux).\",\n",
    "                              fluxField)\n",
    "                refFluxErrArr = np.sqrt(refFluxArr)\n",
    "\n",
    "            refFluxArrList.append(refFluxArr)\n",
    "            refFluxErrArrList.append(refFluxErrArr)\n",
    "\n",
    "        if ct:                          # we have a color term to worry about\n",
    "            refMagArr1 = np.array([abMagFromFlux(rf1) for rf1 in refFluxArrList[0]])  # primary\n",
    "            refMagArr2 = np.array([abMagFromFlux(rf2) for rf2 in refFluxArrList[1]])  # secondary\n",
    "\n",
    "            refMagArr = ct.transformMags(refMagArr1, refMagArr2)\n",
    "            refFluxErrArr = ct.propagateFluxErrors(refFluxErrArrList[0], refFluxErrArrList[1])\n",
    "        else:\n",
    "            refMagArr = np.array([abMagFromFlux(rf) for rf in refFluxArrList[0]])\n",
    "\n",
    "        srcMagArr = np.array([abMagFromFlux(sf) for sf in srcFluxArr])\n",
    "\n",
    "        # Fitting with error bars in both axes is hard\n",
    "        # for now ignore reference flux error, but ticket DM-2308 is a request for a better solution\n",
    "        magErrArr = np.array([abMagErrFromFluxErr(fe, sf) for fe, sf in zip(srcFluxErrArr, srcFluxArr)])\n",
    "        if self.config.magErrFloor != 0.0:\n",
    "            magErrArr = (magErrArr**2 + self.config.magErrFloor**2)**0.5\n",
    "\n",
    "        srcMagErrArr = np.array([abMagErrFromFluxErr(sfe, sf) for sfe, sf in zip(srcFluxErrArr, srcFluxArr)])\n",
    "        refMagErrArr = np.array([abMagErrFromFluxErr(rfe, rf) for rfe, rf in zip(refFluxErrArr, refFluxArr)])\n",
    "\n",
    "        return pipeBase.Struct(\n",
    "            srcMag=srcMagArr,\n",
    "            refMag=refMagArr,\n",
    "            magErr=magErrArr,\n",
    "            srcMagErr=srcMagErrArr,\n",
    "            refMagErr=refMagErrArr,\n",
    "            refFluxFieldList=fluxFieldList,\n",
    "        )"
   ]
  },
  {
   "cell_type": "code",
   "execution_count": 3,
   "metadata": {},
   "outputs": [],
   "source": [
    "from lsst.pipe.tasks.colorterms import ColortermLibrary\n",
    "from lsst.afw.image import abMagFromFlux, abMagErrFromFluxErr, fluxFromABMag, Calib"
   ]
  },
  {
   "cell_type": "code",
   "execution_count": 4,
   "metadata": {},
   "outputs": [],
   "source": [
    "import os\n",
    "from lsst.utils import getPackageDir\n",
    "\n",
    "hscConfigDir = os.path.join(getPackageDir(\"obs_subaru\"), \"config\", \"hsc\")\n",
    "colorterms = ColortermLibrary()\n",
    "colorterms.load(os.path.join(hscConfigDir, 'colorterms.py'))\n",
    "\n",
    "photoCatName = 'ps1*'\n",
    "\n",
    "ct = colorterms.getColorterm(\n",
    "            filterName='g', photoCatName=photoCatName, doRaise=True)"
   ]
  },
  {
   "cell_type": "code",
   "execution_count": 5,
   "metadata": {},
   "outputs": [
    {
     "data": {
      "text/plain": [
       "lsst.pipe.tasks.colorterms.Colorterm(primary='g', secondary='r', c0=0.00730066, c1=0.06508481, c2=-0.0151057)"
      ]
     },
     "execution_count": 5,
     "metadata": {},
     "output_type": "execute_result"
    }
   ],
   "source": [
    "ct."
   ]
  },
  {
   "cell_type": "code",
   "execution_count": 6,
   "metadata": {},
   "outputs": [
    {
     "data": {
      "text/plain": [
       "'r'"
      ]
     },
     "execution_count": 6,
     "metadata": {},
     "output_type": "execute_result"
    }
   ],
   "source": [
    "ct.secondary"
   ]
  },
  {
   "cell_type": "code",
   "execution_count": 20,
   "metadata": {},
   "outputs": [
    {
     "data": {
      "text/plain": [
       "(23.84107582255976, 5.108196971524156)"
      ]
     },
     "execution_count": 20,
     "metadata": {},
     "output_type": "execute_result"
    }
   ],
   "source": [
    "mag = abMagFromFlux(refCat[2001]['g_flux'])\n",
    "err = abMagErrFromFluxErr(refCat[2001]['g_flux'], refCat[2001]['g_fluxSigma'])\n",
    "err2 = abMag\n",
    "\n",
    "mag, err"
   ]
  },
  {
   "cell_type": "code",
   "execution_count": 16,
   "metadata": {},
   "outputs": [
    {
     "data": {
      "text/plain": [
       "<function lsst.afw.image.calib.PyCapsule.abMagErrFromFluxErr>"
      ]
     },
     "execution_count": 16,
     "metadata": {},
     "output_type": "execute_result"
    }
   ],
   "source": [
    "abMagErrFromFluxErr"
   ]
  },
  {
   "cell_type": "code",
   "execution_count": 27,
   "metadata": {},
   "outputs": [
    {
     "data": {
      "text/plain": [
       "(array([0, 1, 2, 3, 4, 5, 6, 7, 8, 9]),\n",
       " array([ 0,  2,  4,  6,  8, 10, 12, 14, 16, 18]))"
      ]
     },
     "execution_count": 27,
     "metadata": {},
     "output_type": "execute_result"
    }
   ],
   "source": [
    "a = np.arange(10)\n",
    "b = np.arange(10)*2\n",
    "a, b"
   ]
  },
  {
   "cell_type": "code",
   "execution_count": 25,
   "metadata": {},
   "outputs": [],
   "source": [
    "c =[i*j for i,j in zip(a,b)]"
   ]
  },
  {
   "cell_type": "code",
   "execution_count": 26,
   "metadata": {},
   "outputs": [
    {
     "data": {
      "text/plain": [
       "[0, 2, 8, 18, 32, 50, 72, 98, 128, 162]"
      ]
     },
     "execution_count": 26,
     "metadata": {},
     "output_type": "execute_result"
    }
   ],
   "source": [
    "c"
   ]
  },
  {
   "cell_type": "code",
   "execution_count": 30,
   "metadata": {},
   "outputs": [
    {
     "name": "stdout",
     "output_type": "stream",
     "text": [
      "r\n",
      "i\n"
     ]
    }
   ],
   "source": [
    "filters = ['r', 'i']\n",
    "for f in filters :\n",
    "    print(f)"
   ]
  },
  {
   "cell_type": "code",
   "execution_count": 31,
   "metadata": {},
   "outputs": [
    {
     "data": {
      "text/plain": [
       "{'g': array([0, 1, 2, 3, 4, 5, 6, 7, 8, 9]),\n",
       " 'r': array([ 0,  2,  4,  6,  8, 10, 12, 14, 16, 18])}"
      ]
     },
     "execution_count": 31,
     "metadata": {},
     "output_type": "execute_result"
    }
   ],
   "source": [
    "test = {}\n",
    "test['g'] = a\n",
    "test['r'] = b\n",
    "test"
   ]
  },
  {
   "cell_type": "code",
   "execution_count": null,
   "metadata": {},
   "outputs": [],
   "source": []
  }
 ],
 "metadata": {
  "kernelspec": {
   "display_name": "lsst_distrib",
   "language": "python",
   "name": "lsst_distrib"
  },
  "language_info": {
   "codemirror_mode": {
    "name": "ipython",
    "version": 3
   },
   "file_extension": ".py",
   "mimetype": "text/x-python",
   "name": "python",
   "nbconvert_exporter": "python",
   "pygments_lexer": "ipython3",
   "version": "3.7.6"
  }
 },
 "nbformat": 4,
 "nbformat_minor": 4
}
