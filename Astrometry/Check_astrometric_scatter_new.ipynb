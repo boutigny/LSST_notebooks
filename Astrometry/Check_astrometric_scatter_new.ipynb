{
 "cells": [
  {
   "cell_type": "code",
   "execution_count": 4,
   "metadata": {
    "collapsed": false,
    "jupyter": {
     "outputs_hidden": false
    }
   },
   "outputs": [
    {
     "name": "stdout",
     "output_type": "stream",
     "text": [
      "Schema(\n",
      "    (Field['L'](name=\"id\", doc=\"unique ID\"), Key<L>(offset=0, nElements=1)),\n",
      "    (Field['Angle'](name=\"coord_ra\", doc=\"position in ra/dec\"), Key<Angle>(offset=8, nElements=1)),\n",
      "    (Field['Angle'](name=\"coord_dec\", doc=\"position in ra/dec\"), Key<Angle>(offset=16, nElements=1)),\n",
      "    (Field['L'](name=\"parent\", doc=\"unique ID of parent source\"), Key<L>(offset=24, nElements=1)),\n",
      "    (Field['I'](name=\"ccd\", doc=\"ccd number\"), Key<I>(offset=32, nElements=1)),\n",
      "    (Field['F'](name=\"mag\", doc=\"magnitude\"), Key<F>(offset=36, nElements=1)),\n",
      ")\n",
      "\n"
     ]
    }
   ],
   "source": [
    "import lsst.daf.persistence as dafPersist\n",
    "import lsst.afw.table as afwTable\n",
    "import lsst.afw.geom as afwGeom\n",
    "import lsst.afw.image as afwImage\n",
    "import numpy as np\n",
    "\n",
    "from astropy.table import Table\n",
    "\n",
    "# List of visits to be considered\n",
    "visits = [14108, 14110, 14112, 14114]\n",
    "\n",
    "# Reference visit\n",
    "ref = 14108\n",
    "\n",
    "filter = 'HSC-I'\n",
    "\n",
    "fluxType = \"base_PsfFlux_flux\"\n",
    "\n",
    "Flags = [\"base_PixelFlags_flag_saturated\", \"base_PixelFlags_flag_cr\", \"base_PixelFlags_flag_interpolated\",\n",
    "         \"base_PsfFlux_flag_edge\", fluxType + \"_flag\", \"base_SdssCentroid_flag\", \n",
    "         \"base_SdssShape_flag\"]\n",
    "\n",
    "#setup butler - Replace path name by something suitable for you\n",
    "butler = dafPersist.Butler(\"/pbs/throng/lsst/users/boutigny/clusters/MACSJ2243.3-0935/input/rerun/boutigny\")\n",
    "\n",
    "schemaRef  = afwTable.SourceTable.makeMinimalSchema()\n",
    "\n",
    "# Let's add some columns to our table by adding them to the Schema.\n",
    "k1 = schemaRef.addField(\"ccd\", type=np.int32, doc=\"ccd number\")\n",
    "k2 = schemaRef.addField(\"mag\", type=np.float32, doc=\"magnitude\")\n",
    "#k3 = schemaRef.addField(\"coord_ra_joincal\", type=afwGeom.Angle, doc=\"ra computed by jointcal\")\n",
    "#k4 = schemaRef.addField(\"coord_dec_joincal\", type=afwGeom.Angle, doc=\"dec computed by jointcal\")\n",
    "\n",
    "print(schemaRef)\n",
    "\n",
    "# This way of producing a catalog takes a schema and makes the table internally\n",
    "# and stores it.  You can also make the table yourself and pass it to the \n",
    "# catalog.\n",
    "#catalog = afwTable.SourceCatalog(schema)\n",
    "\n",
    "# Make a new record, and set the values of it.\n",
    "\n",
    "#ccd = range(104)\n",
    "\n",
    "#for indx, c in enumerate(ccd) :\n",
    "#    if c == 9:\n",
    "#        continue\n",
    "        \n",
    "#    dataid = {'visit':ref, 'filter':filter, 'ccd':c}\n",
    "#    oldSrc = butler.get('src', dataid, immediate=True)\n",
    "#    print c, len(oldSrc)"
   ]
  },
  {
   "cell_type": "code",
   "execution_count": 10,
   "metadata": {},
   "outputs": [],
   "source": [
    "schemaRef  = afwTable.SourceTable.makeMinimalSchema()\n",
    "newRef = afwTable.SourceCatalog(schemaRef)"
   ]
  },
  {
   "cell_type": "code",
   "execution_count": 78,
   "metadata": {},
   "outputs": [
    {
     "ename": "TypeError",
     "evalue": "setCoord(): incompatible function arguments. The following argument types are supported:\n    1. (self: lsst.afw.table.SimpleRecord, arg0: lsst::geom::SpherePoint) -> None\n\nInvoked with: SpherePoint(55.0*geom.degrees, 10.0*geom.degrees)",
     "output_type": "error",
     "traceback": [
      "\u001b[0;31m---------------------------------------------------------------------------\u001b[0m",
      "\u001b[0;31mTypeError\u001b[0m                                 Traceback (most recent call last)",
      "\u001b[0;32m<ipython-input-78-1d0687a06d38>\u001b[0m in \u001b[0;36m<module>\u001b[0;34m\u001b[0m\n\u001b[1;32m      2\u001b[0m \u001b[0;31m#record.setRa(geom.Angle(10, geom.degrees))\u001b[0m\u001b[0;34m\u001b[0m\u001b[0;34m\u001b[0m\u001b[0;34m\u001b[0m\u001b[0m\n\u001b[1;32m      3\u001b[0m \u001b[0;31m#record.setDec(geom.Angle(20, geom.degrees))\u001b[0m\u001b[0;34m\u001b[0m\u001b[0;34m\u001b[0m\u001b[0;34m\u001b[0m\u001b[0m\n\u001b[0;32m----> 4\u001b[0;31m \u001b[0mrecord\u001b[0m\u001b[0;34m.\u001b[0m\u001b[0msetCoord\u001b[0m\u001b[0;34m(\u001b[0m\u001b[0mgeom\u001b[0m\u001b[0;34m.\u001b[0m\u001b[0mSpherePoint\u001b[0m\u001b[0;34m(\u001b[0m\u001b[0;36m55\u001b[0m\u001b[0;34m,\u001b[0m \u001b[0;36m10\u001b[0m\u001b[0;34m,\u001b[0m \u001b[0mgeom\u001b[0m\u001b[0;34m.\u001b[0m\u001b[0mdegrees\u001b[0m\u001b[0;34m)\u001b[0m\u001b[0;34m)\u001b[0m\u001b[0;34m\u001b[0m\u001b[0;34m\u001b[0m\u001b[0m\n\u001b[0m",
      "\u001b[0;31mTypeError\u001b[0m: setCoord(): incompatible function arguments. The following argument types are supported:\n    1. (self: lsst.afw.table.SimpleRecord, arg0: lsst::geom::SpherePoint) -> None\n\nInvoked with: SpherePoint(55.0*geom.degrees, 10.0*geom.degrees)"
     ]
    }
   ],
   "source": [
    "record = afwTable.SimpleRecord\n",
    "#record.setRa(geom.Angle(10, geom.degrees))\n",
    "#record.setDec(geom.Angle(20, geom.degrees))\n",
    "record.setCoord(geom.SpherePoint(55, 10, geom.degrees))"
   ]
  },
  {
   "cell_type": "code",
   "execution_count": 85,
   "metadata": {},
   "outputs": [
    {
     "ename": "TypeError",
     "evalue": "lsst.afw.table._table.SimpleRecord: No constructor defined!",
     "output_type": "error",
     "traceback": [
      "\u001b[0;31m---------------------------------------------------------------------------\u001b[0m",
      "\u001b[0;31mTypeError\u001b[0m                                 Traceback (most recent call last)",
      "\u001b[0;32m<ipython-input-85-811171242139>\u001b[0m in \u001b[0;36m<module>\u001b[0;34m\u001b[0m\n\u001b[0;32m----> 1\u001b[0;31m \u001b[0mafwTable\u001b[0m\u001b[0;34m.\u001b[0m\u001b[0mSimpleRecord\u001b[0m\u001b[0;34m(\u001b[0m\u001b[0;34m)\u001b[0m\u001b[0;34m\u001b[0m\u001b[0;34m\u001b[0m\u001b[0m\n\u001b[0m",
      "\u001b[0;31mTypeError\u001b[0m: lsst.afw.table._table.SimpleRecord: No constructor defined!"
     ]
    }
   ],
   "source": [
    "afwTable.SimpleRecord()"
   ]
  },
  {
   "cell_type": "code",
   "execution_count": 44,
   "metadata": {},
   "outputs": [],
   "source": [
    "import lsst.geom as geom\n",
    "from lsst.meas.algorithms import LoadIndexedReferenceObjectsTask\n",
    "\n",
    "refConfig = LoadIndexedReferenceObjectsTask.ConfigClass()\n",
    "refConfig.ref_dataset_name = 'pan-starrs'\n",
    "#refConfig.ref_dataset_name = 'gaia'\n",
    "#refConfig.ref_dataset_name = 'sdss'\n",
    "refTask = LoadIndexedReferenceObjectsTask(butler, config=refConfig)\n",
    "\n",
    "filt = 'i'\n",
    "#filt = 'phot_g_mean_mag'\n",
    "#filt = 'R'\n",
    "fluxType = \"base_PsfFlux_flux\"\n",
    "\n",
    "#coord = lsst.afw.geom.SpherePoint(ra_degrees, dec_degrees, afwGeom.degrees)\n",
    "center = geom.SpherePoint(55, 10, geom.degrees)\n",
    "radius = 1.0\n",
    "skyCircle = refTask.loadSkyCircle(center,\n",
    "                                        geom.Angle(radius, geom.degrees), filt)\n",
    "\n",
    "refCat = skyCircle.refCat.copy(deep=True)"
   ]
  },
  {
   "cell_type": "code",
   "execution_count": 84,
   "metadata": {},
   "outputs": [
    {
     "data": {
      "text/plain": [
       "<class 'lsst.afw.table.SimpleRecord'>\n",
       "id: 120730548544516727\n",
       "coord_ra: 0.957391 rad\n",
       "coord_dec: 0.185241 rad\n",
       "parent: 0\n",
       "g_flux: 2037.66\n",
       "r_flux: 2313.05\n",
       "i_flux: 3486.55\n",
       "z_flux: 4600.11\n",
       "y_flux: 3251.5\n",
       "i_fluxErr: 439.464\n",
       "y_fluxErr: 3081.38\n",
       "r_fluxErr: 333.257\n",
       "z_fluxErr: 835.294\n",
       "g_fluxErr: 241.616\n",
       "coord_ra_err: 0\n",
       "coord_dec_err: 0\n",
       "epoch: 1418381824\n",
       "pm_ra: 0\n",
       "pm_dec: 0\n",
       "pm_ra_err: 0\n",
       "pm_dec_err: 0"
      ]
     },
     "execution_count": 84,
     "metadata": {},
     "output_type": "execute_result"
    }
   ],
   "source": [
    "refCat[0]"
   ]
  },
  {
   "cell_type": "code",
   "execution_count": null,
   "metadata": {},
   "outputs": [],
   "source": []
  }
 ],
 "metadata": {
  "kernelspec": {
   "display_name": "lsst_distrib",
   "language": "python",
   "name": "lsst_distrib"
  },
  "language_info": {
   "codemirror_mode": {
    "name": "ipython",
    "version": 3
   },
   "file_extension": ".py",
   "mimetype": "text/x-python",
   "name": "python",
   "nbconvert_exporter": "python",
   "pygments_lexer": "ipython3",
   "version": "3.7.8"
  }
 },
 "nbformat": 4,
 "nbformat_minor": 4
}
