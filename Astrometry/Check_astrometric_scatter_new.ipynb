{
 "cells": [
  {
   "cell_type": "code",
   "execution_count": 7,
   "metadata": {
    "collapsed": false
   },
   "outputs": [
    {
     "name": "stdout",
     "output_type": "stream",
     "text": [
      "Schema(\n",
      "    (Field['L'](name=\"id\", doc=\"unique ID\"), Key<L>(offset=0, nElements=1)),\n",
      "    (Field['Angle'](name=\"coord_ra\", doc=\"position in ra/dec\"), Key<Angle>(offset=8, nElements=1)),\n",
      "    (Field['Angle'](name=\"coord_dec\", doc=\"position in ra/dec\"), Key<Angle>(offset=16, nElements=1)),\n",
      "    (Field['L'](name=\"parent\", doc=\"unique ID of parent source\"), Key<L>(offset=24, nElements=1)),\n",
      "    (Field['I'](name=\"ccd\", doc=\"ccd number\"), Key<I>(offset=32, nElements=1)),\n",
      "    (Field['F'](name=\"mag\", doc=\"magnitude\"), Key<F>(offset=36, nElements=1)),\n",
      "    (Field['Angle'](name=\"coord_ra_joincal\", doc=\"ra computed by jointcal\"), Key<Angle>(offset=40, nElements=1)),\n",
      "    (Field['Angle'](name=\"coord_dec_joincal\", doc=\"dec computed by jointcal\"), Key<Angle>(offset=48, nElements=1)),\n",
      ")\n",
      "\n"
     ]
    }
   ],
   "source": [
    "import lsst.daf.persistence as dafPersist\n",
    "import lsst.afw.table as afwTable\n",
    "import lsst.afw.geom as afwGeom\n",
    "import lsst.afw.image as afwImage\n",
    "import numpy as np\n",
    "\n",
    "from astropy.table import Table\n",
    "\n",
    "# List of visits to be considered\n",
    "visits = [14108, 14110, 14112, 14114]\n",
    "\n",
    "# Reference visit\n",
    "ref = 14108\n",
    "\n",
    "filter = 'HSC-I'\n",
    "\n",
    "fluxType = \"base_PsfFlux_flux\"\n",
    "\n",
    "Flags = [\"base_PixelFlags_flag_saturated\", \"base_PixelFlags_flag_cr\", \"base_PixelFlags_flag_interpolated\",\n",
    "         \"base_PsfFlux_flag_edge\", fluxType + \"_flag\", \"base_SdssCentroid_flag\", \n",
    "         \"base_SdssShape_flag\"]\n",
    "\n",
    "#setup butler - Replace path name by something suitable for you\n",
    "butler = dafPersist.Butler(\"/sps/lsst/dev/lsstprod/hsc/SXDS/output\")\n",
    "\n",
    "schemaRef  = afwTable.SourceTable.makeMinimalSchema()\n",
    "\n",
    "# Let's add some columns to our table by adding them to the Schema.\n",
    "k1 = schemaRef.addField(\"ccd\", type=np.int32, doc=\"ccd number\")\n",
    "k2 = schemaRef.addField(\"mag\", type=np.float32, doc=\"magnitude\")\n",
    "k3 = schemaRef.addField(\"coord_ra_joincal\", type=afwGeom.Angle, doc=\"ra computed by jointcal\")\n",
    "k4 = schemaRef.addField(\"coord_dec_joincal\", type=afwGeom.Angle, doc=\"dec computed by jointcal\")\n",
    "\n",
    "print schemaRef\n",
    "\n",
    "# This way of producing a catalog takes a schema and makes the table internally\n",
    "# and stores it.  You can also make the table yourself and pass it to the \n",
    "# catalog.\n",
    "#catalog = afwTable.SourceCatalog(schema)\n",
    "\n",
    "# Make a new record, and set the values of it.\n",
    "\n",
    "#ccd = range(104)\n",
    "\n",
    "#for indx, c in enumerate(ccd) :\n",
    "#    if c == 9:\n",
    "#        continue\n",
    "        \n",
    "#    dataid = {'visit':ref, 'filter':filter, 'ccd':c}\n",
    "#    oldSrc = butler.get('src', dataid, immediate=True)\n",
    "#    print c, len(oldSrc)"
   ]
  },
  {
   "cell_type": "code",
   "execution_count": null,
   "metadata": {
    "collapsed": true
   },
   "outputs": [],
   "source": []
  }
 ],
 "metadata": {
  "kernelspec": {
   "display_name": "Python 3",
   "language": "python",
   "name": "python3"
  },
  "language_info": {
   "codemirror_mode": {
    "name": "ipython",
    "version": 3
   },
   "file_extension": ".py",
   "mimetype": "text/x-python",
   "name": "python",
   "nbconvert_exporter": "python",
   "pygments_lexer": "ipython3",
   "version": "3.6.2"
  }
 },
 "nbformat": 4,
 "nbformat_minor": 2
}
