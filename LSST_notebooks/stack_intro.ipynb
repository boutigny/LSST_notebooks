{
 "metadata": {
  "name": "",
  "signature": "sha256:c0100d3b8676a720fbccd9f46689cd2f171e110c9f615bdf5580114dfc42ab1a"
 },
 "nbformat": 3,
 "nbformat_minor": 0,
 "worksheets": [
  {
   "cells": [
    {
     "cell_type": "heading",
     "level": 1,
     "metadata": {},
     "source": [
      "Simple notebook to illustrate some basic stack functionalities"
     ]
    },
    {
     "cell_type": "heading",
     "level": 3,
     "metadata": {},
     "source": [
      "Prerequisite"
     ]
    },
    {
     "cell_type": "markdown",
     "metadata": {},
     "source": [
      "<UL>\n",
      "<LI> Install CernVM FS as described in : https://github.com/airnandez/lsst-cvmfs\n",
      "</UL>"
     ]
    },
    {
     "cell_type": "heading",
     "level": 3,
     "metadata": {},
     "source": [
      "Getting some sample data and setting up the environment"
     ]
    },
    {
     "cell_type": "markdown",
     "metadata": {},
     "source": [
      "```\n",
      "# The following should be executed in a shell script outside of the ipython notebook environment\n",
      "# The ipython notebook should be (re)launched after this initialization step\n",
      "#\n",
      "mkdir stack_intro\n",
      "# setup the LSST stack\n",
      "source /cvmfs/lsst.in2p3.fr/software/linux-x86_64/lsst-v10.1/loadLSST.bash\n",
      "# get obs_cfht package\n",
      "git clone https://github.com/lsst/obs_cfht\n",
      "# build obs_cfht\n",
      "cd obs_cfht\n",
      "setup -k -r .\n",
      "scons opt=3\n",
      "cd ..\n",
      "#\n",
      "# setup obs_cfht\n",
      "setup -j -r obs_cfht obs_cfht\n",
      "# get some sample CFHT data\n",
      "curl -o stack_intro.tar.gz  -O 'https://cernbox.cern.ch/public.php?service=files&t=2a449a45074a4498927f10874bf6296e&download'\n",
      "# untar data \n",
      "tar -xvzf stack_intro.tar.gz\n",
      "# create _parent link in output directory\n",
      "cd output\n",
      "rm _parent\n",
      "ln -s ../input _parent\n",
      "cd ..\n",
      "# setup standard stack environment and astrometry_net_data\n",
      "setup pipe_tasks\n",
      "setup -j -r astrometry_net_data astrometry_net_data\n",
      "```"
     ]
    },
    {
     "cell_type": "code",
     "collapsed": false,
     "input": [
      "import lsst.daf.persistence as dafPersist\n",
      "\n",
      "butler = dafPersist.Butler(\"output\")\n",
      "dataid = {'visit':849375, 'filter':'r', 'ccd':12}\n",
      "\n",
      "# Read a calibrated exposure and the source catalog\n",
      "exp = butler.get('calexp', dataid, immediate=True)\n",
      "sources = butler.get('src', dataid, immediate=True)\n",
      "\n",
      "# Retrieve the metadata associated to the calibrated exposure\n",
      "md = butler.get(\"calexp_md\", dataid, immediate=True)"
     ],
     "language": "python",
     "metadata": {},
     "outputs": [],
     "prompt_number": 1
    },
    {
     "cell_type": "code",
     "collapsed": false,
     "input": [
      "print exp"
     ],
     "language": "python",
     "metadata": {},
     "outputs": [
      {
       "output_type": "stream",
       "stream": "stdout",
       "text": [
        "<lsst.afw.image.imageLib.ExposureF; proxy of <Swig Object of type 'boost::shared_ptr< lsst::afw::image::Exposure< float,lsst::afw::image::MaskPixel,lsst::afw::image::VariancePixel > > *' at 0x7fb302aff750> >\n"
       ]
      }
     ],
     "prompt_number": 2
    },
    {
     "cell_type": "code",
     "collapsed": false,
     "input": [
      "#List the methods associated to the exposure object\u00b6\n",
      "dir(exp)"
     ],
     "language": "python",
     "metadata": {},
     "outputs": [
      {
       "metadata": {},
       "output_type": "pyout",
       "prompt_number": 6,
       "text": [
        "['Factory',\n",
        " '__class__',\n",
        " '__del__',\n",
        " '__delattr__',\n",
        " '__dict__',\n",
        " '__doc__',\n",
        " '__float__',\n",
        " '__format__',\n",
        " '__getattr__',\n",
        " '__getattribute__',\n",
        " '__getitem__',\n",
        " '__hash__',\n",
        " '__init__',\n",
        " '__int__',\n",
        " '__module__',\n",
        " '__new__',\n",
        " '__reduce__',\n",
        " '__reduce_ex__',\n",
        " '__repr__',\n",
        " '__setattr__',\n",
        " '__setitem__',\n",
        " '__sizeof__',\n",
        " '__str__',\n",
        " '__subclasshook__',\n",
        " '__swig_destroy__',\n",
        " '__swig_getmethods__',\n",
        " '__swig_setmethods__',\n",
        " '__weakref__',\n",
        " '_s',\n",
        " 'census',\n",
        " 'clone',\n",
        " 'getBBox',\n",
        " 'getCalib',\n",
        " 'getDetector',\n",
        " 'getDimensions',\n",
        " 'getFilter',\n",
        " 'getHeight',\n",
        " 'getId',\n",
        " 'getInfo',\n",
        " 'getMaskedImage',\n",
        " 'getMetadata',\n",
        " 'getNextMemId',\n",
        " 'getPsf',\n",
        " 'getWcs',\n",
        " 'getWidth',\n",
        " 'getX0',\n",
        " 'getXY0',\n",
        " 'getY0',\n",
        " 'hasBeenCorrupted',\n",
        " 'hasPsf',\n",
        " 'hasWcs',\n",
        " 'init',\n",
        " 'magicSentinel',\n",
        " 'markPersistent',\n",
        " 'readFits',\n",
        " 'repr',\n",
        " 'setCalib',\n",
        " 'setCorruptionCallback',\n",
        " 'setDeleteCallback',\n",
        " 'setDeleteCallbackId',\n",
        " 'setDetector',\n",
        " 'setFilter',\n",
        " 'setMaskedImage',\n",
        " 'setMetadata',\n",
        " 'setNewCallback',\n",
        " 'setNewCallbackId',\n",
        " 'setPsf',\n",
        " 'setWcs',\n",
        " 'setXY0',\n",
        " 'swigConvert',\n",
        " 'this',\n",
        " 'writeFits']"
       ]
      }
     ],
     "prompt_number": 6
    },
    {
     "cell_type": "code",
     "collapsed": false,
     "input": [
      "# Look at the schema of the sources' table\n",
      "schema = sources.getSchema()\n",
      "print schema.getOrderedNames()"
     ],
     "language": "python",
     "metadata": {},
     "outputs": [
      {
       "output_type": "stream",
       "stream": "stdout",
       "text": [
        "('id', 'coord', 'parent', 'calib_detected', 'calib_psfCandidate', 'calib_psfUsed', 'flags_negative', 'base_GaussianCentroid_x', 'base_GaussianCentroid_y', 'base_GaussianCentroid_flag', 'base_GaussianCentroid_flag_noPeak', 'base_NaiveCentroid_x', 'base_NaiveCentroid_y', 'base_NaiveCentroid_flag', 'base_NaiveCentroid_flag_noCounts', 'base_NaiveCentroid_flag_edge', 'base_SdssCentroid_x', 'base_SdssCentroid_y', 'base_SdssCentroid_xSigma', 'base_SdssCentroid_ySigma', 'base_SdssCentroid_flag', 'base_SdssCentroid_flag_edge', 'base_SdssCentroid_flag_noSecondDerivative', 'base_SdssCentroid_flag_almostNoSecondDerivative', 'base_SdssCentroid_flag_notAtMaximum', 'base_SdssShape_xx', 'base_SdssShape_yy', 'base_SdssShape_xy', 'base_SdssShape_xxSigma', 'base_SdssShape_yySigma', 'base_SdssShape_xySigma', 'base_SdssShape_x', 'base_SdssShape_y', 'base_SdssShape_flux', 'base_SdssShape_fluxSigma', 'base_SdssShape_flux_xx_Cov', 'base_SdssShape_flux_yy_Cov', 'base_SdssShape_flux_xy_Cov', 'base_SdssShape_flag', 'base_SdssShape_flag_unweightedBad', 'base_SdssShape_flag_unweighted', 'base_SdssShape_flag_shift', 'base_SdssShape_flag_maxIter', 'base_CircularApertureFlux_0_flux', 'base_CircularApertureFlux_0_fluxSigma', 'base_CircularApertureFlux_0_flag', 'base_CircularApertureFlux_0_flag_apertureTruncated', 'base_CircularApertureFlux_0_flag_sincCoeffsTruncated', 'base_CircularApertureFlux_1_flux', 'base_CircularApertureFlux_1_fluxSigma', 'base_CircularApertureFlux_1_flag', 'base_CircularApertureFlux_1_flag_apertureTruncated', 'base_CircularApertureFlux_1_flag_sincCoeffsTruncated', 'base_CircularApertureFlux_2_flux', 'base_CircularApertureFlux_2_fluxSigma', 'base_CircularApertureFlux_2_flag', 'base_CircularApertureFlux_2_flag_apertureTruncated', 'base_CircularApertureFlux_2_flag_sincCoeffsTruncated', 'base_CircularApertureFlux_3_flux', 'base_CircularApertureFlux_3_fluxSigma', 'base_CircularApertureFlux_3_flag', 'base_CircularApertureFlux_3_flag_apertureTruncated', 'base_CircularApertureFlux_3_flag_sincCoeffsTruncated', 'base_CircularApertureFlux_4_flux', 'base_CircularApertureFlux_4_fluxSigma', 'base_CircularApertureFlux_4_flag', 'base_CircularApertureFlux_4_flag_apertureTruncated', 'base_CircularApertureFlux_5_flux', 'base_CircularApertureFlux_5_fluxSigma', 'base_CircularApertureFlux_5_flag', 'base_CircularApertureFlux_5_flag_apertureTruncated', 'base_CircularApertureFlux_6_flux', 'base_CircularApertureFlux_6_fluxSigma', 'base_CircularApertureFlux_6_flag', 'base_CircularApertureFlux_6_flag_apertureTruncated', 'base_CircularApertureFlux_7_flux', 'base_CircularApertureFlux_7_fluxSigma', 'base_CircularApertureFlux_7_flag', 'base_CircularApertureFlux_7_flag_apertureTruncated', 'base_CircularApertureFlux_8_flux', 'base_CircularApertureFlux_8_fluxSigma', 'base_CircularApertureFlux_8_flag', 'base_CircularApertureFlux_8_flag_apertureTruncated', 'base_CircularApertureFlux_9_flux', 'base_CircularApertureFlux_9_fluxSigma', 'base_CircularApertureFlux_9_flag', 'base_CircularApertureFlux_9_flag_apertureTruncated', 'base_GaussianFlux_flux', 'base_GaussianFlux_fluxSigma', 'base_GaussianFlux_flag', 'base_PixelFlags_flag', 'base_PixelFlags_flag_edge', 'base_PixelFlags_flag_interpolated', 'base_PixelFlags_flag_interpolatedCenter', 'base_PixelFlags_flag_saturated', 'base_PixelFlags_flag_saturatedCenter', 'base_PixelFlags_flag_cr', 'base_PixelFlags_flag_crCenter', 'base_PixelFlags_flag_bad', 'base_PsfFlux_flux', 'base_PsfFlux_fluxSigma', 'base_PsfFlux_flag', 'base_PsfFlux_flag_noGoodPixels', 'base_PsfFlux_flag_edge', 'base_ClassificationExtendedness_value', 'base_ClassificationExtendedness_flag', 'footprint')\n"
       ]
      }
     ],
     "prompt_number": 7
    },
    {
     "cell_type": "heading",
     "level": 4,
     "metadata": {},
     "source": [
      "Loop over the source table and make  a simple plot"
     ]
    },
    {
     "cell_type": "code",
     "collapsed": false,
     "input": [
      "import lsst.afw.image as afwImage\n",
      "\n",
      "# Get calibration object from the metadata\n",
      "calib = afwImage.Calib(md)\n",
      "\n",
      "mag = []\n",
      "# Loop over sources\n",
      "for src in sources :\n",
      "    # apply calibration to PSF flux to get magnitude\n",
      "    magPsf, errPsf = calib.getMagnitude(src.get('base_PsfFlux_flux'),src.get('base_PsfFlux_fluxSigma'))\n",
      "    mag.append(magPsf)"
     ],
     "language": "python",
     "metadata": {},
     "outputs": [],
     "prompt_number": 12
    },
    {
     "cell_type": "code",
     "collapsed": false,
     "input": [
      "%matplotlib inline\n",
      "import matplotlib.pylab as plt\n",
      "\n",
      "fig, (ax1) = plt.subplots(ncols=1, figsize=(10, 10))\n",
      "\n",
      "ax1.hist(mag, bins=40)\n",
      "ax1.set_xlabel(\"PSF mag\", fontsize=20)\n",
      "ax1.tick_params(labelsize=20)"
     ],
     "language": "python",
     "metadata": {},
     "outputs": [
      {
       "metadata": {},
       "output_type": "display_data",
       "png": "[encoded data removed]",
       "text": [
        "<matplotlib.figure.Figure at 0x7f705242c9d0>"
       ]
      }
     ],
     "prompt_number": 13
    },
    {
     "cell_type": "heading",
     "level": 4,
     "metadata": {},
     "source": [
      "Display image in ds9 and indicate source location"
     ]
    },
    {
     "cell_type": "code",
     "collapsed": false,
     "input": [
      "from lsst.afw.table import Point2DKey\n",
      "import lsst.afw.display.ds9 as ds9\n",
      "\n",
      "# Get wcs from exposure and pass it to ds9\n",
      "wcs = exp.getWcs() \n",
      "ds9.mtv(exp.getMaskedImage().getImage(),frame=1,wcs=wcs)\n",
      "with ds9.Buffering() :\n",
      "    sourceCentroidKey = Point2DKey(sources.schema[\"slot_Centroid\"])\n",
      "    for source in sources:\n",
      "        sx, sy = source.get(sourceCentroidKey)\n",
      "        ds9.dot(\"+\", sx,  sy, size=5, frame=1, ctype=ds9.GREEN)"
     ],
     "language": "python",
     "metadata": {},
     "outputs": [],
     "prompt_number": 19
    },
    {
     "cell_type": "heading",
     "level": 4,
     "metadata": {},
     "source": [
      "Match sources to the external astrometric reference catalog"
     ]
    },
    {
     "cell_type": "code",
     "collapsed": false,
     "input": [
      "import lsst.afw.cameraGeom as cg\n",
      "from lsst.meas.astrom import AstrometryTask\n",
      "import lsst.afw.table as afwTable\n",
      "import lsst.afw.geom as afwGeom\n",
      "\n",
      "cam = butler.get('camera')\n",
      "ccd = cam[\"ccd12\"]\n",
      "wcs = exp.getWcs() \n",
      "\n",
      "#setup astrometry solver and load external reference catalog\n",
      "aConfig = AstrometryTask.ConfigClass()\n",
      "astrom = AstrometryTask(aConfig)\n",
      "astromRet = astrom.run(exp, sources)\n",
      "refCat = astromRet.refCat\n",
      "\n",
      "#match source and reference catalog\n",
      "match = afwTable.matchRaDec(refCat, sources, afwGeom.Angle(1./3600., afwGeom.degrees))\n",
      "print(\"Found %d matches between source and reference catalogs\"%len(match))\n",
      "\n",
      "# store matching distance in a list\n",
      "distList = []\n",
      "for m in match :\n",
      "    distList.append(afwGeom.radToMas(m.distance))"
     ],
     "language": "python",
     "metadata": {},
     "outputs": [
      {
       "output_type": "stream",
       "stream": "stdout",
       "text": [
        "Found 55 matches between source and reference catalogs\n"
       ]
      }
     ],
     "prompt_number": 37
    },
    {
     "cell_type": "heading",
     "level": 4,
     "metadata": {},
     "source": [
      "Plot matching distance"
     ]
    },
    {
     "cell_type": "code",
     "collapsed": false,
     "input": [
      "%matplotlib inline\n",
      "import matplotlib.pylab as plt\n",
      "\n",
      "fig, (ax2) = plt.subplots(ncols=1, figsize=(10, 10))\n",
      "\n",
      "ax2.hist(distList, bins=20)\n",
      "ax2.set_xlabel(\"Matching distance in mas\", fontsize=20)\n",
      "ax2.tick_params(labelsize=20)"
     ],
     "language": "python",
     "metadata": {},
     "outputs": [
      {
       "metadata": {},
       "output_type": "display_data",
       "png": "[encoded data removed]",
       "text": [
        "<matplotlib.figure.Figure at 0x7f70531aff10>"
       ]
      }
     ],
     "prompt_number": 41
    },
    {
     "cell_type": "code",
     "collapsed": false,
     "input": [],
     "language": "python",
     "metadata": {},
     "outputs": []
    }
   ],
   "metadata": {}
  }
 ]
}