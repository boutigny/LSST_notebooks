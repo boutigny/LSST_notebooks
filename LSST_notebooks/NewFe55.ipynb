{
 "metadata": {
  "name": "",
  "signature": "sha256:d8f7fa237c8debd39067869c936a56d0c05d920d12b0aed233d89e3e8922019b"
 },
 "nbformat": 3,
 "nbformat_minor": 0,
 "worksheets": [
  {
   "cells": [
    {
     "cell_type": "markdown",
     "metadata": {},
     "source": [
      "Fe55 analyse python notebook based on the exemple founded here\n",
      "https://confluence.slac.stanford.edu/display/LSSTCAM/eotest+User+Manual\n",
      "I have modified the program to skip the intermediate fits file\n",
      "and adapted for GE batch system (CCIN2P3 soumission jobs batches)\n",
      "only a the python program is sumitted \n",
      "ipython nbconvert --to python NewFe55.ipynb\n",
      "Olivier Dadoun dadoun@in2p3.fr March 2015"
     ]
    },
    {
     "cell_type": "code",
     "collapsed": false,
     "input": [
      "# this is definition for CCIN2P3 GE batch system\n",
      "# to avoid display problem\n",
      "import os\n",
      "import matplotlib\n",
      "import sys\n",
      "import glob\n",
      "import numpy as np\n",
      "import pyfits\n",
      "import pylab\n",
      "import lsst.eotest.sensor as sensorTest\n",
      "import lsst.eotest.image_utils as imutils\n",
      "\n",
      "\n",
      "if(len(sys.argv) == 2):\n",
      "    ampli=sys.argv[1]\n",
      "else:\n",
      "    ampli=\"1\"\n",
      "\n",
      "#path_input=\"/sps/lsst/data/dadoun/input/dataFe55/113-03/\"\n",
      "path_input=\"/var/tmp/test/\"\n",
      "files = sorted(glob.glob(path_input+\"*.fits\"))\n",
      "\n",
      "#path=\"/afs/in2p3.fr/home/throng/lsst/dadoun/scripts/\"\n",
      "path_output=\"/Users/dadoun/LSST/dataFe55\"\n",
      "output=path_output+\"dn_distribution_\"+ampli+\".pdf\"\n",
      "\n",
      "if (os.getenv(\"ENVIRONMENT\") is not None and globos.getenv(\"ENVIRONMENT\").find(\"BATCH\")>=0):\n",
      "    matplotlib.use('Agg')\n",
      "    import matplotlib.pyplot as plt\n",
      "    plt.ioff()\n",
      "    print \"Batch session loaded\"\n",
      "\n",
      "if (os.getenv(\"ENVIRONMENT\") is not None and os.getenv(\"ENVIRONMENT\").find(\"SEQUENTIAL_BATCH\")>0):\n",
      "    get_ipython().magic(u'matplotlib inline')\n",
      "\n",
      "%matplotlib inline    "
     ],
     "language": "python",
     "metadata": {},
     "outputs": [],
     "prompt_number": 4
    },
    {
     "cell_type": "code",
     "collapsed": false,
     "input": [
      "fitter = sensorTest.PsfGaussFit(nsig=2)\n",
      "#\n",
      "# Loop over the input files, accumulating the fit data, segment by segment.\n",
      "#\n",
      "chi_tot = []\n",
      "dn_tot = []\n",
      "ntuple_flag = True\n",
      "for item in files:\n",
      "    print \"processing\", os.path.basename(item)\n",
      "    #\n",
      "    # MaskedCCD is the principal data structure for the eotest package.\n",
      "    # Masks can be specified by a non-empty tuple of mask_files.\n",
      "    #\n",
      "    ccd = sensorTest.MaskedCCD(item, mask_files=())\n",
      "    print \"----> Amp : \",ampli\n",
      "    #Process a segment and accumulate the fit results\n",
      "    fitter.process_image(ccd, int(ampli))\n",
      "    #\n",
      "    chi_tot=fitter.results()['chiprob']\n",
      "    dn_tot=fitter.results()['dn']\n",
      "\n",
      "#        for val in fitter.results()['chiprob']:\n",
      "#        for val in fitter.results()['dn']:\n",
      "\n",
      "#\n",
      "# Perform direct fit of DN distribution to determine the system gain\n",
      "#\n",
      "chiprob = np.array(chi_tot, dtype=np.float)\n",
      "dn = np.array(dn_tot, dtype=np.float)\n",
      "#\n",
      "# apply a chi-square probability threshold\n",
      "#\n",
      "index = np.where(chiprob > 0.1)\n",
      "\n",
      "gain,kalpha_peak, kalpha_sigma = sensorTest.fe55_gain_fitter(dn[index],make_plot=True,title='fitted DN distribution',ylog=False)\n",
      "pylab.savefig(output)\n",
      "if(ntuple_flag == True):\n",
      "    txt=\"ntuple\"+ampli+\".txt\"\n",
      "    with open(txt, \"w\") as the_file:\n",
      "        the_file.write(\"# Ampli %s -> Kalpha peak %i gain e-/DN %.2f\\n\" % (ampli,kalpha_peak, gain))\n",
      "        for val in dn[index]:\n",
      "            #sys.stdout.write(\"%f\\n\"%i)\n",
      "            the_file.write(\"%.2f\\n\" % val)\n",
      "\n",
      "# In[ ]:"
     ],
     "language": "python",
     "metadata": {},
     "outputs": [
      {
       "output_type": "stream",
       "stream": "stdout",
       "text": [
        "processing 113-03_fe55_fe55_010_lsstsensortest.00_008_20140709223441.fits\n",
        "----> Amp : "
       ]
      },
      {
       "output_type": "stream",
       "stream": "stdout",
       "text": [
        " 1\n"
       ]
      },
      {
       "metadata": {},
       "output_type": "display_data",
       "png": "[encoded data removed]",
       "text": [
        "<matplotlib.figure.Figure at 0x10fd3d790>"
       ]
      }
     ],
     "prompt_number": 5
    },
    {
     "cell_type": "code",
     "collapsed": false,
     "input": [],
     "language": "python",
     "metadata": {},
     "outputs": []
    }
   ],
   "metadata": {}
  }
 ]
}