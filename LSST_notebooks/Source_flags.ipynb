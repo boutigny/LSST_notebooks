{
 "metadata": {
  "name": "Source_flags"
 },
 "nbformat": 3,
 "nbformat_minor": 0,
 "worksheets": [
  {
   "cells": [
    {
     "cell_type": "heading",
     "level": 3,
     "metadata": {},
     "source": "Retrieve source flags and print them out using LSST stack tools "
    },
    {
     "cell_type": "code",
     "collapsed": false,
     "input": "import lsst.daf.persistence as dafPersist\nfrom lsst.meas.astrom import Astrometry\nimport lsst.afw.cameraGeom as cg\nimport lsst.afw.geom as afwGeom\nimport math\n\n# Image identification keys\nvisit = 995367\nccd = 0\nfilter = 'r'\nccdName = 'ccd'+str(ccd).zfill(2)\n\n#setup butler\nbutler = dafPersist.Butler(\"/home/boutigny/CFHT/test_cfht/output\")\ndataid = {'visit':visit, 'filter':filter, 'ccd':ccd}\n\n# Retrieve src\nsource = butler.get('src', dataid)\n\n# Get the src table schema\nschema = source.getSchema()\nnames = schema.getOrderedNames()\n\nsel = []\nfor n in names :\n    if 'flags' in n :\n#        print n\n        sel.append(n)\n\nfor s in source[0:5] :\n    print\n    for idx, sl in enumerate(sel) :\n        print idx, sl, s.get(sl)",
     "language": "python",
     "metadata": {},
     "outputs": [
      {
       "output_type": "stream",
       "stream": "stdout",
       "text": "\n0 flags.negative False\n1 flags.badcentroid True\n2 centroid.sdss.flags True\n3 centroid.gaussian.flags False\n4 centroid.naive.flags False\n5 flags.pixel.edge True\n6 flags.pixel.interpolated.any False\n7 flags.pixel.interpolated.center False\n8 flags.pixel.saturated.any False\n9 flags.pixel.saturated.center False\n10 flags.pixel.cr.any False\n11 flags.pixel.cr.center False\n12 flags.pixel.bad False\n13 shape.sdss.flags False\n14 shape.sdss.centroid.flags False\n15 shape.sdss.flags.unweightedbad False\n16 shape.sdss.flags.unweighted False\n17 shape.sdss.flags.shift False\n18 shape.sdss.flags.maxiter False\n19 flux.gaussian.flags True\n20 flux.gaussian.flags.psffactor False\n21 flux.naive.flags True\n22 flux.psf.flags True\n23 flux.psf.flags.psffactor True\n24 flux.sinc.flags False\n25 correctfluxes.apcorr.flags True\n\n0 flags.negative False\n1 flags.badcentroid True\n2 centroid.sdss.flags True\n3 centroid.gaussian.flags False\n4 centroid.naive.flags False\n5 flags.pixel.edge True\n6 flags.pixel.interpolated.any False\n7 flags.pixel.interpolated.center False\n8 flags.pixel.saturated.any False\n9 flags.pixel.saturated.center False\n10 flags.pixel.cr.any False\n11 flags.pixel.cr.center False\n12 flags.pixel.bad False\n13 shape.sdss.flags False\n14 shape.sdss.centroid.flags False\n15 shape.sdss.flags.unweightedbad False\n16 shape.sdss.flags.unweighted False\n17 shape.sdss.flags.shift False\n18 shape.sdss.flags.maxiter False\n19 flux.gaussian.flags True\n20 flux.gaussian.flags.psffactor False\n21 flux.naive.flags True\n22 flux.psf.flags True\n23 flux.psf.flags.psffactor True\n24 flux.sinc.flags False\n25 correctfluxes.apcorr.flags True\n\n0 flags.negative False\n1 flags.badcentroid True\n2 centroid.sdss.flags True\n3 centroid.gaussian.flags False\n4 centroid.naive.flags False\n5 flags.pixel.edge "
      },
      {
       "output_type": "stream",
       "stream": "stdout",
       "text": "False\n6 flags.pixel.interpolated.any False\n7 flags.pixel.interpolated.center False\n8 flags.pixel.saturated.any False\n9 flags.pixel.saturated.center False\n10 flags.pixel.cr.any False\n11 flags.pixel.cr.center False\n12 flags.pixel.bad False\n13 shape.sdss.flags False\n14 shape.sdss.centroid.flags False\n15 shape.sdss.flags.unweightedbad False\n16 shape.sdss.flags.unweighted False\n17 shape.sdss.flags.shift False\n18 shape.sdss.flags.maxiter False\n19 flux.gaussian.flags True\n20 flux.gaussian.flags.psffactor False\n21 flux.naive.flags False\n22 flux.psf.flags True\n23 flux.psf.flags.psffactor True\n24 flux.sinc.flags False\n25 correctfluxes.apcorr.flags True\n\n0 flags.negative False\n1 flags.badcentroid True\n2 centroid.sdss.flags True\n3 centroid.gaussian.flags False\n4 centroid.naive.flags False\n5 flags.pixel.edge False\n6 flags.pixel.interpolated.any False\n7 flags.pixel.interpolated.center False\n8 flags.pixel.saturated.any False\n9 flags.pixel.saturated.center False\n10 flags.pixel.cr.any False\n11 flags.pixel.cr.center False\n12 flags.pixel.bad False\n13 shape.sdss.flags False\n14 shape.sdss.centroid.flags False\n15 shape.sdss.flags.unweightedbad False\n16 shape.sdss.flags.unweighted False\n17 shape.sdss.flags.shift False\n18 shape.sdss.flags.maxiter False\n19 flux.gaussian.flags True\n20 flux.gaussian.flags.psffactor False\n21 flux.naive.flags False\n22 flux.psf.flags True\n23 flux.psf.flags.psffactor True\n24 flux.sinc.flags False\n25 correctfluxes.apcorr.flags True\n\n0 flags.negative False\n1 flags.badcentroid True\n2 centroid.sdss.flags True\n3 centroid.gaussian.flags False\n4 centroid.naive.flags False\n5 flags.pixel.edge False\n6 flags.pixel.interpolated.any "
      },
      {
       "output_type": "stream",
       "stream": "stdout",
       "text": "False\n7 flags.pixel.interpolated.center False\n8 flags.pixel.saturated.any False\n9 flags.pixel.saturated.center False\n10 flags.pixel.cr.any False\n11 flags.pixel.cr.center False\n12 flags.pixel.bad False\n13 shape.sdss.flags False\n14 shape.sdss.centroid.flags False\n15 shape.sdss.flags.unweightedbad False\n16 shape.sdss.flags.unweighted False\n17 shape.sdss.flags.shift False\n18 shape.sdss.flags.maxiter False\n19 flux.gaussian.flags False\n20 flux.gaussian.flags.psffactor False\n21 flux.naive.flags False\n22 flux.psf.flags False\n23 flux.psf.flags.psffactor False\n24 flux.sinc.flags False\n25 correctfluxes.apcorr.flags False\n"
      }
     ],
     "prompt_number": 1
    },
    {
     "cell_type": "heading",
     "level": 3,
     "metadata": {},
     "source": "Do the same directly from the fits file"
    },
    {
     "cell_type": "code",
     "collapsed": false,
     "input": "from astropy.io import fits\n\nhdulist = fits.open(\"/home/boutigny/CFHT/test_cfht/output/src/08AL01/D3/2008-06-01/r/SRC-995367-00.fits\")\nhdulist.info()\ntbdata = hdulist[1].data\nflags = tbdata.field('flags')\nfor f in flags[0:5] :\n    for idx, ff in enumerate(f) :\n        print idx, ff",
     "language": "python",
     "metadata": {},
     "outputs": [
      {
       "output_type": "stream",
       "stream": "stdout",
       "text": "Filename: /home/boutigny/CFHT/test_cfht/output/src/08AL01/D3/2008-06-01/r/SRC-995367-00.fits\nNo.    Name         Type      Cards   Dimensions   Format\n0    PRIMARY     PrimaryHDU       6   ()           int16   \n1                BinTableHDU    214   3085R x 28C   [29X, 1K, 2D, 1K, 2D, 3E, 2D, 3E, 2D, 3E, 3D, 6E, 2D, 3E, 1D, 1D, 1E, 1D, 1D, 1D, 1D, 1E, 1D, 1D, 1E, 1D, 1PJ(636), 1PE(84)]   \n"
      },
      {
       "output_type": "stream",
       "stream": "stdout",
       "text": "0 False\n1 False\n2 False\n3 False\n4 True\n5 True\n6 False\n7 False\n8 True\n9 False\n10 False\n11 False\n12 False\n13 False\n14 False\n15 False\n16 False\n17 False\n18 False\n19 False\n20 False\n21 False\n22 True\n23 False\n24 True\n25 True\n26 True\n27 False\n28 True\n0 False\n1 False\n2 False\n3 False\n4 True\n5 True\n6 False\n7 False\n8 True\n9 False\n10 False\n11 False\n12 False\n13 False\n14 False\n15 False\n16 False\n17 False\n18 False\n19 False\n20 False\n21 False\n22 True\n23 False\n24 True\n25 True\n26 True\n27 False\n28 True\n0 False\n1 False\n2 False\n3 False\n4 True\n5 True\n6 False\n7 False\n8 False\n9 False\n10 False\n11 False\n12 False\n13 False\n14 False\n15 False\n16 False\n17 False\n18 False\n19 False\n20 False\n21 False\n22 True\n23 False\n24 False\n25 True\n26 True\n27 False\n28 True\n0 False\n1 False\n2 False\n3 False\n4 True\n5 True\n6 False\n7 False\n8 False\n9 False\n10 False\n11 False\n12 False\n13 False\n14 False\n15 False\n16 False\n17 False\n18 False\n19 False\n20 False\n21 False\n22 True\n23 False\n24 False\n25 True\n26 True\n27 False\n28 True\n0 False\n1 False\n2 False\n3 False\n4 True\n5 True\n6 False\n7 False\n8 False\n9 False\n10 False\n11 False\n12 False\n13 False\n14 False\n15 False\n16 False\n17 False\n18 False\n19 False\n20 False\n21 False\n22 False\n23 False\n24 False\n25 False\n26 False\n27 False\n28 False\n"
      }
     ],
     "prompt_number": 2
    },
    {
     "cell_type": "code",
     "collapsed": false,
     "input": "",
     "language": "python",
     "metadata": {},
     "outputs": []
    }
   ],
   "metadata": {}
  }
 ]
}